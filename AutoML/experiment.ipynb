{
 "cells": [
  {
   "cell_type": "markdown",
   "metadata": {},
   "source": [
    "## Loading Data"
   ]
  },
  {
   "cell_type": "code",
   "execution_count": 4,
   "metadata": {},
   "outputs": [
    {
     "data": {
      "text/html": [
       "<div>\n",
       "<style scoped>\n",
       "    .dataframe tbody tr th:only-of-type {\n",
       "        vertical-align: middle;\n",
       "    }\n",
       "\n",
       "    .dataframe tbody tr th {\n",
       "        vertical-align: top;\n",
       "    }\n",
       "\n",
       "    .dataframe thead th {\n",
       "        text-align: right;\n",
       "    }\n",
       "</style>\n",
       "<table border=\"1\" class=\"dataframe\">\n",
       "  <thead>\n",
       "    <tr style=\"text-align: right;\">\n",
       "      <th></th>\n",
       "      <th>Is Action</th>\n",
       "      <th>Is Adventure</th>\n",
       "      <th>Is Animation</th>\n",
       "      <th>Is Comedy</th>\n",
       "      <th>Is Crime</th>\n",
       "      <th>Is Documentary</th>\n",
       "      <th>Is Drama</th>\n",
       "      <th>Is Family</th>\n",
       "      <th>Is Fantasy</th>\n",
       "      <th>Is Foreign</th>\n",
       "      <th>...</th>\n",
       "      <th>overview</th>\n",
       "      <th>release_date</th>\n",
       "      <th>release_month</th>\n",
       "      <th>release_quarter</th>\n",
       "      <th>release_year</th>\n",
       "      <th>runtime</th>\n",
       "      <th>tagline</th>\n",
       "      <th>title</th>\n",
       "      <th>Is Christmas Movie</th>\n",
       "      <th>keywords</th>\n",
       "    </tr>\n",
       "  </thead>\n",
       "  <tbody>\n",
       "    <tr>\n",
       "      <th>0</th>\n",
       "      <td>0.0</td>\n",
       "      <td>0.0</td>\n",
       "      <td>0.0</td>\n",
       "      <td>0.0</td>\n",
       "      <td>0.0</td>\n",
       "      <td>0.0</td>\n",
       "      <td>1.0</td>\n",
       "      <td>0.0</td>\n",
       "      <td>1.0</td>\n",
       "      <td>0.0</td>\n",
       "      <td>...</td>\n",
       "      <td>Three ghosts try to help two young lovers whom...</td>\n",
       "      <td>1940-01-01</td>\n",
       "      <td>1.0</td>\n",
       "      <td>1.0</td>\n",
       "      <td>1940.0</td>\n",
       "      <td>84.0</td>\n",
       "      <td>Is there a better time to fall in love?</td>\n",
       "      <td>Beyond Tomorrow</td>\n",
       "      <td>0</td>\n",
       "      <td>nurse,seduction,radio program,ghost,</td>\n",
       "    </tr>\n",
       "  </tbody>\n",
       "</table>\n",
       "<p>1 rows × 31 columns</p>\n",
       "</div>"
      ],
      "text/plain": [
       "   Is Action  Is Adventure  Is Animation  Is Comedy  Is Crime  Is Documentary  \\\n",
       "0        0.0           0.0           0.0        0.0       0.0             0.0   \n",
       "\n",
       "   Is Drama  Is Family  Is Fantasy  Is Foreign  ...  \\\n",
       "0       1.0        0.0         1.0         0.0  ...   \n",
       "\n",
       "                                            overview  release_date  \\\n",
       "0  Three ghosts try to help two young lovers whom...    1940-01-01   \n",
       "\n",
       "   release_month  release_quarter  release_year  runtime  \\\n",
       "0            1.0              1.0        1940.0     84.0   \n",
       "\n",
       "                                   tagline            title  \\\n",
       "0  Is there a better time to fall in love?  Beyond Tomorrow   \n",
       "\n",
       "   Is Christmas Movie                              keywords  \n",
       "0                   0  nurse,seduction,radio program,ghost,  \n",
       "\n",
       "[1 rows x 31 columns]"
      ]
     },
     "execution_count": 4,
     "metadata": {},
     "output_type": "execute_result"
    }
   ],
   "source": [
    "import pandas as pd\n",
    "\n",
    "df = pd.read_csv('traintest.csv')\n",
    "df.drop(columns='Unnamed: 0', inplace=True)\n",
    "df.head(1)"
   ]
  },
  {
   "cell_type": "markdown",
   "metadata": {},
   "source": [
    "## Get a Reference to Azure\n",
    "In order to perform Machine Learning, we need a Machine Learning Workspace. We'll get it from a config file."
   ]
  },
  {
   "cell_type": "code",
   "execution_count": 2,
   "metadata": {},
   "outputs": [
    {
     "data": {
      "text/plain": [
       "'2022-data-science-talks'"
      ]
     },
     "execution_count": 2,
     "metadata": {},
     "output_type": "execute_result"
    }
   ],
   "source": [
    "from azureml.core import Workspace, Experiment, Dataset, Model\n",
    "\n",
    "# Load the workspace information from config.json using the Azure ML SDK\n",
    "ws = Workspace.from_config()\n",
    "ws.name"
   ]
  },
  {
   "cell_type": "markdown",
   "metadata": {},
   "source": [
    "## Registering a DataSet on Azure"
   ]
  },
  {
   "cell_type": "code",
   "execution_count": 5,
   "metadata": {},
   "outputs": [
    {
     "data": {
      "text/plain": [
       "'workspaceblobstore'"
      ]
     },
     "execution_count": 5,
     "metadata": {},
     "output_type": "execute_result"
    }
   ],
   "source": [
    "# Get the storage account associated with this ML workspace\n",
    "datastore = ws.get_default_datastore()\n",
    "datastore.name"
   ]
  },
  {
   "cell_type": "code",
   "execution_count": 6,
   "metadata": {},
   "outputs": [
    {
     "name": "stdout",
     "output_type": "stream",
     "text": [
      "Validating arguments.\n",
      "Arguments validated.\n",
      "Successfully obtained datastore reference and path.\n",
      "Uploading file to managed-dataset/7d85751d-9da7-455a-969b-9b68fdfe66b0/\n",
      "Successfully uploaded file to datastore.\n",
      "Creating and registering a new dataset.\n",
      "Successfully created and registered a new dataset.\n"
     ]
    },
    {
     "data": {
      "text/plain": [
       "'ChristmasMovies'"
      ]
     },
     "execution_count": 6,
     "metadata": {},
     "output_type": "execute_result"
    }
   ],
   "source": [
    "\n",
    "ds = Dataset.Tabular.register_pandas_dataframe(dataframe=df, \n",
    "        name='ChristmasMovies', \n",
    "        description='Movies broken down by Christmas movies and non-Christmas movies', \n",
    "        target=datastore)\n",
    "ds.name"
   ]
  },
  {
   "cell_type": "markdown",
   "metadata": {},
   "source": [
    "## Create a Compute Resource\n",
    "We'll need some compute resources to run the experiment"
   ]
  },
  {
   "cell_type": "code",
   "execution_count": 11,
   "metadata": {},
   "outputs": [
    {
     "name": "stdout",
     "output_type": "stream",
     "text": [
      "Provisioning cluster...\n",
      "InProgress....\n",
      "SucceededProvisioning operation finished, operation \"Succeeded\"\n",
      "Succeeded\n",
      "AmlCompute wait for completion finished\n",
      "\n",
      "Minimum number of nodes requested have been provisioned\n"
     ]
    }
   ],
   "source": [
    "from azureml.core.compute import ComputeTarget, AmlCompute\n",
    "from azureml.core.compute_target import ComputeTargetException\n",
    "\n",
    "# Now let's make sure we have a compute resource\n",
    "cluster_name = \"Low-End-Compute-Cluster\"\n",
    "max_nodes = 4\n",
    "\n",
    "# Fetch or create the compute resource\n",
    "try:\n",
    "    cpu_cluster = ComputeTarget(workspace=ws, name=cluster_name) # This will throw a ComputeTargetException if this doesn't exist\n",
    "    print('Using existing compute: ' + cluster_name)\n",
    "except ComputeTargetException:\n",
    "    # Create the cluster\n",
    "    print('Provisioning cluster...')\n",
    "    compute_config = AmlCompute.provisioning_configuration(vm_size=\"Standard_D2DS_V4\", \n",
    "                                                           min_nodes=0, \n",
    "                                                           max_nodes=max_nodes, \n",
    "                                                           vm_priority='lowpriority')\n",
    "    cpu_cluster = ComputeTarget.create(ws, cluster_name, compute_config)\n",
    "\n",
    "# Ensure the cluster is ready to go\n",
    "cpu_cluster.wait_for_completion(show_output=True)"
   ]
  },
  {
   "cell_type": "markdown",
   "metadata": {},
   "source": [
    "## Create the Machine Learning Experiment\n",
    "This will hold runs of our experiment so we can track progress over time"
   ]
  },
  {
   "cell_type": "code",
   "execution_count": 9,
   "metadata": {},
   "outputs": [
    {
     "data": {
      "text/plain": [
       "'DieHard-AutoML'"
      ]
     },
     "execution_count": 9,
     "metadata": {},
     "output_type": "execute_result"
    }
   ],
   "source": [
    "from azureml.core.experiment import Experiment\n",
    "\n",
    "# Create a Machine Learning Experiment\n",
    "experiment_name = 'DieHard-AutoML'\n",
    "\n",
    "experiment=Experiment(ws, experiment_name)\n",
    "experiment.name"
   ]
  },
  {
   "cell_type": "markdown",
   "metadata": {},
   "source": [
    "## Submit the Experiment\n",
    "This asks Azure to run the experiment and waits for it to complete"
   ]
  },
  {
   "cell_type": "code",
   "execution_count": 20,
   "metadata": {},
   "outputs": [],
   "source": [
    "from azureml.train.automl import AutoMLConfig\n",
    "\n",
    "# Set up the experiment\n",
    "automl_config = AutoMLConfig(\n",
    "    task='classification',                  # The machine learning task we're trying to accomplish\n",
    "    primary_metric='AUC_weighted',          # How we judge one model as better than another. AUC tends to be fairly balanced\n",
    "    training_data=ds,                       # Our dataset of movies\n",
    "    enable_dnn=True,                        # Enable Deep Learning\n",
    "    compute_target=cpu_cluster,             # The compute resource to use\n",
    "    max_concurrent_iterations=max_nodes,    # Don't want more concurrent iterations than CPU nodes\n",
    "    iteration_timeout_minutes=5,            # The maximum number of minutes per individual run\n",
    "    label_column_name='Is Christmas Movie') # The value we want to predict for future values"
   ]
  },
  {
   "cell_type": "code",
   "execution_count": 21,
   "metadata": {},
   "outputs": [
    {
     "name": "stdout",
     "output_type": "stream",
     "text": [
      "Submitting remote run.\n"
     ]
    },
    {
     "data": {
      "text/html": [
       "<table style=\"width:100%\"><tr><th>Experiment</th><th>Id</th><th>Type</th><th>Status</th><th>Details Page</th><th>Docs Page</th></tr><tr><td>DieHard-AutoML</td><td>AutoML_05af2ba7-1474-4411-86bb-cddaec43b952</td><td>automl</td><td>NotStarted</td><td><a href=\"https://ml.azure.com/runs/AutoML_05af2ba7-1474-4411-86bb-cddaec43b952?wsid=/subscriptions/efba8785-116c-4443-9a05-764c75c7bb0d/resourcegroups/2022-ds-talks/workspaces/2022-data-science-talks&amp;tid=542fe8ad-7ac8-4b9e-898f-d6de53312581\" target=\"_blank\" rel=\"noopener\">Link to Azure Machine Learning studio</a></td><td><a href=\"https://docs.microsoft.com/en-us/python/api/overview/azure/ml/intro?view=azure-ml-py\" target=\"_blank\" rel=\"noopener\">Link to Documentation</a></td></tr></table>"
      ],
      "text/plain": [
       "<IPython.core.display.HTML object>"
      ]
     },
     "metadata": {},
     "output_type": "display_data"
    },
    {
     "data": {
      "application/vnd.jupyter.widget-view+json": {
       "model_id": "59e2be6cdafa44c3a491f4c77e39c7c8",
       "version_major": 2,
       "version_minor": 0
      },
      "text/plain": [
       "_AutoMLWidget(widget_settings={'childWidgetDisplay': 'popup', 'send_telemetry': False, 'log_level': 'INFO', 's…"
      ]
     },
     "metadata": {},
     "output_type": "display_data"
    },
    {
     "data": {
      "application/aml.mini.widget.v1": "{\"status\": \"Completed\", \"workbench_run_details_uri\": \"https://ml.azure.com/runs/AutoML_05af2ba7-1474-4411-86bb-cddaec43b952?wsid=/subscriptions/efba8785-116c-4443-9a05-764c75c7bb0d/resourcegroups/2022-ds-talks/workspaces/2022-data-science-talks&tid=542fe8ad-7ac8-4b9e-898f-d6de53312581\", \"run_id\": \"AutoML_05af2ba7-1474-4411-86bb-cddaec43b952\", \"run_properties\": {\"run_id\": \"AutoML_05af2ba7-1474-4411-86bb-cddaec43b952\", \"created_utc\": \"2022-08-30T02:49:38.675291Z\", \"properties\": {\"num_iterations\": \"1000\", \"training_type\": \"TrainFull\", \"acquisition_function\": \"EI\", \"primary_metric\": \"AUC_weighted\", \"train_split\": \"0\", \"acquisition_parameter\": \"0\", \"num_cross_validation\": null, \"target\": \"Low-End-Compute-Cluster\", \"AMLSettingsJsonString\": \"{\\\"path\\\":null,\\\"name\\\":\\\"DieHard-AutoML\\\",\\\"subscription_id\\\":\\\"efba8785-116c-4443-9a05-764c75c7bb0d\\\",\\\"resource_group\\\":\\\"2022-ds-talks\\\",\\\"workspace_name\\\":\\\"2022-data-science-talks\\\",\\\"region\\\":\\\"eastus\\\",\\\"compute_target\\\":\\\"Low-End-Compute-Cluster\\\",\\\"spark_service\\\":null,\\\"azure_service\\\":\\\"remote\\\",\\\"many_models\\\":false,\\\"pipeline_fetch_max_batch_size\\\":1,\\\"enable_batch_run\\\":true,\\\"enable_run_restructure\\\":false,\\\"start_auxiliary_runs_before_parent_complete\\\":false,\\\"enable_code_generation\\\":false,\\\"iterations\\\":1000,\\\"primary_metric\\\":\\\"AUC_weighted\\\",\\\"task_type\\\":\\\"classification\\\",\\\"positive_label\\\":null,\\\"data_script\\\":null,\\\"test_size\\\":0.0,\\\"test_include_predictions_only\\\":false,\\\"validation_size\\\":0.0,\\\"n_cross_validations\\\":null,\\\"y_min\\\":null,\\\"y_max\\\":null,\\\"num_classes\\\":null,\\\"featurization\\\":\\\"auto\\\",\\\"_ignore_package_version_incompatibilities\\\":false,\\\"is_timeseries\\\":false,\\\"max_cores_per_iteration\\\":1,\\\"max_concurrent_iterations\\\":4,\\\"iteration_timeout_minutes\\\":5,\\\"mem_in_mb\\\":null,\\\"enforce_time_on_windows\\\":true,\\\"experiment_timeout_minutes\\\":8640,\\\"experiment_exit_score\\\":null,\\\"partition_column_names\\\":null,\\\"whitelist_models\\\":null,\\\"blacklist_algos\\\":[\\\"TensorFlowLinearClassifier\\\",\\\"TensorFlowDNN\\\"],\\\"supported_models\\\":[\\\"LightGBM\\\",\\\"RandomForest\\\",\\\"KNN\\\",\\\"BernoulliNaiveBayes\\\",\\\"AveragedPerceptronClassifier\\\",\\\"LinearSVM\\\",\\\"ExtremeRandomTrees\\\",\\\"TensorFlowDNN\\\",\\\"MultinomialNaiveBayes\\\",\\\"TabnetClassifier\\\",\\\"XGBoostClassifier\\\",\\\"GradientBoosting\\\",\\\"LogisticRegression\\\",\\\"SGD\\\",\\\"DecisionTree\\\",\\\"SVM\\\",\\\"TensorFlowLinearClassifier\\\"],\\\"private_models\\\":[],\\\"auto_blacklist\\\":true,\\\"blacklist_samples_reached\\\":false,\\\"exclude_nan_labels\\\":true,\\\"verbosity\\\":20,\\\"_debug_log\\\":\\\"azureml_automl.log\\\",\\\"show_warnings\\\":false,\\\"model_explainability\\\":true,\\\"service_url\\\":null,\\\"sdk_url\\\":null,\\\"sdk_packages\\\":null,\\\"enable_onnx_compatible_models\\\":false,\\\"enable_split_onnx_featurizer_estimator_models\\\":false,\\\"vm_type\\\":\\\"STANDARD_D2DS_V4\\\",\\\"telemetry_verbosity\\\":20,\\\"send_telemetry\\\":true,\\\"enable_dnn\\\":true,\\\"scenario\\\":\\\"SDK-1.13.0\\\",\\\"environment_label\\\":null,\\\"save_mlflow\\\":false,\\\"enable_categorical_indicators\\\":false,\\\"force_text_dnn\\\":false,\\\"enable_feature_sweeping\\\":true,\\\"enable_early_stopping\\\":true,\\\"early_stopping_n_iters\\\":10,\\\"arguments\\\":null,\\\"dataset_id\\\":\\\"74098b45-79fc-42cc-abce-6557f01df36b\\\",\\\"hyperdrive_config\\\":null,\\\"validation_dataset_id\\\":null,\\\"run_source\\\":null,\\\"metrics\\\":null,\\\"enable_metric_confidence\\\":false,\\\"enable_ensembling\\\":true,\\\"enable_stack_ensembling\\\":true,\\\"ensemble_iterations\\\":15,\\\"enable_tf\\\":false,\\\"enable_subsampling\\\":null,\\\"subsample_seed\\\":null,\\\"enable_nimbusml\\\":false,\\\"enable_streaming\\\":false,\\\"force_streaming\\\":false,\\\"track_child_runs\\\":true,\\\"allowed_private_models\\\":[],\\\"label_column_name\\\":\\\"Is Christmas Movie\\\",\\\"weight_column_name\\\":null,\\\"cv_split_column_names\\\":null,\\\"enable_local_managed\\\":false,\\\"_local_managed_run_id\\\":null,\\\"cost_mode\\\":1,\\\"lag_length\\\":0,\\\"metric_operation\\\":\\\"maximize\\\",\\\"preprocess\\\":true}\", \"DataPrepJsonString\": \"{\\\\\\\"training_data\\\\\\\": {\\\\\\\"datasetId\\\\\\\": \\\\\\\"74098b45-79fc-42cc-abce-6557f01df36b\\\\\\\"}, \\\\\\\"datasets\\\\\\\": 0}\", \"EnableSubsampling\": null, \"runTemplate\": \"AutoML\", \"azureml.runsource\": \"automl\", \"display_task_type\": \"classification\", \"dependencies_versions\": \"{\\\"azureml-widgets\\\": \\\"1.40.0\\\", \\\"azureml-training-tabular\\\": \\\"1.40.0\\\", \\\"azureml-train\\\": \\\"1.40.0\\\", \\\"azureml-train-restclients-hyperdrive\\\": \\\"1.40.0\\\", \\\"azureml-train-core\\\": \\\"1.40.0\\\", \\\"azureml-train-automl-runtime\\\": \\\"1.40.0.post1\\\", \\\"azureml-train-automl-client\\\": \\\"1.40.0\\\", \\\"azureml-telemetry\\\": \\\"1.40.0\\\", \\\"azureml-pipeline\\\": \\\"1.40.0\\\", \\\"azureml-pipeline-steps\\\": \\\"1.40.0\\\", \\\"azureml-pipeline-core\\\": \\\"1.40.0\\\", \\\"azureml-mlflow\\\": \\\"1.40.0\\\", \\\"azureml-interpret\\\": \\\"1.40.0\\\", \\\"azureml-inference-server-http\\\": \\\"0.4.13\\\", \\\"azureml-defaults\\\": \\\"1.40.0\\\", \\\"azureml-dataset-runtime\\\": \\\"1.40.0\\\", \\\"azureml-dataprep\\\": \\\"3.0.2\\\", \\\"azureml-dataprep-rslex\\\": \\\"2.4.2\\\", \\\"azureml-dataprep-native\\\": \\\"38.0.0\\\", \\\"azureml-core\\\": \\\"1.40.0\\\", \\\"azureml-automl-runtime\\\": \\\"1.40.0\\\", \\\"azureml-automl-core\\\": \\\"1.40.0\\\"}\", \"_aml_system_scenario_identification\": \"Remote.Parent\", \"ClientType\": \"SDK\", \"environment_cpu_name\": \"AzureML-AutoML-DNN\", \"environment_cpu_label\": \"prod\", \"environment_gpu_name\": \"AzureML-AutoML-DNN-GPU\", \"environment_gpu_label\": \"prod\", \"root_attribution\": \"automl\", \"attribution\": \"AutoML\", \"Orchestrator\": \"AutoML\", \"CancelUri\": \"https://eastus.api.azureml.ms/jasmine/v1.0/subscriptions/efba8785-116c-4443-9a05-764c75c7bb0d/resourceGroups/2022-ds-talks/providers/Microsoft.MachineLearningServices/workspaces/2022-data-science-talks/experimentids/66a4dec6-604b-4060-b8a6-829a0399d48b/cancel/AutoML_05af2ba7-1474-4411-86bb-cddaec43b952\", \"azureml.git.repository_uri\": \"git@github.com:IntegerMan/DieHardSolver.git\", \"mlflow.source.git.repoURL\": \"git@github.com:IntegerMan/DieHardSolver.git\", \"azureml.git.branch\": \"main\", \"mlflow.source.git.branch\": \"main\", \"azureml.git.commit\": \"d57e426ca481fdcc7f8a94d7b67c2492a4ad9cec\", \"mlflow.source.git.commit\": \"d57e426ca481fdcc7f8a94d7b67c2492a4ad9cec\", \"azureml.git.dirty\": \"True\", \"ClientSdkVersion\": \"1.44.0\", \"snapshotId\": \"00000000-0000-0000-0000-000000000000\", \"SetupRunId\": \"AutoML_05af2ba7-1474-4411-86bb-cddaec43b952_setup\", \"SetupRunContainerId\": \"dcid.AutoML_05af2ba7-1474-4411-86bb-cddaec43b952_setup\", \"FeaturizationRunJsonPath\": \"featurizer_container.json\", \"FeaturizationRunId\": \"AutoML_05af2ba7-1474-4411-86bb-cddaec43b952_featurize\", \"ProblemInfoJsonString\": \"{\\\"dataset_num_categorical\\\": 0, \\\"is_sparse\\\": true, \\\"subsampling\\\": false, \\\"has_extra_col\\\": true, \\\"dataset_classes\\\": 2, \\\"dataset_features\\\": 502541, \\\"dataset_samples\\\": 16120, \\\"single_frequency_class_detected\\\": false}\", \"ModelExplainRunId\": \"AutoML_05af2ba7-1474-4411-86bb-cddaec43b952_ModelExplain\"}, \"tags\": {\"model_explain_run\": \"best_run\", \"_aml_system_automl_run_workspace_id\": \"00806b75-059e-4d47-9fd6-c693d8d7c4e7\", \"_aml_system_azureml.automlComponent\": \"AutoML\", \"pipeline_id\": \"\", \"score\": \"\", \"predicted_cost\": \"\", \"fit_time\": \"\", \"training_percent\": \"\", \"iteration\": \"\", \"run_preprocessor\": \"\", \"run_algorithm\": \"\", \"dynamic_allowlisting_iterations\": \"<25>;<30>;<35>;\", \"_aml_system_azureml.automl_early_exit_message\": \"No scores improved over last 10 iterations, so experiment stopped early. This early stopping behavior can be disabled by setting enable_early_stopping = False in AutoMLConfig for notebook/python SDK runs.\", \"automl_best_child_run_id\": \"AutoML_05af2ba7-1474-4411-86bb-cddaec43b952_0\", \"model_explain_best_run_child_id\": \"AutoML_05af2ba7-1474-4411-86bb-cddaec43b952_0\"}, \"end_time_utc\": \"2022-08-30T04:41:49.378718Z\", \"status\": \"Completed\", \"log_files\": {}, \"log_groups\": [], \"run_duration\": \"1:52:10\", \"run_number\": \"1661827778\", \"run_queued_details\": {\"status\": \"Completed\", \"details\": null}}, \"child_runs\": [{\"run_id\": \"AutoML_05af2ba7-1474-4411-86bb-cddaec43b952_setup\", \"run_number\": 1661827791, \"metric\": null, \"status\": \"Completed\", \"run_type\": \"azureml.scriptrun\", \"training_percent\": null, \"start_time\": \"2022-08-30T02:50:31.686521Z\", \"end_time\": \"2022-08-30T02:54:01.640267Z\", \"created_time\": \"2022-08-30T02:49:51.113952Z\", \"created_time_dt\": \"2022-08-30T02:49:51.113952Z\", \"duration\": \"0:04:10\", \"iteration\": null, \"goal\": null, \"run_name\": \"Completed\", \"run_properties\": null}, {\"run_id\": \"AutoML_05af2ba7-1474-4411-86bb-cddaec43b952_featurize\", \"run_number\": 1661828042, \"metric\": null, \"status\": \"Completed\", \"run_type\": \"automl.featurization\", \"training_percent\": null, \"start_time\": \"2022-08-30T02:54:02.396623Z\", \"end_time\": \"2022-08-30T02:58:35.456059Z\", \"created_time\": \"2022-08-30T02:54:02.000728Z\", \"created_time_dt\": \"2022-08-30T02:54:02.000728Z\", \"duration\": \"0:04:33\", \"iteration\": null, \"goal\": null, \"run_name\": \"Completed\", \"run_properties\": null}, {\"run_id\": \"AutoML_05af2ba7-1474-4411-86bb-cddaec43b952_0\", \"run_number\": 1661828317, \"metric\": null, \"status\": \"Completed\", \"run_type\": null, \"training_percent\": \"100\", \"start_time\": \"2022-08-30T02:59:01.434576Z\", \"end_time\": \"2022-08-30T03:02:31.401162Z\", \"created_time\": \"2022-08-30T02:58:37.389392Z\", \"created_time_dt\": \"2022-08-30T02:58:37.389392Z\", \"duration\": \"0:03:54\", \"iteration\": \"0\", \"goal\": \"AUC_weighted_max\", \"run_name\": \"MaxAbsScaler, LightGBM\", \"run_properties\": \"copy=True\", \"primary_metric\": 1.0, \"best_metric\": 1.0}, {\"run_id\": \"AutoML_05af2ba7-1474-4411-86bb-cddaec43b952_2\", \"run_number\": 1661828318, \"metric\": null, \"status\": \"Failed\", \"run_type\": null, \"training_percent\": \"100\", \"start_time\": \"2022-08-30T03:07:53.961305Z\", \"end_time\": \"2022-08-30T03:12:55.049409Z\", \"created_time\": \"2022-08-30T02:58:38.500886Z\", \"created_time_dt\": \"2022-08-30T02:58:38.500886Z\", \"duration\": \"0:14:16\", \"iteration\": \"2\", \"goal\": \"AUC_weighted_max\", \"run_name\": \"MaxAbsScaler, ExtremeRandomTrees\", \"run_properties\": null}, {\"run_id\": \"AutoML_05af2ba7-1474-4411-86bb-cddaec43b952_worker_0\", \"run_number\": 1661828319, \"metric\": null, \"status\": \"Completed\", \"run_type\": \"azureml.scriptrun\", \"training_percent\": null, \"start_time\": \"2022-08-30T02:58:48.761794Z\", \"end_time\": \"2022-08-30T03:16:35.229828Z\", \"created_time\": \"2022-08-30T02:58:39.429713Z\", \"created_time_dt\": \"2022-08-30T02:58:39.429713Z\", \"duration\": \"0:17:55\", \"iteration\": null, \"goal\": null, \"run_name\": \"Completed\", \"run_properties\": null}, {\"run_id\": \"AutoML_05af2ba7-1474-4411-86bb-cddaec43b952_7\", \"run_number\": 1661828320, \"metric\": null, \"status\": \"Completed\", \"run_type\": null, \"training_percent\": \"100\", \"start_time\": \"2022-08-30T03:19:39.931056Z\", \"end_time\": \"2022-08-30T03:21:08.308707Z\", \"created_time\": \"2022-08-30T02:58:40.277156Z\", \"created_time_dt\": \"2022-08-30T02:58:40.277156Z\", \"duration\": \"0:22:28\", \"iteration\": \"7\", \"goal\": \"AUC_weighted_max\", \"run_name\": \"StandardScalerWrapper, XGBoostClassifier\", \"run_properties\": \"copy=True, with_mean=False, with_std=False\", \"primary_metric\": 0.99996339, \"best_metric\": 1.0}, {\"run_id\": \"AutoML_05af2ba7-1474-4411-86bb-cddaec43b952_worker_1\", \"run_number\": 1661828321, \"metric\": null, \"status\": \"Completed\", \"run_type\": \"azureml.scriptrun\", \"training_percent\": null, \"start_time\": \"2022-08-30T03:16:41.13361Z\", \"end_time\": \"2022-08-30T03:23:45.764893Z\", \"created_time\": \"2022-08-30T02:58:41.238309Z\", \"created_time_dt\": \"2022-08-30T02:58:41.238309Z\", \"duration\": \"0:25:04\", \"iteration\": null, \"goal\": null, \"run_name\": \"Completed\", \"run_properties\": null}, {\"run_id\": \"AutoML_05af2ba7-1474-4411-86bb-cddaec43b952_worker_2\", \"run_number\": 1661828322, \"metric\": null, \"status\": \"Completed\", \"run_type\": \"azureml.scriptrun\", \"training_percent\": null, \"start_time\": \"2022-08-30T03:23:52.902455Z\", \"end_time\": \"2022-08-30T03:33:36.147862Z\", \"created_time\": \"2022-08-30T02:58:42.940058Z\", \"created_time_dt\": \"2022-08-30T02:58:42.940058Z\", \"duration\": \"0:34:53\", \"iteration\": null, \"goal\": null, \"run_name\": \"Completed\", \"run_properties\": null}, {\"run_id\": \"AutoML_05af2ba7-1474-4411-86bb-cddaec43b952_15\", \"run_number\": 1661828323, \"metric\": null, \"status\": \"Failed\", \"run_type\": null, \"training_percent\": \"100\", \"start_time\": \"2022-08-30T03:33:59.601778Z\", \"end_time\": \"2022-08-30T03:37:53.756084Z\", \"created_time\": \"2022-08-30T02:58:43.051456Z\", \"created_time_dt\": \"2022-08-30T02:58:43.051456Z\", \"duration\": \"0:39:10\", \"iteration\": \"15\", \"goal\": \"AUC_weighted_max\", \"run_name\": \"MaxAbsScaler, LightGBM\", \"run_properties\": null}, {\"run_id\": \"AutoML_05af2ba7-1474-4411-86bb-cddaec43b952_worker_3\", \"run_number\": 1661828324, \"metric\": null, \"status\": \"Completed\", \"run_type\": \"azureml.scriptrun\", \"training_percent\": null, \"start_time\": \"2022-08-30T03:33:45.665982Z\", \"end_time\": \"2022-08-30T03:55:22.014872Z\", \"created_time\": \"2022-08-30T02:58:44.63298Z\", \"created_time_dt\": \"2022-08-30T02:58:44.63298Z\", \"duration\": \"0:56:37\", \"iteration\": null, \"goal\": null, \"run_name\": \"Completed\", \"run_properties\": null}, {\"run_id\": \"AutoML_05af2ba7-1474-4411-86bb-cddaec43b952_21\", \"run_number\": 1661830757, \"metric\": null, \"status\": \"Completed\", \"run_type\": \"azureml.scriptrun\", \"training_percent\": \"100\", \"start_time\": \"2022-08-30T03:55:27.92865Z\", \"end_time\": \"2022-08-30T03:57:35.733781Z\", \"created_time\": \"2022-08-30T03:39:17.233094Z\", \"created_time_dt\": \"2022-08-30T03:39:17.233094Z\", \"duration\": \"0:18:18\", \"iteration\": \"21\", \"goal\": \"AUC_weighted_max\", \"run_name\": \"StandardScalerWrapper, XGBoostClassifier\", \"run_properties\": \"copy=True, with_mean=False, with_std=False\", \"primary_metric\": 0.99973554, \"best_metric\": 1.0}, {\"run_id\": \"AutoML_05af2ba7-1474-4411-86bb-cddaec43b952_24\", \"run_number\": 1661831857, \"metric\": null, \"status\": \"Completed\", \"run_type\": \"azureml.scriptrun\", \"training_percent\": \"100\", \"start_time\": \"2022-08-30T04:04:03.956393Z\", \"end_time\": \"2022-08-30T04:06:04.669952Z\", \"created_time\": \"2022-08-30T03:57:37.90832Z\", \"created_time_dt\": \"2022-08-30T03:57:37.90832Z\", \"duration\": \"0:08:26\", \"iteration\": \"24\", \"goal\": \"AUC_weighted_max\", \"run_name\": \"SparseNormalizer, XGBoostClassifier\", \"run_properties\": \"copy=True, norm='max'\", \"primary_metric\": 0.99947871, \"best_metric\": 1.0}, {\"run_id\": \"AutoML_05af2ba7-1474-4411-86bb-cddaec43b952_25\", \"run_number\": 1661831937, \"metric\": null, \"status\": \"Completed\", \"run_type\": \"azureml.scriptrun\", \"training_percent\": \"100\", \"start_time\": \"2022-08-30T04:08:42.028869Z\", \"end_time\": \"2022-08-30T04:14:49.534703Z\", \"created_time\": \"2022-08-30T03:58:57.542294Z\", \"created_time_dt\": \"2022-08-30T03:58:57.542294Z\", \"duration\": \"0:15:51\", \"iteration\": \"25\", \"goal\": \"AUC_weighted_max\", \"run_name\": \"TruncatedSVDWrapper, LightGBM\", \"run_properties\": \"n_components=0.95, random_state=None\", \"primary_metric\": 1.0, \"best_metric\": 1.0}, {\"run_id\": \"AutoML_05af2ba7-1474-4411-86bb-cddaec43b952_26\", \"run_number\": 1661832239, \"metric\": null, \"status\": \"Completed\", \"run_type\": \"azureml.scriptrun\", \"training_percent\": \"100\", \"start_time\": \"2022-08-30T04:14:57.156203Z\", \"end_time\": \"2022-08-30T04:16:35.474153Z\", \"created_time\": \"2022-08-30T04:03:59.594637Z\", \"created_time_dt\": \"2022-08-30T04:03:59.594637Z\", \"duration\": \"0:12:35\", \"iteration\": \"26\", \"goal\": \"AUC_weighted_max\", \"run_name\": \"StandardScalerWrapper, LogisticRegression\", \"run_properties\": \"copy=True, with_mean=False, with_std=True\", \"primary_metric\": 1.0, \"best_metric\": 1.0}, {\"run_id\": \"AutoML_05af2ba7-1474-4411-86bb-cddaec43b952_27\", \"run_number\": 1661832366, \"metric\": null, \"status\": \"Completed\", \"run_type\": \"azureml.scriptrun\", \"training_percent\": \"100\", \"start_time\": \"2022-08-30T04:16:42.22648Z\", \"end_time\": \"2022-08-30T04:17:39.534519Z\", \"created_time\": \"2022-08-30T04:06:06.019762Z\", \"created_time_dt\": \"2022-08-30T04:06:06.019762Z\", \"duration\": \"0:11:33\", \"iteration\": \"27\", \"goal\": \"AUC_weighted_max\", \"run_name\": \"MaxAbsScaler, SGD\", \"run_properties\": \"copy=True\", \"primary_metric\": 1.0, \"best_metric\": 1.0}, {\"run_id\": \"AutoML_05af2ba7-1474-4411-86bb-cddaec43b952_28\", \"run_number\": 1661832516, \"metric\": null, \"status\": \"Completed\", \"run_type\": \"azureml.scriptrun\", \"training_percent\": \"100\", \"start_time\": \"2022-08-30T04:17:47.776888Z\", \"end_time\": \"2022-08-30T04:18:44.699571Z\", \"created_time\": \"2022-08-30T04:08:36.745841Z\", \"created_time_dt\": \"2022-08-30T04:08:36.745841Z\", \"duration\": \"0:10:07\", \"iteration\": \"28\", \"goal\": \"AUC_weighted_max\", \"run_name\": \"StandardScalerWrapper, SGD\", \"run_properties\": \"copy=True, with_mean=False, with_std=True\", \"primary_metric\": 0.99998535, \"best_metric\": 1.0}, {\"run_id\": \"AutoML_05af2ba7-1474-4411-86bb-cddaec43b952_29\", \"run_number\": 1661832890, \"metric\": null, \"status\": \"Failed\", \"run_type\": \"azureml.scriptrun\", \"training_percent\": \"100\", \"start_time\": \"2022-08-30T04:24:58.299436Z\", \"end_time\": \"2022-08-30T04:30:26.166016Z\", \"created_time\": \"2022-08-30T04:14:50.891436Z\", \"created_time_dt\": \"2022-08-30T04:14:50.891436Z\", \"duration\": \"0:15:35\", \"iteration\": \"29\", \"goal\": \"AUC_weighted_max\", \"run_name\": \"MaxAbsScaler, LogisticRegression\", \"run_properties\": null}, {\"run_id\": \"AutoML_05af2ba7-1474-4411-86bb-cddaec43b952_30\", \"run_number\": 1661832997, \"metric\": null, \"status\": \"Completed\", \"run_type\": \"azureml.scriptrun\", \"training_percent\": \"100\", \"start_time\": \"2022-08-30T04:18:52.298222Z\", \"end_time\": \"2022-08-30T04:24:50.561785Z\", \"created_time\": \"2022-08-30T04:16:37.921952Z\", \"created_time_dt\": \"2022-08-30T04:16:37.921952Z\", \"duration\": \"0:08:12\", \"iteration\": \"30\", \"goal\": \"AUC_weighted_max\", \"run_name\": \"TruncatedSVDWrapper, LightGBM\", \"run_properties\": \"n_components=0.45526315789473687, random_state=None\", \"primary_metric\": 1.0, \"best_metric\": 1.0}, {\"run_id\": \"AutoML_05af2ba7-1474-4411-86bb-cddaec43b952_31\", \"run_number\": 1661833060, \"metric\": null, \"status\": \"Completed\", \"run_type\": \"azureml.scriptrun\", \"training_percent\": \"100\", \"start_time\": \"2022-08-30T04:30:30.260381Z\", \"end_time\": \"2022-08-30T04:32:07.371922Z\", \"created_time\": \"2022-08-30T04:17:40.847Z\", \"created_time_dt\": \"2022-08-30T04:17:40.847Z\", \"duration\": \"0:14:26\", \"iteration\": \"31\", \"goal\": \"AUC_weighted_max\", \"run_name\": \"StandardScalerWrapper, LightGBM\", \"run_properties\": \"copy=True, with_mean=False, with_std=True\", \"primary_metric\": 0.99989877, \"best_metric\": 1.0}, {\"run_id\": \"AutoML_05af2ba7-1474-4411-86bb-cddaec43b952_32\", \"run_number\": 1661833126, \"metric\": null, \"status\": \"Completed\", \"run_type\": \"azureml.scriptrun\", \"training_percent\": \"100\", \"start_time\": \"2022-08-30T04:32:56.518322Z\", \"end_time\": \"2022-08-30T04:33:37.843385Z\", \"created_time\": \"2022-08-30T04:18:46.165681Z\", \"created_time_dt\": \"2022-08-30T04:18:46.165681Z\", \"duration\": \"0:14:51\", \"iteration\": \"32\", \"goal\": \"AUC_weighted_max\", \"run_name\": \"StandardScalerWrapper, LightGBM\", \"run_properties\": \"copy=True, with_mean=False, with_std=True\", \"primary_metric\": 0.99888312, \"best_metric\": 1.0}, {\"run_id\": \"AutoML_05af2ba7-1474-4411-86bb-cddaec43b952_33\", \"run_number\": 1661833492, \"metric\": null, \"status\": \"Canceled\", \"run_type\": \"azureml.scriptrun\", \"training_percent\": \"100\", \"start_time\": \"2022-08-30T04:33:38.60114Z\", \"end_time\": \"2022-08-30T04:33:38.76444Z\", \"created_time\": \"2022-08-30T04:24:52.010512Z\", \"created_time_dt\": \"2022-08-30T04:24:52.010512Z\", \"duration\": \"0:08:46\", \"iteration\": \"33\", \"goal\": null, \"run_name\": \"Canceled\", \"run_properties\": null}, {\"run_id\": \"AutoML_05af2ba7-1474-4411-86bb-cddaec43b952_34\", \"run_number\": 1661833827, \"metric\": null, \"status\": \"Canceled\", \"run_type\": \"azureml.scriptrun\", \"training_percent\": \"100\", \"start_time\": \"2022-08-30T04:33:38.617715Z\", \"end_time\": \"2022-08-30T04:33:38.781255Z\", \"created_time\": \"2022-08-30T04:30:27.580892Z\", \"created_time_dt\": \"2022-08-30T04:30:27.580892Z\", \"duration\": \"0:03:11\", \"iteration\": \"34\", \"goal\": null, \"run_name\": \"Canceled\", \"run_properties\": null}, {\"run_id\": \"AutoML_05af2ba7-1474-4411-86bb-cddaec43b952_35\", \"run_number\": 1661833929, \"metric\": null, \"status\": \"Canceled\", \"run_type\": \"azureml.scriptrun\", \"training_percent\": \"100\", \"start_time\": \"2022-08-30T04:33:38.61482Z\", \"end_time\": \"2022-08-30T04:33:38.840104Z\", \"created_time\": \"2022-08-30T04:32:09.482082Z\", \"created_time_dt\": \"2022-08-30T04:32:09.482082Z\", \"duration\": \"0:01:29\", \"iteration\": \"35\", \"goal\": null, \"run_name\": \"Canceled\", \"run_properties\": null}, {\"run_id\": \"AutoML_05af2ba7-1474-4411-86bb-cddaec43b952_36\", \"run_number\": 1661834019, \"metric\": null, \"status\": \"Failed\", \"run_type\": \"azureml.scriptrun\", \"training_percent\": \"100\", \"start_time\": \"2022-08-30T04:36:39.009269Z\", \"end_time\": \"2022-08-30T04:39:09.380699Z\", \"created_time\": \"2022-08-30T04:33:39.738637Z\", \"created_time_dt\": \"2022-08-30T04:33:39.738637Z\", \"duration\": \"0:05:29\", \"iteration\": \"36\", \"goal\": \"AUC_weighted_max\", \"run_name\": \"VotingEnsemble\", \"run_properties\": null}], \"children_metrics\": {\"categories\": [0], \"series\": {\"average_precision_score_weighted\": [{\"categories\": [\"0\", \"7\", \"21\", \"24\", \"25\", \"26\", \"27\", \"28\", \"30\", \"31\", \"32\"], \"mode\": \"markers\", \"name\": \"average_precision_score_weighted\", \"stepped\": false, \"type\": \"scatter\", \"data\": [1.0000000000000002, 0.9999591307524334, 0.9994898744488875, 0.9989660422097503, 1.0, 1.0, 1.0, 0.9999847492864262, 1.0, 0.9998377981404992, 0.9985295478485813]}, {\"categories\": [\"0\", \"7\", \"21\", \"24\", \"25\", \"26\", \"27\", \"28\", \"30\", \"31\", \"32\"], \"mode\": \"lines\", \"name\": \"average_precision_score_weighted_max\", \"stepped\": true, \"type\": \"scatter\", \"data\": [1.0000000000000002, 1.0000000000000002, 1.0000000000000002, 1.0000000000000002, 1.0000000000000002, 1.0000000000000002, 1.0000000000000002, 1.0000000000000002, 1.0000000000000002, 1.0000000000000002, 1.0000000000000002]}], \"balanced_accuracy\": [{\"categories\": [\"0\", \"7\", \"21\", \"24\", \"25\", \"26\", \"27\", \"28\", \"30\", \"31\", \"32\"], \"mode\": \"markers\", \"name\": \"balanced_accuracy\", \"stepped\": false, \"type\": \"scatter\", \"data\": [0.9989831109483212, 0.9982927888960736, 0.9972749851612469, 0.9978220327850975, 1.0, 0.9999269966418455, 0.999854815322371, 0.9997456286600114, 0.9999639093402628, 0.9987283690304606, 0.9958945381072196]}, {\"categories\": [\"0\", \"7\", \"21\", \"24\", \"25\", \"26\", \"27\", \"28\", \"30\", \"31\", \"32\"], \"mode\": \"lines\", \"name\": \"balanced_accuracy_max\", \"stepped\": true, \"type\": \"scatter\", \"data\": [0.9989831109483212, 0.9989831109483212, 0.9989831109483212, 0.9989831109483212, 1.0, 1.0, 1.0, 1.0, 1.0, 1.0, 1.0]}], \"average_precision_score_macro\": [{\"categories\": [\"0\", \"7\", \"21\", \"24\", \"25\", \"26\", \"27\", \"28\", \"30\", \"31\", \"32\"], \"mode\": \"markers\", \"name\": \"average_precision_score_macro\", \"stepped\": false, \"type\": \"scatter\", \"data\": [1.0, 0.9998763599962488, 0.9983843442429131, 0.9966848940766088, 1.0, 1.0, 1.0, 0.9999551391041045, 1.0, 0.9994970878835967, 0.9954019332154495]}, {\"categories\": [\"0\", \"7\", \"21\", \"24\", \"25\", \"26\", \"27\", \"28\", \"30\", \"31\", \"32\"], \"mode\": \"lines\", \"name\": \"average_precision_score_macro_max\", \"stepped\": true, \"type\": \"scatter\", \"data\": [1.0, 1.0, 1.0, 1.0, 1.0, 1.0, 1.0, 1.0, 1.0, 1.0, 1.0]}], \"precision_score_weighted\": [{\"categories\": [\"0\", \"7\", \"21\", \"24\", \"25\", \"26\", \"27\", \"28\", \"30\", \"31\", \"32\"], \"mode\": \"markers\", \"name\": \"precision_score_weighted\", \"stepped\": false, \"type\": \"scatter\", \"data\": [0.9982868046152343, 0.9971427857077648, 0.9954927443696803, 0.9963720169107438, 1.0, 0.999876229566088, 0.999752480202967, 0.9995670841639172, 0.9999380434736226, 0.9978614550409652, 0.9933170871205146]}, {\"categories\": [\"0\", \"7\", \"21\", \"24\", \"25\", \"26\", \"27\", \"28\", \"30\", \"31\", \"32\"], \"mode\": \"lines\", \"name\": \"precision_score_weighted_max\", \"stepped\": true, \"type\": \"scatter\", \"data\": [0.9982868046152343, 0.9982868046152343, 0.9982868046152343, 0.9982868046152343, 1.0, 1.0, 1.0, 1.0, 1.0, 1.0, 1.0]}], \"recall_score_micro\": [{\"categories\": [\"0\", \"7\", \"21\", \"24\", \"25\", \"26\", \"27\", \"28\", \"30\", \"31\", \"32\"], \"mode\": \"markers\", \"name\": \"recall_score_micro\", \"stepped\": false, \"type\": \"scatter\", \"data\": [0.9982629657127938, 0.9970844057039207, 0.9953473945051359, 0.99627793869253, 1.0, 0.9998759228239965, 0.9997518456479929, 0.999565752972409, 0.9999379614119982, 0.9978288110388882, 0.9929900205147549]}, {\"categories\": [\"0\", \"7\", \"21\", \"24\", \"25\", \"26\", \"27\", \"28\", \"30\", \"31\", \"32\"], \"mode\": \"lines\", \"name\": \"recall_score_micro_max\", \"stepped\": true, \"type\": \"scatter\", \"data\": [0.9982629657127938, 0.9982629657127938, 0.9982629657127938, 0.9982629657127938, 1.0, 1.0, 1.0, 1.0, 1.0, 1.0, 1.0]}], \"average_precision_score_micro\": [{\"categories\": [\"0\", \"7\", \"21\", \"24\", \"25\", \"26\", \"27\", \"28\", \"30\", \"31\", \"32\"], \"mode\": \"markers\", \"name\": \"average_precision_score_micro\", \"stepped\": false, \"type\": \"scatter\", \"data\": [0.9999886382084142, 0.9999561259259337, 0.9998464020741725, 0.9997545548872252, 1.0, 0.9999998153419764, 0.999999561484941, 0.9999895175480932, 0.9999999884557894, 0.9999553122592307, 0.9996228751976796]}, {\"categories\": [\"0\", \"7\", \"21\", \"24\", \"25\", \"26\", \"27\", \"28\", \"30\", \"31\", \"32\"], \"mode\": \"lines\", \"name\": \"average_precision_score_micro_max\", \"stepped\": true, \"type\": \"scatter\", \"data\": [0.9999886382084142, 0.9999886382084142, 0.9999886382084142, 0.9999886382084142, 1.0, 1.0, 1.0, 1.0, 1.0, 1.0, 1.0]}], \"AUC_macro\": [{\"categories\": [\"0\", \"7\", \"21\", \"24\", \"25\", \"26\", \"27\", \"28\", \"30\", \"31\", \"32\"], \"mode\": \"markers\", \"name\": \"AUC_macro\", \"stepped\": false, \"type\": \"scatter\", \"data\": [1.0, 0.9999633866405412, 0.9997355426990477, 0.9994787123648363, 1.0, 1.0, 1.0, 0.9999853450507793, 1.0, 0.9998987722951984, 0.9988831221920429]}, {\"categories\": [\"0\", \"7\", \"21\", \"24\", \"25\", \"26\", \"27\", \"28\", \"30\", \"31\", \"32\"], \"mode\": \"lines\", \"name\": \"AUC_macro_max\", \"stepped\": true, \"type\": \"scatter\", \"data\": [1.0, 1.0, 1.0, 1.0, 1.0, 1.0, 1.0, 1.0, 1.0, 1.0, 1.0]}], \"AUC_weighted\": [{\"categories\": [\"0\", \"7\", \"21\", \"24\", \"25\", \"26\", \"27\", \"28\", \"30\", \"31\", \"32\"], \"mode\": \"markers\", \"name\": \"AUC_weighted\", \"stepped\": false, \"type\": \"scatter\", \"data\": [1.0, 0.9999633866405412, 0.9997355426990479, 0.9994787123648363, 1.0, 1.0, 1.0, 0.9999853450507793, 1.0, 0.9998987722951984, 0.9988831221920429]}, {\"categories\": [\"0\", \"7\", \"21\", \"24\", \"25\", \"26\", \"27\", \"28\", \"30\", \"31\", \"32\"], \"mode\": \"lines\", \"name\": \"AUC_weighted_max\", \"stepped\": true, \"type\": \"scatter\", \"data\": [1.0, 1.0, 1.0, 1.0, 1.0, 1.0, 1.0, 1.0, 1.0, 1.0, 1.0]}], \"precision_score_macro\": [{\"categories\": [\"0\", \"7\", \"21\", \"24\", \"25\", \"26\", \"27\", \"28\", \"30\", \"31\", \"32\"], \"mode\": \"markers\", \"name\": \"precision_score_macro\", \"stepped\": false, \"type\": \"scatter\", \"data\": [0.9941225871828304, 0.9902134585662407, 0.9845831402685851, 0.9875244304235954, 1.0, 0.99958796868562, 0.9991476340312828, 0.9985204404667755, 0.9997795414462081, 0.9926852535889498, 0.9771308796958348]}, {\"categories\": [\"0\", \"7\", \"21\", \"24\", \"25\", \"26\", \"27\", \"28\", \"30\", \"31\", \"32\"], \"mode\": \"lines\", \"name\": \"precision_score_macro_max\", \"stepped\": true, \"type\": \"scatter\", \"data\": [0.9941225871828304, 0.9941225871828304, 0.9941225871828304, 0.9941225871828304, 1.0, 1.0, 1.0, 1.0, 1.0, 1.0, 1.0]}], \"f1_score_weighted\": [{\"categories\": [\"0\", \"7\", \"21\", \"24\", \"25\", \"26\", \"27\", \"28\", \"30\", \"31\", \"32\"], \"mode\": \"markers\", \"name\": \"f1_score_weighted\", \"stepped\": false, \"type\": \"scatter\", \"data\": [0.9982679336276767, 0.9970965944473736, 0.9953778450402533, 0.9962976549313419, 1.0, 0.9998759860143752, 0.9997519774630049, 0.9995660287517111, 0.9999379785820977, 0.9978356094387447, 0.9930589592615782]}, {\"categories\": [\"0\", \"7\", \"21\", \"24\", \"25\", \"26\", \"27\", \"28\", \"30\", \"31\", \"32\"], \"mode\": \"lines\", \"name\": \"f1_score_weighted_max\", \"stepped\": true, \"type\": \"scatter\", \"data\": [0.9982679336276767, 0.9982679336276767, 0.9982679336276767, 0.9982679336276767, 1.0, 1.0, 1.0, 1.0, 1.0, 1.0, 1.0]}], \"log_loss\": [{\"categories\": [\"0\", \"7\", \"21\", \"24\", \"25\", \"26\", \"27\", \"28\", \"30\", \"31\", \"32\"], \"mode\": \"markers\", \"name\": \"log_loss\", \"stepped\": false, \"type\": \"scatter\", \"data\": [0.0073693044880075555, 0.030673384005717102, 0.07739380206201321, 0.03378711908911051, 0.04231625112632809, 0.0004719264313269819, 0.0007420183547196318, 0.003973324341396016, 0.04307811045490431, 0.009881069865984663, 0.03715535226881605]}, {\"categories\": [\"0\", \"7\", \"21\", \"24\", \"25\", \"26\", \"27\", \"28\", \"30\", \"31\", \"32\"], \"mode\": \"lines\", \"name\": \"log_loss_min\", \"stepped\": true, \"type\": \"scatter\", \"data\": [0.0073693044880075555, 0.0073693044880075555, 0.0073693044880075555, 0.0073693044880075555, 0.0073693044880075555, 0.0004719264313269819, 0.0004719264313269819, 0.0004719264313269819, 0.0004719264313269819, 0.0004719264313269819, 0.0004719264313269819]}], \"accuracy\": [{\"categories\": [\"0\", \"7\", \"21\", \"24\", \"25\", \"26\", \"27\", \"28\", \"30\", \"31\", \"32\"], \"mode\": \"markers\", \"name\": \"accuracy\", \"stepped\": false, \"type\": \"scatter\", \"data\": [0.9982629657127938, 0.9970844057039207, 0.9953473945051359, 0.99627793869253, 1.0, 0.9998759228239965, 0.9997518456479929, 0.999565752972409, 0.9999379614119982, 0.9978288110388882, 0.9929900205147549]}, {\"categories\": [\"0\", \"7\", \"21\", \"24\", \"25\", \"26\", \"27\", \"28\", \"30\", \"31\", \"32\"], \"mode\": \"lines\", \"name\": \"accuracy_max\", \"stepped\": true, \"type\": \"scatter\", \"data\": [0.9982629657127938, 0.9982629657127938, 0.9982629657127938, 0.9982629657127938, 1.0, 1.0, 1.0, 1.0, 1.0, 1.0, 1.0]}], \"recall_score_weighted\": [{\"categories\": [\"0\", \"7\", \"21\", \"24\", \"25\", \"26\", \"27\", \"28\", \"30\", \"31\", \"32\"], \"mode\": \"markers\", \"name\": \"recall_score_weighted\", \"stepped\": false, \"type\": \"scatter\", \"data\": [0.9982629657127938, 0.9970844057039207, 0.9953473945051359, 0.99627793869253, 1.0, 0.9998759228239965, 0.9997518456479929, 0.999565752972409, 0.9999379614119982, 0.9978288110388882, 0.9929900205147549]}, {\"categories\": [\"0\", \"7\", \"21\", \"24\", \"25\", \"26\", \"27\", \"28\", \"30\", \"31\", \"32\"], \"mode\": \"lines\", \"name\": \"recall_score_weighted_max\", \"stepped\": true, \"type\": \"scatter\", \"data\": [0.9982629657127938, 0.9982629657127938, 0.9982629657127938, 0.9982629657127938, 1.0, 1.0, 1.0, 1.0, 1.0, 1.0, 1.0]}], \"f1_score_micro\": [{\"categories\": [\"0\", \"7\", \"21\", \"24\", \"25\", \"26\", \"27\", \"28\", \"30\", \"31\", \"32\"], \"mode\": \"markers\", \"name\": \"f1_score_micro\", \"stepped\": false, \"type\": \"scatter\", \"data\": [0.9982629657127938, 0.9970844057039207, 0.9953473945051359, 0.99627793869253, 1.0, 0.9998759228239965, 0.9997518456479929, 0.999565752972409, 0.9999379614119982, 0.9978288110388882, 0.9929900205147549]}, {\"categories\": [\"0\", \"7\", \"21\", \"24\", \"25\", \"26\", \"27\", \"28\", \"30\", \"31\", \"32\"], \"mode\": \"lines\", \"name\": \"f1_score_micro_max\", \"stepped\": true, \"type\": \"scatter\", \"data\": [0.9982629657127938, 0.9982629657127938, 0.9982629657127938, 0.9982629657127938, 1.0, 1.0, 1.0, 1.0, 1.0, 1.0, 1.0]}], \"norm_macro_recall\": [{\"categories\": [\"0\", \"7\", \"21\", \"24\", \"25\", \"26\", \"27\", \"28\", \"30\", \"31\", \"32\"], \"mode\": \"markers\", \"name\": \"norm_macro_recall\", \"stepped\": false, \"type\": \"scatter\", \"data\": [0.9979662218966423, 0.9965855777921475, 0.9945499703224939, 0.995644065570195, 1.0, 0.9998539932836911, 0.9997096306447419, 0.9994912573200225, 0.9999278186805255, 0.9974567380609214, 0.9917890762144396]}, {\"categories\": [\"0\", \"7\", \"21\", \"24\", \"25\", \"26\", \"27\", \"28\", \"30\", \"31\", \"32\"], \"mode\": \"lines\", \"name\": \"norm_macro_recall_max\", \"stepped\": true, \"type\": \"scatter\", \"data\": [0.9979662218966423, 0.9979662218966423, 0.9979662218966423, 0.9979662218966423, 1.0, 1.0, 1.0, 1.0, 1.0, 1.0, 1.0]}], \"weighted_accuracy\": [{\"categories\": [\"0\", \"7\", \"21\", \"24\", \"25\", \"26\", \"27\", \"28\", \"30\", \"31\", \"32\"], \"mode\": \"markers\", \"name\": \"weighted_accuracy\", \"stepped\": false, \"type\": \"scatter\", \"data\": [0.9980239777312362, 0.9966827813985412, 0.9947056726655266, 0.9957669782329743, 1.0, 0.9998584160034568, 0.999717811608248, 0.9995058185511839, 0.9999296978023956, 0.9975293688307545, 0.9920234758908828]}, {\"categories\": [\"0\", \"7\", \"21\", \"24\", \"25\", \"26\", \"27\", \"28\", \"30\", \"31\", \"32\"], \"mode\": \"lines\", \"name\": \"weighted_accuracy_max\", \"stepped\": true, \"type\": \"scatter\", \"data\": [0.9980239777312362, 0.9980239777312362, 0.9980239777312362, 0.9980239777312362, 1.0, 1.0, 1.0, 1.0, 1.0, 1.0, 1.0]}], \"precision_score_micro\": [{\"categories\": [\"0\", \"7\", \"21\", \"24\", \"25\", \"26\", \"27\", \"28\", \"30\", \"31\", \"32\"], \"mode\": \"markers\", \"name\": \"precision_score_micro\", \"stepped\": false, \"type\": \"scatter\", \"data\": [0.9982629657127938, 0.9970844057039207, 0.9953473945051359, 0.99627793869253, 1.0, 0.9998759228239965, 0.9997518456479929, 0.999565752972409, 0.9999379614119982, 0.9978288110388882, 0.9929900205147549]}, {\"categories\": [\"0\", \"7\", \"21\", \"24\", \"25\", \"26\", \"27\", \"28\", \"30\", \"31\", \"32\"], \"mode\": \"lines\", \"name\": \"precision_score_micro_max\", \"stepped\": true, \"type\": \"scatter\", \"data\": [0.9982629657127938, 0.9982629657127938, 0.9982629657127938, 0.9982629657127938, 1.0, 1.0, 1.0, 1.0, 1.0, 1.0, 1.0]}], \"matthews_correlation\": [{\"categories\": [\"0\", \"7\", \"21\", \"24\", \"25\", \"26\", \"27\", \"28\", \"30\", \"31\", \"32\"], \"mode\": \"markers\", \"name\": \"matthews_correlation\", \"stepped\": false, \"type\": \"scatter\", \"data\": [0.9930918243306457, 0.988472532515699, 0.9817753416750548, 0.9852917666732967, 1.0, 0.9995147926662482, 0.9990020730739841, 0.9982652946623207, 0.999743399759914, 0.9913947571041218, 0.9728415788843803]}, {\"categories\": [\"0\", \"7\", \"21\", \"24\", \"25\", \"26\", \"27\", \"28\", \"30\", \"31\", \"32\"], \"mode\": \"lines\", \"name\": \"matthews_correlation_max\", \"stepped\": true, \"type\": \"scatter\", \"data\": [0.9930918243306457, 0.9930918243306457, 0.9930918243306457, 0.9930918243306457, 1.0, 1.0, 1.0, 1.0, 1.0, 1.0, 1.0]}], \"AUC_micro\": [{\"categories\": [\"0\", \"7\", \"21\", \"24\", \"25\", \"26\", \"27\", \"28\", \"30\", \"31\", \"32\"], \"mode\": \"markers\", \"name\": \"AUC_micro\", \"stepped\": false, \"type\": \"scatter\", \"data\": [0.9999886156163758, 0.9999558196584436, 0.999852687151586, 0.9997989306513522, 1.0, 0.9999998152582528, 0.9999995612383503, 0.9999893889818262, 0.9999999884536409, 0.9999546133243954, 0.9996174202239869]}, {\"categories\": [\"0\", \"7\", \"21\", \"24\", \"25\", \"26\", \"27\", \"28\", \"30\", \"31\", \"32\"], \"mode\": \"lines\", \"name\": \"AUC_micro_max\", \"stepped\": true, \"type\": \"scatter\", \"data\": [0.9999886156163758, 0.9999886156163758, 0.9999886156163758, 0.9999886156163758, 1.0, 1.0, 1.0, 1.0, 1.0, 1.0, 1.0]}], \"f1_score_macro\": [{\"categories\": [\"0\", \"7\", \"21\", \"24\", \"25\", \"26\", \"27\", \"28\", \"30\", \"31\", \"32\"], \"mode\": \"markers\", \"name\": \"f1_score_macro\", \"stepped\": false, \"type\": \"scatter\", \"data\": [0.9965319662192093, 0.9942022111104092, 0.9908033004519353, 0.992590815034856, 1.0, 0.9997572196978735, 0.9995006626674373, 0.9991318695912251, 0.9998716504880112, 0.9956783397175465, 0.9862317194592288]}, {\"categories\": [\"0\", \"7\", \"21\", \"24\", \"25\", \"26\", \"27\", \"28\", \"30\", \"31\", \"32\"], \"mode\": \"lines\", \"name\": \"f1_score_macro_max\", \"stepped\": true, \"type\": \"scatter\", \"data\": [0.9965319662192093, 0.9965319662192093, 0.9965319662192093, 0.9965319662192093, 1.0, 1.0, 1.0, 1.0, 1.0, 1.0, 1.0]}], \"recall_score_macro\": [{\"categories\": [\"0\", \"7\", \"21\", \"24\", \"25\", \"26\", \"27\", \"28\", \"30\", \"31\", \"32\"], \"mode\": \"markers\", \"name\": \"recall_score_macro\", \"stepped\": false, \"type\": \"scatter\", \"data\": [0.9989831109483212, 0.9982927888960736, 0.9972749851612469, 0.9978220327850975, 1.0, 0.9999269966418455, 0.999854815322371, 0.9997456286600114, 0.9999639093402628, 0.9987283690304606, 0.9958945381072196]}, {\"categories\": [\"0\", \"7\", \"21\", \"24\", \"25\", \"26\", \"27\", \"28\", \"30\", \"31\", \"32\"], \"mode\": \"lines\", \"name\": \"recall_score_macro_max\", \"stepped\": true, \"type\": \"scatter\", \"data\": [0.9989831109483212, 0.9989831109483212, 0.9989831109483212, 0.9989831109483212, 1.0, 1.0, 1.0, 1.0, 1.0, 1.0, 1.0]}]}, \"metricName\": null, \"primaryMetricName\": \"AUC_weighted\", \"showLegend\": false}, \"run_metrics\": [{\"name\": \"experiment_status\", \"run_id\": \"AutoML_05af2ba7-1474-4411-86bb-cddaec43b952\", \"categories\": [0, 1, 2, 3, 4, 5, 6, 7, 8, 9, 10, 11, 12, 13, 14], \"series\": [{\"data\": [\"DatasetEvaluation\", \"FeaturesGeneration\", \"DatasetFeaturization\", \"DatasetFeaturizationCompleted\", \"DatasetBalancing\", \"DatasetCrossValidationSplit\", \"ModelSelection\", \"BestRunExplainModel\", \"ModelExplanationDataSetSetup\", \"PickSurrogateModel\", \"EngineeredFeatureExplanations\", \"EngineeredFeatureExplanations\", \"RawFeaturesExplanations\", \"RawFeaturesExplanations\", \"BestRunExplainModel\"]}]}, {\"name\": \"experiment_status_description\", \"run_id\": \"AutoML_05af2ba7-1474-4411-86bb-cddaec43b952\", \"categories\": [0, 1, 2, 3, 4, 5, 6, 7, 8, 9, 10, 11, 12, 13, 14], \"series\": [{\"data\": [\"Gathering dataset statistics.\", \"Generating features for the dataset.\", \"Beginning to fit featurizers and featurize the dataset.\", \"Completed fit featurizers and featurizing the dataset.\", \"Performing class balancing sweeping\", \"Generating individually featurized CV splits.\", \"Beginning model selection.\", \"Best run model explanations started\", \"Model explanations data setup completed\", \"Choosing LightGBM as the surrogate model for explanations\", \"Computation of engineered features started\", \"Computation of engineered features completed\", \"Computation of raw features started\", \"Computation of raw features completed\", \"Best run model explanations completed\"]}]}], \"run_logs\": \"\\nRun is completed.\", \"graph\": {}, \"widget_settings\": {\"childWidgetDisplay\": \"popup\", \"send_telemetry\": false, \"log_level\": \"INFO\", \"sdk_version\": \"1.40.0\"}, \"loading\": false}"
     },
     "metadata": {},
     "output_type": "display_data"
    },
    {
     "data": {
      "text/plain": [
       "{'runId': 'AutoML_05af2ba7-1474-4411-86bb-cddaec43b952',\n",
       " 'target': 'Low-End-Compute-Cluster',\n",
       " 'status': 'Completed',\n",
       " 'startTimeUtc': '2022-08-30T02:49:51.910878Z',\n",
       " 'endTimeUtc': '2022-08-30T04:41:49.378718Z',\n",
       " 'services': {},\n",
       " 'warnings': [{'source': 'JasmineService',\n",
       "   'message': 'No scores improved over last 10 iterations, so experiment stopped early. This early stopping behavior can be disabled by setting enable_early_stopping = False in AutoMLConfig for notebook/python SDK runs.'}],\n",
       " 'properties': {'num_iterations': '1000',\n",
       "  'training_type': 'TrainFull',\n",
       "  'acquisition_function': 'EI',\n",
       "  'primary_metric': 'AUC_weighted',\n",
       "  'train_split': '0',\n",
       "  'acquisition_parameter': '0',\n",
       "  'num_cross_validation': None,\n",
       "  'target': 'Low-End-Compute-Cluster',\n",
       "  'AMLSettingsJsonString': '{\"path\":null,\"name\":\"DieHard-AutoML\",\"subscription_id\":\"efba8785-116c-4443-9a05-764c75c7bb0d\",\"resource_group\":\"2022-ds-talks\",\"workspace_name\":\"2022-data-science-talks\",\"region\":\"eastus\",\"compute_target\":\"Low-End-Compute-Cluster\",\"spark_service\":null,\"azure_service\":\"remote\",\"many_models\":false,\"pipeline_fetch_max_batch_size\":1,\"enable_batch_run\":true,\"enable_run_restructure\":false,\"start_auxiliary_runs_before_parent_complete\":false,\"enable_code_generation\":false,\"iterations\":1000,\"primary_metric\":\"AUC_weighted\",\"task_type\":\"classification\",\"positive_label\":null,\"data_script\":null,\"test_size\":0.0,\"test_include_predictions_only\":false,\"validation_size\":0.0,\"n_cross_validations\":null,\"y_min\":null,\"y_max\":null,\"num_classes\":null,\"featurization\":\"auto\",\"_ignore_package_version_incompatibilities\":false,\"is_timeseries\":false,\"max_cores_per_iteration\":1,\"max_concurrent_iterations\":4,\"iteration_timeout_minutes\":5,\"mem_in_mb\":null,\"enforce_time_on_windows\":true,\"experiment_timeout_minutes\":8640,\"experiment_exit_score\":null,\"partition_column_names\":null,\"whitelist_models\":null,\"blacklist_algos\":[\"TensorFlowLinearClassifier\",\"TensorFlowDNN\"],\"supported_models\":[\"LightGBM\",\"RandomForest\",\"KNN\",\"BernoulliNaiveBayes\",\"AveragedPerceptronClassifier\",\"LinearSVM\",\"ExtremeRandomTrees\",\"TensorFlowDNN\",\"MultinomialNaiveBayes\",\"TabnetClassifier\",\"XGBoostClassifier\",\"GradientBoosting\",\"LogisticRegression\",\"SGD\",\"DecisionTree\",\"SVM\",\"TensorFlowLinearClassifier\"],\"private_models\":[],\"auto_blacklist\":true,\"blacklist_samples_reached\":false,\"exclude_nan_labels\":true,\"verbosity\":20,\"_debug_log\":\"azureml_automl.log\",\"show_warnings\":false,\"model_explainability\":true,\"service_url\":null,\"sdk_url\":null,\"sdk_packages\":null,\"enable_onnx_compatible_models\":false,\"enable_split_onnx_featurizer_estimator_models\":false,\"vm_type\":\"STANDARD_D2DS_V4\",\"telemetry_verbosity\":20,\"send_telemetry\":true,\"enable_dnn\":true,\"scenario\":\"SDK-1.13.0\",\"environment_label\":null,\"save_mlflow\":false,\"enable_categorical_indicators\":false,\"force_text_dnn\":false,\"enable_feature_sweeping\":true,\"enable_early_stopping\":true,\"early_stopping_n_iters\":10,\"arguments\":null,\"dataset_id\":\"74098b45-79fc-42cc-abce-6557f01df36b\",\"hyperdrive_config\":null,\"validation_dataset_id\":null,\"run_source\":null,\"metrics\":null,\"enable_metric_confidence\":false,\"enable_ensembling\":true,\"enable_stack_ensembling\":true,\"ensemble_iterations\":15,\"enable_tf\":false,\"enable_subsampling\":null,\"subsample_seed\":null,\"enable_nimbusml\":false,\"enable_streaming\":false,\"force_streaming\":false,\"track_child_runs\":true,\"allowed_private_models\":[],\"label_column_name\":\"Is Christmas Movie\",\"weight_column_name\":null,\"cv_split_column_names\":null,\"enable_local_managed\":false,\"_local_managed_run_id\":null,\"cost_mode\":1,\"lag_length\":0,\"metric_operation\":\"maximize\",\"preprocess\":true}',\n",
       "  'DataPrepJsonString': '{\\\\\"training_data\\\\\": {\\\\\"datasetId\\\\\": \\\\\"74098b45-79fc-42cc-abce-6557f01df36b\\\\\"}, \\\\\"datasets\\\\\": 0}',\n",
       "  'EnableSubsampling': None,\n",
       "  'runTemplate': 'AutoML',\n",
       "  'azureml.runsource': 'automl',\n",
       "  'display_task_type': 'classification',\n",
       "  'dependencies_versions': '{\"azureml-widgets\": \"1.40.0\", \"azureml-training-tabular\": \"1.40.0\", \"azureml-train\": \"1.40.0\", \"azureml-train-restclients-hyperdrive\": \"1.40.0\", \"azureml-train-core\": \"1.40.0\", \"azureml-train-automl-runtime\": \"1.40.0.post1\", \"azureml-train-automl-client\": \"1.40.0\", \"azureml-telemetry\": \"1.40.0\", \"azureml-pipeline\": \"1.40.0\", \"azureml-pipeline-steps\": \"1.40.0\", \"azureml-pipeline-core\": \"1.40.0\", \"azureml-mlflow\": \"1.40.0\", \"azureml-interpret\": \"1.40.0\", \"azureml-inference-server-http\": \"0.4.13\", \"azureml-defaults\": \"1.40.0\", \"azureml-dataset-runtime\": \"1.40.0\", \"azureml-dataprep\": \"3.0.2\", \"azureml-dataprep-rslex\": \"2.4.2\", \"azureml-dataprep-native\": \"38.0.0\", \"azureml-core\": \"1.40.0\", \"azureml-automl-runtime\": \"1.40.0\", \"azureml-automl-core\": \"1.40.0\"}',\n",
       "  '_aml_system_scenario_identification': 'Remote.Parent',\n",
       "  'ClientType': 'SDK',\n",
       "  'environment_cpu_name': 'AzureML-AutoML-DNN',\n",
       "  'environment_cpu_label': 'prod',\n",
       "  'environment_gpu_name': 'AzureML-AutoML-DNN-GPU',\n",
       "  'environment_gpu_label': 'prod',\n",
       "  'root_attribution': 'automl',\n",
       "  'attribution': 'AutoML',\n",
       "  'Orchestrator': 'AutoML',\n",
       "  'CancelUri': 'https://eastus.api.azureml.ms/jasmine/v1.0/subscriptions/efba8785-116c-4443-9a05-764c75c7bb0d/resourceGroups/2022-ds-talks/providers/Microsoft.MachineLearningServices/workspaces/2022-data-science-talks/experimentids/66a4dec6-604b-4060-b8a6-829a0399d48b/cancel/AutoML_05af2ba7-1474-4411-86bb-cddaec43b952',\n",
       "  'azureml.git.repository_uri': 'git@github.com:IntegerMan/DieHardSolver.git',\n",
       "  'mlflow.source.git.repoURL': 'git@github.com:IntegerMan/DieHardSolver.git',\n",
       "  'azureml.git.branch': 'main',\n",
       "  'mlflow.source.git.branch': 'main',\n",
       "  'azureml.git.commit': 'd57e426ca481fdcc7f8a94d7b67c2492a4ad9cec',\n",
       "  'mlflow.source.git.commit': 'd57e426ca481fdcc7f8a94d7b67c2492a4ad9cec',\n",
       "  'azureml.git.dirty': 'True',\n",
       "  'ClientSdkVersion': '1.44.0',\n",
       "  'snapshotId': '00000000-0000-0000-0000-000000000000',\n",
       "  'SetupRunId': 'AutoML_05af2ba7-1474-4411-86bb-cddaec43b952_setup',\n",
       "  'SetupRunContainerId': 'dcid.AutoML_05af2ba7-1474-4411-86bb-cddaec43b952_setup',\n",
       "  'FeaturizationRunJsonPath': 'featurizer_container.json',\n",
       "  'FeaturizationRunId': 'AutoML_05af2ba7-1474-4411-86bb-cddaec43b952_featurize',\n",
       "  'ProblemInfoJsonString': '{\"dataset_num_categorical\": 0, \"is_sparse\": true, \"subsampling\": false, \"has_extra_col\": true, \"dataset_classes\": 2, \"dataset_features\": 502541, \"dataset_samples\": 16120, \"single_frequency_class_detected\": false}',\n",
       "  'ModelExplainRunId': 'AutoML_05af2ba7-1474-4411-86bb-cddaec43b952_ModelExplain'},\n",
       " 'inputDatasets': [{'dataset': {'id': '74098b45-79fc-42cc-abce-6557f01df36b'}, 'consumptionDetails': {'type': 'RunInput', 'inputName': 'training_data', 'mechanism': 'Direct'}}],\n",
       " 'outputDatasets': [],\n",
       " 'logFiles': {},\n",
       " 'submittedBy': 'Matt Eland'}"
      ]
     },
     "execution_count": 21,
     "metadata": {},
     "output_type": "execute_result"
    },
    {
     "name": "stderr",
     "output_type": "stream",
     "text": [
      "INFO:interpret_community.common.explanation_utils:Using default datastore for uploads\n",
      "INFO:interpret_community.common.explanation_utils:Using default datastore for uploads\n"
     ]
    }
   ],
   "source": [
    "from azureml.widgets import RunDetails\n",
    "\n",
    "# Submit the experiment\n",
    "run = experiment.submit(automl_config)\n",
    "\n",
    "# Wait for the experiment to complete\n",
    "RunDetails(run).show()\n",
    "run.wait_for_completion(show_output=False)"
   ]
  },
  {
   "cell_type": "markdown",
   "metadata": {},
   "source": [
    "## Working with the Resulting Model\n",
    "Now that we have a number of models, including the best performing model, let's save it locally for deployment later"
   ]
  },
  {
   "cell_type": "code",
   "execution_count": 23,
   "metadata": {},
   "outputs": [
    {
     "name": "stderr",
     "output_type": "stream",
     "text": [
      "WARNING:root:The version of the SDK does not match the version the model was trained on.\n",
      "WARNING:root:The consistency in the result may not be guaranteed.\n",
      "WARNING:root:Package:azureml-automl-core, training version:1.44.0, current version:1.40.0\n",
      "Package:azureml-automl-runtime, training version:1.44.0, current version:1.40.0\n",
      "Package:azureml-core, training version:1.44.0, current version:1.40.0\n",
      "Package:azureml-dataprep, training version:4.2.2, current version:3.0.2\n",
      "Package:azureml-dataprep-rslex, training version:2.8.1, current version:2.4.2\n",
      "Package:azureml-dataset-runtime, training version:1.44.0, current version:1.40.0\n",
      "Package:azureml-defaults, training version:1.44.0, current version:1.40.0\n",
      "Package:azureml-inference-server-http, training version:0.7.4, current version:0.4.13\n",
      "Package:azureml-interpret, training version:1.44.0, current version:1.40.0\n",
      "Package:azureml-mlflow, training version:1.44.0, current version:1.40.0\n",
      "Package:azureml-pipeline-core, training version:1.44.0, current version:1.40.0\n",
      "Package:azureml-telemetry, training version:1.44.0, current version:1.40.0\n",
      "Package:azureml-train-automl-client, training version:1.44.0, current version:1.40.0\n",
      "Package:azureml-train-automl-runtime, training version:1.44.0, current version:1.40.0.post1\n",
      "Package:azureml-train-core, training version:1.44.0, current version:1.40.0\n",
      "Package:azureml-train-restclients-hyperdrive, training version:1.44.0, current version:1.40.0\n",
      "Package:azureml-training-tabular, training version:1.44.0, current version:1.40.0\n",
      "WARNING:root:Below packages were used for model training but missing in current environment:\n",
      "WARNING:root:Package:azureml-responsibleai, training version:1.44.0\n",
      "WARNING:root:Please ensure the version of your local conda dependencies match the version on which your model was trained in order to properly retrieve your model.\n"
     ]
    },
    {
     "data": {
      "application/vnd.jupyter.widget-view+json": {
       "model_id": "83dddce36c834cdca02658776f5470b1",
       "version_major": 2,
       "version_minor": 0
      },
      "text/plain": [
       "_UserRunWidget(widget_settings={'childWidgetDisplay': 'popup', 'send_telemetry': False, 'log_level': 'INFO', '…"
      ]
     },
     "metadata": {},
     "output_type": "display_data"
    },
    {
     "data": {
      "application/aml.mini.widget.v1": "{\"status\": \"Completed\", \"workbench_run_details_uri\": \"https://ml.azure.com/runs/AutoML_05af2ba7-1474-4411-86bb-cddaec43b952_0?wsid=/subscriptions/efba8785-116c-4443-9a05-764c75c7bb0d/resourcegroups/2022-ds-talks/workspaces/2022-data-science-talks&tid=542fe8ad-7ac8-4b9e-898f-d6de53312581\", \"run_id\": \"AutoML_05af2ba7-1474-4411-86bb-cddaec43b952_0\", \"run_properties\": {\"run_id\": \"AutoML_05af2ba7-1474-4411-86bb-cddaec43b952_0\", \"created_utc\": \"2022-08-30T02:58:37.389392Z\", \"properties\": {\"runTemplate\": \"automl_child\", \"pipeline_id\": \"5dfac790c5c209f98a1da2dc1c7fb76f0397324f\", \"pipeline_spec\": \"{\\\"objects\\\":[{\\\"spec_class\\\":\\\"preproc\\\",\\\"class_name\\\":\\\"MaxAbsScaler\\\",\\\"module\\\":\\\"sklearn.preprocessing\\\",\\\"param_args\\\":[],\\\"param_kwargs\\\":{},\\\"prepared_kwargs\\\":{}},{\\\"spec_class\\\":\\\"sklearn\\\",\\\"class_name\\\":\\\"LightGBMClassifier\\\",\\\"module\\\":\\\"automl.client.core.common.model_wrappers\\\",\\\"param_args\\\":[],\\\"param_kwargs\\\":{\\\"min_data_in_leaf\\\":20},\\\"prepared_kwargs\\\":{}}],\\\"pipeline_id\\\":\\\"5dfac790c5c209f98a1da2dc1c7fb76f0397324f\\\",\\\"module\\\":\\\"sklearn.pipeline\\\",\\\"class_name\\\":\\\"Pipeline\\\"}\", \"training_percent\": \"100\", \"predicted_cost\": null, \"iteration\": \"0\", \"_aml_system_scenario_identification\": \"Remote.Child\", \"run_preprocessor\": \"MaxAbsScaler\", \"run_algorithm\": \"LightGBM\", \"model_output_path\": \"outputs/model.pkl\", \"conda_env_data_location\": \"aml://artifact/ExperimentRun/dcid.AutoML_05af2ba7-1474-4411-86bb-cddaec43b952_0/outputs/conda_env_v_1_0_0.yml\", \"model_data_location\": \"aml://artifact/ExperimentRun/dcid.AutoML_05af2ba7-1474-4411-86bb-cddaec43b952_0/outputs/model.pkl\", \"model_size_on_disk\": \"86403121\", \"scoring_data_location\": \"aml://artifact/ExperimentRun/dcid.AutoML_05af2ba7-1474-4411-86bb-cddaec43b952_0/outputs/scoring_file_v_1_0_0.py\", \"scoring_data_location_v2\": \"aml://artifact/ExperimentRun/dcid.AutoML_05af2ba7-1474-4411-86bb-cddaec43b952_0/outputs/scoring_file_v_2_0_0.py\", \"scoring_data_location_pbi\": \"aml://artifact/ExperimentRun/dcid.AutoML_05af2ba7-1474-4411-86bb-cddaec43b952_0/outputs/scoring_file_pbi_v_1_0_0.py\", \"model_exp_support\": \"True\", \"pipeline_graph_version\": \"1.0.0\", \"model_name\": \"AutoML05af2ba710\", \"score\": \"1.0\", \"score_table\": \"NaN\", \"run_properties\": \"copy=True\", \"pipeline_script\": \"{\\\"objects\\\":[{\\\"spec_class\\\":\\\"preproc\\\",\\\"class_name\\\":\\\"MaxAbsScaler\\\",\\\"module\\\":\\\"sklearn.preprocessing\\\",\\\"param_args\\\":[],\\\"param_kwargs\\\":{},\\\"prepared_kwargs\\\":{}},{\\\"spec_class\\\":\\\"sklearn\\\",\\\"class_name\\\":\\\"LightGBMClassifier\\\",\\\"module\\\":\\\"automl.client.core.common.model_wrappers\\\",\\\"param_args\\\":[],\\\"param_kwargs\\\":{\\\"min_data_in_leaf\\\":20},\\\"prepared_kwargs\\\":{}}],\\\"pipeline_id\\\":\\\"5dfac790c5c209f98a1da2dc1c7fb76f0397324f\\\",\\\"module\\\":\\\"sklearn.pipeline\\\",\\\"class_name\\\":\\\"Pipeline\\\"}\", \"training_type\": \"MeanCrossValidation\", \"fit_time\": \"39.040557\", \"goal\": \"AUC_weighted_max\", \"primary_metric\": \"AUC_weighted\", \"errors\": \"{}\", \"onnx_model_resource\": \"{}\", \"dependencies_versions\": \"{\\\"azureml-dataprep-native\\\": \\\"38.0.0\\\", \\\"azureml-dataprep\\\": \\\"4.2.2\\\", \\\"azureml-dataprep-rslex\\\": \\\"2.8.1\\\", \\\"azureml-core\\\": \\\"1.44.0\\\", \\\"azureml-defaults\\\": \\\"1.44.0\\\", \\\"azureml-responsibleai\\\": \\\"1.44.0\\\", \\\"azureml-interpret\\\": \\\"1.44.0\\\", \\\"azureml-training-tabular\\\": \\\"1.44.0\\\", \\\"azureml-dataset-runtime\\\": \\\"1.44.0\\\", \\\"azureml-train-automl-client\\\": \\\"1.44.0\\\", \\\"azureml-telemetry\\\": \\\"1.44.0\\\", \\\"azureml-train-restclients-hyperdrive\\\": \\\"1.44.0\\\", \\\"azureml-train-core\\\": \\\"1.44.0\\\", \\\"azureml-mlflow\\\": \\\"1.44.0\\\", \\\"azureml-automl-core\\\": \\\"1.44.0\\\", \\\"azureml-train-automl-runtime\\\": \\\"1.44.0\\\", \\\"azureml-automl-runtime\\\": \\\"1.44.0\\\", \\\"azureml-pipeline-core\\\": \\\"1.44.0\\\", \\\"azureml-inference-server-http\\\": \\\"0.7.4\\\"}\", \"num_cores\": \"1\", \"num_logical_cores\": \"2\", \"peak_memory_usage\": \"3879472\", \"vm_configuration\": \"x86_64\", \"core_hours\": \"0.055641542222222215\", \"feature_skus\": \"automatedml_sdk_dnnnlp,automatedml_sdk_guardrails\"}, \"tags\": {\"_aml_system_linked_batch_run_id\": \"AutoML_05af2ba7-1474-4411-86bb-cddaec43b952_worker_0\", \"_aml_system_azureml.automlComponent\": \"AutoML\", \"_aml_system_automl_is_child_run_end_telemetry_event_logged\": \"True\", \"model_explain_run_id\": \"AutoML_05af2ba7-1474-4411-86bb-cddaec43b952_ModelExplain\", \"model_explanation\": \"True\"}, \"script_name\": null, \"arguments\": null, \"end_time_utc\": \"2022-08-30T03:02:31.401162Z\", \"status\": \"Completed\", \"log_files\": {}, \"log_groups\": [], \"run_duration\": \"0:03:54\", \"run_number\": \"1661828317\", \"run_queued_details\": {\"status\": \"Completed\", \"details\": null}}, \"child_runs\": [{\"run_id\": \"AutoML_05af2ba7-1474-4411-86bb-cddaec43b952_ModelExplain\", \"run_number\": 1661834509, \"metric\": null, \"status\": \"Completed\", \"run_type\": \"automl.model_explain\", \"training_percent\": null, \"start_time\": \"2022-08-30T04:42:57.439127Z\", \"end_time\": \"2022-08-30T04:47:15.7283Z\", \"created_time\": \"2022-08-30T04:41:49.329546Z\", \"created_time_dt\": \"2022-08-30T04:41:49.329546Z\", \"duration\": \"0:05:26\"}], \"children_metrics\": {\"categories\": null, \"series\": null, \"metricName\": null}, \"run_metrics\": [{\"name\": \"average_precision_score_weighted\", \"run_id\": \"AutoML_05af2ba7-1474-4411-86bb-cddaec43b952_0\", \"categories\": [0], \"series\": [{\"data\": [1.0000000000000002]}]}, {\"name\": \"balanced_accuracy\", \"run_id\": \"AutoML_05af2ba7-1474-4411-86bb-cddaec43b952_0\", \"categories\": [0], \"series\": [{\"data\": [0.9989831109483212]}]}, {\"name\": \"average_precision_score_macro\", \"run_id\": \"AutoML_05af2ba7-1474-4411-86bb-cddaec43b952_0\", \"categories\": [0], \"series\": [{\"data\": [1.0]}]}, {\"name\": \"precision_score_weighted\", \"run_id\": \"AutoML_05af2ba7-1474-4411-86bb-cddaec43b952_0\", \"categories\": [0], \"series\": [{\"data\": [0.9982868046152343]}]}, {\"name\": \"recall_score_micro\", \"run_id\": \"AutoML_05af2ba7-1474-4411-86bb-cddaec43b952_0\", \"categories\": [0], \"series\": [{\"data\": [0.9982629657127938]}]}, {\"name\": \"average_precision_score_micro\", \"run_id\": \"AutoML_05af2ba7-1474-4411-86bb-cddaec43b952_0\", \"categories\": [0], \"series\": [{\"data\": [0.9999886382084142]}]}, {\"name\": \"AUC_macro\", \"run_id\": \"AutoML_05af2ba7-1474-4411-86bb-cddaec43b952_0\", \"categories\": [0], \"series\": [{\"data\": [1.0]}]}, {\"name\": \"AUC_weighted\", \"run_id\": \"AutoML_05af2ba7-1474-4411-86bb-cddaec43b952_0\", \"categories\": [0], \"series\": [{\"data\": [1.0]}]}, {\"name\": \"precision_score_macro\", \"run_id\": \"AutoML_05af2ba7-1474-4411-86bb-cddaec43b952_0\", \"categories\": [0], \"series\": [{\"data\": [0.9941225871828304]}]}, {\"name\": \"f1_score_weighted\", \"run_id\": \"AutoML_05af2ba7-1474-4411-86bb-cddaec43b952_0\", \"categories\": [0], \"series\": [{\"data\": [0.9982679336276767]}]}, {\"name\": \"log_loss\", \"run_id\": \"AutoML_05af2ba7-1474-4411-86bb-cddaec43b952_0\", \"categories\": [0], \"series\": [{\"data\": [0.0073693044880075555]}]}, {\"name\": \"accuracy\", \"run_id\": \"AutoML_05af2ba7-1474-4411-86bb-cddaec43b952_0\", \"categories\": [0], \"series\": [{\"data\": [0.9982629657127938]}]}, {\"name\": \"recall_score_weighted\", \"run_id\": \"AutoML_05af2ba7-1474-4411-86bb-cddaec43b952_0\", \"categories\": [0], \"series\": [{\"data\": [0.9982629657127938]}]}, {\"name\": \"f1_score_micro\", \"run_id\": \"AutoML_05af2ba7-1474-4411-86bb-cddaec43b952_0\", \"categories\": [0], \"series\": [{\"data\": [0.9982629657127938]}]}, {\"name\": \"norm_macro_recall\", \"run_id\": \"AutoML_05af2ba7-1474-4411-86bb-cddaec43b952_0\", \"categories\": [0], \"series\": [{\"data\": [0.9979662218966423]}]}, {\"name\": \"weighted_accuracy\", \"run_id\": \"AutoML_05af2ba7-1474-4411-86bb-cddaec43b952_0\", \"categories\": [0], \"series\": [{\"data\": [0.9980239777312362]}]}, {\"name\": \"precision_score_micro\", \"run_id\": \"AutoML_05af2ba7-1474-4411-86bb-cddaec43b952_0\", \"categories\": [0], \"series\": [{\"data\": [0.9982629657127938]}]}, {\"name\": \"matthews_correlation\", \"run_id\": \"AutoML_05af2ba7-1474-4411-86bb-cddaec43b952_0\", \"categories\": [0], \"series\": [{\"data\": [0.9930918243306457]}]}, {\"name\": \"AUC_micro\", \"run_id\": \"AutoML_05af2ba7-1474-4411-86bb-cddaec43b952_0\", \"categories\": [0], \"series\": [{\"data\": [0.9999886156163758]}]}, {\"name\": \"f1_score_macro\", \"run_id\": \"AutoML_05af2ba7-1474-4411-86bb-cddaec43b952_0\", \"categories\": [0], \"series\": [{\"data\": [0.9965319662192093]}]}, {\"name\": \"recall_score_macro\", \"run_id\": \"AutoML_05af2ba7-1474-4411-86bb-cddaec43b952_0\", \"categories\": [0], \"series\": [{\"data\": [0.9989831109483212]}]}, {\"name\": \"accuracy_table\", \"run_id\": \"AutoML_05af2ba7-1474-4411-86bb-cddaec43b952_0\", \"categories\": [0], \"series\": [{\"data\": [{\"schema_type\": \"accuracy_table\", \"schema_version\": \"1.0.1\", \"data\": {\"probability_tables\": [[[13770, 2350, 0, 0], [13761, 0, 2350, 9], [13756, 0, 2350, 14], [13753, 0, 2350, 17], [13753, 0, 2350, 17], [13752, 0, 2350, 18], [13752, 0, 2350, 18], [13749, 0, 2350, 21], [13749, 0, 2350, 21], [13749, 0, 2350, 21], [13749, 0, 2350, 21], [13748, 0, 2350, 22], [13747, 0, 2350, 23], [13747, 0, 2350, 23], [13747, 0, 2350, 23], [13747, 0, 2350, 23], [13747, 0, 2350, 23], [13747, 0, 2350, 23], [13746, 0, 2350, 24], [13746, 0, 2350, 24], [13745, 0, 2350, 25], [13745, 0, 2350, 25], [13745, 0, 2350, 25], [13744, 0, 2350, 26], [13744, 0, 2350, 26], [13744, 0, 2350, 26], [13744, 0, 2350, 26], [13744, 0, 2350, 26], [13744, 0, 2350, 26], [13743, 0, 2350, 27], [13743, 0, 2350, 27], [13743, 0, 2350, 27], [13743, 0, 2350, 27], [13743, 0, 2350, 27], [13743, 0, 2350, 27], [13743, 0, 2350, 27], [13743, 0, 2350, 27], [13742, 0, 2350, 28], [13742, 0, 2350, 28], [13742, 0, 2350, 28], [13742, 0, 2350, 28], [13742, 0, 2350, 28], [13742, 0, 2350, 28], [13742, 0, 2350, 28], [13742, 0, 2350, 28], [13742, 0, 2350, 28], [13742, 0, 2350, 28], [13742, 0, 2350, 28], [13742, 0, 2350, 28], [13742, 0, 2350, 28], [13742, 0, 2350, 28], [13741, 0, 2350, 29], [13741, 0, 2350, 29], [13740, 0, 2350, 30], [13740, 0, 2350, 30], [13740, 0, 2350, 30], [13740, 0, 2350, 30], [13740, 0, 2350, 30], [13739, 0, 2350, 31], [13739, 0, 2350, 31], [13739, 0, 2350, 31], [13739, 0, 2350, 31], [13739, 0, 2350, 31], [13739, 0, 2350, 31], [13739, 0, 2350, 31], [13739, 0, 2350, 31], [13739, 0, 2350, 31], [13738, 0, 2350, 32], [13737, 0, 2350, 33], [13737, 0, 2350, 33], [13737, 0, 2350, 33], [13737, 0, 2350, 33], [13737, 0, 2350, 33], [13735, 0, 2350, 35], [13735, 0, 2350, 35], [13735, 0, 2350, 35], [13735, 0, 2350, 35], [13735, 0, 2350, 35], [13735, 0, 2350, 35], [13734, 0, 2350, 36], [13734, 0, 2350, 36], [13733, 0, 2350, 37], [13731, 0, 2350, 39], [13730, 0, 2350, 40], [13730, 0, 2350, 40], [13730, 0, 2350, 40], [13729, 0, 2350, 41], [13729, 0, 2350, 41], [13728, 0, 2350, 42], [13727, 0, 2350, 43], [13727, 0, 2350, 43], [13725, 0, 2350, 45], [13724, 0, 2350, 46], [13719, 0, 2350, 51], [13717, 0, 2350, 53], [13713, 0, 2350, 57], [13706, 0, 2350, 64], [13703, 0, 2350, 67], [13693, 0, 2350, 77], [0, 0, 2350, 13770]], [[2350, 13770, 0, 0], [2350, 77, 13693, 0], [2350, 67, 13703, 0], [2350, 64, 13706, 0], [2350, 57, 13713, 0], [2350, 53, 13717, 0], [2350, 51, 13719, 0], [2350, 46, 13724, 0], [2350, 45, 13725, 0], [2350, 43, 13727, 0], [2350, 43, 13727, 0], [2350, 42, 13728, 0], [2350, 41, 13729, 0], [2350, 41, 13729, 0], [2350, 40, 13730, 0], [2350, 40, 13730, 0], [2350, 40, 13730, 0], [2350, 39, 13731, 0], [2350, 37, 13733, 0], [2350, 36, 13734, 0], [2350, 36, 13734, 0], [2350, 35, 13735, 0], [2350, 35, 13735, 0], [2350, 35, 13735, 0], [2350, 35, 13735, 0], [2350, 35, 13735, 0], [2350, 35, 13735, 0], [2350, 33, 13737, 0], [2350, 33, 13737, 0], [2350, 33, 13737, 0], [2350, 33, 13737, 0], [2350, 33, 13737, 0], [2350, 32, 13738, 0], [2350, 31, 13739, 0], [2350, 31, 13739, 0], [2350, 31, 13739, 0], [2350, 31, 13739, 0], [2350, 31, 13739, 0], [2350, 31, 13739, 0], [2350, 31, 13739, 0], [2350, 31, 13739, 0], [2350, 31, 13739, 0], [2350, 30, 13740, 0], [2350, 30, 13740, 0], [2350, 30, 13740, 0], [2350, 30, 13740, 0], [2350, 30, 13740, 0], [2350, 29, 13741, 0], [2350, 29, 13741, 0], [2350, 28, 13742, 0], [2350, 28, 13742, 0], [2350, 28, 13742, 0], [2350, 28, 13742, 0], [2350, 28, 13742, 0], [2350, 28, 13742, 0], [2350, 28, 13742, 0], [2350, 28, 13742, 0], [2350, 28, 13742, 0], [2350, 28, 13742, 0], [2350, 28, 13742, 0], [2350, 28, 13742, 0], [2350, 28, 13742, 0], [2350, 28, 13742, 0], [2350, 27, 13743, 0], [2350, 27, 13743, 0], [2350, 27, 13743, 0], [2350, 27, 13743, 0], [2350, 27, 13743, 0], [2350, 27, 13743, 0], [2350, 27, 13743, 0], [2350, 27, 13743, 0], [2350, 26, 13744, 0], [2350, 26, 13744, 0], [2350, 26, 13744, 0], [2350, 26, 13744, 0], [2350, 26, 13744, 0], [2350, 26, 13744, 0], [2350, 25, 13745, 0], [2350, 25, 13745, 0], [2350, 25, 13745, 0], [2350, 24, 13746, 0], [2350, 24, 13746, 0], [2350, 23, 13747, 0], [2350, 23, 13747, 0], [2350, 23, 13747, 0], [2350, 23, 13747, 0], [2350, 23, 13747, 0], [2350, 23, 13747, 0], [2350, 22, 13748, 0], [2350, 21, 13749, 0], [2350, 21, 13749, 0], [2350, 21, 13749, 0], [2350, 21, 13749, 0], [2350, 18, 13752, 0], [2350, 18, 13752, 0], [2350, 17, 13753, 0], [2350, 17, 13753, 0], [2350, 14, 13756, 0], [2350, 9, 13761, 0], [0, 0, 13770, 2350]]], \"percentile_tables\": [[[13770, 2350, 0, 0], [13770, 2350, 0, 0], [13770, 2350, 0, 0], [13770, 2350, 0, 0], [13770, 2350, 0, 0], [13770, 2350, 0, 0], [13770, 2350, 0, 0], [13770, 2350, 0, 0], [13770, 2350, 0, 0], [13770, 2350, 0, 0], [13770, 2350, 0, 0], [13770, 2350, 0, 0], [13770, 2350, 0, 0], [13770, 2350, 0, 0], [13770, 2350, 0, 0], [13770, 2350, 0, 0], [13770, 2350, 0, 0], [13770, 2350, 0, 0], [13770, 2350, 0, 0], [13770, 2350, 0, 0], [13770, 2350, 0, 0], [13770, 2350, 0, 0], [13770, 2350, 0, 0], [13770, 2350, 0, 0], [13770, 2350, 0, 0], [13770, 2350, 0, 0], [13770, 2350, 0, 0], [13770, 2350, 0, 0], [13770, 2350, 0, 0], [13770, 2350, 0, 0], [13770, 2350, 0, 0], [13770, 2350, 0, 0], [13770, 2350, 0, 0], [13770, 2350, 0, 0], [13770, 2350, 0, 0], [13770, 2350, 0, 0], [13770, 2350, 0, 0], [13770, 2350, 0, 0], [13770, 2350, 0, 0], [13770, 2350, 0, 0], [13770, 2350, 0, 0], [13770, 2350, 0, 0], [13770, 2215, 135, 0], [13770, 1903, 447, 0], [13770, 1595, 755, 0], [13770, 1279, 1071, 0], [13770, 954, 1396, 0], [13770, 630, 1720, 0], [13770, 314, 2036, 0], [13770, 0, 2350, 0], [13608, 0, 2350, 162], [13576, 0, 2350, 194], [13568, 0, 2350, 202], [13559, 0, 2350, 211], [13550, 0, 2350, 220], [13544, 0, 2350, 226], [13534, 0, 2350, 236], [13526, 0, 2350, 244], [13354, 0, 2350, 416], [13074, 0, 2350, 696], [12706, 0, 2350, 1064], [12410, 0, 2350, 1360], [12356, 0, 2350, 1414], [12236, 0, 2350, 1534], [12236, 0, 2350, 1534], [12236, 0, 2350, 1534], [12236, 0, 2350, 1534], [12236, 0, 2350, 1534], [8364, 0, 2350, 5406], [12236, 0, 2350, 1534], [12236, 0, 2350, 1534], [12236, 0, 2350, 1534], [12236, 0, 2350, 1534], [12236, 0, 2350, 1534], [8364, 0, 2350, 5406], [12236, 0, 2350, 1534], [12236, 0, 2350, 1534], [12236, 0, 2350, 1534], [12236, 0, 2350, 1534], [12236, 0, 2350, 1534], [12236, 0, 2350, 1534], [8364, 0, 2350, 5406], [12236, 0, 2350, 1534], [12236, 0, 2350, 1534], [12236, 0, 2350, 1534], [12236, 0, 2350, 1534], [12236, 0, 2350, 1534], [8364, 0, 2350, 5406], [12236, 0, 2350, 1534], [12236, 0, 2350, 1534], [12236, 0, 2350, 1534], [12236, 0, 2350, 1534], [12236, 0, 2350, 1534], [12236, 0, 2350, 1534], [8364, 0, 2350, 5406], [12236, 0, 2350, 1534], [12236, 0, 2350, 1534], [12236, 0, 2350, 1534], [4343, 0, 2350, 9427], [3, 0, 2350, 13767]], [[2350, 13770, 0, 0], [2350, 13537, 233, 0], [2350, 13486, 284, 0], [2350, 9614, 4156, 0], [2350, 13486, 284, 0], [2350, 13486, 284, 0], [2350, 13486, 284, 0], [2350, 13486, 284, 0], [2350, 13486, 284, 0], [2350, 13486, 284, 0], [2350, 13486, 284, 0], [2350, 13486, 284, 0], [2350, 13486, 284, 0], [2350, 13486, 284, 0], [2350, 13486, 284, 0], [2350, 13486, 284, 0], [2350, 13486, 284, 0], [2350, 9614, 4156, 0], [2350, 13486, 284, 0], [2350, 13486, 284, 0], [2350, 9614, 4156, 0], [2350, 13486, 284, 0], [2350, 13486, 284, 0], [2350, 13486, 284, 0], [2350, 13486, 284, 0], [2350, 13486, 284, 0], [2350, 13486, 284, 0], [2350, 13486, 284, 0], [2350, 13486, 284, 0], [2350, 13486, 284, 0], [2350, 13486, 284, 0], [2350, 13486, 284, 0], [2350, 13486, 284, 0], [2350, 9614, 4156, 0], [2350, 13486, 284, 0], [2350, 13486, 284, 0], [2350, 13486, 284, 0], [2350, 9588, 4182, 0], [2350, 5407, 8363, 0], [2350, 1146, 12624, 0], [2350, 753, 13017, 0], [2350, 430, 13340, 0], [2350, 244, 13526, 0], [2350, 236, 13534, 0], [2350, 226, 13544, 0], [2350, 220, 13550, 0], [2350, 211, 13559, 0], [2350, 202, 13568, 0], [2350, 194, 13576, 0], [2350, 162, 13608, 0], [2350, 0, 13770, 0], [2077, 0, 13770, 273], [1772, 0, 13770, 578], [1445, 0, 13770, 905], [1125, 0, 13770, 1225], [813, 0, 13770, 1537], [492, 0, 13770, 1858], [165, 0, 13770, 2185], [0, 0, 13770, 2350], [0, 0, 13770, 2350], [0, 0, 13770, 2350], [0, 0, 13770, 2350], [0, 0, 13770, 2350], [0, 0, 13770, 2350], [0, 0, 13770, 2350], [0, 0, 13770, 2350], [0, 0, 13770, 2350], [0, 0, 13770, 2350], [0, 0, 13770, 2350], [0, 0, 13770, 2350], [0, 0, 13770, 2350], [0, 0, 13770, 2350], [0, 0, 13770, 2350], [0, 0, 13770, 2350], [0, 0, 13770, 2350], [0, 0, 13770, 2350], [0, 0, 13770, 2350], [0, 0, 13770, 2350], [0, 0, 13770, 2350], [0, 0, 13770, 2350], [0, 0, 13770, 2350], [0, 0, 13770, 2350], [0, 0, 13770, 2350], [0, 0, 13770, 2350], [0, 0, 13770, 2350], [0, 0, 13770, 2350], [0, 0, 13770, 2350], [0, 0, 13770, 2350], [0, 0, 13770, 2350], [0, 0, 13770, 2350], [0, 0, 13770, 2350], [0, 0, 13770, 2350], [0, 0, 13770, 2350], [0, 0, 13770, 2350], [0, 0, 13770, 2350], [0, 0, 13770, 2350], [0, 0, 13770, 2350], [0, 0, 13770, 2350], [0, 0, 13770, 2350], [0, 0, 13770, 2350]]], \"probability_thresholds\": [0.0, 0.010101010101010102, 0.020202020202020204, 0.030303030303030304, 0.04040404040404041, 0.05050505050505051, 0.06060606060606061, 0.07070707070707072, 0.08080808080808081, 0.09090909090909091, 0.10101010101010102, 0.11111111111111112, 0.12121212121212122, 0.13131313131313133, 0.14141414141414144, 0.15151515151515152, 0.16161616161616163, 0.17171717171717174, 0.18181818181818182, 0.19191919191919193, 0.20202020202020204, 0.21212121212121213, 0.22222222222222224, 0.23232323232323235, 0.24242424242424243, 0.25252525252525254, 0.26262626262626265, 0.27272727272727276, 0.2828282828282829, 0.29292929292929293, 0.30303030303030304, 0.31313131313131315, 0.32323232323232326, 0.33333333333333337, 0.3434343434343435, 0.3535353535353536, 0.36363636363636365, 0.37373737373737376, 0.38383838383838387, 0.393939393939394, 0.4040404040404041, 0.4141414141414142, 0.42424242424242425, 0.43434343434343436, 0.4444444444444445, 0.4545454545454546, 0.4646464646464647, 0.4747474747474748, 0.48484848484848486, 0.494949494949495, 0.5050505050505051, 0.5151515151515152, 0.5252525252525253, 0.5353535353535354, 0.5454545454545455, 0.5555555555555556, 0.5656565656565657, 0.5757575757575758, 0.5858585858585859, 0.595959595959596, 0.6060606060606061, 0.6161616161616162, 0.6262626262626263, 0.6363636363636365, 0.6464646464646465, 0.6565656565656566, 0.6666666666666667, 0.6767676767676768, 0.686868686868687, 0.696969696969697, 0.7070707070707072, 0.7171717171717172, 0.7272727272727273, 0.7373737373737375, 0.7474747474747475, 0.7575757575757577, 0.7676767676767677, 0.7777777777777778, 0.787878787878788, 0.797979797979798, 0.8080808080808082, 0.8181818181818182, 0.8282828282828284, 0.8383838383838385, 0.8484848484848485, 0.8585858585858587, 0.8686868686868687, 0.8787878787878789, 0.888888888888889, 0.8989898989898991, 0.9090909090909092, 0.9191919191919192, 0.9292929292929294, 0.9393939393939394, 0.9494949494949496, 0.9595959595959597, 0.9696969696969697, 0.9797979797979799, 0.98989898989899, 1.0], \"percentile_thresholds\": [3.840818530037155e-06, 6.535405151901421e-06, 6.535405151901421e-06, 6.535405151901421e-06, 6.535405151901421e-06, 6.535405151901421e-06, 6.535405151901421e-06, 6.535405151901421e-06, 6.535405151901421e-06, 6.535405151901421e-06, 6.535405151901421e-06, 6.535405151901421e-06, 6.535405151901421e-06, 6.535405151901421e-06, 6.535405151901421e-06, 6.535405151901421e-06, 6.535405151901421e-06, 6.535405151901421e-06, 6.535405151901421e-06, 6.535405151901421e-06, 6.535405151901421e-06, 6.535405151901421e-06, 6.535405151901421e-06, 6.535405151901421e-06, 6.535405151901421e-06, 6.535405151901421e-06, 6.535405151901421e-06, 6.535405151901421e-06, 6.535405151901421e-06, 6.535405151901421e-06, 6.535405151901421e-06, 6.535405151901421e-06, 6.535405151901421e-06, 6.535405151901421e-06, 6.535405151901421e-06, 6.535405151901421e-06, 6.535405151901421e-06, 6.535405151901421e-06, 6.535808261419862e-06, 8.078532036293239e-06, 1.2185036098810703e-05, 2.1696971187763684e-05, 4.5637548555244045e-05, 5.0957503114013036e-05, 5.272395381694661e-05, 5.729504104678984e-05, 5.915391228517031e-05, 6.21606077785275e-05, 6.857454933362206e-05, 0.0001077254890772328, 0.9998922745109228, 0.9999314254506664, 0.9999378393922215, 0.9999408460877148, 0.9999427049589532, 0.9999472760461829, 0.999949042496886, 0.9999543624514448, 0.9999783030288122, 0.9999878149639012, 0.9999919214679638, 0.9999934641917386, 0.9999934645948481, 0.9999934645948481, 0.9999934645948481, 0.9999934645948481, 0.9999934645948481, 0.9999934645948481, 0.9999934645948481, 0.9999934645948481, 0.9999934645948481, 0.9999934645948481, 0.9999934645948481, 0.9999934645948481, 0.9999934645948481, 0.9999934645948481, 0.9999934645948481, 0.9999934645948481, 0.9999934645948481, 0.9999934645948481, 0.9999934645948481, 0.9999934645948481, 0.9999934645948481, 0.9999934645948481, 0.9999934645948481, 0.9999934645948481, 0.9999934645948481, 0.9999934645948481, 0.9999934645948481, 0.9999934645948481, 0.9999934645948481, 0.9999934645948481, 0.9999934645948481, 0.9999934645948481, 0.9999934645948481, 0.9999934645948481, 0.9999934645948481, 0.9999934645948481, 0.9999934645948481, 0.99999615918147], \"class_labels\": [\"0\", \"1\"]}}]}]}, {\"name\": \"confusion_matrix\", \"run_id\": \"AutoML_05af2ba7-1474-4411-86bb-cddaec43b952_0\", \"categories\": [0], \"series\": [{\"data\": [{\"schema_type\": \"confusion_matrix\", \"schema_version\": \"1.0.0\", \"data\": {\"class_labels\": [\"0\", \"1\"], \"matrix\": [[13742, 28], [0, 2350]]}}]}]}, {\"name\": \"model_explanation\", \"run_id\": \"AutoML_05af2ba7-1474-4411-86bb-cddaec43b952_0\", \"categories\": [0], \"series\": [{\"data\": [{\"class_labels\": [0, 1], \"overall_summary\": [1.5963412722892478, 0.3178721199477233, 0.08308167722550548, 0.08223216046348765, 0.07239546048123133, 0.0683066087285378, 0.05975882910562825, 0.05789279009016938, 0.05560099479157965, 0.04671866601148706, 0.04306060106507552, 0.038787488447778226, 0.03805407742362004, 0.03420855872344624, 0.02345012132298356, 0.021432805327722362, 0.017819292125902032, 0.01766732338802839, 0.016106119310901224, 0.014280791072638627, 0.014169160518269245, 0.013682562581896065, 0.013635697825195603, 0.01339621272612533, 0.01118325047243074, 0.011083490124369627, 0.01045713968307646, 0.010150578436318974, 0.009543028782056609, 0.00903522441544737, 0.007930837486093807, 0.007582253208216457, 0.007332370818081891, 0.007075993303985773, 0.007026042774914309, 0.006932194139646451, 0.0064606905502998455, 0.006120805175653854, 0.0055750104523793545, 0.005529345821968918, 0.005274584798435107, 0.005035660441827457, 0.004795992055578581, 0.0047405783022397485, 0.0045731784489757114, 0.004195655768744405, 0.004130835485473579, 0.004043295689361554, 0.003939731491983602, 0.0038399928730856615, 0.0037887173302726886, 0.0036078912795507513, 0.003467453960504943, 0.003246908461673625, 0.0032395521000642006, 0.003227905739382939, 0.00322141347160669, 0.0032054427188267596, 0.003188589500147028, 0.0030427276768041347, 0.002924484059316133, 0.0029213491997898194, 0.0028663413503492614, 0.0028319438031917583, 0.0027970587941496647, 0.00277659959009504, 0.0027663498134172263, 0.00275627798342349, 0.002619560202813061, 0.0025914533329134477, 0.002558735699203025, 0.0025576042100491515, 0.002457394031016814, 0.002382869185053097, 0.0023244360598189827, 0.0022887764746797623, 0.002276669992497795, 0.0022512713147122896, 0.0022103714606935723, 0.0021848091064874536, 0.002164962261148537, 0.002073193062344878, 0.002052924924582168, 0.001995067930648682, 0.0019877699297757008, 0.0019191200380302604, 0.0018657216745500609, 0.001857840926820775, 0.0018562350611458502, 0.0018558588209637553, 0.0018310165132107703, 0.001820007006012699, 0.001791475851251509, 0.0017072992590642382, 0.0016601564053462198, 0.0016499329669136266, 0.0016357224141754034, 0.0015990491886457984, 0.001538466926809847, 0.0015331031637085529], \"overall_imp\": [\"keywords_WordGramTfIdf_christmas\", \"overview_WordGramTfIdf_christmas\", \"keywords_CharGramTfIdf_is \", \"overview_CharGramTfIdf_stm\", \"overview_WordGramTfIdf_when\", \"overview_WordGramTfIdf_commuter peter\", \"overview_WordGramTfIdf_to\", \"overview_WordGramTfIdf_after femme\", \"overview_WordGramTfIdf_castaway unfinished\", \"tagline_HashOneHotEncoder_4181\", \"overview_CharGramTfIdf_ ho\", \"overview_CharGramTfIdf_tan\", \"keywords_CharGramTfIdf_as,\", \"overview_CharGramTfIdf_the\", \"overview_CharGramTfIdf_o h\", \"overview_CharGramTfIdf_ sc\", \"keywords_CharGramTfIdf_,ch\", \"overview_CharGramTfIdf_o s\", \"overview_CharGramTfIdf_ he\", \"overview_CharGramTfIdf_ a \", \"overview_CharGramTfIdf_ere\", \"overview_CharGramTfIdf_ear\", \"keywords_CharGramTfIdf_stm\", \"overview_CharGramTfIdf_n t\", \"keywords_CharGramTfIdf_the\", \"overview_CharGramTfIdf_rin\", \"keywords_CharGramTfIdf_ta \", \"overview_CharGramTfIdf_ fr\", \"overview_WordGramTfIdf_she\", \"overview_CharGramTfIdf_ida\", \"runtime_MeanImputer\", \"release_year_MeanImputer\", \"overview_CharGramTfIdf_ wh\", \"overview_CharGramTfIdf_ll \", \"keywords_WordGramTfIdf_santa\", \"overview_CharGramTfIdf_er \", \"overview_CharGramTfIdf_lea\", \"keywords_WordGramTfIdf_holiday\", \"overview_CharGramTfIdf_and\", \"overview_CharGramTfIdf_ un\", \"overview_CharGramTfIdf_sto\", \"overview_CharGramTfIdf_end\", \"keywords_CharGramTfIdf_,po\", \"overview_CharGramTfIdf_s e\", \"overview_CharGramTfIdf_ge \", \"overview_CharGramTfIdf_som\", \"overview_CharGramTfIdf_ in\", \"Is Fantasy_MeanImputer\", \"overview_CharGramTfIdf_her\", \"overview_CharGramTfIdf_cha\", \"overview_CharGramTfIdf_ ev\", \"overview_CharGramTfIdf_rs \", \"keywords_CharGramTfIdf_as \", \"overview_CharGramTfIdf_ger\", \"release_date_ModeCatImputer_DayOfYear\", \"keywords_CharGramTfIdf_chr\", \"keywords_CharGramTfIdf_ist\", \"overview_CharGramTfIdf_ jo\", \"overview_CharGramTfIdf_ng \", \"keywords_WordGramTfIdf_custody\", \"overview_CharGramTfIdf_rt \", \"overview_CharGramTfIdf_y. \", \"overview_CharGramTfIdf_ ac\", \"overview_WordGramTfIdf_find\", \"overview_CharGramTfIdf_s t\", \"keywords_CharGramTfIdf_tio\", \"overview_CharGramTfIdf_bec\", \"overview_CharGramTfIdf_l a\", \"overview_CharGramTfIdf_mas\", \"overview_CharGramTfIdf_ly \", \"overview_CharGramTfIdf_e d\", \"overview_CharGramTfIdf_an \", \"overview_WordGramTfIdf_the\", \"overview_CharGramTfIdf_ce \", \"overview_CharGramTfIdf_hen\", \"overview_CharGramTfIdf_st \", \"overview_CharGramTfIdf_ ca\", \"overview_CharGramTfIdf_re \", \"overview_CharGramTfIdf_fal\", \"keywords_CharGramTfIdf_tma\", \"overview_CharGramTfIdf_oma\", \"overview_CharGramTfIdf_how\", \"keywords_CharGramTfIdf_ght\", \"overview_CharGramTfIdf_ ad\", \"overview_CharGramTfIdf_ost\", \"overview_WordGramTfIdf_eve\", \"release_date_ModeCatImputer_Day\", \"overview_CharGramTfIdf_jus\", \"keywords_WordGramTfIdf_claus\", \"overview_CharGramTfIdf_n h\", \"overview_CharGramTfIdf_ard\", \"keywords_CharGramTfIdf_l,g\", \"overview_CharGramTfIdf_ve \", \"overview_CharGramTfIdf_ al\", \"overview_WordGramTfIdf_in\", \"keywords_CharGramTfIdf_ng,\", \"overview_CharGramTfIdf_e s\", \"overview_CharGramTfIdf_ave\", \"overview_CharGramTfIdf_e i\", \"overview_CharGramTfIdf_ an\"], \"per_class_summary\": [[1.5963412722892478, 0.3178721199477233, 0.08308167722550548, 0.08223216046348765, 0.07239546048123133, 0.0683066087285378, 0.05975882910562825, 0.05789279009016938, 0.05560099479157965, 0.04671866601148706, 0.04306060106507552, 0.038787488447778226, 0.03805407742362004, 0.03420855872344624, 0.02345012132298356, 0.021432805327722362, 0.017819292125902032, 0.01766732338802839, 0.016106119310901224, 0.014280791072638627, 0.014169160518269245, 0.013682562581896065, 0.013635697825195603, 0.01339621272612533, 0.01118325047243074, 0.011083490124369627, 0.01045713968307646, 0.010150578436318974, 0.009543028782056609, 0.00903522441544737, 0.007930837486093807, 0.007582253208216457, 0.007332370818081891, 0.007075993303985773, 0.007026042774914309, 0.006932194139646451, 0.0064606905502998455, 0.006120805175653854, 0.0055750104523793545, 0.005529345821968918, 0.005274584798435107, 0.005035660441827457, 0.004795992055578581, 0.0047405783022397485, 0.0045731784489757114, 0.004195655768744405, 0.004130835485473579, 0.004043295689361554, 0.003939731491983602, 0.0038399928730856615, 0.0037887173302726886, 0.0036078912795507513, 0.003467453960504943, 0.003246908461673625, 0.0032395521000642006, 0.003227905739382939, 0.00322141347160669, 0.0032054427188267596, 0.003188589500147028, 0.0030427276768041347, 0.002924484059316133, 0.0029213491997898194, 0.0028663413503492614, 0.0028319438031917583, 0.0027970587941496647, 0.00277659959009504, 0.0027663498134172263, 0.00275627798342349, 0.002619560202813061, 0.0025914533329134477, 0.002558735699203025, 0.0025576042100491515, 0.002457394031016814, 0.002382869185053097, 0.0023244360598189827, 0.0022887764746797623, 0.002276669992497795, 0.0022512713147122896, 0.0022103714606935723, 0.0021848091064874536, 0.002164962261148537, 0.002073193062344878, 0.002052924924582168, 0.001995067930648682, 0.0019877699297757008, 0.0019191200380302604, 0.0018657216745500609, 0.001857840926820775, 0.0018562350611458502, 0.0018558588209637553, 0.0018310165132107703, 0.001820007006012699, 0.001791475851251509, 0.0017072992590642382, 0.0016601564053462198, 0.0016499329669136266, 0.0016357224141754034, 0.0015990491886457984, 0.001538466926809847, 0.0015331031637085529], [1.5963412722892478, 0.3178721199477233, 0.08308167722550548, 0.08223216046348765, 0.07239546048123133, 0.0683066087285378, 0.05975882910562825, 0.05789279009016938, 0.05560099479157965, 0.04671866601148706, 0.04306060106507552, 0.038787488447778226, 0.03805407742362004, 0.03420855872344624, 0.02345012132298356, 0.021432805327722362, 0.017819292125902032, 0.01766732338802839, 0.016106119310901224, 0.014280791072638627, 0.014169160518269245, 0.013682562581896065, 0.013635697825195603, 0.01339621272612533, 0.01118325047243074, 0.011083490124369627, 0.01045713968307646, 0.010150578436318974, 0.009543028782056609, 0.00903522441544737, 0.007930837486093807, 0.007582253208216457, 0.007332370818081891, 0.007075993303985773, 0.007026042774914309, 0.006932194139646451, 0.0064606905502998455, 0.006120805175653854, 0.0055750104523793545, 0.005529345821968918, 0.005274584798435107, 0.005035660441827457, 0.004795992055578581, 0.0047405783022397485, 0.0045731784489757114, 0.004195655768744405, 0.004130835485473579, 0.004043295689361554, 0.003939731491983602, 0.0038399928730856615, 0.0037887173302726886, 0.0036078912795507513, 0.003467453960504943, 0.003246908461673625, 0.0032395521000642006, 0.003227905739382939, 0.00322141347160669, 0.0032054427188267596, 0.003188589500147028, 0.0030427276768041347, 0.002924484059316133, 0.0029213491997898194, 0.0028663413503492614, 0.0028319438031917583, 0.0027970587941496647, 0.00277659959009504, 0.0027663498134172263, 0.00275627798342349, 0.002619560202813061, 0.0025914533329134477, 0.002558735699203025, 0.0025576042100491515, 0.002457394031016814, 0.002382869185053097, 0.0023244360598189827, 0.0022887764746797623, 0.002276669992497795, 0.0022512713147122896, 0.0022103714606935723, 0.0021848091064874536, 0.002164962261148537, 0.002073193062344878, 0.002052924924582168, 0.001995067930648682, 0.0019877699297757008, 0.0019191200380302604, 0.0018657216745500609, 0.001857840926820775, 0.0018562350611458502, 0.0018558588209637553, 0.0018310165132107703, 0.001820007006012699, 0.001791475851251509, 0.0017072992590642382, 0.0016601564053462198, 0.0016499329669136266, 0.0016357224141754034, 0.0015990491886457984, 0.001538466926809847, 0.0015331031637085529]], \"per_class_imp\": [[\"keywords_WordGramTfIdf_christmas\", \"overview_WordGramTfIdf_christmas\", \"keywords_CharGramTfIdf_is \", \"overview_CharGramTfIdf_stm\", \"overview_WordGramTfIdf_when\", \"overview_WordGramTfIdf_commuter peter\", \"overview_WordGramTfIdf_to\", \"overview_WordGramTfIdf_after femme\", \"overview_WordGramTfIdf_castaway unfinished\", \"tagline_HashOneHotEncoder_4181\", \"overview_CharGramTfIdf_ ho\", \"overview_CharGramTfIdf_tan\", \"keywords_CharGramTfIdf_as,\", \"overview_CharGramTfIdf_the\", \"overview_CharGramTfIdf_o h\", \"overview_CharGramTfIdf_ sc\", \"keywords_CharGramTfIdf_,ch\", \"overview_CharGramTfIdf_o s\", \"overview_CharGramTfIdf_ he\", \"overview_CharGramTfIdf_ a \", \"overview_CharGramTfIdf_ere\", \"overview_CharGramTfIdf_ear\", \"keywords_CharGramTfIdf_stm\", \"overview_CharGramTfIdf_n t\", \"keywords_CharGramTfIdf_the\", \"overview_CharGramTfIdf_rin\", \"keywords_CharGramTfIdf_ta \", \"overview_CharGramTfIdf_ fr\", \"overview_WordGramTfIdf_she\", \"overview_CharGramTfIdf_ida\", \"runtime_MeanImputer\", \"release_year_MeanImputer\", \"overview_CharGramTfIdf_ wh\", \"overview_CharGramTfIdf_ll \", \"keywords_WordGramTfIdf_santa\", \"overview_CharGramTfIdf_er \", \"overview_CharGramTfIdf_lea\", \"keywords_WordGramTfIdf_holiday\", \"overview_CharGramTfIdf_and\", \"overview_CharGramTfIdf_ un\", \"overview_CharGramTfIdf_sto\", \"overview_CharGramTfIdf_end\", \"keywords_CharGramTfIdf_,po\", \"overview_CharGramTfIdf_s e\", \"overview_CharGramTfIdf_ge \", \"overview_CharGramTfIdf_som\", \"overview_CharGramTfIdf_ in\", \"Is Fantasy_MeanImputer\", \"overview_CharGramTfIdf_her\", \"overview_CharGramTfIdf_cha\", \"overview_CharGramTfIdf_ ev\", \"overview_CharGramTfIdf_rs \", \"keywords_CharGramTfIdf_as \", \"overview_CharGramTfIdf_ger\", \"release_date_ModeCatImputer_DayOfYear\", \"keywords_CharGramTfIdf_chr\", \"keywords_CharGramTfIdf_ist\", \"overview_CharGramTfIdf_ jo\", \"overview_CharGramTfIdf_ng \", \"keywords_WordGramTfIdf_custody\", \"overview_CharGramTfIdf_rt \", \"overview_CharGramTfIdf_y. \", \"overview_CharGramTfIdf_ ac\", \"overview_WordGramTfIdf_find\", \"overview_CharGramTfIdf_s t\", \"keywords_CharGramTfIdf_tio\", \"overview_CharGramTfIdf_bec\", \"overview_CharGramTfIdf_l a\", \"overview_CharGramTfIdf_mas\", \"overview_CharGramTfIdf_ly \", \"overview_CharGramTfIdf_e d\", \"overview_CharGramTfIdf_an \", \"overview_WordGramTfIdf_the\", \"overview_CharGramTfIdf_ce \", \"overview_CharGramTfIdf_hen\", \"overview_CharGramTfIdf_st \", \"overview_CharGramTfIdf_ ca\", \"overview_CharGramTfIdf_re \", \"overview_CharGramTfIdf_fal\", \"keywords_CharGramTfIdf_tma\", \"overview_CharGramTfIdf_oma\", \"overview_CharGramTfIdf_how\", \"keywords_CharGramTfIdf_ght\", \"overview_CharGramTfIdf_ ad\", \"overview_CharGramTfIdf_ost\", \"overview_WordGramTfIdf_eve\", \"release_date_ModeCatImputer_Day\", \"overview_CharGramTfIdf_jus\", \"keywords_WordGramTfIdf_claus\", \"overview_CharGramTfIdf_n h\", \"overview_CharGramTfIdf_ard\", \"keywords_CharGramTfIdf_l,g\", \"overview_CharGramTfIdf_ve \", \"overview_CharGramTfIdf_ al\", \"overview_WordGramTfIdf_in\", \"keywords_CharGramTfIdf_ng,\", \"overview_CharGramTfIdf_e s\", \"overview_CharGramTfIdf_ave\", \"overview_CharGramTfIdf_e i\", \"overview_CharGramTfIdf_ an\"], [\"keywords_WordGramTfIdf_christmas\", \"overview_WordGramTfIdf_christmas\", \"keywords_CharGramTfIdf_is \", \"overview_CharGramTfIdf_stm\", \"overview_WordGramTfIdf_when\", \"overview_WordGramTfIdf_commuter peter\", \"overview_WordGramTfIdf_to\", \"overview_WordGramTfIdf_after femme\", \"overview_WordGramTfIdf_castaway unfinished\", \"tagline_HashOneHotEncoder_4181\", \"overview_CharGramTfIdf_ ho\", \"overview_CharGramTfIdf_tan\", \"keywords_CharGramTfIdf_as,\", \"overview_CharGramTfIdf_the\", \"overview_CharGramTfIdf_o h\", \"overview_CharGramTfIdf_ sc\", \"keywords_CharGramTfIdf_,ch\", \"overview_CharGramTfIdf_o s\", \"overview_CharGramTfIdf_ he\", \"overview_CharGramTfIdf_ a \", \"overview_CharGramTfIdf_ere\", \"overview_CharGramTfIdf_ear\", \"keywords_CharGramTfIdf_stm\", \"overview_CharGramTfIdf_n t\", \"keywords_CharGramTfIdf_the\", \"overview_CharGramTfIdf_rin\", \"keywords_CharGramTfIdf_ta \", \"overview_CharGramTfIdf_ fr\", \"overview_WordGramTfIdf_she\", \"overview_CharGramTfIdf_ida\", \"runtime_MeanImputer\", \"release_year_MeanImputer\", \"overview_CharGramTfIdf_ wh\", \"overview_CharGramTfIdf_ll \", \"keywords_WordGramTfIdf_santa\", \"overview_CharGramTfIdf_er \", \"overview_CharGramTfIdf_lea\", \"keywords_WordGramTfIdf_holiday\", \"overview_CharGramTfIdf_and\", \"overview_CharGramTfIdf_ un\", \"overview_CharGramTfIdf_sto\", \"overview_CharGramTfIdf_end\", \"keywords_CharGramTfIdf_,po\", \"overview_CharGramTfIdf_s e\", \"overview_CharGramTfIdf_ge \", \"overview_CharGramTfIdf_som\", \"overview_CharGramTfIdf_ in\", \"Is Fantasy_MeanImputer\", \"overview_CharGramTfIdf_her\", \"overview_CharGramTfIdf_cha\", \"overview_CharGramTfIdf_ ev\", \"overview_CharGramTfIdf_rs \", \"keywords_CharGramTfIdf_as \", \"overview_CharGramTfIdf_ger\", \"release_date_ModeCatImputer_DayOfYear\", \"keywords_CharGramTfIdf_chr\", \"keywords_CharGramTfIdf_ist\", \"overview_CharGramTfIdf_ jo\", \"overview_CharGramTfIdf_ng \", \"keywords_WordGramTfIdf_custody\", \"overview_CharGramTfIdf_rt \", \"overview_CharGramTfIdf_y. \", \"overview_CharGramTfIdf_ ac\", \"overview_WordGramTfIdf_find\", \"overview_CharGramTfIdf_s t\", \"keywords_CharGramTfIdf_tio\", \"overview_CharGramTfIdf_bec\", \"overview_CharGramTfIdf_l a\", \"overview_CharGramTfIdf_mas\", \"overview_CharGramTfIdf_ly \", \"overview_CharGramTfIdf_e d\", \"overview_CharGramTfIdf_an \", \"overview_WordGramTfIdf_the\", \"overview_CharGramTfIdf_ce \", \"overview_CharGramTfIdf_hen\", \"overview_CharGramTfIdf_st \", \"overview_CharGramTfIdf_ ca\", \"overview_CharGramTfIdf_re \", \"overview_CharGramTfIdf_fal\", \"keywords_CharGramTfIdf_tma\", \"overview_CharGramTfIdf_oma\", \"overview_CharGramTfIdf_how\", \"keywords_CharGramTfIdf_ght\", \"overview_CharGramTfIdf_ ad\", \"overview_CharGramTfIdf_ost\", \"overview_WordGramTfIdf_eve\", \"release_date_ModeCatImputer_Day\", \"overview_CharGramTfIdf_jus\", \"keywords_WordGramTfIdf_claus\", \"overview_CharGramTfIdf_n h\", \"overview_CharGramTfIdf_ard\", \"keywords_CharGramTfIdf_l,g\", \"overview_CharGramTfIdf_ve \", \"overview_CharGramTfIdf_ al\", \"overview_WordGramTfIdf_in\", \"keywords_CharGramTfIdf_ng,\", \"overview_CharGramTfIdf_e s\", \"overview_CharGramTfIdf_ave\", \"overview_CharGramTfIdf_e i\", \"overview_CharGramTfIdf_ an\"]]}]}]}], \"run_logs\": \"\\nRun is completed.\", \"graph\": {\"module_nodes\": {\"ef93ca82\": {\"node_id\": \"ef93ca82\", \"name\": \"MaxAbsScaler\", \"status\": \"model\"}, \"5e593c0e\": {\"node_id\": \"5e593c0e\", \"name\": \"LightGBMClassifier\", \"status\": \"model\"}, \"8ecb55f7\": {\"node_id\": \"8ecb55f7\", \"name\": \"Numeric\", \"status\": \"dataType\"}, \"b03be51c\": {\"node_id\": \"b03be51c\", \"name\": \"MeanImputer\", \"status\": \"operation\"}, \"6d413531\": {\"node_id\": \"6d413531\", \"name\": \"Ignore\", \"status\": \"dataType\"}, \"bbb1ac90\": {\"node_id\": \"bbb1ac90\", \"name\": \"Text\", \"status\": \"dataType\"}, \"89fa1c3c\": {\"node_id\": \"89fa1c3c\", \"name\": \"StringCast-CharGramTfIdf\", \"status\": \"operation\"}, \"8ad760d7\": {\"node_id\": \"8ad760d7\", \"name\": \"StringCast-WordGramTfIdf\", \"status\": \"operation\"}, \"68926052\": {\"node_id\": \"68926052\", \"name\": \"DateTime\", \"status\": \"dataType\"}, \"66f29fd1\": {\"node_id\": \"66f29fd1\", \"name\": \"ModeCatImputer-StringCast-DateTimeTransformer\", \"status\": \"operation\"}, \"6f3131b1\": {\"node_id\": \"6f3131b1\", \"name\": \"CategoricalHash\", \"status\": \"dataType\"}, \"1e5938fe\": {\"node_id\": \"1e5938fe\", \"name\": \"StringCast-HashOneHotEncoder\", \"status\": \"operation\"}}, \"edges\": [{\"source_node_id\": \"ef93ca82\", \"source_node_name\": \"\", \"source_name\": \"\", \"target_name\": \"\", \"dst_node_id\": \"5e593c0e\", \"dst_node_name\": \"\"}, {\"source_node_id\": \"d3986bd0\", \"source_node_name\": \"data_source\", \"source_name\": \"\", \"target_name\": \"24 col\", \"dst_node_id\": \"8ecb55f7\", \"dst_node_name\": \"Numeric\"}, {\"source_node_id\": \"8ecb55f7\", \"source_node_name\": \"\", \"source_name\": \"\", \"target_name\": \"\", \"dst_node_id\": \"b03be51c\", \"dst_node_name\": \"\"}, {\"source_node_id\": \"b03be51c\", \"source_node_name\": \"\", \"source_name\": \"\", \"target_name\": \"1 col\", \"dst_node_id\": \"ef93ca82\", \"dst_node_name\": \"\"}, {\"source_node_id\": \"d3986bd0\", \"source_node_name\": \"data_source\", \"source_name\": \"\", \"target_name\": \"1 col\", \"dst_node_id\": \"6d413531\", \"dst_node_name\": \"Ignore\"}, {\"source_node_id\": \"d3986bd0\", \"source_node_name\": \"data_source\", \"source_name\": \"\", \"target_name\": \"3 col\", \"dst_node_id\": \"bbb1ac90\", \"dst_node_name\": \"Text\"}, {\"source_node_id\": \"bbb1ac90\", \"source_node_name\": \"\", \"source_name\": \"\", \"target_name\": \"\", \"dst_node_id\": \"89fa1c3c\", \"dst_node_name\": \"\"}, {\"source_node_id\": \"8ad760d7\", \"source_node_name\": \"\", \"source_name\": \"\", \"target_name\": \"81217 col\", \"dst_node_id\": \"ef93ca82\", \"dst_node_name\": \"\"}, {\"source_node_id\": \"89fa1c3c\", \"source_node_name\": \"\", \"source_name\": \"\", \"target_name\": \"\", \"dst_node_id\": \"8ad760d7\", \"dst_node_name\": \"\"}, {\"source_node_id\": \"d3986bd0\", \"source_node_name\": \"data_source\", \"source_name\": \"\", \"target_name\": \"1 col\", \"dst_node_id\": \"68926052\", \"dst_node_name\": \"DateTime\"}, {\"source_node_id\": \"68926052\", \"source_node_name\": \"\", \"source_name\": \"\", \"target_name\": \"\", \"dst_node_id\": \"66f29fd1\", \"dst_node_name\": \"\"}, {\"source_node_id\": \"66f29fd1\", \"source_node_name\": \"\", \"source_name\": \"\", \"target_name\": \"10 col\", \"dst_node_id\": \"ef93ca82\", \"dst_node_name\": \"\"}, {\"source_node_id\": \"d3986bd0\", \"source_node_name\": \"data_source\", \"source_name\": \"\", \"target_name\": \"1 col\", \"dst_node_id\": \"6f3131b1\", \"dst_node_name\": \"CategoricalHash\"}, {\"source_node_id\": \"6f3131b1\", \"source_node_name\": \"\", \"source_name\": \"\", \"target_name\": \"\", \"dst_node_id\": \"1e5938fe\", \"dst_node_name\": \"\"}, {\"source_node_id\": \"1e5938fe\", \"source_node_name\": \"\", \"source_name\": \"\", \"target_name\": \"8192 col\", \"dst_node_id\": \"ef93ca82\", \"dst_node_name\": \"\"}], \"child_runs\": [], \"datasource_nodes\": {\"d3986bd0\": {\"node_id\": \"d3986bd0\", \"name\": \"data_source - 30 col\"}}}, \"widget_settings\": {\"childWidgetDisplay\": \"popup\", \"send_telemetry\": false, \"log_level\": \"INFO\", \"sdk_version\": \"1.40.0\"}, \"loading\": false}"
     },
     "metadata": {},
     "output_type": "display_data"
    }
   ],
   "source": [
    "# Grab the resulting model and best run\n",
    "best_auto_run, automl_model = run.get_output()\n",
    "\n",
    "# Display details about the best run\n",
    "RunDetails(best_auto_run).show()"
   ]
  },
  {
   "cell_type": "code",
   "execution_count": 24,
   "metadata": {},
   "outputs": [
    {
     "name": "stderr",
     "output_type": "stream",
     "text": [
      "INFO:interpret_community.common.explanation_utils:Using default datastore for uploads\n"
     ]
    }
   ],
   "source": [
    "# Save the best model locally\n",
    "best_auto_run.download_files(output_directory='automl-output')"
   ]
  },
  {
   "cell_type": "code",
   "execution_count": 35,
   "metadata": {},
   "outputs": [
    {
     "name": "stderr",
     "output_type": "stream",
     "text": [
      "INFO:interpret_community.common.explanation_utils:Using default datastore for uploads\n"
     ]
    }
   ],
   "source": [
    "# Register the model in Azure\n",
    "model = best_auto_run.register_model(model_name='ChristmasMovie-AutoML', \n",
    "                                     model_path='outputs/model.pkl', \n",
    "                                     description='Predict whether or not a movie is a Christmas movie')"
   ]
  },
  {
   "cell_type": "markdown",
   "metadata": {},
   "source": [
    "## Deploying the Model\n",
    "We can deploy the model to Azure as an Azure Container Instance (ACI) directly from code"
   ]
  },
  {
   "cell_type": "code",
   "execution_count": 37,
   "metadata": {},
   "outputs": [
    {
     "name": "stderr",
     "output_type": "stream",
     "text": [
      "INFO:interpret_community.common.explanation_utils:Using default datastore for uploads\n",
      "INFO:interpret_community.common.explanation_utils:Using default datastore for uploads\n",
      "INFO:interpret_community.common.explanation_utils:Using default datastore for uploads\n",
      "INFO:interpret_community.common.explanation_utils:Using default datastore for uploads\n",
      "INFO:interpret_community.common.explanation_utils:Using default datastore for uploads\n",
      "INFO:interpret_community.common.explanation_utils:Using default datastore for uploads\n",
      "INFO:interpret_community.common.explanation_utils:Using default datastore for uploads\n",
      "INFO:interpret_community.common.explanation_utils:Using default datastore for uploads\n"
     ]
    },
    {
     "name": "stdout",
     "output_type": "stream",
     "text": [
      "Tips: You can try get_logs(): https://aka.ms/debugimage#dockerlog or local deployment: https://aka.ms/debugimage#debug-locally to debug if deployment takes longer than 10 minutes.\n",
      "Running\n",
      "2022-08-30 01:05:19-04:00 Creating Container Registry if not exists."
     ]
    },
    {
     "name": "stderr",
     "output_type": "stream",
     "text": [
      "INFO:interpret_community.common.explanation_utils:Using default datastore for uploads\n",
      "INFO:interpret_community.common.explanation_utils:Using default datastore for uploads\n",
      "INFO:interpret_community.common.explanation_utils:Using default datastore for uploads\n",
      "INFO:interpret_community.common.explanation_utils:Using default datastore for uploads\n",
      "INFO:interpret_community.common.explanation_utils:Using default datastore for uploads\n",
      "INFO:interpret_community.common.explanation_utils:Using default datastore for uploads\n",
      "INFO:interpret_community.common.explanation_utils:Using default datastore for uploads\n",
      "INFO:interpret_community.common.explanation_utils:Using default datastore for uploads\n",
      "INFO:interpret_community.common.explanation_utils:Using default datastore for uploads\n",
      "INFO:interpret_community.common.explanation_utils:Using default datastore for uploads\n",
      "INFO:interpret_community.common.explanation_utils:Using default datastore for uploads\n",
      "INFO:interpret_community.common.explanation_utils:Using default datastore for uploads\n",
      "INFO:interpret_community.common.explanation_utils:Using default datastore for uploads\n",
      "INFO:interpret_community.common.explanation_utils:Using default datastore for uploads\n",
      "INFO:interpret_community.common.explanation_utils:Using default datastore for uploads\n",
      "INFO:interpret_community.common.explanation_utils:Using default datastore for uploads\n",
      "INFO:interpret_community.common.explanation_utils:Using default datastore for uploads\n"
     ]
    },
    {
     "name": "stdout",
     "output_type": "stream",
     "text": [
      ".\n",
      "2022-08-30 01:15:19-04:00 Registering the environment..\n",
      "2022-08-30 01:15:20-04:00 Building image."
     ]
    },
    {
     "name": "stderr",
     "output_type": "stream",
     "text": [
      "INFO:interpret_community.common.explanation_utils:Using default datastore for uploads\n",
      "INFO:interpret_community.common.explanation_utils:Using default datastore for uploads\n",
      "INFO:interpret_community.common.explanation_utils:Using default datastore for uploads\n",
      "INFO:interpret_community.common.explanation_utils:Using default datastore for uploads\n",
      "INFO:interpret_community.common.explanation_utils:Using default datastore for uploads\n",
      "INFO:interpret_community.common.explanation_utils:Using default datastore for uploads\n",
      "INFO:interpret_community.common.explanation_utils:Using default datastore for uploads\n",
      "INFO:interpret_community.common.explanation_utils:Using default datastore for uploads\n",
      "INFO:interpret_community.common.explanation_utils:Using default datastore for uploads\n",
      "INFO:interpret_community.common.explanation_utils:Using default datastore for uploads\n",
      "INFO:interpret_community.common.explanation_utils:Using default datastore for uploads\n",
      "INFO:interpret_community.common.explanation_utils:Using default datastore for uploads\n",
      "INFO:interpret_community.common.explanation_utils:Using default datastore for uploads\n",
      "INFO:interpret_community.common.explanation_utils:Using default datastore for uploads\n",
      "INFO:interpret_community.common.explanation_utils:Using default datastore for uploads\n",
      "INFO:interpret_community.common.explanation_utils:Using default datastore for uploads\n",
      "INFO:interpret_community.common.explanation_utils:Using default datastore for uploads\n",
      "INFO:interpret_community.common.explanation_utils:Using default datastore for uploads\n",
      "INFO:interpret_community.common.explanation_utils:Using default datastore for uploads\n",
      "INFO:interpret_community.common.explanation_utils:Using default datastore for uploads\n",
      "INFO:interpret_community.common.explanation_utils:Using default datastore for uploads\n",
      "INFO:interpret_community.common.explanation_utils:Using default datastore for uploads\n",
      "INFO:interpret_community.common.explanation_utils:Using default datastore for uploads\n",
      "INFO:interpret_community.common.explanation_utils:Using default datastore for uploads\n",
      "INFO:interpret_community.common.explanation_utils:Using default datastore for uploads\n",
      "INFO:interpret_community.common.explanation_utils:Using default datastore for uploads\n",
      "INFO:interpret_community.common.explanation_utils:Using default datastore for uploads\n",
      "INFO:interpret_community.common.explanation_utils:Using default datastore for uploads\n",
      "INFO:interpret_community.common.explanation_utils:Using default datastore for uploads\n",
      "INFO:interpret_community.common.explanation_utils:Using default datastore for uploads\n",
      "INFO:interpret_community.common.explanation_utils:Using default datastore for uploads\n",
      "INFO:interpret_community.common.explanation_utils:Using default datastore for uploads\n",
      "INFO:interpret_community.common.explanation_utils:Using default datastore for uploads\n",
      "INFO:interpret_community.common.explanation_utils:Using default datastore for uploads\n",
      "INFO:interpret_community.common.explanation_utils:Using default datastore for uploads\n",
      "INFO:interpret_community.common.explanation_utils:Using default datastore for uploads\n"
     ]
    },
    {
     "name": "stdout",
     "output_type": "stream",
     "text": [
      ".\n",
      "2022-08-30 01:35:36-04:00 Generating deployment configuration.\n",
      "2022-08-30 01:35:37-04:00 Submitting deployment to compute..\n",
      "2022-08-30 01:35:53-04:00 Checking the status of deployment christmas-movie-predictor."
     ]
    },
    {
     "name": "stderr",
     "output_type": "stream",
     "text": [
      "INFO:interpret_community.common.explanation_utils:Using default datastore for uploads\n",
      "INFO:interpret_community.common.explanation_utils:Using default datastore for uploads\n",
      "INFO:interpret_community.common.explanation_utils:Using default datastore for uploads\n",
      "INFO:interpret_community.common.explanation_utils:Using default datastore for uploads\n",
      "INFO:interpret_community.common.explanation_utils:Using default datastore for uploads\n",
      "INFO:interpret_community.common.explanation_utils:Using default datastore for uploads\n",
      "INFO:interpret_community.common.explanation_utils:Using default datastore for uploads\n",
      "INFO:interpret_community.common.explanation_utils:Using default datastore for uploads\n",
      "INFO:interpret_community.common.explanation_utils:Using default datastore for uploads\n",
      "INFO:interpret_community.common.explanation_utils:Using default datastore for uploads\n",
      "INFO:interpret_community.common.explanation_utils:Using default datastore for uploads\n",
      "INFO:interpret_community.common.explanation_utils:Using default datastore for uploads\n",
      "INFO:interpret_community.common.explanation_utils:Using default datastore for uploads\n",
      "INFO:interpret_community.common.explanation_utils:Using default datastore for uploads\n"
     ]
    },
    {
     "ename": "KeyboardInterrupt",
     "evalue": "",
     "output_type": "error",
     "traceback": [
      "\u001b[1;31m---------------------------------------------------------------------------\u001b[0m",
      "\u001b[1;31mKeyboardInterrupt\u001b[0m                         Traceback (most recent call last)",
      "\u001b[1;32mc:\\Dev\\DieHardSolver\\AutoML\\experiment.ipynb Cell 20\u001b[0m in \u001b[0;36m<cell line: 15>\u001b[1;34m()\u001b[0m\n\u001b[0;32m     <a href='vscode-notebook-cell:/c%3A/Dev/DieHardSolver/AutoML/experiment.ipynb#X30sZmlsZQ%3D%3D?line=12'>13</a>\u001b[0m \u001b[39m# Deploy the model\u001b[39;00m\n\u001b[0;32m     <a href='vscode-notebook-cell:/c%3A/Dev/DieHardSolver/AutoML/experiment.ipynb#X30sZmlsZQ%3D%3D?line=13'>14</a>\u001b[0m service \u001b[39m=\u001b[39m Model\u001b[39m.\u001b[39mdeploy(ws, \u001b[39m\"\u001b[39m\u001b[39mchristmas-movie-predictor\u001b[39m\u001b[39m\"\u001b[39m, [model], inference_config, deployment_config)\n\u001b[1;32m---> <a href='vscode-notebook-cell:/c%3A/Dev/DieHardSolver/AutoML/experiment.ipynb#X30sZmlsZQ%3D%3D?line=14'>15</a>\u001b[0m service\u001b[39m.\u001b[39;49mwait_for_deployment(show_output \u001b[39m=\u001b[39;49m \u001b[39mTrue\u001b[39;49;00m)\n",
      "File \u001b[1;32mc:\\Users\\Admin\\AppData\\Local\\Programs\\Python\\Python38\\lib\\site-packages\\azureml\\core\\webservice\\webservice.py:895\u001b[0m, in \u001b[0;36mWebservice.wait_for_deployment\u001b[1;34m(self, show_output, timeout_sec)\u001b[0m\n\u001b[0;32m    892\u001b[0m     timeout_sec \u001b[39m=\u001b[39m \u001b[39mfloat\u001b[39m(timeout_sec)\n\u001b[0;32m    894\u001b[0m \u001b[39mtry\u001b[39;00m:\n\u001b[1;32m--> 895\u001b[0m     operation_state, error, operation \u001b[39m=\u001b[39m \u001b[39mself\u001b[39;49m\u001b[39m.\u001b[39;49m_wait_for_operation_to_complete(show_output, timeout_sec)\n\u001b[0;32m    896\u001b[0m     \u001b[39mself\u001b[39m\u001b[39m.\u001b[39mupdate_deployment_state()\n\u001b[0;32m    897\u001b[0m     \u001b[39mif\u001b[39;00m operation_state \u001b[39m!=\u001b[39m \u001b[39m'\u001b[39m\u001b[39mSucceeded\u001b[39m\u001b[39m'\u001b[39m:\n",
      "File \u001b[1;32mc:\\Users\\Admin\\AppData\\Local\\Programs\\Python\\Python38\\lib\\site-packages\\azureml\\core\\webservice\\webservice.py:964\u001b[0m, in \u001b[0;36mWebservice._wait_for_operation_to_complete\u001b[1;34m(self, show_output, timeout_sec)\u001b[0m\n\u001b[0;32m    961\u001b[0m time\u001b[39m.\u001b[39msleep(\u001b[39m5\u001b[39m)\n\u001b[0;32m    963\u001b[0m elapsed_time \u001b[39m=\u001b[39m time\u001b[39m.\u001b[39mtime() \u001b[39m-\u001b[39m start_time\n\u001b[1;32m--> 964\u001b[0m state, error, operation \u001b[39m=\u001b[39m \u001b[39mself\u001b[39;49m\u001b[39m.\u001b[39;49m_get_operation_state(show_output, streaming_log_offset)\n\u001b[0;32m    965\u001b[0m \u001b[39mif\u001b[39;00m show_output:\n\u001b[0;32m    966\u001b[0m     \u001b[39mif\u001b[39;00m \u001b[39m'\u001b[39m\u001b[39mstreamingOperationLog\u001b[39m\u001b[39m'\u001b[39m \u001b[39mnot\u001b[39;00m \u001b[39min\u001b[39;00m operation:\n",
      "File \u001b[1;32mc:\\Users\\Admin\\AppData\\Local\\Programs\\Python\\Python38\\lib\\site-packages\\azureml\\core\\webservice\\webservice.py:1012\u001b[0m, in \u001b[0;36mWebservice._get_operation_state\u001b[1;34m(self, show_output, offset)\u001b[0m\n\u001b[0;32m   1006\u001b[0m \u001b[39mdef\u001b[39;00m \u001b[39m_get_operation_state\u001b[39m(\u001b[39mself\u001b[39m, show_output\u001b[39m=\u001b[39m\u001b[39mFalse\u001b[39;00m, offset\u001b[39m=\u001b[39m\u001b[39m0\u001b[39m):\n\u001b[0;32m   1007\u001b[0m     \u001b[39m\"\"\"Get the current async operation state for the Webservice.\u001b[39;00m\n\u001b[0;32m   1008\u001b[0m \n\u001b[0;32m   1009\u001b[0m \u001b[39m    :return:\u001b[39;00m\n\u001b[0;32m   1010\u001b[0m \u001b[39m    :rtype: str, str, dict\u001b[39;00m\n\u001b[0;32m   1011\u001b[0m \u001b[39m    \"\"\"\u001b[39;00m\n\u001b[1;32m-> 1012\u001b[0m     headers \u001b[39m=\u001b[39m \u001b[39mself\u001b[39;49m\u001b[39m.\u001b[39;49m_auth\u001b[39m.\u001b[39;49mget_authentication_header()\n\u001b[0;32m   1013\u001b[0m     \u001b[39mif\u001b[39;00m show_output:\n\u001b[0;32m   1014\u001b[0m         params \u001b[39m=\u001b[39m {\u001b[39m'\u001b[39m\u001b[39moffset\u001b[39m\u001b[39m'\u001b[39m: offset}\n",
      "File \u001b[1;32mc:\\Users\\Admin\\AppData\\Local\\Programs\\Python\\Python38\\lib\\site-packages\\azureml\\core\\authentication.py:127\u001b[0m, in \u001b[0;36mAbstractAuthentication.get_authentication_header\u001b[1;34m(self)\u001b[0m\n\u001b[0;32m    117\u001b[0m \u001b[39m\"\"\"Return the HTTP authorization header.\u001b[39;00m\n\u001b[0;32m    118\u001b[0m \n\u001b[0;32m    119\u001b[0m \u001b[39mThe authorization header contains the user access token for access authorization against the service.\u001b[39;00m\n\u001b[1;32m   (...)\u001b[0m\n\u001b[0;32m    123\u001b[0m \u001b[39m:rtype: dict\u001b[39;00m\n\u001b[0;32m    124\u001b[0m \u001b[39m\"\"\"\u001b[39;00m\n\u001b[0;32m    125\u001b[0m \u001b[39m# We return a new dictionary each time, as some functions modify the headers returned\u001b[39;00m\n\u001b[0;32m    126\u001b[0m \u001b[39m# by this function.\u001b[39;00m\n\u001b[1;32m--> 127\u001b[0m auth_header \u001b[39m=\u001b[39m {\u001b[39m\"\u001b[39m\u001b[39mAuthorization\u001b[39m\u001b[39m\"\u001b[39m: \u001b[39m\"\u001b[39m\u001b[39mBearer \u001b[39m\u001b[39m\"\u001b[39m \u001b[39m+\u001b[39m \u001b[39mself\u001b[39;49m\u001b[39m.\u001b[39;49m_get_arm_token()}\n\u001b[0;32m    128\u001b[0m \u001b[39mreturn\u001b[39;00m auth_header\n",
      "File \u001b[1;32mc:\\Users\\Admin\\AppData\\Local\\Programs\\Python\\Python38\\lib\\site-packages\\azureml\\core\\authentication.py:389\u001b[0m, in \u001b[0;36m_login_on_failure_decorator.<locals>.actual_decorator.<locals>.wrapper\u001b[1;34m(self, *args, **kwargs)\u001b[0m\n\u001b[0;32m    387\u001b[0m     \u001b[39mif\u001b[39;00m duration \u001b[39m>\u001b[39m ACQUIRE_DURATION_THRESHOLD:\n\u001b[0;32m    388\u001b[0m         module_logger\u001b[39m.\u001b[39mdebug(\u001b[39m\"\u001b[39m\u001b[39m{}\u001b[39;00m\u001b[39m acquired lock in \u001b[39m\u001b[39m{}\u001b[39;00m\u001b[39m s.\u001b[39m\u001b[39m\"\u001b[39m\u001b[39m.\u001b[39mformat(\u001b[39mtype\u001b[39m(\u001b[39mself\u001b[39m)\u001b[39m.\u001b[39m\u001b[39m__name__\u001b[39m, duration))\n\u001b[1;32m--> 389\u001b[0m     \u001b[39mreturn\u001b[39;00m test_function(\u001b[39mself\u001b[39;49m, \u001b[39m*\u001b[39;49margs, \u001b[39m*\u001b[39;49m\u001b[39m*\u001b[39;49mkwargs)\n\u001b[0;32m    390\u001b[0m \u001b[39mexcept\u001b[39;00m \u001b[39mException\u001b[39;00m \u001b[39mas\u001b[39;00m e:\n\u001b[0;32m    391\u001b[0m     \u001b[39mif\u001b[39;00m \u001b[39mtype\u001b[39m(\u001b[39mself\u001b[39m) \u001b[39m==\u001b[39m InteractiveLoginAuthentication:\n\u001b[0;32m    392\u001b[0m         \u001b[39m# Perform InteractiveLoginAuthentication and try one more time.\u001b[39;00m\n",
      "File \u001b[1;32mc:\\Users\\Admin\\AppData\\Local\\Programs\\Python\\Python38\\lib\\site-packages\\azureml\\core\\authentication.py:606\u001b[0m, in \u001b[0;36mInteractiveLoginAuthentication._get_arm_token\u001b[1;34m(self)\u001b[0m\n\u001b[0;32m    604\u001b[0m     \u001b[39mreturn\u001b[39;00m \u001b[39mself\u001b[39m\u001b[39m.\u001b[39m_ambient_auth\u001b[39m.\u001b[39m_get_arm_token()\n\u001b[0;32m    605\u001b[0m \u001b[39melse\u001b[39;00m:\n\u001b[1;32m--> 606\u001b[0m     \u001b[39mreturn\u001b[39;00m \u001b[39mself\u001b[39;49m\u001b[39m.\u001b[39;49m_get_arm_token_using_interactive_auth()\n",
      "File \u001b[1;32mc:\\Users\\Admin\\AppData\\Local\\Programs\\Python\\Python38\\lib\\site-packages\\azureml\\core\\authentication.py:748\u001b[0m, in \u001b[0;36mInteractiveLoginAuthentication._get_arm_token_using_interactive_auth\u001b[1;34m(self, force_reload, resource)\u001b[0m\n\u001b[0;32m    745\u001b[0m     profile_object \u001b[39m=\u001b[39m _get_profile(\u001b[39mself\u001b[39m\u001b[39m.\u001b[39m_cloud_type)\n\u001b[0;32m    747\u001b[0m \u001b[39m# If we can get a valid ARM token, then we don't need to login.\u001b[39;00m\n\u001b[1;32m--> 748\u001b[0m arm_token \u001b[39m=\u001b[39m _get_arm_token_with_refresh(\n\u001b[0;32m    749\u001b[0m     profile_object, cloud_type, ACCOUNT, CONFIG, SESSION, get_config_dir(), force_reload\u001b[39m=\u001b[39;49mforce_reload,\n\u001b[0;32m    750\u001b[0m     resource\u001b[39m=\u001b[39;49mresource, use_adal_auth\u001b[39m=\u001b[39;49m\u001b[39mself\u001b[39;49m\u001b[39m.\u001b[39;49m_use_adal_auth\n\u001b[0;32m    751\u001b[0m )\n\u001b[0;32m    752\u001b[0m \u001b[39m# If a user has specified a tenant id then we need to check if this token is for that tenant.\u001b[39;00m\n\u001b[0;32m    753\u001b[0m \u001b[39mif\u001b[39;00m \u001b[39mself\u001b[39m\u001b[39m.\u001b[39m_tenant_id \u001b[39mand\u001b[39;00m fetch_tenantid_from_aad_token(arm_token) \u001b[39m!=\u001b[39m \u001b[39mself\u001b[39m\u001b[39m.\u001b[39m_tenant_id:\n",
      "File \u001b[1;32mc:\\Users\\Admin\\AppData\\Local\\Programs\\Python\\Python38\\lib\\site-packages\\azureml\\core\\authentication.py:426\u001b[0m, in \u001b[0;36m_retry_connection_aborted.<locals>.actual_decorator.<locals>.connection_aborted_wrapper\u001b[1;34m(*args, **kwargs)\u001b[0m\n\u001b[0;32m    424\u001b[0m \u001b[39mwhile\u001b[39;00m \u001b[39mTrue\u001b[39;00m:\n\u001b[0;32m    425\u001b[0m     \u001b[39mtry\u001b[39;00m:\n\u001b[1;32m--> 426\u001b[0m         \u001b[39mreturn\u001b[39;00m function(\u001b[39m*\u001b[39;49margs, \u001b[39m*\u001b[39;49m\u001b[39m*\u001b[39;49mkwargs)\n\u001b[0;32m    427\u001b[0m     \u001b[39mexcept\u001b[39;00m AuthenticationException \u001b[39mas\u001b[39;00m e:\n\u001b[0;32m    428\u001b[0m         \u001b[39mif\u001b[39;00m \u001b[39m\"\u001b[39m\u001b[39mConnection aborted.\u001b[39m\u001b[39m\"\u001b[39m \u001b[39min\u001b[39;00m \u001b[39mstr\u001b[39m(e) \u001b[39mand\u001b[39;00m attempt \u001b[39m<\u001b[39m\u001b[39m=\u001b[39m retries:\n",
      "File \u001b[1;32mc:\\Users\\Admin\\AppData\\Local\\Programs\\Python\\Python38\\lib\\site-packages\\azureml\\core\\authentication.py:2306\u001b[0m, in \u001b[0;36m_get_arm_token_with_refresh\u001b[1;34m(profile_object, cloud_type, account_object, config_object, session_object, config_directory, force_reload, resource, use_adal_auth)\u001b[0m\n\u001b[0;32m   2302\u001b[0m \u001b[39mif\u001b[39;00m \u001b[39mnot\u001b[39;00m use_adal_auth:\n\u001b[0;32m   2303\u001b[0m     \u001b[39mtry\u001b[39;00m:\n\u001b[0;32m   2304\u001b[0m         \u001b[39m# profile_object.get_raw_token is being used as per the suggestion\u001b[39;00m\n\u001b[0;32m   2305\u001b[0m         \u001b[39m# https://github.com/Azure/azure-cli/issues/15805#issuecomment-722914070\u001b[39;00m\n\u001b[1;32m-> 2306\u001b[0m         access_token \u001b[39m=\u001b[39m profile_object\u001b[39m.\u001b[39;49mget_raw_token(resource\u001b[39m=\u001b[39;49mresource)[\u001b[39m0\u001b[39m][\u001b[39m1\u001b[39m]\n\u001b[0;32m   2307\u001b[0m         \u001b[39m\"\"\"\u001b[39;00m\n\u001b[0;32m   2308\u001b[0m \u001b[39m        According to below documentation, MSAL takes care of refreshing old tokens. In that case, we do not\u001b[39;00m\n\u001b[0;32m   2309\u001b[0m \u001b[39m        need to explicitly test and check for token expiry, making below code redundant.\u001b[39;00m\n\u001b[1;32m   (...)\u001b[0m\n\u001b[0;32m   2312\u001b[0m \u001b[39m\u001b[39;00m\n\u001b[0;32m   2313\u001b[0m \u001b[39m        \"\"\"\u001b[39;00m\n\u001b[0;32m   2314\u001b[0m         \u001b[39mreturn\u001b[39;00m access_token\n",
      "File \u001b[1;32mc:\\Users\\Admin\\AppData\\Local\\Programs\\Python\\Python38\\lib\\site-packages\\azureml\\_vendor\\azure_cli_core\\_profile.py:381\u001b[0m, in \u001b[0;36mProfile.get_raw_token\u001b[1;34m(self, resource, scopes, subscription, tenant)\u001b[0m\n\u001b[0;32m    379\u001b[0m     creds \u001b[39m=\u001b[39m \u001b[39mself\u001b[39m\u001b[39m.\u001b[39m_get_token_from_cloud_shell(resource)\n\u001b[0;32m    380\u001b[0m \u001b[39melse\u001b[39;00m:\n\u001b[1;32m--> 381\u001b[0m     credential \u001b[39m=\u001b[39m \u001b[39mself\u001b[39;49m\u001b[39m.\u001b[39;49m_create_credential(account, tenant)\n\u001b[0;32m    382\u001b[0m     token \u001b[39m=\u001b[39m credential\u001b[39m.\u001b[39mget_token(\u001b[39m*\u001b[39mscopes)\n\u001b[0;32m    384\u001b[0m     \u001b[39mimport\u001b[39;00m \u001b[39mdatetime\u001b[39;00m\n",
      "File \u001b[1;32mc:\\Users\\Admin\\AppData\\Local\\Programs\\Python\\Python38\\lib\\site-packages\\azureml\\_vendor\\azure_cli_core\\_profile.py:588\u001b[0m, in \u001b[0;36mProfile._create_credential\u001b[1;34m(self, account, tenant_id, client_id)\u001b[0m\n\u001b[0;32m    586\u001b[0m \u001b[39m# User\u001b[39;00m\n\u001b[0;32m    587\u001b[0m \u001b[39mif\u001b[39;00m user_type \u001b[39m==\u001b[39m _USER:\n\u001b[1;32m--> 588\u001b[0m     \u001b[39mreturn\u001b[39;00m identity\u001b[39m.\u001b[39;49mget_user_credential(username_or_sp_id)\n\u001b[0;32m    590\u001b[0m \u001b[39m# Service Principal\u001b[39;00m\n\u001b[0;32m    591\u001b[0m \u001b[39mif\u001b[39;00m user_type \u001b[39m==\u001b[39m _SERVICE_PRINCIPAL:\n",
      "File \u001b[1;32mc:\\Users\\Admin\\AppData\\Local\\Programs\\Python\\Python38\\lib\\site-packages\\azureml\\_vendor\\azure_cli_core\\auth\\identity.py:182\u001b[0m, in \u001b[0;36mIdentity.get_user_credential\u001b[1;34m(self, username)\u001b[0m\n\u001b[0;32m    181\u001b[0m \u001b[39mdef\u001b[39;00m \u001b[39mget_user_credential\u001b[39m(\u001b[39mself\u001b[39m, username):\n\u001b[1;32m--> 182\u001b[0m     \u001b[39mreturn\u001b[39;00m UserCredential(\u001b[39mself\u001b[39;49m\u001b[39m.\u001b[39;49mclient_id, username, \u001b[39m*\u001b[39;49m\u001b[39m*\u001b[39;49m\u001b[39mself\u001b[39;49m\u001b[39m.\u001b[39;49m_msal_app_kwargs)\n",
      "File \u001b[1;32mc:\\Users\\Admin\\AppData\\Local\\Programs\\Python\\Python38\\lib\\site-packages\\azureml\\_vendor\\azure_cli_core\\auth\\msal_authentication.py:38\u001b[0m, in \u001b[0;36mUserCredential.__init__\u001b[1;34m(self, client_id, username, **kwargs)\u001b[0m\n\u001b[0;32m     32\u001b[0m \u001b[39mdef\u001b[39;00m \u001b[39m__init__\u001b[39m(\u001b[39mself\u001b[39m, client_id, username, \u001b[39m*\u001b[39m\u001b[39m*\u001b[39mkwargs):\n\u001b[0;32m     33\u001b[0m     \u001b[39m\"\"\"User credential implementing get_token interface.\u001b[39;00m\n\u001b[0;32m     34\u001b[0m \n\u001b[0;32m     35\u001b[0m \u001b[39m    :param client_id: Client ID of the CLI.\u001b[39;00m\n\u001b[0;32m     36\u001b[0m \u001b[39m    :param username: The username for user credential.\u001b[39;00m\n\u001b[0;32m     37\u001b[0m \u001b[39m    \"\"\"\u001b[39;00m\n\u001b[1;32m---> 38\u001b[0m     \u001b[39msuper\u001b[39;49m()\u001b[39m.\u001b[39;49m\u001b[39m__init__\u001b[39;49m(client_id, \u001b[39m*\u001b[39;49m\u001b[39m*\u001b[39;49mkwargs)\n\u001b[0;32m     40\u001b[0m     accounts \u001b[39m=\u001b[39m \u001b[39mself\u001b[39m\u001b[39m.\u001b[39mget_accounts(username)\n\u001b[0;32m     42\u001b[0m     \u001b[39mif\u001b[39;00m \u001b[39mnot\u001b[39;00m accounts:\n",
      "File \u001b[1;32mc:\\Users\\Admin\\AppData\\Local\\Programs\\Python\\Python38\\lib\\site-packages\\msal\\application.py:1485\u001b[0m, in \u001b[0;36mPublicClientApplication.__init__\u001b[1;34m(self, client_id, client_credential, **kwargs)\u001b[0m\n\u001b[0;32m   1483\u001b[0m \u001b[39mif\u001b[39;00m client_credential \u001b[39mis\u001b[39;00m \u001b[39mnot\u001b[39;00m \u001b[39mNone\u001b[39;00m:\n\u001b[0;32m   1484\u001b[0m     \u001b[39mraise\u001b[39;00m \u001b[39mValueError\u001b[39;00m(\u001b[39m\"\u001b[39m\u001b[39mPublic Client should not possess credentials\u001b[39m\u001b[39m\"\u001b[39m)\n\u001b[1;32m-> 1485\u001b[0m \u001b[39msuper\u001b[39;49m(PublicClientApplication, \u001b[39mself\u001b[39;49m)\u001b[39m.\u001b[39;49m\u001b[39m__init__\u001b[39;49m(\n\u001b[0;32m   1486\u001b[0m     client_id, client_credential\u001b[39m=\u001b[39;49m\u001b[39mNone\u001b[39;49;00m, \u001b[39m*\u001b[39;49m\u001b[39m*\u001b[39;49mkwargs)\n",
      "File \u001b[1;32mc:\\Users\\Admin\\AppData\\Local\\Programs\\Python\\Python38\\lib\\site-packages\\msal\\application.py:455\u001b[0m, in \u001b[0;36mClientApplication.__init__\u001b[1;34m(self, client_id, client_credential, authority, validate_authority, token_cache, http_client, verify, proxies, timeout, client_claims, app_name, app_version, client_capabilities, azure_region, exclude_scopes, http_cache)\u001b[0m\n\u001b[0;32m    453\u001b[0m \u001b[39m# Here the self.authority will not be the same type as authority in input\u001b[39;00m\n\u001b[0;32m    454\u001b[0m \u001b[39mtry\u001b[39;00m:\n\u001b[1;32m--> 455\u001b[0m     \u001b[39mself\u001b[39m\u001b[39m.\u001b[39mauthority \u001b[39m=\u001b[39m Authority(\n\u001b[0;32m    456\u001b[0m         authority \u001b[39mor\u001b[39;49;00m \u001b[39m\"\u001b[39;49m\u001b[39mhttps://login.microsoftonline.com/common/\u001b[39;49m\u001b[39m\"\u001b[39;49m,\n\u001b[0;32m    457\u001b[0m         \u001b[39mself\u001b[39;49m\u001b[39m.\u001b[39;49mhttp_client, validate_authority\u001b[39m=\u001b[39;49mvalidate_authority)\n\u001b[0;32m    458\u001b[0m \u001b[39mexcept\u001b[39;00m \u001b[39mValueError\u001b[39;00m:  \u001b[39m# Those are explicit authority validation errors\u001b[39;00m\n\u001b[0;32m    459\u001b[0m     \u001b[39mraise\u001b[39;00m\n",
      "File \u001b[1;32mc:\\Users\\Admin\\AppData\\Local\\Programs\\Python\\Python38\\lib\\site-packages\\msal\\authority.py:100\u001b[0m, in \u001b[0;36mAuthority.__init__\u001b[1;34m(self, authority_url, http_client, validate_authority)\u001b[0m\n\u001b[0;32m     93\u001b[0m     tenant_discovery_endpoint \u001b[39m=\u001b[39m (\n\u001b[0;32m     94\u001b[0m         \u001b[39m'\u001b[39m\u001b[39mhttps://\u001b[39m\u001b[39m{}\u001b[39;00m\u001b[39m{}\u001b[39;00m\u001b[39m{}\u001b[39;00m\u001b[39m/.well-known/openid-configuration\u001b[39m\u001b[39m'\u001b[39m\u001b[39m.\u001b[39mformat(\n\u001b[0;32m     95\u001b[0m             \u001b[39mself\u001b[39m\u001b[39m.\u001b[39minstance,\n\u001b[0;32m     96\u001b[0m             authority\u001b[39m.\u001b[39mpath,  \u001b[39m# In B2C scenario, it is \"/tenant/policy\"\u001b[39;00m\n\u001b[0;32m     97\u001b[0m             \u001b[39m\"\u001b[39m\u001b[39m\"\u001b[39m \u001b[39mif\u001b[39;00m tenant \u001b[39m==\u001b[39m \u001b[39m\"\u001b[39m\u001b[39madfs\u001b[39m\u001b[39m\"\u001b[39m \u001b[39melse\u001b[39;00m \u001b[39m\"\u001b[39m\u001b[39m/v2.0\u001b[39m\u001b[39m\"\u001b[39m \u001b[39m# the AAD v2 endpoint\u001b[39;00m\n\u001b[0;32m     98\u001b[0m             ))\n\u001b[0;32m     99\u001b[0m \u001b[39mtry\u001b[39;00m:\n\u001b[1;32m--> 100\u001b[0m     openid_config \u001b[39m=\u001b[39m tenant_discovery(\n\u001b[0;32m    101\u001b[0m         tenant_discovery_endpoint,\n\u001b[0;32m    102\u001b[0m         \u001b[39mself\u001b[39;49m\u001b[39m.\u001b[39;49m_http_client)\n\u001b[0;32m    103\u001b[0m \u001b[39mexcept\u001b[39;00m \u001b[39mValueError\u001b[39;00m:\n\u001b[0;32m    104\u001b[0m     \u001b[39mraise\u001b[39;00m \u001b[39mValueError\u001b[39;00m(\n\u001b[0;32m    105\u001b[0m         \u001b[39m\"\u001b[39m\u001b[39mUnable to get authority configuration for \u001b[39m\u001b[39m{}\u001b[39;00m\u001b[39m. \u001b[39m\u001b[39m\"\u001b[39m\n\u001b[0;32m    106\u001b[0m         \u001b[39m\"\u001b[39m\u001b[39mAuthority would typically be in a format of \u001b[39m\u001b[39m\"\u001b[39m\n\u001b[0;32m    107\u001b[0m         \u001b[39m\"\u001b[39m\u001b[39mhttps://login.microsoftonline.com/your_tenant \u001b[39m\u001b[39m\"\u001b[39m\n\u001b[0;32m    108\u001b[0m         \u001b[39m\"\u001b[39m\u001b[39mAlso please double check your tenant name or GUID is correct.\u001b[39m\u001b[39m\"\u001b[39m\u001b[39m.\u001b[39mformat(\n\u001b[0;32m    109\u001b[0m         authority_url))\n",
      "File \u001b[1;32mc:\\Users\\Admin\\AppData\\Local\\Programs\\Python\\Python38\\lib\\site-packages\\msal\\authority.py:160\u001b[0m, in \u001b[0;36mtenant_discovery\u001b[1;34m(tenant_discovery_endpoint, http_client, **kwargs)\u001b[0m\n\u001b[0;32m    158\u001b[0m \u001b[39mdef\u001b[39;00m \u001b[39mtenant_discovery\u001b[39m(tenant_discovery_endpoint, http_client, \u001b[39m*\u001b[39m\u001b[39m*\u001b[39mkwargs):\n\u001b[0;32m    159\u001b[0m     \u001b[39m# Returns Openid Configuration\u001b[39;00m\n\u001b[1;32m--> 160\u001b[0m     resp \u001b[39m=\u001b[39m http_client\u001b[39m.\u001b[39;49mget(tenant_discovery_endpoint, \u001b[39m*\u001b[39;49m\u001b[39m*\u001b[39;49mkwargs)\n\u001b[0;32m    161\u001b[0m     \u001b[39mif\u001b[39;00m resp\u001b[39m.\u001b[39mstatus_code \u001b[39m==\u001b[39m \u001b[39m200\u001b[39m:\n\u001b[0;32m    162\u001b[0m         payload \u001b[39m=\u001b[39m json\u001b[39m.\u001b[39mloads(resp\u001b[39m.\u001b[39mtext)  \u001b[39m# It could raise ValueError\u001b[39;00m\n",
      "File \u001b[1;32mc:\\Users\\Admin\\AppData\\Local\\Programs\\Python\\Python38\\lib\\site-packages\\msal\\individual_cache.py:269\u001b[0m, in \u001b[0;36m_IndividualCache.__call__.<locals>.wrapper\u001b[1;34m(*args, **kwargs)\u001b[0m\n\u001b[0;32m    264\u001b[0m \u001b[39mexcept\u001b[39;00m \u001b[39mKeyError\u001b[39;00m:\n\u001b[0;32m    265\u001b[0m     \u001b[39m# We choose to NOT call function(...) in this block, otherwise\u001b[39;00m\n\u001b[0;32m    266\u001b[0m     \u001b[39m# potential exception from function(...) would become a confusing\u001b[39;00m\n\u001b[0;32m    267\u001b[0m     \u001b[39m# \"During handling of the above exception, another exception occurred\"\u001b[39;00m\n\u001b[0;32m    268\u001b[0m     \u001b[39mpass\u001b[39;00m\n\u001b[1;32m--> 269\u001b[0m value \u001b[39m=\u001b[39m function(\u001b[39m*\u001b[39;49margs, \u001b[39m*\u001b[39;49m\u001b[39m*\u001b[39;49mkwargs)\n\u001b[0;32m    271\u001b[0m expires_in \u001b[39m=\u001b[39m \u001b[39mself\u001b[39m\u001b[39m.\u001b[39m_expires_in(\n\u001b[0;32m    272\u001b[0m     function\u001b[39m=\u001b[39mfunction,\n\u001b[0;32m    273\u001b[0m     args\u001b[39m=\u001b[39margs,\n\u001b[0;32m    274\u001b[0m     kwargs\u001b[39m=\u001b[39mkwargs,\n\u001b[0;32m    275\u001b[0m     result\u001b[39m=\u001b[39mvalue,\n\u001b[0;32m    276\u001b[0m     ) \u001b[39mif\u001b[39;00m callable(\u001b[39mself\u001b[39m\u001b[39m.\u001b[39m_expires_in) \u001b[39melse\u001b[39;00m \u001b[39mself\u001b[39m\u001b[39m.\u001b[39m_expires_in\n\u001b[0;32m    277\u001b[0m \u001b[39mif\u001b[39;00m expires_in \u001b[39m==\u001b[39m \u001b[39m0\u001b[39m:\n",
      "File \u001b[1;32mc:\\Users\\Admin\\AppData\\Local\\Programs\\Python\\Python38\\lib\\site-packages\\requests\\sessions.py:542\u001b[0m, in \u001b[0;36mSession.get\u001b[1;34m(self, url, **kwargs)\u001b[0m\n\u001b[0;32m    534\u001b[0m \u001b[39mr\u001b[39m\u001b[39m\"\"\"Sends a GET request. Returns :class:`Response` object.\u001b[39;00m\n\u001b[0;32m    535\u001b[0m \n\u001b[0;32m    536\u001b[0m \u001b[39m:param url: URL for the new :class:`Request` object.\u001b[39;00m\n\u001b[0;32m    537\u001b[0m \u001b[39m:param \\*\\*kwargs: Optional arguments that ``request`` takes.\u001b[39;00m\n\u001b[0;32m    538\u001b[0m \u001b[39m:rtype: requests.Response\u001b[39;00m\n\u001b[0;32m    539\u001b[0m \u001b[39m\"\"\"\u001b[39;00m\n\u001b[0;32m    541\u001b[0m kwargs\u001b[39m.\u001b[39msetdefault(\u001b[39m'\u001b[39m\u001b[39mallow_redirects\u001b[39m\u001b[39m'\u001b[39m, \u001b[39mTrue\u001b[39;00m)\n\u001b[1;32m--> 542\u001b[0m \u001b[39mreturn\u001b[39;00m \u001b[39mself\u001b[39;49m\u001b[39m.\u001b[39;49mrequest(\u001b[39m'\u001b[39;49m\u001b[39mGET\u001b[39;49m\u001b[39m'\u001b[39;49m, url, \u001b[39m*\u001b[39;49m\u001b[39m*\u001b[39;49mkwargs)\n",
      "File \u001b[1;32mc:\\Users\\Admin\\AppData\\Local\\Programs\\Python\\Python38\\lib\\site-packages\\requests\\sessions.py:529\u001b[0m, in \u001b[0;36mSession.request\u001b[1;34m(self, method, url, params, data, headers, cookies, files, auth, timeout, allow_redirects, proxies, hooks, stream, verify, cert, json)\u001b[0m\n\u001b[0;32m    524\u001b[0m send_kwargs \u001b[39m=\u001b[39m {\n\u001b[0;32m    525\u001b[0m     \u001b[39m'\u001b[39m\u001b[39mtimeout\u001b[39m\u001b[39m'\u001b[39m: timeout,\n\u001b[0;32m    526\u001b[0m     \u001b[39m'\u001b[39m\u001b[39mallow_redirects\u001b[39m\u001b[39m'\u001b[39m: allow_redirects,\n\u001b[0;32m    527\u001b[0m }\n\u001b[0;32m    528\u001b[0m send_kwargs\u001b[39m.\u001b[39mupdate(settings)\n\u001b[1;32m--> 529\u001b[0m resp \u001b[39m=\u001b[39m \u001b[39mself\u001b[39;49m\u001b[39m.\u001b[39;49msend(prep, \u001b[39m*\u001b[39;49m\u001b[39m*\u001b[39;49msend_kwargs)\n\u001b[0;32m    531\u001b[0m \u001b[39mreturn\u001b[39;00m resp\n",
      "File \u001b[1;32mc:\\Users\\Admin\\AppData\\Local\\Programs\\Python\\Python38\\lib\\site-packages\\requests\\sessions.py:645\u001b[0m, in \u001b[0;36mSession.send\u001b[1;34m(self, request, **kwargs)\u001b[0m\n\u001b[0;32m    642\u001b[0m start \u001b[39m=\u001b[39m preferred_clock()\n\u001b[0;32m    644\u001b[0m \u001b[39m# Send the request\u001b[39;00m\n\u001b[1;32m--> 645\u001b[0m r \u001b[39m=\u001b[39m adapter\u001b[39m.\u001b[39;49msend(request, \u001b[39m*\u001b[39;49m\u001b[39m*\u001b[39;49mkwargs)\n\u001b[0;32m    647\u001b[0m \u001b[39m# Total elapsed time of the request (approximately)\u001b[39;00m\n\u001b[0;32m    648\u001b[0m elapsed \u001b[39m=\u001b[39m preferred_clock() \u001b[39m-\u001b[39m start\n",
      "File \u001b[1;32mc:\\Users\\Admin\\AppData\\Local\\Programs\\Python\\Python38\\lib\\site-packages\\requests\\adapters.py:440\u001b[0m, in \u001b[0;36mHTTPAdapter.send\u001b[1;34m(self, request, stream, timeout, verify, cert, proxies)\u001b[0m\n\u001b[0;32m    438\u001b[0m \u001b[39mtry\u001b[39;00m:\n\u001b[0;32m    439\u001b[0m     \u001b[39mif\u001b[39;00m \u001b[39mnot\u001b[39;00m chunked:\n\u001b[1;32m--> 440\u001b[0m         resp \u001b[39m=\u001b[39m conn\u001b[39m.\u001b[39;49murlopen(\n\u001b[0;32m    441\u001b[0m             method\u001b[39m=\u001b[39;49mrequest\u001b[39m.\u001b[39;49mmethod,\n\u001b[0;32m    442\u001b[0m             url\u001b[39m=\u001b[39;49murl,\n\u001b[0;32m    443\u001b[0m             body\u001b[39m=\u001b[39;49mrequest\u001b[39m.\u001b[39;49mbody,\n\u001b[0;32m    444\u001b[0m             headers\u001b[39m=\u001b[39;49mrequest\u001b[39m.\u001b[39;49mheaders,\n\u001b[0;32m    445\u001b[0m             redirect\u001b[39m=\u001b[39;49m\u001b[39mFalse\u001b[39;49;00m,\n\u001b[0;32m    446\u001b[0m             assert_same_host\u001b[39m=\u001b[39;49m\u001b[39mFalse\u001b[39;49;00m,\n\u001b[0;32m    447\u001b[0m             preload_content\u001b[39m=\u001b[39;49m\u001b[39mFalse\u001b[39;49;00m,\n\u001b[0;32m    448\u001b[0m             decode_content\u001b[39m=\u001b[39;49m\u001b[39mFalse\u001b[39;49;00m,\n\u001b[0;32m    449\u001b[0m             retries\u001b[39m=\u001b[39;49m\u001b[39mself\u001b[39;49m\u001b[39m.\u001b[39;49mmax_retries,\n\u001b[0;32m    450\u001b[0m             timeout\u001b[39m=\u001b[39;49mtimeout\n\u001b[0;32m    451\u001b[0m         )\n\u001b[0;32m    453\u001b[0m     \u001b[39m# Send the request.\u001b[39;00m\n\u001b[0;32m    454\u001b[0m     \u001b[39melse\u001b[39;00m:\n\u001b[0;32m    455\u001b[0m         \u001b[39mif\u001b[39;00m \u001b[39mhasattr\u001b[39m(conn, \u001b[39m'\u001b[39m\u001b[39mproxy_pool\u001b[39m\u001b[39m'\u001b[39m):\n",
      "File \u001b[1;32mc:\\Users\\Admin\\AppData\\Local\\Programs\\Python\\Python38\\lib\\site-packages\\urllib3\\connectionpool.py:699\u001b[0m, in \u001b[0;36mHTTPConnectionPool.urlopen\u001b[1;34m(self, method, url, body, headers, retries, redirect, assert_same_host, timeout, pool_timeout, release_conn, chunked, body_pos, **response_kw)\u001b[0m\n\u001b[0;32m    696\u001b[0m     \u001b[39mself\u001b[39m\u001b[39m.\u001b[39m_prepare_proxy(conn)\n\u001b[0;32m    698\u001b[0m \u001b[39m# Make the request on the httplib connection object.\u001b[39;00m\n\u001b[1;32m--> 699\u001b[0m httplib_response \u001b[39m=\u001b[39m \u001b[39mself\u001b[39;49m\u001b[39m.\u001b[39;49m_make_request(\n\u001b[0;32m    700\u001b[0m     conn,\n\u001b[0;32m    701\u001b[0m     method,\n\u001b[0;32m    702\u001b[0m     url,\n\u001b[0;32m    703\u001b[0m     timeout\u001b[39m=\u001b[39;49mtimeout_obj,\n\u001b[0;32m    704\u001b[0m     body\u001b[39m=\u001b[39;49mbody,\n\u001b[0;32m    705\u001b[0m     headers\u001b[39m=\u001b[39;49mheaders,\n\u001b[0;32m    706\u001b[0m     chunked\u001b[39m=\u001b[39;49mchunked,\n\u001b[0;32m    707\u001b[0m )\n\u001b[0;32m    709\u001b[0m \u001b[39m# If we're going to release the connection in ``finally:``, then\u001b[39;00m\n\u001b[0;32m    710\u001b[0m \u001b[39m# the response doesn't need to know about the connection. Otherwise\u001b[39;00m\n\u001b[0;32m    711\u001b[0m \u001b[39m# it will also try to release it and we'll have a double-release\u001b[39;00m\n\u001b[0;32m    712\u001b[0m \u001b[39m# mess.\u001b[39;00m\n\u001b[0;32m    713\u001b[0m response_conn \u001b[39m=\u001b[39m conn \u001b[39mif\u001b[39;00m \u001b[39mnot\u001b[39;00m release_conn \u001b[39melse\u001b[39;00m \u001b[39mNone\u001b[39;00m\n",
      "File \u001b[1;32mc:\\Users\\Admin\\AppData\\Local\\Programs\\Python\\Python38\\lib\\site-packages\\urllib3\\connectionpool.py:445\u001b[0m, in \u001b[0;36mHTTPConnectionPool._make_request\u001b[1;34m(self, conn, method, url, timeout, chunked, **httplib_request_kw)\u001b[0m\n\u001b[0;32m    440\u001b[0m             httplib_response \u001b[39m=\u001b[39m conn\u001b[39m.\u001b[39mgetresponse()\n\u001b[0;32m    441\u001b[0m         \u001b[39mexcept\u001b[39;00m \u001b[39mBaseException\u001b[39;00m \u001b[39mas\u001b[39;00m e:\n\u001b[0;32m    442\u001b[0m             \u001b[39m# Remove the TypeError from the exception chain in\u001b[39;00m\n\u001b[0;32m    443\u001b[0m             \u001b[39m# Python 3 (including for exceptions like SystemExit).\u001b[39;00m\n\u001b[0;32m    444\u001b[0m             \u001b[39m# Otherwise it looks like a bug in the code.\u001b[39;00m\n\u001b[1;32m--> 445\u001b[0m             six\u001b[39m.\u001b[39;49mraise_from(e, \u001b[39mNone\u001b[39;49;00m)\n\u001b[0;32m    446\u001b[0m \u001b[39mexcept\u001b[39;00m (SocketTimeout, BaseSSLError, SocketError) \u001b[39mas\u001b[39;00m e:\n\u001b[0;32m    447\u001b[0m     \u001b[39mself\u001b[39m\u001b[39m.\u001b[39m_raise_timeout(err\u001b[39m=\u001b[39me, url\u001b[39m=\u001b[39murl, timeout_value\u001b[39m=\u001b[39mread_timeout)\n",
      "File \u001b[1;32m<string>:3\u001b[0m, in \u001b[0;36mraise_from\u001b[1;34m(value, from_value)\u001b[0m\n",
      "File \u001b[1;32mc:\\Users\\Admin\\AppData\\Local\\Programs\\Python\\Python38\\lib\\site-packages\\urllib3\\connectionpool.py:440\u001b[0m, in \u001b[0;36mHTTPConnectionPool._make_request\u001b[1;34m(self, conn, method, url, timeout, chunked, **httplib_request_kw)\u001b[0m\n\u001b[0;32m    437\u001b[0m \u001b[39mexcept\u001b[39;00m \u001b[39mTypeError\u001b[39;00m:\n\u001b[0;32m    438\u001b[0m     \u001b[39m# Python 3\u001b[39;00m\n\u001b[0;32m    439\u001b[0m     \u001b[39mtry\u001b[39;00m:\n\u001b[1;32m--> 440\u001b[0m         httplib_response \u001b[39m=\u001b[39m conn\u001b[39m.\u001b[39;49mgetresponse()\n\u001b[0;32m    441\u001b[0m     \u001b[39mexcept\u001b[39;00m \u001b[39mBaseException\u001b[39;00m \u001b[39mas\u001b[39;00m e:\n\u001b[0;32m    442\u001b[0m         \u001b[39m# Remove the TypeError from the exception chain in\u001b[39;00m\n\u001b[0;32m    443\u001b[0m         \u001b[39m# Python 3 (including for exceptions like SystemExit).\u001b[39;00m\n\u001b[0;32m    444\u001b[0m         \u001b[39m# Otherwise it looks like a bug in the code.\u001b[39;00m\n\u001b[0;32m    445\u001b[0m         six\u001b[39m.\u001b[39mraise_from(e, \u001b[39mNone\u001b[39;00m)\n",
      "File \u001b[1;32mc:\\Users\\Admin\\AppData\\Local\\Programs\\Python\\Python38\\lib\\http\\client.py:1347\u001b[0m, in \u001b[0;36mHTTPConnection.getresponse\u001b[1;34m(self)\u001b[0m\n\u001b[0;32m   1345\u001b[0m \u001b[39mtry\u001b[39;00m:\n\u001b[0;32m   1346\u001b[0m     \u001b[39mtry\u001b[39;00m:\n\u001b[1;32m-> 1347\u001b[0m         response\u001b[39m.\u001b[39;49mbegin()\n\u001b[0;32m   1348\u001b[0m     \u001b[39mexcept\u001b[39;00m \u001b[39mConnectionError\u001b[39;00m:\n\u001b[0;32m   1349\u001b[0m         \u001b[39mself\u001b[39m\u001b[39m.\u001b[39mclose()\n",
      "File \u001b[1;32mc:\\Users\\Admin\\AppData\\Local\\Programs\\Python\\Python38\\lib\\http\\client.py:307\u001b[0m, in \u001b[0;36mHTTPResponse.begin\u001b[1;34m(self)\u001b[0m\n\u001b[0;32m    305\u001b[0m \u001b[39m# read until we get a non-100 response\u001b[39;00m\n\u001b[0;32m    306\u001b[0m \u001b[39mwhile\u001b[39;00m \u001b[39mTrue\u001b[39;00m:\n\u001b[1;32m--> 307\u001b[0m     version, status, reason \u001b[39m=\u001b[39m \u001b[39mself\u001b[39;49m\u001b[39m.\u001b[39;49m_read_status()\n\u001b[0;32m    308\u001b[0m     \u001b[39mif\u001b[39;00m status \u001b[39m!=\u001b[39m CONTINUE:\n\u001b[0;32m    309\u001b[0m         \u001b[39mbreak\u001b[39;00m\n",
      "File \u001b[1;32mc:\\Users\\Admin\\AppData\\Local\\Programs\\Python\\Python38\\lib\\http\\client.py:268\u001b[0m, in \u001b[0;36mHTTPResponse._read_status\u001b[1;34m(self)\u001b[0m\n\u001b[0;32m    267\u001b[0m \u001b[39mdef\u001b[39;00m \u001b[39m_read_status\u001b[39m(\u001b[39mself\u001b[39m):\n\u001b[1;32m--> 268\u001b[0m     line \u001b[39m=\u001b[39m \u001b[39mstr\u001b[39m(\u001b[39mself\u001b[39;49m\u001b[39m.\u001b[39;49mfp\u001b[39m.\u001b[39;49mreadline(_MAXLINE \u001b[39m+\u001b[39;49m \u001b[39m1\u001b[39;49m), \u001b[39m\"\u001b[39m\u001b[39miso-8859-1\u001b[39m\u001b[39m\"\u001b[39m)\n\u001b[0;32m    269\u001b[0m     \u001b[39mif\u001b[39;00m \u001b[39mlen\u001b[39m(line) \u001b[39m>\u001b[39m _MAXLINE:\n\u001b[0;32m    270\u001b[0m         \u001b[39mraise\u001b[39;00m LineTooLong(\u001b[39m\"\u001b[39m\u001b[39mstatus line\u001b[39m\u001b[39m\"\u001b[39m)\n",
      "File \u001b[1;32mc:\\Users\\Admin\\AppData\\Local\\Programs\\Python\\Python38\\lib\\socket.py:669\u001b[0m, in \u001b[0;36mSocketIO.readinto\u001b[1;34m(self, b)\u001b[0m\n\u001b[0;32m    667\u001b[0m \u001b[39mwhile\u001b[39;00m \u001b[39mTrue\u001b[39;00m:\n\u001b[0;32m    668\u001b[0m     \u001b[39mtry\u001b[39;00m:\n\u001b[1;32m--> 669\u001b[0m         \u001b[39mreturn\u001b[39;00m \u001b[39mself\u001b[39;49m\u001b[39m.\u001b[39;49m_sock\u001b[39m.\u001b[39;49mrecv_into(b)\n\u001b[0;32m    670\u001b[0m     \u001b[39mexcept\u001b[39;00m timeout:\n\u001b[0;32m    671\u001b[0m         \u001b[39mself\u001b[39m\u001b[39m.\u001b[39m_timeout_occurred \u001b[39m=\u001b[39m \u001b[39mTrue\u001b[39;00m\n",
      "File \u001b[1;32mc:\\Users\\Admin\\AppData\\Local\\Programs\\Python\\Python38\\lib\\ssl.py:1241\u001b[0m, in \u001b[0;36mSSLSocket.recv_into\u001b[1;34m(self, buffer, nbytes, flags)\u001b[0m\n\u001b[0;32m   1237\u001b[0m     \u001b[39mif\u001b[39;00m flags \u001b[39m!=\u001b[39m \u001b[39m0\u001b[39m:\n\u001b[0;32m   1238\u001b[0m         \u001b[39mraise\u001b[39;00m \u001b[39mValueError\u001b[39;00m(\n\u001b[0;32m   1239\u001b[0m           \u001b[39m\"\u001b[39m\u001b[39mnon-zero flags not allowed in calls to recv_into() on \u001b[39m\u001b[39m%s\u001b[39;00m\u001b[39m\"\u001b[39m \u001b[39m%\u001b[39m\n\u001b[0;32m   1240\u001b[0m           \u001b[39mself\u001b[39m\u001b[39m.\u001b[39m\u001b[39m__class__\u001b[39m)\n\u001b[1;32m-> 1241\u001b[0m     \u001b[39mreturn\u001b[39;00m \u001b[39mself\u001b[39;49m\u001b[39m.\u001b[39;49mread(nbytes, buffer)\n\u001b[0;32m   1242\u001b[0m \u001b[39melse\u001b[39;00m:\n\u001b[0;32m   1243\u001b[0m     \u001b[39mreturn\u001b[39;00m \u001b[39msuper\u001b[39m()\u001b[39m.\u001b[39mrecv_into(buffer, nbytes, flags)\n",
      "File \u001b[1;32mc:\\Users\\Admin\\AppData\\Local\\Programs\\Python\\Python38\\lib\\ssl.py:1099\u001b[0m, in \u001b[0;36mSSLSocket.read\u001b[1;34m(self, len, buffer)\u001b[0m\n\u001b[0;32m   1097\u001b[0m \u001b[39mtry\u001b[39;00m:\n\u001b[0;32m   1098\u001b[0m     \u001b[39mif\u001b[39;00m buffer \u001b[39mis\u001b[39;00m \u001b[39mnot\u001b[39;00m \u001b[39mNone\u001b[39;00m:\n\u001b[1;32m-> 1099\u001b[0m         \u001b[39mreturn\u001b[39;00m \u001b[39mself\u001b[39;49m\u001b[39m.\u001b[39;49m_sslobj\u001b[39m.\u001b[39;49mread(\u001b[39mlen\u001b[39;49m, buffer)\n\u001b[0;32m   1100\u001b[0m     \u001b[39melse\u001b[39;00m:\n\u001b[0;32m   1101\u001b[0m         \u001b[39mreturn\u001b[39;00m \u001b[39mself\u001b[39m\u001b[39m.\u001b[39m_sslobj\u001b[39m.\u001b[39mread(\u001b[39mlen\u001b[39m)\n",
      "\u001b[1;31mKeyboardInterrupt\u001b[0m: "
     ]
    }
   ],
   "source": [
    "from azureml.core import Environment\n",
    "from azureml.core.model import InferenceConfig, Model\n",
    "from azureml.core.webservice import AciWebservice\n",
    "\n",
    "# Create an inference config from the best model's files\n",
    "env = Environment.from_conda_specification(\"AutoML-env\", \"automl-output/outputs/conda_env_v_1_0_0.yml\")\n",
    "inference_config = InferenceConfig(environment=env, \n",
    "                                   source_directory='./automl-output/outputs', \n",
    "                                   entry_script='./scoring_file_v_2_0_0.py')\n",
    "\n",
    "deployment_config = AciWebservice.deploy_configuration(cpu_cores = 1, memory_gb = 1, enable_app_insights=True)\n",
    "\n",
    "# Deploy the model\n",
    "service = Model.deploy(ws, \"christmas-movie-predictor\", [model], inference_config, deployment_config)\n",
    "service.wait_for_deployment(show_output = True)"
   ]
  },
  {
   "cell_type": "markdown",
   "metadata": {},
   "source": [
    "## Calling our Endpoint\n",
    "Now that we have our endpoint, let's see what it thinks of Die Hard"
   ]
  },
  {
   "cell_type": "code",
   "execution_count": null,
   "metadata": {},
   "outputs": [],
   "source": [
    "# Grab our scoring endpoint for testing\n",
    "scoring_uri = service.scoring_uri\n",
    "print('Endpoint active at ' + scoring_uri)"
   ]
  },
  {
   "cell_type": "code",
   "execution_count": 28,
   "metadata": {},
   "outputs": [
    {
     "data": {
      "text/html": [
       "<div>\n",
       "<style scoped>\n",
       "    .dataframe tbody tr th:only-of-type {\n",
       "        vertical-align: middle;\n",
       "    }\n",
       "\n",
       "    .dataframe tbody tr th {\n",
       "        vertical-align: top;\n",
       "    }\n",
       "\n",
       "    .dataframe thead th {\n",
       "        text-align: right;\n",
       "    }\n",
       "</style>\n",
       "<table border=\"1\" class=\"dataframe\">\n",
       "  <thead>\n",
       "    <tr style=\"text-align: right;\">\n",
       "      <th></th>\n",
       "      <th>Is Action</th>\n",
       "      <th>Is Adventure</th>\n",
       "      <th>Is Animation</th>\n",
       "      <th>Is Comedy</th>\n",
       "      <th>Is Crime</th>\n",
       "      <th>Is Documentary</th>\n",
       "      <th>Is Drama</th>\n",
       "      <th>Is Family</th>\n",
       "      <th>Is Fantasy</th>\n",
       "      <th>Is Foreign</th>\n",
       "      <th>...</th>\n",
       "      <th>overview</th>\n",
       "      <th>release_date</th>\n",
       "      <th>release_month</th>\n",
       "      <th>release_quarter</th>\n",
       "      <th>release_year</th>\n",
       "      <th>runtime</th>\n",
       "      <th>tagline</th>\n",
       "      <th>title</th>\n",
       "      <th>Is Christmas Movie</th>\n",
       "      <th>keywords</th>\n",
       "    </tr>\n",
       "  </thead>\n",
       "  <tbody>\n",
       "    <tr>\n",
       "      <th>0</th>\n",
       "      <td>1.00</td>\n",
       "      <td>0.00</td>\n",
       "      <td>0.00</td>\n",
       "      <td>0.00</td>\n",
       "      <td>0.00</td>\n",
       "      <td>0.00</td>\n",
       "      <td>0.00</td>\n",
       "      <td>0.00</td>\n",
       "      <td>0.00</td>\n",
       "      <td>0.00</td>\n",
       "      <td>...</td>\n",
       "      <td>NYPD cop, John McClane's plan to reconcile wit...</td>\n",
       "      <td>1988-07-15</td>\n",
       "      <td>7.00</td>\n",
       "      <td>3.00</td>\n",
       "      <td>1988.00</td>\n",
       "      <td>131.00</td>\n",
       "      <td>40 Stories. Twelve Terrorists. One Cop.</td>\n",
       "      <td>Die Hard</td>\n",
       "      <td>1</td>\n",
       "      <td>helicopter,journalist,based on novel,terrorist...</td>\n",
       "    </tr>\n",
       "  </tbody>\n",
       "</table>\n",
       "<p>1 rows × 31 columns</p>\n",
       "</div>"
      ],
      "text/plain": [
       "   Is Action  Is Adventure  Is Animation  Is Comedy  Is Crime  Is Documentary  \\\n",
       "0       1.00          0.00          0.00       0.00      0.00            0.00   \n",
       "\n",
       "   Is Drama  Is Family  Is Fantasy  Is Foreign  ...  \\\n",
       "0      0.00       0.00        0.00        0.00  ...   \n",
       "\n",
       "                                            overview  release_date  \\\n",
       "0  NYPD cop, John McClane's plan to reconcile wit...    1988-07-15   \n",
       "\n",
       "   release_month  release_quarter  release_year  runtime  \\\n",
       "0           7.00             3.00       1988.00   131.00   \n",
       "\n",
       "                                   tagline     title  Is Christmas Movie  \\\n",
       "0  40 Stories. Twelve Terrorists. One Cop.  Die Hard                   1   \n",
       "\n",
       "                                            keywords  \n",
       "0  helicopter,journalist,based on novel,terrorist...  \n",
       "\n",
       "[1 rows x 31 columns]"
      ]
     },
     "execution_count": 28,
     "metadata": {},
     "output_type": "execute_result"
    }
   ],
   "source": [
    "# Load Die Hard. The movie data was saved to a separate CSV with the same format\n",
    "df_dieHard = pd.read_csv('DieHard.csv')\n",
    "df_dieHard.drop(columns='id', inplace=True)\n",
    "df_dieHard.head()"
   ]
  },
  {
   "cell_type": "code",
   "execution_count": 31,
   "metadata": {},
   "outputs": [
    {
     "data": {
      "text/plain": [
       "Is Action                                                          1.00\n",
       "Is Adventure                                                       0.00\n",
       "Is Animation                                                       0.00\n",
       "Is Comedy                                                          0.00\n",
       "Is Crime                                                           0.00\n",
       "Is Documentary                                                     0.00\n",
       "Is Drama                                                           0.00\n",
       "Is Family                                                          0.00\n",
       "Is Fantasy                                                         0.00\n",
       "Is Foreign                                                         0.00\n",
       "Is History                                                         0.00\n",
       "Is Horror                                                          0.00\n",
       "Is Music                                                           0.00\n",
       "Is Mystery                                                         0.00\n",
       "Is Romance                                                         0.00\n",
       "Is Science Fiction                                                 0.00\n",
       "Is TV Movie                                                        0.00\n",
       "Is Thriller                                                        1.00\n",
       "Is War                                                             0.00\n",
       "Is Western                                                         0.00\n",
       "adult                                                                 1\n",
       "overview              NYPD cop, John McClane's plan to reconcile wit...\n",
       "release_date                                                 1988-07-15\n",
       "release_month                                                      7.00\n",
       "release_quarter                                                    3.00\n",
       "release_year                                                    1988.00\n",
       "runtime                                                          131.00\n",
       "tagline                         40 Stories. Twelve Terrorists. One Cop.\n",
       "title                                                          Die Hard\n",
       "Is Christmas Movie                                                    1\n",
       "keywords              helicopter,journalist,based on novel,terrorist...\n",
       "Name: 0, dtype: object"
      ]
     },
     "execution_count": 31,
     "metadata": {},
     "output_type": "execute_result"
    },
    {
     "name": "stderr",
     "output_type": "stream",
     "text": [
      "WARNING:urllib3.connectionpool:Retrying (Retry(total=2, connect=None, read=None, redirect=None, status=None)) after connection broken by 'ProtocolError('Connection aborted.', ConnectionResetError(10054, 'An existing connection was forcibly closed by the remote host', None, 10054, None))': /azureml/ExperimentRun/dcid.AutoML_05af2ba7-1474-4411-86bb-cddaec43b952_0/explanation/89ca0440/true_ys_viz.interpret.json?sv=2019-07-07&sr=b&sig=gOuI4qiN%2Bbr8QC4WabaisGYJW4Gn1r6A%2FtnYCFXefqk%3D&skoid=39f0fccc-d86a-495c-b500-43fbdef7a061&sktid=542fe8ad-7ac8-4b9e-898f-d6de53312581&skt=2022-08-30T02%3A40%3A52Z&ske=2022-08-31T10%3A50%3A52Z&sks=b&skv=2019-07-07&st=2022-08-30T04%3A47%3A02Z&se=2022-08-30T12%3A57%3A02Z&sp=r\n"
     ]
    }
   ],
   "source": [
    "# Isolate die hard into a variable that we can pass along to our endpoint\n",
    "dieHard = df_dieHard.iloc[0]\n",
    "dieHard"
   ]
  },
  {
   "cell_type": "code",
   "execution_count": null,
   "metadata": {},
   "outputs": [],
   "source": [
    "import requests\n",
    "import json\n",
    "\n",
    "# Create an object that looks like what our ACI endpoint expects\n",
    "data = {\n",
    "  \"Inputs\": {\n",
    "    \"data\": dieHard\n",
    "  },\n",
    "  \"GlobalParameters\": 1.0\n",
    "}\n",
    "\n",
    "# Convert to JSON string\n",
    "input_data = json.dumps(data)\n",
    "\n",
    "# Set the content type\n",
    "headers = {'Content-Type': 'application/json'}\n",
    "\n",
    "# NOTE: with Auth enabled we'd need to set some headers\n",
    "\n",
    "# Make the request and look at details of the response\n",
    "resp = requests.post(scoring_uri, input_data, headers=headers)\n",
    "resp_json = resp.json()\n",
    "\n",
    "resp_json"
   ]
  },
  {
   "cell_type": "code",
   "execution_count": null,
   "metadata": {},
   "outputs": [],
   "source": [
    "# Find out if Die Hard is a Christmas movie\n",
    "results = resp_json['Results']\n",
    "results"
   ]
  },
  {
   "cell_type": "markdown",
   "metadata": {},
   "source": [
    "## Cleaning up Resources\n",
    "The cluster will live on idle and not costing us anything, but we need to delete our ACI endpoint to not get billed for it"
   ]
  },
  {
   "cell_type": "code",
   "execution_count": null,
   "metadata": {},
   "outputs": [],
   "source": [
    "# Delete the ACI endpoint\n",
    "service.delete()"
   ]
  }
 ],
 "metadata": {
  "kernelspec": {
   "display_name": "Python 3.8.8 64-bit",
   "language": "python",
   "name": "python3"
  },
  "language_info": {
   "codemirror_mode": {
    "name": "ipython",
    "version": 3
   },
   "file_extension": ".py",
   "mimetype": "text/x-python",
   "name": "python",
   "nbconvert_exporter": "python",
   "pygments_lexer": "ipython3",
   "version": "3.8.8"
  },
  "orig_nbformat": 4,
  "vscode": {
   "interpreter": {
    "hash": "a4868653bb6f8972e87e4c446ab8a445a15b25dedb8594cc74c480f8152ea86a"
   }
  }
 },
 "nbformat": 4,
 "nbformat_minor": 2
}
