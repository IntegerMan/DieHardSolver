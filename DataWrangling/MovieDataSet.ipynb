{
 "cells": [
  {
   "cell_type": "code",
   "execution_count": 42,
   "metadata": {
    "collapsed": true
   },
   "outputs": [
    {
     "name": "stderr",
     "output_type": "stream",
     "text": [
      "c:\\users\\matte\\appdata\\local\\programs\\python\\python39\\lib\\site-packages\\IPython\\core\\interactiveshell.py:3441: DtypeWarning: Columns (10) have mixed types.Specify dtype option on import or set low_memory=False.\n",
      "  exec(code_obj, self.user_global_ns, self.user_ns)\n"
     ]
    },
    {
     "data": {
      "text/plain": "       adult                                             genres      id  \\\n23501  False                [{'id': 99, 'name': 'Documentary'}]  267752   \n28042  False                    [{'id': 37, 'name': 'Western'}]  143747   \n15775  False  [{'id': 18, 'name': 'Drama'}, {'id': 35, 'name...    4204   \n36186  False                      [{'id': 18, 'name': 'Drama'}]  248268   \n14832  False  [{'id': 16, 'name': 'Animation'}, {'id': 18, '...   19311   \n\n         imdb_id  popularity release_date  runtime  \\\n23501  tt3060338    0.108531   2013-11-21     74.0   \n28042  tt0060697    0.634857   1966-12-18    104.0   \n15775  tt1024733    2.326842   2008-01-01     98.0   \n36186  tt2106284    0.984593   2014-01-10     90.0   \n14832  tt0790799    3.350555   2008-09-04     78.0   \n\n                                        spoken_languages  \\\n23501                                                 []   \n28042  [{'iso_639_1': 'it', 'name': 'Italiano'}, {'is...   \n15775           [{'iso_639_1': 'en', 'name': 'English'}]   \n36186           [{'iso_639_1': 'en', 'name': 'English'}]   \n14832           [{'iso_639_1': 'en', 'name': 'English'}]   \n\n                                    title  vote_average  vote_count  \\\n23501                        #chicagoGirl           7.0         1.0   \n28042                 $1,000 on the Black           6.0         2.0   \n15775                            $5 a Day           6.0        24.0   \n36186  $50K and a Call Girl: A Love Story           6.3        11.0   \n14832                               $9.99           6.0        28.0   \n\n       release_year  release_quarter  release_month  \n23501        2013.0              4.0           11.0  \n28042        1966.0              4.0           12.0  \n15775        2008.0              1.0            1.0  \n36186        2014.0              1.0            1.0  \n14832        2008.0              3.0            9.0  ",
      "text/html": "<div>\n<style scoped>\n    .dataframe tbody tr th:only-of-type {\n        vertical-align: middle;\n    }\n\n    .dataframe tbody tr th {\n        vertical-align: top;\n    }\n\n    .dataframe thead th {\n        text-align: right;\n    }\n</style>\n<table border=\"1\" class=\"dataframe\">\n  <thead>\n    <tr style=\"text-align: right;\">\n      <th></th>\n      <th>adult</th>\n      <th>genres</th>\n      <th>id</th>\n      <th>imdb_id</th>\n      <th>popularity</th>\n      <th>release_date</th>\n      <th>runtime</th>\n      <th>spoken_languages</th>\n      <th>title</th>\n      <th>vote_average</th>\n      <th>vote_count</th>\n      <th>release_year</th>\n      <th>release_quarter</th>\n      <th>release_month</th>\n    </tr>\n  </thead>\n  <tbody>\n    <tr>\n      <th>23501</th>\n      <td>False</td>\n      <td>[{'id': 99, 'name': 'Documentary'}]</td>\n      <td>267752</td>\n      <td>tt3060338</td>\n      <td>0.108531</td>\n      <td>2013-11-21</td>\n      <td>74.0</td>\n      <td>[]</td>\n      <td>#chicagoGirl</td>\n      <td>7.0</td>\n      <td>1.0</td>\n      <td>2013.0</td>\n      <td>4.0</td>\n      <td>11.0</td>\n    </tr>\n    <tr>\n      <th>28042</th>\n      <td>False</td>\n      <td>[{'id': 37, 'name': 'Western'}]</td>\n      <td>143747</td>\n      <td>tt0060697</td>\n      <td>0.634857</td>\n      <td>1966-12-18</td>\n      <td>104.0</td>\n      <td>[{'iso_639_1': 'it', 'name': 'Italiano'}, {'is...</td>\n      <td>$1,000 on the Black</td>\n      <td>6.0</td>\n      <td>2.0</td>\n      <td>1966.0</td>\n      <td>4.0</td>\n      <td>12.0</td>\n    </tr>\n    <tr>\n      <th>15775</th>\n      <td>False</td>\n      <td>[{'id': 18, 'name': 'Drama'}, {'id': 35, 'name...</td>\n      <td>4204</td>\n      <td>tt1024733</td>\n      <td>2.326842</td>\n      <td>2008-01-01</td>\n      <td>98.0</td>\n      <td>[{'iso_639_1': 'en', 'name': 'English'}]</td>\n      <td>$5 a Day</td>\n      <td>6.0</td>\n      <td>24.0</td>\n      <td>2008.0</td>\n      <td>1.0</td>\n      <td>1.0</td>\n    </tr>\n    <tr>\n      <th>36186</th>\n      <td>False</td>\n      <td>[{'id': 18, 'name': 'Drama'}]</td>\n      <td>248268</td>\n      <td>tt2106284</td>\n      <td>0.984593</td>\n      <td>2014-01-10</td>\n      <td>90.0</td>\n      <td>[{'iso_639_1': 'en', 'name': 'English'}]</td>\n      <td>$50K and a Call Girl: A Love Story</td>\n      <td>6.3</td>\n      <td>11.0</td>\n      <td>2014.0</td>\n      <td>1.0</td>\n      <td>1.0</td>\n    </tr>\n    <tr>\n      <th>14832</th>\n      <td>False</td>\n      <td>[{'id': 16, 'name': 'Animation'}, {'id': 18, '...</td>\n      <td>19311</td>\n      <td>tt0790799</td>\n      <td>3.350555</td>\n      <td>2008-09-04</td>\n      <td>78.0</td>\n      <td>[{'iso_639_1': 'en', 'name': 'English'}]</td>\n      <td>$9.99</td>\n      <td>6.0</td>\n      <td>28.0</td>\n      <td>2008.0</td>\n      <td>3.0</td>\n      <td>9.0</td>\n    </tr>\n  </tbody>\n</table>\n</div>"
     },
     "execution_count": 42,
     "metadata": {},
     "output_type": "execute_result"
    }
   ],
   "source": [
    "import json\n",
    "import pandas as pd\n",
    "\n",
    "path = 'MoviesDataSet/'\n",
    "\n",
    "# Load Data from the Kaggle dataset\n",
    "movies = pd.read_csv(path + 'movies_metadata.csv')\n",
    "\n",
    "# Drop junk columns\n",
    "movies = movies.drop('belongs_to_collection', axis=1)\n",
    "movies = movies.drop('homepage', axis=1)\n",
    "movies = movies.drop('original_language', axis=1)\n",
    "movies = movies.drop('original_title', axis=1)\n",
    "movies = movies.drop('overview', axis=1)\n",
    "movies = movies.drop('tagline', axis=1)\n",
    "movies = movies.drop('poster_path', axis=1)\n",
    "movies = movies.drop('production_companies', axis=1)\n",
    "movies = movies.drop('production_countries', axis=1)\n",
    "movies = movies.drop('video', axis=1)\n",
    "\n",
    "# These columns might be helpful, but they're not reliable in this dataset\n",
    "movies = movies.drop('revenue', axis=1)\n",
    "movies = movies.drop('budget', axis=1)\n",
    "\n",
    "# Filter out any unreleased movies\n",
    "movies = movies[movies['status'] == 'Released']\n",
    "movies = movies.drop('status', axis=1)\n",
    "\n",
    "# Only evaluate movies with ratings similar to our Christmas movies.\n",
    "# This is important since classic Christmas movies are popular and the minimum rating is a 5.4\n",
    "movies = movies[movies['vote_average'] >= 5.4]\n",
    "movies = movies[movies['vote_average'] <= 8.0]\n",
    "\n",
    "# Filter out extremely popular movies. Max popularity for a Christmas movie is 17.3\n",
    "movies['popularity'] = movies['popularity'].astype(float)\n",
    "movies = movies[movies['popularity'] <= 18]\n",
    "\n",
    "# Split the date into year / quarter / month components for easier analysis\n",
    "movies['release_year'] = pd.DatetimeIndex(movies['release_date']).year\n",
    "movies['release_quarter'] = pd.DatetimeIndex(movies['release_date']).quarter\n",
    "movies['release_month'] = pd.DatetimeIndex(movies['release_date']).month\n",
    "\n",
    "# Filter out movies from outside of the year range where our labelled data lives\n",
    "movies = movies[movies['release_year'] >= 1940 ]\n",
    "movies = movies[movies['release_year'] <= 2015 ]\n",
    "\n",
    "# Filter out extremely long movies\n",
    "movies['runtime'] = movies['runtime'].astype(int, errors='ignore')\n",
    "movies = movies[movies['runtime'] <= 150]\n",
    "\n",
    "# Convert ID to an int. Because why wouldn't it be?\n",
    "movies['id'] = movies['id'].astype(int)\n",
    "\n",
    "# Sort movies by title\n",
    "movies = movies.sort_values('title')\n",
    "\n",
    "movies.head()"
   ]
  },
  {
   "cell_type": "code",
   "execution_count": 43,
   "outputs": [
    {
     "data": {
      "text/plain": "       adult                                             genres      id  \\\n15775  False  [{'id': 18, 'name': 'Drama'}, {'id': 35, 'name...    4204   \n36186  False                      [{'id': 18, 'name': 'Drama'}]  248268   \n14832  False  [{'id': 16, 'name': 'Animation'}, {'id': 18, '...   19311   \n22323  False                [{'id': 99, 'name': 'Documentary'}]   95383   \n25192  False  [{'id': 53, 'name': 'Thriller'}, {'id': 28, 'n...  252178   \n\n         imdb_id  popularity release_date  runtime  \\\n15775  tt1024733    2.326842   2008-01-01     98.0   \n36186  tt2106284    0.984593   2014-01-10     90.0   \n14832  tt0790799    3.350555   2008-09-04     78.0   \n22323  tt2258233    0.891024   2013-01-11     89.0   \n25192  tt2614684    7.080550   2014-10-10     99.0   \n\n                                    title  vote_average  vote_count  \\\n15775                            $5 a Day           6.0        24.0   \n36186  $50K and a Call Girl: A Love Story           6.3        11.0   \n14832                               $9.99           6.0        28.0   \n22323                          $ellebrity           5.5         9.0   \n25192                                 '71           6.7       414.0   \n\n       release_year  release_quarter  release_month  \n15775        2008.0              1.0            1.0  \n36186        2014.0              1.0            1.0  \n14832        2008.0              3.0            9.0  \n22323        2013.0              1.0            1.0  \n25192        2014.0              4.0           10.0  ",
      "text/html": "<div>\n<style scoped>\n    .dataframe tbody tr th:only-of-type {\n        vertical-align: middle;\n    }\n\n    .dataframe tbody tr th {\n        vertical-align: top;\n    }\n\n    .dataframe thead th {\n        text-align: right;\n    }\n</style>\n<table border=\"1\" class=\"dataframe\">\n  <thead>\n    <tr style=\"text-align: right;\">\n      <th></th>\n      <th>adult</th>\n      <th>genres</th>\n      <th>id</th>\n      <th>imdb_id</th>\n      <th>popularity</th>\n      <th>release_date</th>\n      <th>runtime</th>\n      <th>title</th>\n      <th>vote_average</th>\n      <th>vote_count</th>\n      <th>release_year</th>\n      <th>release_quarter</th>\n      <th>release_month</th>\n    </tr>\n  </thead>\n  <tbody>\n    <tr>\n      <th>15775</th>\n      <td>False</td>\n      <td>[{'id': 18, 'name': 'Drama'}, {'id': 35, 'name...</td>\n      <td>4204</td>\n      <td>tt1024733</td>\n      <td>2.326842</td>\n      <td>2008-01-01</td>\n      <td>98.0</td>\n      <td>$5 a Day</td>\n      <td>6.0</td>\n      <td>24.0</td>\n      <td>2008.0</td>\n      <td>1.0</td>\n      <td>1.0</td>\n    </tr>\n    <tr>\n      <th>36186</th>\n      <td>False</td>\n      <td>[{'id': 18, 'name': 'Drama'}]</td>\n      <td>248268</td>\n      <td>tt2106284</td>\n      <td>0.984593</td>\n      <td>2014-01-10</td>\n      <td>90.0</td>\n      <td>$50K and a Call Girl: A Love Story</td>\n      <td>6.3</td>\n      <td>11.0</td>\n      <td>2014.0</td>\n      <td>1.0</td>\n      <td>1.0</td>\n    </tr>\n    <tr>\n      <th>14832</th>\n      <td>False</td>\n      <td>[{'id': 16, 'name': 'Animation'}, {'id': 18, '...</td>\n      <td>19311</td>\n      <td>tt0790799</td>\n      <td>3.350555</td>\n      <td>2008-09-04</td>\n      <td>78.0</td>\n      <td>$9.99</td>\n      <td>6.0</td>\n      <td>28.0</td>\n      <td>2008.0</td>\n      <td>3.0</td>\n      <td>9.0</td>\n    </tr>\n    <tr>\n      <th>22323</th>\n      <td>False</td>\n      <td>[{'id': 99, 'name': 'Documentary'}]</td>\n      <td>95383</td>\n      <td>tt2258233</td>\n      <td>0.891024</td>\n      <td>2013-01-11</td>\n      <td>89.0</td>\n      <td>$ellebrity</td>\n      <td>5.5</td>\n      <td>9.0</td>\n      <td>2013.0</td>\n      <td>1.0</td>\n      <td>1.0</td>\n    </tr>\n    <tr>\n      <th>25192</th>\n      <td>False</td>\n      <td>[{'id': 53, 'name': 'Thriller'}, {'id': 28, 'n...</td>\n      <td>252178</td>\n      <td>tt2614684</td>\n      <td>7.080550</td>\n      <td>2014-10-10</td>\n      <td>99.0</td>\n      <td>'71</td>\n      <td>6.7</td>\n      <td>414.0</td>\n      <td>2014.0</td>\n      <td>4.0</td>\n      <td>10.0</td>\n    </tr>\n  </tbody>\n</table>\n</div>"
     },
     "execution_count": 43,
     "metadata": {},
     "output_type": "execute_result"
    }
   ],
   "source": [
    "def extract_language(row):\n",
    "    data = row['spoken_languages']\n",
    "    row['Is English'] = 'English' in data\n",
    "    return row\n",
    "\n",
    "movies = movies.apply(extract_language, axis=1)\n",
    "\n",
    "# Filter down to only English movies since all labelled movies are English\n",
    "movies = movies[movies['Is English'] == True]\n",
    "\n",
    "movies = movies.drop('spoken_languages', axis=1)\n",
    "movies = movies.drop('Is English', axis=1)\n",
    "movies.head()"
   ],
   "metadata": {
    "collapsed": false,
    "pycharm": {
     "name": "#%%\n"
    }
   }
  },
  {
   "cell_type": "code",
   "execution_count": 44,
   "outputs": [
    {
     "data": {
      "text/plain": "       Is Action  Is Adventure  Is Animation  Is Comedy  Is Crime  \\\n15775        NaN           NaN           NaN        1.0       NaN   \n36186        NaN           NaN           NaN        NaN       NaN   \n14832        NaN           NaN           1.0        NaN       NaN   \n22323        NaN           NaN           NaN        NaN       NaN   \n25192        1.0           NaN           NaN        NaN       NaN   \n\n       Is Documentary  Is Drama  Is Family  Is Fantasy  Is Foreign  ...  \\\n15775             NaN       1.0        NaN         NaN         NaN  ...   \n36186             NaN       1.0        NaN         NaN         NaN  ...   \n14832             NaN       1.0        NaN         NaN         NaN  ...   \n22323             1.0       NaN        NaN         NaN         NaN  ...   \n25192             NaN       1.0        NaN         NaN         NaN  ...   \n\n         imdb_id  popularity  release_date  release_month  release_quarter  \\\n15775  tt1024733    2.326842    2008-01-01            1.0              1.0   \n36186  tt2106284    0.984593    2014-01-10            1.0              1.0   \n14832  tt0790799    3.350555    2008-09-04            9.0              3.0   \n22323  tt2258233    0.891024    2013-01-11            1.0              1.0   \n25192  tt2614684    7.080550    2014-10-10           10.0              4.0   \n\n       release_year  runtime                               title  \\\n15775        2008.0     98.0                            $5 a Day   \n36186        2014.0     90.0  $50K and a Call Girl: A Love Story   \n14832        2008.0     78.0                               $9.99   \n22323        2013.0     89.0                          $ellebrity   \n25192        2014.0     99.0                                 '71   \n\n       vote_average  vote_count  \n15775           6.0        24.0  \n36186           6.3        11.0  \n14832           6.0        28.0  \n22323           5.5         9.0  \n25192           6.7       414.0  \n\n[5 rows x 32 columns]",
      "text/html": "<div>\n<style scoped>\n    .dataframe tbody tr th:only-of-type {\n        vertical-align: middle;\n    }\n\n    .dataframe tbody tr th {\n        vertical-align: top;\n    }\n\n    .dataframe thead th {\n        text-align: right;\n    }\n</style>\n<table border=\"1\" class=\"dataframe\">\n  <thead>\n    <tr style=\"text-align: right;\">\n      <th></th>\n      <th>Is Action</th>\n      <th>Is Adventure</th>\n      <th>Is Animation</th>\n      <th>Is Comedy</th>\n      <th>Is Crime</th>\n      <th>Is Documentary</th>\n      <th>Is Drama</th>\n      <th>Is Family</th>\n      <th>Is Fantasy</th>\n      <th>Is Foreign</th>\n      <th>...</th>\n      <th>imdb_id</th>\n      <th>popularity</th>\n      <th>release_date</th>\n      <th>release_month</th>\n      <th>release_quarter</th>\n      <th>release_year</th>\n      <th>runtime</th>\n      <th>title</th>\n      <th>vote_average</th>\n      <th>vote_count</th>\n    </tr>\n  </thead>\n  <tbody>\n    <tr>\n      <th>15775</th>\n      <td>NaN</td>\n      <td>NaN</td>\n      <td>NaN</td>\n      <td>1.0</td>\n      <td>NaN</td>\n      <td>NaN</td>\n      <td>1.0</td>\n      <td>NaN</td>\n      <td>NaN</td>\n      <td>NaN</td>\n      <td>...</td>\n      <td>tt1024733</td>\n      <td>2.326842</td>\n      <td>2008-01-01</td>\n      <td>1.0</td>\n      <td>1.0</td>\n      <td>2008.0</td>\n      <td>98.0</td>\n      <td>$5 a Day</td>\n      <td>6.0</td>\n      <td>24.0</td>\n    </tr>\n    <tr>\n      <th>36186</th>\n      <td>NaN</td>\n      <td>NaN</td>\n      <td>NaN</td>\n      <td>NaN</td>\n      <td>NaN</td>\n      <td>NaN</td>\n      <td>1.0</td>\n      <td>NaN</td>\n      <td>NaN</td>\n      <td>NaN</td>\n      <td>...</td>\n      <td>tt2106284</td>\n      <td>0.984593</td>\n      <td>2014-01-10</td>\n      <td>1.0</td>\n      <td>1.0</td>\n      <td>2014.0</td>\n      <td>90.0</td>\n      <td>$50K and a Call Girl: A Love Story</td>\n      <td>6.3</td>\n      <td>11.0</td>\n    </tr>\n    <tr>\n      <th>14832</th>\n      <td>NaN</td>\n      <td>NaN</td>\n      <td>1.0</td>\n      <td>NaN</td>\n      <td>NaN</td>\n      <td>NaN</td>\n      <td>1.0</td>\n      <td>NaN</td>\n      <td>NaN</td>\n      <td>NaN</td>\n      <td>...</td>\n      <td>tt0790799</td>\n      <td>3.350555</td>\n      <td>2008-09-04</td>\n      <td>9.0</td>\n      <td>3.0</td>\n      <td>2008.0</td>\n      <td>78.0</td>\n      <td>$9.99</td>\n      <td>6.0</td>\n      <td>28.0</td>\n    </tr>\n    <tr>\n      <th>22323</th>\n      <td>NaN</td>\n      <td>NaN</td>\n      <td>NaN</td>\n      <td>NaN</td>\n      <td>NaN</td>\n      <td>1.0</td>\n      <td>NaN</td>\n      <td>NaN</td>\n      <td>NaN</td>\n      <td>NaN</td>\n      <td>...</td>\n      <td>tt2258233</td>\n      <td>0.891024</td>\n      <td>2013-01-11</td>\n      <td>1.0</td>\n      <td>1.0</td>\n      <td>2013.0</td>\n      <td>89.0</td>\n      <td>$ellebrity</td>\n      <td>5.5</td>\n      <td>9.0</td>\n    </tr>\n    <tr>\n      <th>25192</th>\n      <td>1.0</td>\n      <td>NaN</td>\n      <td>NaN</td>\n      <td>NaN</td>\n      <td>NaN</td>\n      <td>NaN</td>\n      <td>1.0</td>\n      <td>NaN</td>\n      <td>NaN</td>\n      <td>NaN</td>\n      <td>...</td>\n      <td>tt2614684</td>\n      <td>7.080550</td>\n      <td>2014-10-10</td>\n      <td>10.0</td>\n      <td>4.0</td>\n      <td>2014.0</td>\n      <td>99.0</td>\n      <td>'71</td>\n      <td>6.7</td>\n      <td>414.0</td>\n    </tr>\n  </tbody>\n</table>\n<p>5 rows × 32 columns</p>\n</div>"
     },
     "execution_count": 44,
     "metadata": {},
     "output_type": "execute_result"
    }
   ],
   "source": [
    "# Detect Genres\n",
    "def extract_genres(row):\n",
    "    data = row['genres']\n",
    "    arr = json.loads(data.replace(\"'\", \"\\\"\"))\n",
    "    for genre in arr:\n",
    "        row['Is ' + genre['name']] = 1\n",
    "\n",
    "    return row\n",
    "\n",
    "movies = movies.apply(extract_genres, axis=1)\n",
    "\n",
    "# Set our NA values for non-genre membership to 0\n",
    "#movies = movies.fillna(0)\n",
    "\n",
    "# Drop the no longer needed source column\n",
    "movies = movies.drop('genres', axis=1)\n",
    "movies.head()"
   ],
   "metadata": {
    "collapsed": false,
    "pycharm": {
     "name": "#%%\n"
    }
   }
  },
  {
   "cell_type": "code",
   "execution_count": 45,
   "outputs": [],
   "source": [
    "# Convert our adult column from true / false to 1 / 0.\n",
    "# Note we move from String -> Bool -> Int here\n",
    "movies['adult'] = movies['adult'].astype(bool).astype(int)"
   ],
   "metadata": {
    "collapsed": false,
    "pycharm": {
     "name": "#%%\n"
    }
   }
  },
  {
   "cell_type": "code",
   "execution_count": 46,
   "outputs": [
    {
     "data": {
      "text/plain": "       Is Action  Is Adventure  Is Animation  Is Comedy  Is Crime  \\\n15775        NaN           NaN           NaN        1.0       NaN   \n36186        NaN           NaN           NaN        NaN       NaN   \n14832        NaN           NaN           1.0        NaN       NaN   \n22323        NaN           NaN           NaN        NaN       NaN   \n25192        1.0           NaN           NaN        NaN       NaN   \n\n       Is Documentary  Is Drama  Is Family  Is Fantasy  Is Foreign  ...  \\\n15775             NaN       1.0        NaN         NaN         NaN  ...   \n36186             NaN       1.0        NaN         NaN         NaN  ...   \n14832             NaN       1.0        NaN         NaN         NaN  ...   \n22323             1.0       NaN        NaN         NaN         NaN  ...   \n25192             NaN       1.0        NaN         NaN         NaN  ...   \n\n       popularity  release_date  release_month  release_quarter  release_year  \\\n15775    2.326842    2008-01-01            1.0              1.0        2008.0   \n36186    0.984593    2014-01-10            1.0              1.0        2014.0   \n14832    3.350555    2008-09-04            9.0              3.0        2008.0   \n22323    0.891024    2013-01-11            1.0              1.0        2013.0   \n25192    7.080550    2014-10-10           10.0              4.0        2014.0   \n\n       runtime                               title  vote_average  vote_count  \\\n15775     98.0                            $5 a Day           6.0        24.0   \n36186     90.0  $50K and a Call Girl: A Love Story           6.3        11.0   \n14832     78.0                               $9.99           6.0        28.0   \n22323     89.0                          $ellebrity           5.5         9.0   \n25192     99.0                                 '71           6.7       414.0   \n\n       Is Christmas Movie  \n15775                   0  \n36186                   0  \n14832                   0  \n22323                   0  \n25192                   0  \n\n[5 rows x 33 columns]",
      "text/html": "<div>\n<style scoped>\n    .dataframe tbody tr th:only-of-type {\n        vertical-align: middle;\n    }\n\n    .dataframe tbody tr th {\n        vertical-align: top;\n    }\n\n    .dataframe thead th {\n        text-align: right;\n    }\n</style>\n<table border=\"1\" class=\"dataframe\">\n  <thead>\n    <tr style=\"text-align: right;\">\n      <th></th>\n      <th>Is Action</th>\n      <th>Is Adventure</th>\n      <th>Is Animation</th>\n      <th>Is Comedy</th>\n      <th>Is Crime</th>\n      <th>Is Documentary</th>\n      <th>Is Drama</th>\n      <th>Is Family</th>\n      <th>Is Fantasy</th>\n      <th>Is Foreign</th>\n      <th>...</th>\n      <th>popularity</th>\n      <th>release_date</th>\n      <th>release_month</th>\n      <th>release_quarter</th>\n      <th>release_year</th>\n      <th>runtime</th>\n      <th>title</th>\n      <th>vote_average</th>\n      <th>vote_count</th>\n      <th>Is Christmas Movie</th>\n    </tr>\n  </thead>\n  <tbody>\n    <tr>\n      <th>15775</th>\n      <td>NaN</td>\n      <td>NaN</td>\n      <td>NaN</td>\n      <td>1.0</td>\n      <td>NaN</td>\n      <td>NaN</td>\n      <td>1.0</td>\n      <td>NaN</td>\n      <td>NaN</td>\n      <td>NaN</td>\n      <td>...</td>\n      <td>2.326842</td>\n      <td>2008-01-01</td>\n      <td>1.0</td>\n      <td>1.0</td>\n      <td>2008.0</td>\n      <td>98.0</td>\n      <td>$5 a Day</td>\n      <td>6.0</td>\n      <td>24.0</td>\n      <td>0</td>\n    </tr>\n    <tr>\n      <th>36186</th>\n      <td>NaN</td>\n      <td>NaN</td>\n      <td>NaN</td>\n      <td>NaN</td>\n      <td>NaN</td>\n      <td>NaN</td>\n      <td>1.0</td>\n      <td>NaN</td>\n      <td>NaN</td>\n      <td>NaN</td>\n      <td>...</td>\n      <td>0.984593</td>\n      <td>2014-01-10</td>\n      <td>1.0</td>\n      <td>1.0</td>\n      <td>2014.0</td>\n      <td>90.0</td>\n      <td>$50K and a Call Girl: A Love Story</td>\n      <td>6.3</td>\n      <td>11.0</td>\n      <td>0</td>\n    </tr>\n    <tr>\n      <th>14832</th>\n      <td>NaN</td>\n      <td>NaN</td>\n      <td>1.0</td>\n      <td>NaN</td>\n      <td>NaN</td>\n      <td>NaN</td>\n      <td>1.0</td>\n      <td>NaN</td>\n      <td>NaN</td>\n      <td>NaN</td>\n      <td>...</td>\n      <td>3.350555</td>\n      <td>2008-09-04</td>\n      <td>9.0</td>\n      <td>3.0</td>\n      <td>2008.0</td>\n      <td>78.0</td>\n      <td>$9.99</td>\n      <td>6.0</td>\n      <td>28.0</td>\n      <td>0</td>\n    </tr>\n    <tr>\n      <th>22323</th>\n      <td>NaN</td>\n      <td>NaN</td>\n      <td>NaN</td>\n      <td>NaN</td>\n      <td>NaN</td>\n      <td>1.0</td>\n      <td>NaN</td>\n      <td>NaN</td>\n      <td>NaN</td>\n      <td>NaN</td>\n      <td>...</td>\n      <td>0.891024</td>\n      <td>2013-01-11</td>\n      <td>1.0</td>\n      <td>1.0</td>\n      <td>2013.0</td>\n      <td>89.0</td>\n      <td>$ellebrity</td>\n      <td>5.5</td>\n      <td>9.0</td>\n      <td>0</td>\n    </tr>\n    <tr>\n      <th>25192</th>\n      <td>1.0</td>\n      <td>NaN</td>\n      <td>NaN</td>\n      <td>NaN</td>\n      <td>NaN</td>\n      <td>NaN</td>\n      <td>1.0</td>\n      <td>NaN</td>\n      <td>NaN</td>\n      <td>NaN</td>\n      <td>...</td>\n      <td>7.080550</td>\n      <td>2014-10-10</td>\n      <td>10.0</td>\n      <td>4.0</td>\n      <td>2014.0</td>\n      <td>99.0</td>\n      <td>'71</td>\n      <td>6.7</td>\n      <td>414.0</td>\n      <td>0</td>\n    </tr>\n  </tbody>\n</table>\n<p>5 rows × 33 columns</p>\n</div>"
     },
     "execution_count": 46,
     "metadata": {},
     "output_type": "execute_result"
    }
   ],
   "source": [
    "# These are IMDB IDs of movies known to be Christmas movies or classic Christmas movies. See other experiments for details.\n",
    "labelled_movies = ['tt0993789','tt6433880','tt2402927','tt0081793','tt2709692','tt0064349','tt0041473','tt7736496','tt0032981','tt0043733','tt0338348','tt0117372','tt1430607','tt0099487','tt1401143','tt0086465','tt3530002','tt0044008','tt1067106','tt0037595','tt0096061','tt0116705','tt0457939','tt0034862','tt0087363','tt0039628','tt0110527','tt0033045','tt2083355','tt0039190','tt0319343','tt0085936','tt0047673','tt0104940','tt0095016','tt0058536','tt0097958','tt0107688','tt0114924','tt0111070','tt0085334','tt1268799','tt0037059','tt0314331','tt0071222','tt0060345','tt0099785','tt0373469','tt3850590','tt0059026','tt0038650','tt3824458','tt0307987']\n",
    "\n",
    "# We need to label all rows based on if they're a Christmas movie or not so we can train a model\n",
    "def set_label(row):\n",
    "    imdb = row['imdb_id']\n",
    "    if imdb in labelled_movies:\n",
    "        row['Is Christmas Movie'] = 1\n",
    "    else:\n",
    "        row['Is Christmas Movie'] = 0\n",
    "    return row\n",
    "\n",
    "movies = movies.apply(set_label, axis=1)\n",
    "\n",
    "movies.head()"
   ],
   "metadata": {
    "collapsed": false,
    "pycharm": {
     "name": "#%%\n"
    }
   }
  },
  {
   "cell_type": "code",
   "execution_count": 47,
   "outputs": [
    {
     "data": {
      "text/plain": "id           int32\nkeywords    object\ndtype: object"
     },
     "execution_count": 47,
     "metadata": {},
     "output_type": "execute_result"
    }
   ],
   "source": [
    "# Load our Keywords dataset\n",
    "keywords = pd.read_csv(path + \"keywords.csv\")\n",
    "keywords['id'] = keywords['id'].astype(int)"
   ],
   "metadata": {
    "collapsed": false,
    "pycharm": {
     "name": "#%%\n"
    }
   }
  },
  {
   "cell_type": "code",
   "execution_count": 48,
   "outputs": [
    {
     "data": {
      "text/plain": "   Is Action  Is Adventure  Is Animation  Is Comedy  Is Crime  Is Documentary  \\\n0        NaN           NaN           NaN        1.0       NaN             NaN   \n1        NaN           NaN           NaN        NaN       NaN             NaN   \n2        NaN           NaN           NaN        NaN       NaN             NaN   \n3        NaN           NaN           1.0        NaN       NaN             NaN   \n4        NaN           NaN           NaN        NaN       NaN             1.0   \n\n   Is Drama  Is Family  Is Fantasy  Is Foreign  ...  release_date  \\\n0       1.0        NaN         NaN         NaN  ...    2008-01-01   \n1       1.0        NaN         NaN         NaN  ...    2014-01-10   \n2       1.0        NaN         NaN         NaN  ...    2014-01-10   \n3       1.0        NaN         NaN         NaN  ...    2008-09-04   \n4       NaN        NaN         NaN         NaN  ...    2013-01-11   \n\n   release_month  release_quarter  release_year  runtime  \\\n0            1.0              1.0        2008.0     98.0   \n1            1.0              1.0        2014.0     90.0   \n2            1.0              1.0        2014.0     90.0   \n3            9.0              3.0        2008.0     78.0   \n4            1.0              1.0        2013.0     89.0   \n\n                                title  vote_average  vote_count  \\\n0                            $5 a Day           6.0        24.0   \n1  $50K and a Call Girl: A Love Story           6.3        11.0   \n2  $50K and a Call Girl: A Love Story           6.3        11.0   \n3                               $9.99           6.0        28.0   \n4                          $ellebrity           5.5         9.0   \n\n   Is Christmas Movie                                           keywords  \n0                   0                                                 []  \n1                   0                                                 []  \n2                   0                                                 []  \n3                   0  [{'id': 10183, 'name': 'independent film'}, {'...  \n4                   0  [{'id': 208403, 'name': 'celebrity photographe...  \n\n[5 rows x 34 columns]",
      "text/html": "<div>\n<style scoped>\n    .dataframe tbody tr th:only-of-type {\n        vertical-align: middle;\n    }\n\n    .dataframe tbody tr th {\n        vertical-align: top;\n    }\n\n    .dataframe thead th {\n        text-align: right;\n    }\n</style>\n<table border=\"1\" class=\"dataframe\">\n  <thead>\n    <tr style=\"text-align: right;\">\n      <th></th>\n      <th>Is Action</th>\n      <th>Is Adventure</th>\n      <th>Is Animation</th>\n      <th>Is Comedy</th>\n      <th>Is Crime</th>\n      <th>Is Documentary</th>\n      <th>Is Drama</th>\n      <th>Is Family</th>\n      <th>Is Fantasy</th>\n      <th>Is Foreign</th>\n      <th>...</th>\n      <th>release_date</th>\n      <th>release_month</th>\n      <th>release_quarter</th>\n      <th>release_year</th>\n      <th>runtime</th>\n      <th>title</th>\n      <th>vote_average</th>\n      <th>vote_count</th>\n      <th>Is Christmas Movie</th>\n      <th>keywords</th>\n    </tr>\n  </thead>\n  <tbody>\n    <tr>\n      <th>0</th>\n      <td>NaN</td>\n      <td>NaN</td>\n      <td>NaN</td>\n      <td>1.0</td>\n      <td>NaN</td>\n      <td>NaN</td>\n      <td>1.0</td>\n      <td>NaN</td>\n      <td>NaN</td>\n      <td>NaN</td>\n      <td>...</td>\n      <td>2008-01-01</td>\n      <td>1.0</td>\n      <td>1.0</td>\n      <td>2008.0</td>\n      <td>98.0</td>\n      <td>$5 a Day</td>\n      <td>6.0</td>\n      <td>24.0</td>\n      <td>0</td>\n      <td>[]</td>\n    </tr>\n    <tr>\n      <th>1</th>\n      <td>NaN</td>\n      <td>NaN</td>\n      <td>NaN</td>\n      <td>NaN</td>\n      <td>NaN</td>\n      <td>NaN</td>\n      <td>1.0</td>\n      <td>NaN</td>\n      <td>NaN</td>\n      <td>NaN</td>\n      <td>...</td>\n      <td>2014-01-10</td>\n      <td>1.0</td>\n      <td>1.0</td>\n      <td>2014.0</td>\n      <td>90.0</td>\n      <td>$50K and a Call Girl: A Love Story</td>\n      <td>6.3</td>\n      <td>11.0</td>\n      <td>0</td>\n      <td>[]</td>\n    </tr>\n    <tr>\n      <th>2</th>\n      <td>NaN</td>\n      <td>NaN</td>\n      <td>NaN</td>\n      <td>NaN</td>\n      <td>NaN</td>\n      <td>NaN</td>\n      <td>1.0</td>\n      <td>NaN</td>\n      <td>NaN</td>\n      <td>NaN</td>\n      <td>...</td>\n      <td>2014-01-10</td>\n      <td>1.0</td>\n      <td>1.0</td>\n      <td>2014.0</td>\n      <td>90.0</td>\n      <td>$50K and a Call Girl: A Love Story</td>\n      <td>6.3</td>\n      <td>11.0</td>\n      <td>0</td>\n      <td>[]</td>\n    </tr>\n    <tr>\n      <th>3</th>\n      <td>NaN</td>\n      <td>NaN</td>\n      <td>1.0</td>\n      <td>NaN</td>\n      <td>NaN</td>\n      <td>NaN</td>\n      <td>1.0</td>\n      <td>NaN</td>\n      <td>NaN</td>\n      <td>NaN</td>\n      <td>...</td>\n      <td>2008-09-04</td>\n      <td>9.0</td>\n      <td>3.0</td>\n      <td>2008.0</td>\n      <td>78.0</td>\n      <td>$9.99</td>\n      <td>6.0</td>\n      <td>28.0</td>\n      <td>0</td>\n      <td>[{'id': 10183, 'name': 'independent film'}, {'...</td>\n    </tr>\n    <tr>\n      <th>4</th>\n      <td>NaN</td>\n      <td>NaN</td>\n      <td>NaN</td>\n      <td>NaN</td>\n      <td>NaN</td>\n      <td>1.0</td>\n      <td>NaN</td>\n      <td>NaN</td>\n      <td>NaN</td>\n      <td>NaN</td>\n      <td>...</td>\n      <td>2013-01-11</td>\n      <td>1.0</td>\n      <td>1.0</td>\n      <td>2013.0</td>\n      <td>89.0</td>\n      <td>$ellebrity</td>\n      <td>5.5</td>\n      <td>9.0</td>\n      <td>0</td>\n      <td>[{'id': 208403, 'name': 'celebrity photographe...</td>\n    </tr>\n  </tbody>\n</table>\n<p>5 rows × 34 columns</p>\n</div>"
     },
     "execution_count": 48,
     "metadata": {},
     "output_type": "execute_result"
    }
   ],
   "source": [
    "# Merge the keywords column into our dataset\n",
    "movies = pd.merge(movies, keywords, on='id')\n",
    "movies.head()"
   ],
   "metadata": {
    "collapsed": false,
    "pycharm": {
     "name": "#%%\n"
    }
   }
  },
  {
   "cell_type": "code",
   "execution_count": 49,
   "outputs": [],
   "source": [
    "# Filter rows without keywords\n",
    "movies = movies[movies['keywords'] != '[]']"
   ],
   "metadata": {
    "collapsed": false,
    "pycharm": {
     "name": "#%%\n"
    }
   }
  },
  {
   "cell_type": "code",
   "execution_count": 50,
   "outputs": [
    {
     "data": {
      "text/plain": "   Is Action  Is Adventure  Is Animation  Is Christmas Movie  Is Comedy  \\\n3        NaN           NaN           1.0                   0        NaN   \n4        NaN           NaN           NaN                   0        NaN   \n5        1.0           NaN           NaN                   0        NaN   \n6        1.0           NaN           NaN                   0        NaN   \n8        NaN           NaN           1.0                   0        NaN   \n\n   Is Crime  Is Documentary  Is Drama  Is Family  Is Fantasy  ...    imdb_id  \\\n3       NaN             NaN       1.0        NaN         NaN  ...  tt0790799   \n4       NaN             1.0       NaN        NaN         NaN  ...  tt2258233   \n5       NaN             NaN       1.0        NaN         NaN  ...  tt2614684   \n6       NaN             NaN       NaN        NaN         NaN  ...  tt0074080   \n8       NaN             NaN       NaN        1.0         NaN  ...  tt0208654   \n\n   popularity  release_date  release_month  release_quarter  release_year  \\\n3    3.350555    2008-09-04            9.0              3.0        2008.0   \n4    0.891024    2013-01-11            1.0              1.0        2013.0   \n5    7.080550    2014-10-10           10.0              4.0        2014.0   \n6    0.908897    1974-06-01            6.0              2.0        1974.0   \n8    1.353059    1974-12-08           12.0              4.0        1974.0   \n\n   runtime                             title  vote_average  vote_count  \n3     78.0                             $9.99           6.0        28.0  \n4     89.0                        $ellebrity           5.5         9.0  \n5     99.0                               '71           6.7       414.0  \n6     88.0                       'Gator Bait           6.5         2.0  \n8     25.0  'Twas the Night Before Christmas           5.9        11.0  \n\n[5 rows x 14401 columns]",
      "text/html": "<div>\n<style scoped>\n    .dataframe tbody tr th:only-of-type {\n        vertical-align: middle;\n    }\n\n    .dataframe tbody tr th {\n        vertical-align: top;\n    }\n\n    .dataframe thead th {\n        text-align: right;\n    }\n</style>\n<table border=\"1\" class=\"dataframe\">\n  <thead>\n    <tr style=\"text-align: right;\">\n      <th></th>\n      <th>Is Action</th>\n      <th>Is Adventure</th>\n      <th>Is Animation</th>\n      <th>Is Christmas Movie</th>\n      <th>Is Comedy</th>\n      <th>Is Crime</th>\n      <th>Is Documentary</th>\n      <th>Is Drama</th>\n      <th>Is Family</th>\n      <th>Is Fantasy</th>\n      <th>...</th>\n      <th>imdb_id</th>\n      <th>popularity</th>\n      <th>release_date</th>\n      <th>release_month</th>\n      <th>release_quarter</th>\n      <th>release_year</th>\n      <th>runtime</th>\n      <th>title</th>\n      <th>vote_average</th>\n      <th>vote_count</th>\n    </tr>\n  </thead>\n  <tbody>\n    <tr>\n      <th>3</th>\n      <td>NaN</td>\n      <td>NaN</td>\n      <td>1.0</td>\n      <td>0</td>\n      <td>NaN</td>\n      <td>NaN</td>\n      <td>NaN</td>\n      <td>1.0</td>\n      <td>NaN</td>\n      <td>NaN</td>\n      <td>...</td>\n      <td>tt0790799</td>\n      <td>3.350555</td>\n      <td>2008-09-04</td>\n      <td>9.0</td>\n      <td>3.0</td>\n      <td>2008.0</td>\n      <td>78.0</td>\n      <td>$9.99</td>\n      <td>6.0</td>\n      <td>28.0</td>\n    </tr>\n    <tr>\n      <th>4</th>\n      <td>NaN</td>\n      <td>NaN</td>\n      <td>NaN</td>\n      <td>0</td>\n      <td>NaN</td>\n      <td>NaN</td>\n      <td>1.0</td>\n      <td>NaN</td>\n      <td>NaN</td>\n      <td>NaN</td>\n      <td>...</td>\n      <td>tt2258233</td>\n      <td>0.891024</td>\n      <td>2013-01-11</td>\n      <td>1.0</td>\n      <td>1.0</td>\n      <td>2013.0</td>\n      <td>89.0</td>\n      <td>$ellebrity</td>\n      <td>5.5</td>\n      <td>9.0</td>\n    </tr>\n    <tr>\n      <th>5</th>\n      <td>1.0</td>\n      <td>NaN</td>\n      <td>NaN</td>\n      <td>0</td>\n      <td>NaN</td>\n      <td>NaN</td>\n      <td>NaN</td>\n      <td>1.0</td>\n      <td>NaN</td>\n      <td>NaN</td>\n      <td>...</td>\n      <td>tt2614684</td>\n      <td>7.080550</td>\n      <td>2014-10-10</td>\n      <td>10.0</td>\n      <td>4.0</td>\n      <td>2014.0</td>\n      <td>99.0</td>\n      <td>'71</td>\n      <td>6.7</td>\n      <td>414.0</td>\n    </tr>\n    <tr>\n      <th>6</th>\n      <td>1.0</td>\n      <td>NaN</td>\n      <td>NaN</td>\n      <td>0</td>\n      <td>NaN</td>\n      <td>NaN</td>\n      <td>NaN</td>\n      <td>NaN</td>\n      <td>NaN</td>\n      <td>NaN</td>\n      <td>...</td>\n      <td>tt0074080</td>\n      <td>0.908897</td>\n      <td>1974-06-01</td>\n      <td>6.0</td>\n      <td>2.0</td>\n      <td>1974.0</td>\n      <td>88.0</td>\n      <td>'Gator Bait</td>\n      <td>6.5</td>\n      <td>2.0</td>\n    </tr>\n    <tr>\n      <th>8</th>\n      <td>NaN</td>\n      <td>NaN</td>\n      <td>1.0</td>\n      <td>0</td>\n      <td>NaN</td>\n      <td>NaN</td>\n      <td>NaN</td>\n      <td>NaN</td>\n      <td>1.0</td>\n      <td>NaN</td>\n      <td>...</td>\n      <td>tt0208654</td>\n      <td>1.353059</td>\n      <td>1974-12-08</td>\n      <td>12.0</td>\n      <td>4.0</td>\n      <td>1974.0</td>\n      <td>25.0</td>\n      <td>'Twas the Night Before Christmas</td>\n      <td>5.9</td>\n      <td>11.0</td>\n    </tr>\n  </tbody>\n</table>\n<p>5 rows × 14401 columns</p>\n</div>"
     },
     "execution_count": 50,
     "metadata": {},
     "output_type": "execute_result"
    }
   ],
   "source": [
    "# Detect Keywords\n",
    "def extract_keywords(row):\n",
    "    data = row['keywords']\n",
    "\n",
    "    # Sorry, I suck at RegEx right now. The source data doesn't truly use JSON and doesn't encode apostrophes either\n",
    "    data = data.replace(\"n's\",\"ns\") # Strip apostrophes not for serialization\n",
    "    data = data.replace(\"r's\",\"rs\") # Strip apostrophes not for serialization\n",
    "    data = data.replace(\"ladies'\",\"ladies\") # Strip apostrophes not for serialization\n",
    "    data = data.replace(\"one's\",\"ones\") # Strip apostrophes not for serialization\n",
    "    data = data.replace(\"d's\",\"ds\") # Strip apostrophes not for serialization\n",
    "    data = data.replace(\"t's\",\"ts\") # Strip apostrophes not for serialization\n",
    "    data = data.replace(\"l's\",\"ls\") # Strip apostrophes not for serialization\n",
    "    data = data.replace(\"e's\",\"es\") # Strip apostrophes not for serialization\n",
    "    data = data.replace(\"d'e\",\"de\") # Strip apostrophes not for serialization\n",
    "    data = data.replace(\"girls' \",\"girls \") # Strip apostrophes not for serialization\n",
    "    data = data.replace(\"boys' \",\"boys \") # Strip apostrophes not for serialization\n",
    "    data = data.replace(\"y's\",\"ys\") # Strip apostrophes not for serialization\n",
    "    data = data.replace(\"'s \",\"s\") # Strip apostrophes not for serialization\n",
    "    data = data.replace(\"ers' \",\"ers \") # Strip apostrophes not for serialization\n",
    "    data = data.replace(\"s' \",\"s \") # Strip apostrophes not for serialization\n",
    "    data = data.replace(\"'n'\",\"n\") # Strip apostrophes not for serialization\n",
    "    data = data.replace(\"\\\\xa0\",\"\") # Weird data\n",
    "    data = data.replace(\"p's\", \"ps\")\n",
    "    data = data.replace(\"o'h\", \"oh\")\n",
    "    data = data.replace(\"a'u\", \"au\")\n",
    "    data = data.replace(\"u'v\", \"uv\")\n",
    "    data = data.replace(\"d'a\", \"da\")\n",
    "\n",
    "    # The source data is only quasi-JSON so I need to change ' to \" so it will parse\n",
    "    data = data.replace(\"'\", \"\\\"\")\n",
    "\n",
    "    # These tags have to do with the labelled (Christmas movies) data\n",
    "    # The full set of tags results in 14,400 columns and is too large to handle in this experiment\n",
    "    # Note that a few of the things in this list are surprising and are likely due to the inclusion of Bad Santa and things like that\n",
    "    labelled_tags = ['Angel','Bars and Restaurants','Burglar','Based on Novel','Chicago','Christmas','Christmas Party','Christmas Eve','Christmas Carol','Department Store','Female Nudity','Ghost','Gift','Holiday','Hoodlum','Hospital','Lawyer','LGBT','London England','Los Angeles','Love at First Sight','Monster','Multiple Storylines','Murder','Musical','New Years Eve','North Pole','Puppet','Road Trip','Santa Claus','Scrooge','Sex','Snow','Victorian England','Winter','Woman Director']\n",
    "    \n",
    "    # Because people can define Christmas movies by the things they're NOT, add in other common tags\n",
    "    # this allows the algorithm to penalize movies with these common tags\n",
    "    unlablled_tags = ['aftercreditsstinger','alien','based on a true story','biography','blood','corruption','dark comedy','death','detective','dog','drug','dystopia','england','escape','family','father','film noir','friendship','gangster','gay','high school','independent film','investigation','kidnapping','love','marriage','martial arts','money','music','new york','nudity','paris','party','prison','revenge','robbery','romance','secret','remake','sequel','serial killer','small town','sport','spy','stand-up comedy','suicide','suspense','teacher','teenager','vampire','violence','wedding','world war ii']\n",
    "\n",
    "    try:\n",
    "        arr = json.loads(data)\n",
    "        for item in arr:\n",
    "            if item in labelled_tags or item in unlablled_tags:\n",
    "                row['Tag: ' + item['name']] = 1\n",
    "    except:\n",
    "        print('Could not parse: ' + data)\n",
    "\n",
    "    return row\n",
    "\n",
    "movies = movies.apply(extract_keywords, axis=1)\n",
    "\n",
    "# Set our NA values for non-keyword membership to 0\n",
    "#movies = movies.fillna(0)\n",
    "\n",
    "# Drop the no longer needed source column\n",
    "movies = movies.drop('keywords', axis=1)\n",
    "movies.head()"
   ],
   "metadata": {
    "collapsed": false,
    "pycharm": {
     "name": "#%%\n"
    }
   }
  },
  {
   "cell_type": "code",
   "execution_count": 51,
   "outputs": [],
   "source": [
    "# These pieces of logic were used to analyzed present tags\n",
    "#stats = movies.describe(include='all')\n",
    "#stats.to_csv('Stats.csv')\n",
    "\n",
    "#stats = movies[movies['Is Christmas Movie'] == 1].describe(include='all')\n",
    "#stats.to_csv('LabelledStats.csv')"
   ],
   "metadata": {
    "collapsed": false,
    "pycharm": {
     "name": "#%%\n"
    }
   }
  },
  {
   "cell_type": "code",
   "execution_count": 36,
   "outputs": [],
   "source": [
    "# Set the index for clarity\n",
    "movies_export = movies.set_index('id')\n",
    "\n",
    "# Export the full data set\n",
    "movies_export.to_csv('Processed.csv')"
   ],
   "metadata": {
    "collapsed": false,
    "pycharm": {
     "name": "#%%\n"
    }
   }
  },
  {
   "cell_type": "code",
   "execution_count": 37,
   "outputs": [
    {
     "data": {
      "text/plain": "        Is Action  Is Adventure  Is Animation  Is Christmas Movie  Is Comedy  \\\nid                                                                             \n4204          0.0           0.0           0.0                   0        1.0   \n248268        0.0           0.0           0.0                   0        0.0   \n248268        0.0           0.0           0.0                   0        0.0   \n19311         0.0           0.0           1.0                   0        0.0   \n95383         0.0           0.0           0.0                   0        0.0   \n\n        Is Crime  Is Documentary  Is Drama  Is Family  Is Fantasy  ...  \\\nid                                                                 ...   \n4204         0.0             0.0       1.0        0.0         0.0  ...   \n248268       0.0             0.0       1.0        0.0         0.0  ...   \n248268       0.0             0.0       1.0        0.0         0.0  ...   \n19311        0.0             0.0       1.0        0.0         0.0  ...   \n95383        0.0             1.0       0.0        0.0         0.0  ...   \n\n        Tag: 绝地奶霸  Tag: 超级妈妈  adult    imdb_id  release_date  release_month  \\\nid                                                                            \n4204          0.0        0.0      1  tt1024733    2008-01-01            1.0   \n248268        0.0        0.0      1  tt2106284    2014-01-10            1.0   \n248268        0.0        0.0      1  tt2106284    2014-01-10            1.0   \n19311         0.0        0.0      1  tt0790799    2008-09-04            9.0   \n95383         0.0        0.0      1  tt2258233    2013-01-11            1.0   \n\n        release_quarter  release_year  runtime  \\\nid                                               \n4204                1.0        2008.0     98.0   \n248268              1.0        2014.0     90.0   \n248268              1.0        2014.0     90.0   \n19311               3.0        2008.0     78.0   \n95383               1.0        2013.0     89.0   \n\n                                     title  \nid                                          \n4204                              $5 a Day  \n248268  $50K and a Call Girl: A Love Story  \n248268  $50K and a Call Girl: A Love Story  \n19311                                $9.99  \n95383                           $ellebrity  \n\n[5 rows x 14397 columns]",
      "text/html": "<div>\n<style scoped>\n    .dataframe tbody tr th:only-of-type {\n        vertical-align: middle;\n    }\n\n    .dataframe tbody tr th {\n        vertical-align: top;\n    }\n\n    .dataframe thead th {\n        text-align: right;\n    }\n</style>\n<table border=\"1\" class=\"dataframe\">\n  <thead>\n    <tr style=\"text-align: right;\">\n      <th></th>\n      <th>Is Action</th>\n      <th>Is Adventure</th>\n      <th>Is Animation</th>\n      <th>Is Christmas Movie</th>\n      <th>Is Comedy</th>\n      <th>Is Crime</th>\n      <th>Is Documentary</th>\n      <th>Is Drama</th>\n      <th>Is Family</th>\n      <th>Is Fantasy</th>\n      <th>...</th>\n      <th>Tag: 绝地奶霸</th>\n      <th>Tag: 超级妈妈</th>\n      <th>adult</th>\n      <th>imdb_id</th>\n      <th>release_date</th>\n      <th>release_month</th>\n      <th>release_quarter</th>\n      <th>release_year</th>\n      <th>runtime</th>\n      <th>title</th>\n    </tr>\n    <tr>\n      <th>id</th>\n      <th></th>\n      <th></th>\n      <th></th>\n      <th></th>\n      <th></th>\n      <th></th>\n      <th></th>\n      <th></th>\n      <th></th>\n      <th></th>\n      <th></th>\n      <th></th>\n      <th></th>\n      <th></th>\n      <th></th>\n      <th></th>\n      <th></th>\n      <th></th>\n      <th></th>\n      <th></th>\n      <th></th>\n    </tr>\n  </thead>\n  <tbody>\n    <tr>\n      <th>4204</th>\n      <td>0.0</td>\n      <td>0.0</td>\n      <td>0.0</td>\n      <td>0</td>\n      <td>1.0</td>\n      <td>0.0</td>\n      <td>0.0</td>\n      <td>1.0</td>\n      <td>0.0</td>\n      <td>0.0</td>\n      <td>...</td>\n      <td>0.0</td>\n      <td>0.0</td>\n      <td>1</td>\n      <td>tt1024733</td>\n      <td>2008-01-01</td>\n      <td>1.0</td>\n      <td>1.0</td>\n      <td>2008.0</td>\n      <td>98.0</td>\n      <td>$5 a Day</td>\n    </tr>\n    <tr>\n      <th>248268</th>\n      <td>0.0</td>\n      <td>0.0</td>\n      <td>0.0</td>\n      <td>0</td>\n      <td>0.0</td>\n      <td>0.0</td>\n      <td>0.0</td>\n      <td>1.0</td>\n      <td>0.0</td>\n      <td>0.0</td>\n      <td>...</td>\n      <td>0.0</td>\n      <td>0.0</td>\n      <td>1</td>\n      <td>tt2106284</td>\n      <td>2014-01-10</td>\n      <td>1.0</td>\n      <td>1.0</td>\n      <td>2014.0</td>\n      <td>90.0</td>\n      <td>$50K and a Call Girl: A Love Story</td>\n    </tr>\n    <tr>\n      <th>248268</th>\n      <td>0.0</td>\n      <td>0.0</td>\n      <td>0.0</td>\n      <td>0</td>\n      <td>0.0</td>\n      <td>0.0</td>\n      <td>0.0</td>\n      <td>1.0</td>\n      <td>0.0</td>\n      <td>0.0</td>\n      <td>...</td>\n      <td>0.0</td>\n      <td>0.0</td>\n      <td>1</td>\n      <td>tt2106284</td>\n      <td>2014-01-10</td>\n      <td>1.0</td>\n      <td>1.0</td>\n      <td>2014.0</td>\n      <td>90.0</td>\n      <td>$50K and a Call Girl: A Love Story</td>\n    </tr>\n    <tr>\n      <th>19311</th>\n      <td>0.0</td>\n      <td>0.0</td>\n      <td>1.0</td>\n      <td>0</td>\n      <td>0.0</td>\n      <td>0.0</td>\n      <td>0.0</td>\n      <td>1.0</td>\n      <td>0.0</td>\n      <td>0.0</td>\n      <td>...</td>\n      <td>0.0</td>\n      <td>0.0</td>\n      <td>1</td>\n      <td>tt0790799</td>\n      <td>2008-09-04</td>\n      <td>9.0</td>\n      <td>3.0</td>\n      <td>2008.0</td>\n      <td>78.0</td>\n      <td>$9.99</td>\n    </tr>\n    <tr>\n      <th>95383</th>\n      <td>0.0</td>\n      <td>0.0</td>\n      <td>0.0</td>\n      <td>0</td>\n      <td>0.0</td>\n      <td>0.0</td>\n      <td>1.0</td>\n      <td>0.0</td>\n      <td>0.0</td>\n      <td>0.0</td>\n      <td>...</td>\n      <td>0.0</td>\n      <td>0.0</td>\n      <td>1</td>\n      <td>tt2258233</td>\n      <td>2013-01-11</td>\n      <td>1.0</td>\n      <td>1.0</td>\n      <td>2013.0</td>\n      <td>89.0</td>\n      <td>$ellebrity</td>\n    </tr>\n  </tbody>\n</table>\n<p>5 rows × 14397 columns</p>\n</div>"
     },
     "execution_count": 37,
     "metadata": {},
     "output_type": "execute_result"
    }
   ],
   "source": [
    "# These columns are helpful, but bias the ML algorithms too much given the quantity of tiny movies\n",
    "movies_export = movies_export.drop('popularity', axis=1)\n",
    "movies_export = movies_export.drop('vote_count', axis=1)\n",
    "movies_export = movies_export.drop('vote_average', axis=1)\n",
    "\n",
    "movies_export.head()"
   ],
   "metadata": {
    "collapsed": false,
    "pycharm": {
     "name": "#%%\n"
    }
   }
  },
  {
   "cell_type": "code",
   "execution_count": 38,
   "outputs": [],
   "source": [
    "id_columns = ['title', 'imdb_id']\n",
    "\n",
    "labelled = movies_export[movies_export['Is Christmas Movie'] == 1]\n",
    "labelled.to_csv('Labelled.csv')\n",
    "\n",
    "dieHard = movies_export[movies_export['title'] == 'Die Hard']\n",
    "dieHard = dieHard.drop(id_columns, axis=1) # Remove the title\n",
    "dieHard.to_csv('DieHard.csv')\n",
    "\n",
    "train_test = movies_export[movies_export['title'] != 'Die Hard']\n",
    "train_test = train_test.drop(id_columns, axis=1) # Remove the title\n",
    "train_test.to_csv('traintest.csv')"
   ],
   "metadata": {
    "collapsed": false,
    "pycharm": {
     "name": "#%%\n"
    }
   }
  }
 ],
 "metadata": {
  "kernelspec": {
   "display_name": "Python 3",
   "language": "python",
   "name": "python3"
  },
  "language_info": {
   "codemirror_mode": {
    "name": "ipython",
    "version": 2
   },
   "file_extension": ".py",
   "mimetype": "text/x-python",
   "name": "python",
   "nbconvert_exporter": "python",
   "pygments_lexer": "ipython2",
   "version": "2.7.6"
  }
 },
 "nbformat": 4,
 "nbformat_minor": 0
}