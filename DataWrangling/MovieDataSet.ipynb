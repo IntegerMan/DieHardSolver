{
 "cells": [
  {
   "cell_type": "code",
   "execution_count": 12,
   "metadata": {
    "collapsed": true
   },
   "outputs": [
    {
     "name": "stderr",
     "output_type": "stream",
     "text": [
      "c:\\users\\matte\\appdata\\local\\programs\\python\\python39\\lib\\site-packages\\IPython\\core\\interactiveshell.py:3441: DtypeWarning: Columns (10) have mixed types.Specify dtype option on import or set low_memory=False.\n",
      "  exec(code_obj, self.user_global_ns, self.user_ns)\n"
     ]
    },
    {
     "data": {
      "text/plain": "       adult budget                                             genres  \\\n23501  False      0                [{'id': 99, 'name': 'Documentary'}]   \n28042  False      0                    [{'id': 37, 'name': 'Western'}]   \n15775  False      0  [{'id': 18, 'name': 'Drama'}, {'id': 35, 'name...   \n36186  False      0                      [{'id': 18, 'name': 'Drama'}]   \n14832  False      0  [{'id': 16, 'name': 'Animation'}, {'id': 18, '...   \n\n           id    imdb_id popularity release_date  revenue  runtime  \\\n23501  267752  tt3060338   0.108531   2013-11-21      0.0     74.0   \n28042  143747  tt0060697   0.634857   1966-12-18      0.0    104.0   \n15775    4204  tt1024733   2.326842   2008-01-01      0.0     98.0   \n36186  248268  tt2106284   0.984593   2014-01-10      0.0     90.0   \n14832   19311  tt0790799   3.350555   2008-09-04      0.0     78.0   \n\n                                    title  vote_average  vote_count  \n23501                        #chicagoGirl           7.0         1.0  \n28042                 $1,000 on the Black           6.0         2.0  \n15775                            $5 a Day           6.0        24.0  \n36186  $50K and a Call Girl: A Love Story           6.3        11.0  \n14832                               $9.99           6.0        28.0  ",
      "text/html": "<div>\n<style scoped>\n    .dataframe tbody tr th:only-of-type {\n        vertical-align: middle;\n    }\n\n    .dataframe tbody tr th {\n        vertical-align: top;\n    }\n\n    .dataframe thead th {\n        text-align: right;\n    }\n</style>\n<table border=\"1\" class=\"dataframe\">\n  <thead>\n    <tr style=\"text-align: right;\">\n      <th></th>\n      <th>adult</th>\n      <th>budget</th>\n      <th>genres</th>\n      <th>id</th>\n      <th>imdb_id</th>\n      <th>popularity</th>\n      <th>release_date</th>\n      <th>revenue</th>\n      <th>runtime</th>\n      <th>title</th>\n      <th>vote_average</th>\n      <th>vote_count</th>\n    </tr>\n  </thead>\n  <tbody>\n    <tr>\n      <th>23501</th>\n      <td>False</td>\n      <td>0</td>\n      <td>[{'id': 99, 'name': 'Documentary'}]</td>\n      <td>267752</td>\n      <td>tt3060338</td>\n      <td>0.108531</td>\n      <td>2013-11-21</td>\n      <td>0.0</td>\n      <td>74.0</td>\n      <td>#chicagoGirl</td>\n      <td>7.0</td>\n      <td>1.0</td>\n    </tr>\n    <tr>\n      <th>28042</th>\n      <td>False</td>\n      <td>0</td>\n      <td>[{'id': 37, 'name': 'Western'}]</td>\n      <td>143747</td>\n      <td>tt0060697</td>\n      <td>0.634857</td>\n      <td>1966-12-18</td>\n      <td>0.0</td>\n      <td>104.0</td>\n      <td>$1,000 on the Black</td>\n      <td>6.0</td>\n      <td>2.0</td>\n    </tr>\n    <tr>\n      <th>15775</th>\n      <td>False</td>\n      <td>0</td>\n      <td>[{'id': 18, 'name': 'Drama'}, {'id': 35, 'name...</td>\n      <td>4204</td>\n      <td>tt1024733</td>\n      <td>2.326842</td>\n      <td>2008-01-01</td>\n      <td>0.0</td>\n      <td>98.0</td>\n      <td>$5 a Day</td>\n      <td>6.0</td>\n      <td>24.0</td>\n    </tr>\n    <tr>\n      <th>36186</th>\n      <td>False</td>\n      <td>0</td>\n      <td>[{'id': 18, 'name': 'Drama'}]</td>\n      <td>248268</td>\n      <td>tt2106284</td>\n      <td>0.984593</td>\n      <td>2014-01-10</td>\n      <td>0.0</td>\n      <td>90.0</td>\n      <td>$50K and a Call Girl: A Love Story</td>\n      <td>6.3</td>\n      <td>11.0</td>\n    </tr>\n    <tr>\n      <th>14832</th>\n      <td>False</td>\n      <td>0</td>\n      <td>[{'id': 16, 'name': 'Animation'}, {'id': 18, '...</td>\n      <td>19311</td>\n      <td>tt0790799</td>\n      <td>3.350555</td>\n      <td>2008-09-04</td>\n      <td>0.0</td>\n      <td>78.0</td>\n      <td>$9.99</td>\n      <td>6.0</td>\n      <td>28.0</td>\n    </tr>\n  </tbody>\n</table>\n</div>"
     },
     "execution_count": 12,
     "metadata": {},
     "output_type": "execute_result"
    }
   ],
   "source": [
    "import json\n",
    "import pandas as pd\n",
    "\n",
    "path = 'MoviesDataSet/'\n",
    "\n",
    "# Load Data from the Kaggle dataset\n",
    "movies = pd.read_csv(path + 'movies_metadata.csv')\n",
    "\n",
    "# Drop junk columns\n",
    "movies = movies.drop('belongs_to_collection', axis=1)\n",
    "movies = movies.drop('homepage', axis=1)\n",
    "movies = movies.drop('original_language', axis=1)\n",
    "movies = movies.drop('original_title', axis=1)\n",
    "movies = movies.drop('spoken_languages', axis=1)\n",
    "movies = movies.drop('overview', axis=1)\n",
    "movies = movies.drop('tagline', axis=1)\n",
    "movies = movies.drop('poster_path', axis=1)\n",
    "movies = movies.drop('production_companies', axis=1)\n",
    "movies = movies.drop('production_countries', axis=1)\n",
    "movies = movies.drop('video', axis=1)\n",
    "\n",
    "# Filter out any unreleased movies\n",
    "movies = movies[movies['status'] == 'Released']\n",
    "movies = movies.drop('status', axis=1)\n",
    "\n",
    "# Only evaluate movies with ratings similar to our Christmas movies.\n",
    "# This is important since classic Christmas movies are popular and the minimum rating is a 5.4\n",
    "movies = movies[movies['vote_average'] >= 5.4]\n",
    "movies = movies[movies['vote_average'] <= 8.0]\n",
    "\n",
    "# Sort movies by title\n",
    "movies = movies.sort_values('title')\n",
    "\n",
    "movies.head()"
   ]
  },
  {
   "cell_type": "code",
   "execution_count": 13,
   "outputs": [
    {
     "data": {
      "text/plain": "       Is Action  Is Adventure  Is Animation  Is Comedy  Is Crime  \\\n23501        0.0           0.0           0.0        0.0       0.0   \n28042        0.0           0.0           0.0        0.0       0.0   \n15775        0.0           0.0           0.0        1.0       0.0   \n36186        0.0           0.0           0.0        0.0       0.0   \n14832        0.0           0.0           1.0        0.0       0.0   \n\n       Is Documentary  Is Drama  Is Family  Is Fantasy  Is Foreign  ...  \\\n23501             1.0       0.0        0.0         0.0         0.0  ...   \n28042             0.0       0.0        0.0         0.0         0.0  ...   \n15775             0.0       1.0        0.0         0.0         0.0  ...   \n36186             0.0       1.0        0.0         0.0         0.0  ...   \n14832             0.0       1.0        0.0         0.0         0.0  ...   \n\n       budget      id    imdb_id  popularity  release_date  revenue  runtime  \\\n23501       0  267752  tt3060338    0.108531    2013-11-21      0.0     74.0   \n28042       0  143747  tt0060697    0.634857    1966-12-18      0.0    104.0   \n15775       0    4204  tt1024733    2.326842    2008-01-01      0.0     98.0   \n36186       0  248268  tt2106284    0.984593    2014-01-10      0.0     90.0   \n14832       0   19311  tt0790799    3.350555    2008-09-04      0.0     78.0   \n\n                                    title  vote_average  vote_count  \n23501                        #chicagoGirl           7.0         1.0  \n28042                 $1,000 on the Black           6.0         2.0  \n15775                            $5 a Day           6.0        24.0  \n36186  $50K and a Call Girl: A Love Story           6.3        11.0  \n14832                               $9.99           6.0        28.0  \n\n[5 rows x 31 columns]",
      "text/html": "<div>\n<style scoped>\n    .dataframe tbody tr th:only-of-type {\n        vertical-align: middle;\n    }\n\n    .dataframe tbody tr th {\n        vertical-align: top;\n    }\n\n    .dataframe thead th {\n        text-align: right;\n    }\n</style>\n<table border=\"1\" class=\"dataframe\">\n  <thead>\n    <tr style=\"text-align: right;\">\n      <th></th>\n      <th>Is Action</th>\n      <th>Is Adventure</th>\n      <th>Is Animation</th>\n      <th>Is Comedy</th>\n      <th>Is Crime</th>\n      <th>Is Documentary</th>\n      <th>Is Drama</th>\n      <th>Is Family</th>\n      <th>Is Fantasy</th>\n      <th>Is Foreign</th>\n      <th>...</th>\n      <th>budget</th>\n      <th>id</th>\n      <th>imdb_id</th>\n      <th>popularity</th>\n      <th>release_date</th>\n      <th>revenue</th>\n      <th>runtime</th>\n      <th>title</th>\n      <th>vote_average</th>\n      <th>vote_count</th>\n    </tr>\n  </thead>\n  <tbody>\n    <tr>\n      <th>23501</th>\n      <td>0.0</td>\n      <td>0.0</td>\n      <td>0.0</td>\n      <td>0.0</td>\n      <td>0.0</td>\n      <td>1.0</td>\n      <td>0.0</td>\n      <td>0.0</td>\n      <td>0.0</td>\n      <td>0.0</td>\n      <td>...</td>\n      <td>0</td>\n      <td>267752</td>\n      <td>tt3060338</td>\n      <td>0.108531</td>\n      <td>2013-11-21</td>\n      <td>0.0</td>\n      <td>74.0</td>\n      <td>#chicagoGirl</td>\n      <td>7.0</td>\n      <td>1.0</td>\n    </tr>\n    <tr>\n      <th>28042</th>\n      <td>0.0</td>\n      <td>0.0</td>\n      <td>0.0</td>\n      <td>0.0</td>\n      <td>0.0</td>\n      <td>0.0</td>\n      <td>0.0</td>\n      <td>0.0</td>\n      <td>0.0</td>\n      <td>0.0</td>\n      <td>...</td>\n      <td>0</td>\n      <td>143747</td>\n      <td>tt0060697</td>\n      <td>0.634857</td>\n      <td>1966-12-18</td>\n      <td>0.0</td>\n      <td>104.0</td>\n      <td>$1,000 on the Black</td>\n      <td>6.0</td>\n      <td>2.0</td>\n    </tr>\n    <tr>\n      <th>15775</th>\n      <td>0.0</td>\n      <td>0.0</td>\n      <td>0.0</td>\n      <td>1.0</td>\n      <td>0.0</td>\n      <td>0.0</td>\n      <td>1.0</td>\n      <td>0.0</td>\n      <td>0.0</td>\n      <td>0.0</td>\n      <td>...</td>\n      <td>0</td>\n      <td>4204</td>\n      <td>tt1024733</td>\n      <td>2.326842</td>\n      <td>2008-01-01</td>\n      <td>0.0</td>\n      <td>98.0</td>\n      <td>$5 a Day</td>\n      <td>6.0</td>\n      <td>24.0</td>\n    </tr>\n    <tr>\n      <th>36186</th>\n      <td>0.0</td>\n      <td>0.0</td>\n      <td>0.0</td>\n      <td>0.0</td>\n      <td>0.0</td>\n      <td>0.0</td>\n      <td>1.0</td>\n      <td>0.0</td>\n      <td>0.0</td>\n      <td>0.0</td>\n      <td>...</td>\n      <td>0</td>\n      <td>248268</td>\n      <td>tt2106284</td>\n      <td>0.984593</td>\n      <td>2014-01-10</td>\n      <td>0.0</td>\n      <td>90.0</td>\n      <td>$50K and a Call Girl: A Love Story</td>\n      <td>6.3</td>\n      <td>11.0</td>\n    </tr>\n    <tr>\n      <th>14832</th>\n      <td>0.0</td>\n      <td>0.0</td>\n      <td>1.0</td>\n      <td>0.0</td>\n      <td>0.0</td>\n      <td>0.0</td>\n      <td>1.0</td>\n      <td>0.0</td>\n      <td>0.0</td>\n      <td>0.0</td>\n      <td>...</td>\n      <td>0</td>\n      <td>19311</td>\n      <td>tt0790799</td>\n      <td>3.350555</td>\n      <td>2008-09-04</td>\n      <td>0.0</td>\n      <td>78.0</td>\n      <td>$9.99</td>\n      <td>6.0</td>\n      <td>28.0</td>\n    </tr>\n  </tbody>\n</table>\n<p>5 rows × 31 columns</p>\n</div>"
     },
     "execution_count": 13,
     "metadata": {},
     "output_type": "execute_result"
    }
   ],
   "source": [
    "# Detect Genres\n",
    "def extract_genres(row):\n",
    "    data = row['genres']\n",
    "    arr = json.loads(data.replace(\"'\", \"\\\"\"))\n",
    "    for genre in arr:\n",
    "        row['Is ' + genre['name']] = 1\n",
    "\n",
    "    return row\n",
    "\n",
    "movies = movies.apply(extract_genres, axis=1)\n",
    "\n",
    "# Set our NA values for non-genre membership to 0\n",
    "movies = movies.fillna(0)\n",
    "\n",
    "# Drop the no longer needed source column\n",
    "movies = movies.drop('genres', axis=1)\n",
    "movies.head()"
   ],
   "metadata": {
    "collapsed": false,
    "pycharm": {
     "name": "#%%\n"
    }
   }
  },
  {
   "cell_type": "code",
   "execution_count": 14,
   "outputs": [
    {
     "data": {
      "text/plain": "       Is Action  Is Adventure  Is Animation  Is Comedy  Is Crime  \\\n23501        0.0           0.0           0.0        0.0       0.0   \n28042        0.0           0.0           0.0        0.0       0.0   \n15775        0.0           0.0           0.0        1.0       0.0   \n36186        0.0           0.0           0.0        0.0       0.0   \n14832        0.0           0.0           1.0        0.0       0.0   \n\n       Is Documentary  Is Drama  Is Family  Is Fantasy  Is Foreign  ...  \\\n23501             1.0       0.0        0.0         0.0         0.0  ...   \n28042             0.0       0.0        0.0         0.0         0.0  ...   \n15775             0.0       1.0        0.0         0.0         0.0  ...   \n36186             0.0       1.0        0.0         0.0         0.0  ...   \n14832             0.0       1.0        0.0         0.0         0.0  ...   \n\n         imdb_id  popularity  revenue  runtime  \\\n23501  tt3060338    0.108531      0.0     74.0   \n28042  tt0060697    0.634857      0.0    104.0   \n15775  tt1024733    2.326842      0.0     98.0   \n36186  tt2106284    0.984593      0.0     90.0   \n14832  tt0790799    3.350555      0.0     78.0   \n\n                                    title  vote_average  vote_count  \\\n23501                        #chicagoGirl           7.0         1.0   \n28042                 $1,000 on the Black           6.0         2.0   \n15775                            $5 a Day           6.0        24.0   \n36186  $50K and a Call Girl: A Love Story           6.3        11.0   \n14832                               $9.99           6.0        28.0   \n\n       release_year  release_quarter  release_month  \n23501          2013                4             11  \n28042          1966                4             12  \n15775          2008                1              1  \n36186          2014                1              1  \n14832          2008                3              9  \n\n[5 rows x 33 columns]",
      "text/html": "<div>\n<style scoped>\n    .dataframe tbody tr th:only-of-type {\n        vertical-align: middle;\n    }\n\n    .dataframe tbody tr th {\n        vertical-align: top;\n    }\n\n    .dataframe thead th {\n        text-align: right;\n    }\n</style>\n<table border=\"1\" class=\"dataframe\">\n  <thead>\n    <tr style=\"text-align: right;\">\n      <th></th>\n      <th>Is Action</th>\n      <th>Is Adventure</th>\n      <th>Is Animation</th>\n      <th>Is Comedy</th>\n      <th>Is Crime</th>\n      <th>Is Documentary</th>\n      <th>Is Drama</th>\n      <th>Is Family</th>\n      <th>Is Fantasy</th>\n      <th>Is Foreign</th>\n      <th>...</th>\n      <th>imdb_id</th>\n      <th>popularity</th>\n      <th>revenue</th>\n      <th>runtime</th>\n      <th>title</th>\n      <th>vote_average</th>\n      <th>vote_count</th>\n      <th>release_year</th>\n      <th>release_quarter</th>\n      <th>release_month</th>\n    </tr>\n  </thead>\n  <tbody>\n    <tr>\n      <th>23501</th>\n      <td>0.0</td>\n      <td>0.0</td>\n      <td>0.0</td>\n      <td>0.0</td>\n      <td>0.0</td>\n      <td>1.0</td>\n      <td>0.0</td>\n      <td>0.0</td>\n      <td>0.0</td>\n      <td>0.0</td>\n      <td>...</td>\n      <td>tt3060338</td>\n      <td>0.108531</td>\n      <td>0.0</td>\n      <td>74.0</td>\n      <td>#chicagoGirl</td>\n      <td>7.0</td>\n      <td>1.0</td>\n      <td>2013</td>\n      <td>4</td>\n      <td>11</td>\n    </tr>\n    <tr>\n      <th>28042</th>\n      <td>0.0</td>\n      <td>0.0</td>\n      <td>0.0</td>\n      <td>0.0</td>\n      <td>0.0</td>\n      <td>0.0</td>\n      <td>0.0</td>\n      <td>0.0</td>\n      <td>0.0</td>\n      <td>0.0</td>\n      <td>...</td>\n      <td>tt0060697</td>\n      <td>0.634857</td>\n      <td>0.0</td>\n      <td>104.0</td>\n      <td>$1,000 on the Black</td>\n      <td>6.0</td>\n      <td>2.0</td>\n      <td>1966</td>\n      <td>4</td>\n      <td>12</td>\n    </tr>\n    <tr>\n      <th>15775</th>\n      <td>0.0</td>\n      <td>0.0</td>\n      <td>0.0</td>\n      <td>1.0</td>\n      <td>0.0</td>\n      <td>0.0</td>\n      <td>1.0</td>\n      <td>0.0</td>\n      <td>0.0</td>\n      <td>0.0</td>\n      <td>...</td>\n      <td>tt1024733</td>\n      <td>2.326842</td>\n      <td>0.0</td>\n      <td>98.0</td>\n      <td>$5 a Day</td>\n      <td>6.0</td>\n      <td>24.0</td>\n      <td>2008</td>\n      <td>1</td>\n      <td>1</td>\n    </tr>\n    <tr>\n      <th>36186</th>\n      <td>0.0</td>\n      <td>0.0</td>\n      <td>0.0</td>\n      <td>0.0</td>\n      <td>0.0</td>\n      <td>0.0</td>\n      <td>1.0</td>\n      <td>0.0</td>\n      <td>0.0</td>\n      <td>0.0</td>\n      <td>...</td>\n      <td>tt2106284</td>\n      <td>0.984593</td>\n      <td>0.0</td>\n      <td>90.0</td>\n      <td>$50K and a Call Girl: A Love Story</td>\n      <td>6.3</td>\n      <td>11.0</td>\n      <td>2014</td>\n      <td>1</td>\n      <td>1</td>\n    </tr>\n    <tr>\n      <th>14832</th>\n      <td>0.0</td>\n      <td>0.0</td>\n      <td>1.0</td>\n      <td>0.0</td>\n      <td>0.0</td>\n      <td>0.0</td>\n      <td>1.0</td>\n      <td>0.0</td>\n      <td>0.0</td>\n      <td>0.0</td>\n      <td>...</td>\n      <td>tt0790799</td>\n      <td>3.350555</td>\n      <td>0.0</td>\n      <td>78.0</td>\n      <td>$9.99</td>\n      <td>6.0</td>\n      <td>28.0</td>\n      <td>2008</td>\n      <td>3</td>\n      <td>9</td>\n    </tr>\n  </tbody>\n</table>\n<p>5 rows × 33 columns</p>\n</div>"
     },
     "execution_count": 14,
     "metadata": {},
     "output_type": "execute_result"
    }
   ],
   "source": [
    "# Split the date into year / quarter / month components for easier analysis\n",
    "movies['release_year'] = pd.DatetimeIndex(movies['release_date']).year\n",
    "movies['release_quarter'] = pd.DatetimeIndex(movies['release_date']).quarter\n",
    "movies['release_month'] = pd.DatetimeIndex(movies['release_date']).month\n",
    "\n",
    "# Remove the core release date column\n",
    "movies = movies.drop('release_date', axis=1)\n",
    "\n",
    "movies.head()"
   ],
   "metadata": {
    "collapsed": false,
    "pycharm": {
     "name": "#%%\n"
    }
   }
  },
  {
   "cell_type": "code",
   "execution_count": 15,
   "outputs": [
    {
     "data": {
      "text/plain": "       Is Action  Is Adventure  Is Animation  Is Comedy  Is Crime  \\\n23501        0.0           0.0           0.0        0.0       0.0   \n28042        0.0           0.0           0.0        0.0       0.0   \n15775        0.0           0.0           0.0        1.0       0.0   \n36186        0.0           0.0           0.0        0.0       0.0   \n14832        0.0           0.0           1.0        0.0       0.0   \n\n       Is Documentary  Is Drama  Is Family  Is Fantasy  Is Foreign  ...  \\\n23501             1.0       0.0        0.0         0.0         0.0  ...   \n28042             0.0       0.0        0.0         0.0         0.0  ...   \n15775             0.0       1.0        0.0         0.0         0.0  ...   \n36186             0.0       1.0        0.0         0.0         0.0  ...   \n14832             0.0       1.0        0.0         0.0         0.0  ...   \n\n         imdb_id  popularity  revenue  runtime  \\\n23501  tt3060338    0.108531      0.0     74.0   \n28042  tt0060697    0.634857      0.0    104.0   \n15775  tt1024733    2.326842      0.0     98.0   \n36186  tt2106284    0.984593      0.0     90.0   \n14832  tt0790799    3.350555      0.0     78.0   \n\n                                    title  vote_average  vote_count  \\\n23501                        #chicagoGirl           7.0         1.0   \n28042                 $1,000 on the Black           6.0         2.0   \n15775                            $5 a Day           6.0        24.0   \n36186  $50K and a Call Girl: A Love Story           6.3        11.0   \n14832                               $9.99           6.0        28.0   \n\n       release_year  release_quarter  release_month  \n23501          2013                4             11  \n28042          1966                4             12  \n15775          2008                1              1  \n36186          2014                1              1  \n14832          2008                3              9  \n\n[5 rows x 33 columns]",
      "text/html": "<div>\n<style scoped>\n    .dataframe tbody tr th:only-of-type {\n        vertical-align: middle;\n    }\n\n    .dataframe tbody tr th {\n        vertical-align: top;\n    }\n\n    .dataframe thead th {\n        text-align: right;\n    }\n</style>\n<table border=\"1\" class=\"dataframe\">\n  <thead>\n    <tr style=\"text-align: right;\">\n      <th></th>\n      <th>Is Action</th>\n      <th>Is Adventure</th>\n      <th>Is Animation</th>\n      <th>Is Comedy</th>\n      <th>Is Crime</th>\n      <th>Is Documentary</th>\n      <th>Is Drama</th>\n      <th>Is Family</th>\n      <th>Is Fantasy</th>\n      <th>Is Foreign</th>\n      <th>...</th>\n      <th>imdb_id</th>\n      <th>popularity</th>\n      <th>revenue</th>\n      <th>runtime</th>\n      <th>title</th>\n      <th>vote_average</th>\n      <th>vote_count</th>\n      <th>release_year</th>\n      <th>release_quarter</th>\n      <th>release_month</th>\n    </tr>\n  </thead>\n  <tbody>\n    <tr>\n      <th>23501</th>\n      <td>0.0</td>\n      <td>0.0</td>\n      <td>0.0</td>\n      <td>0.0</td>\n      <td>0.0</td>\n      <td>1.0</td>\n      <td>0.0</td>\n      <td>0.0</td>\n      <td>0.0</td>\n      <td>0.0</td>\n      <td>...</td>\n      <td>tt3060338</td>\n      <td>0.108531</td>\n      <td>0.0</td>\n      <td>74.0</td>\n      <td>#chicagoGirl</td>\n      <td>7.0</td>\n      <td>1.0</td>\n      <td>2013</td>\n      <td>4</td>\n      <td>11</td>\n    </tr>\n    <tr>\n      <th>28042</th>\n      <td>0.0</td>\n      <td>0.0</td>\n      <td>0.0</td>\n      <td>0.0</td>\n      <td>0.0</td>\n      <td>0.0</td>\n      <td>0.0</td>\n      <td>0.0</td>\n      <td>0.0</td>\n      <td>0.0</td>\n      <td>...</td>\n      <td>tt0060697</td>\n      <td>0.634857</td>\n      <td>0.0</td>\n      <td>104.0</td>\n      <td>$1,000 on the Black</td>\n      <td>6.0</td>\n      <td>2.0</td>\n      <td>1966</td>\n      <td>4</td>\n      <td>12</td>\n    </tr>\n    <tr>\n      <th>15775</th>\n      <td>0.0</td>\n      <td>0.0</td>\n      <td>0.0</td>\n      <td>1.0</td>\n      <td>0.0</td>\n      <td>0.0</td>\n      <td>1.0</td>\n      <td>0.0</td>\n      <td>0.0</td>\n      <td>0.0</td>\n      <td>...</td>\n      <td>tt1024733</td>\n      <td>2.326842</td>\n      <td>0.0</td>\n      <td>98.0</td>\n      <td>$5 a Day</td>\n      <td>6.0</td>\n      <td>24.0</td>\n      <td>2008</td>\n      <td>1</td>\n      <td>1</td>\n    </tr>\n    <tr>\n      <th>36186</th>\n      <td>0.0</td>\n      <td>0.0</td>\n      <td>0.0</td>\n      <td>0.0</td>\n      <td>0.0</td>\n      <td>0.0</td>\n      <td>1.0</td>\n      <td>0.0</td>\n      <td>0.0</td>\n      <td>0.0</td>\n      <td>...</td>\n      <td>tt2106284</td>\n      <td>0.984593</td>\n      <td>0.0</td>\n      <td>90.0</td>\n      <td>$50K and a Call Girl: A Love Story</td>\n      <td>6.3</td>\n      <td>11.0</td>\n      <td>2014</td>\n      <td>1</td>\n      <td>1</td>\n    </tr>\n    <tr>\n      <th>14832</th>\n      <td>0.0</td>\n      <td>0.0</td>\n      <td>1.0</td>\n      <td>0.0</td>\n      <td>0.0</td>\n      <td>0.0</td>\n      <td>1.0</td>\n      <td>0.0</td>\n      <td>0.0</td>\n      <td>0.0</td>\n      <td>...</td>\n      <td>tt0790799</td>\n      <td>3.350555</td>\n      <td>0.0</td>\n      <td>78.0</td>\n      <td>$9.99</td>\n      <td>6.0</td>\n      <td>28.0</td>\n      <td>2008</td>\n      <td>3</td>\n      <td>9</td>\n    </tr>\n  </tbody>\n</table>\n<p>5 rows × 33 columns</p>\n</div>"
     },
     "execution_count": 15,
     "metadata": {},
     "output_type": "execute_result"
    }
   ],
   "source": [
    "# Convert our adult column from true / false to 1 / 0.\n",
    "# Note we move from String -> Bool -> Int here\n",
    "movies['adult'] = movies['adult'].astype(bool).astype(int)\n",
    "\n",
    "movies.head()"
   ],
   "metadata": {
    "collapsed": false,
    "pycharm": {
     "name": "#%%\n"
    }
   }
  },
  {
   "cell_type": "code",
   "execution_count": 16,
   "outputs": [
    {
     "data": {
      "text/plain": "       Is Action  Is Adventure  Is Animation  Is Comedy  Is Crime  \\\n23501        0.0           0.0           0.0        0.0       0.0   \n28042        0.0           0.0           0.0        0.0       0.0   \n15775        0.0           0.0           0.0        1.0       0.0   \n36186        0.0           0.0           0.0        0.0       0.0   \n14832        0.0           0.0           1.0        0.0       0.0   \n\n       Is Documentary  Is Drama  Is Family  Is Fantasy  Is Foreign  ...  \\\n23501             1.0       0.0        0.0         0.0         0.0  ...   \n28042             0.0       0.0        0.0         0.0         0.0  ...   \n15775             0.0       1.0        0.0         0.0         0.0  ...   \n36186             0.0       1.0        0.0         0.0         0.0  ...   \n14832             0.0       1.0        0.0         0.0         0.0  ...   \n\n       popularity  revenue  runtime                               title  \\\n23501    0.108531      0.0     74.0                        #chicagoGirl   \n28042    0.634857      0.0    104.0                 $1,000 on the Black   \n15775    2.326842      0.0     98.0                            $5 a Day   \n36186    0.984593      0.0     90.0  $50K and a Call Girl: A Love Story   \n14832    3.350555      0.0     78.0                               $9.99   \n\n       vote_average  vote_count  release_year  release_quarter  release_month  \\\n23501           7.0         1.0          2013                4             11   \n28042           6.0         2.0          1966                4             12   \n15775           6.0        24.0          2008                1              1   \n36186           6.3        11.0          2014                1              1   \n14832           6.0        28.0          2008                3              9   \n\n       Is Christmas Movie  \n23501                   0  \n28042                   0  \n15775                   0  \n36186                   0  \n14832                   0  \n\n[5 rows x 34 columns]",
      "text/html": "<div>\n<style scoped>\n    .dataframe tbody tr th:only-of-type {\n        vertical-align: middle;\n    }\n\n    .dataframe tbody tr th {\n        vertical-align: top;\n    }\n\n    .dataframe thead th {\n        text-align: right;\n    }\n</style>\n<table border=\"1\" class=\"dataframe\">\n  <thead>\n    <tr style=\"text-align: right;\">\n      <th></th>\n      <th>Is Action</th>\n      <th>Is Adventure</th>\n      <th>Is Animation</th>\n      <th>Is Comedy</th>\n      <th>Is Crime</th>\n      <th>Is Documentary</th>\n      <th>Is Drama</th>\n      <th>Is Family</th>\n      <th>Is Fantasy</th>\n      <th>Is Foreign</th>\n      <th>...</th>\n      <th>popularity</th>\n      <th>revenue</th>\n      <th>runtime</th>\n      <th>title</th>\n      <th>vote_average</th>\n      <th>vote_count</th>\n      <th>release_year</th>\n      <th>release_quarter</th>\n      <th>release_month</th>\n      <th>Is Christmas Movie</th>\n    </tr>\n  </thead>\n  <tbody>\n    <tr>\n      <th>23501</th>\n      <td>0.0</td>\n      <td>0.0</td>\n      <td>0.0</td>\n      <td>0.0</td>\n      <td>0.0</td>\n      <td>1.0</td>\n      <td>0.0</td>\n      <td>0.0</td>\n      <td>0.0</td>\n      <td>0.0</td>\n      <td>...</td>\n      <td>0.108531</td>\n      <td>0.0</td>\n      <td>74.0</td>\n      <td>#chicagoGirl</td>\n      <td>7.0</td>\n      <td>1.0</td>\n      <td>2013</td>\n      <td>4</td>\n      <td>11</td>\n      <td>0</td>\n    </tr>\n    <tr>\n      <th>28042</th>\n      <td>0.0</td>\n      <td>0.0</td>\n      <td>0.0</td>\n      <td>0.0</td>\n      <td>0.0</td>\n      <td>0.0</td>\n      <td>0.0</td>\n      <td>0.0</td>\n      <td>0.0</td>\n      <td>0.0</td>\n      <td>...</td>\n      <td>0.634857</td>\n      <td>0.0</td>\n      <td>104.0</td>\n      <td>$1,000 on the Black</td>\n      <td>6.0</td>\n      <td>2.0</td>\n      <td>1966</td>\n      <td>4</td>\n      <td>12</td>\n      <td>0</td>\n    </tr>\n    <tr>\n      <th>15775</th>\n      <td>0.0</td>\n      <td>0.0</td>\n      <td>0.0</td>\n      <td>1.0</td>\n      <td>0.0</td>\n      <td>0.0</td>\n      <td>1.0</td>\n      <td>0.0</td>\n      <td>0.0</td>\n      <td>0.0</td>\n      <td>...</td>\n      <td>2.326842</td>\n      <td>0.0</td>\n      <td>98.0</td>\n      <td>$5 a Day</td>\n      <td>6.0</td>\n      <td>24.0</td>\n      <td>2008</td>\n      <td>1</td>\n      <td>1</td>\n      <td>0</td>\n    </tr>\n    <tr>\n      <th>36186</th>\n      <td>0.0</td>\n      <td>0.0</td>\n      <td>0.0</td>\n      <td>0.0</td>\n      <td>0.0</td>\n      <td>0.0</td>\n      <td>1.0</td>\n      <td>0.0</td>\n      <td>0.0</td>\n      <td>0.0</td>\n      <td>...</td>\n      <td>0.984593</td>\n      <td>0.0</td>\n      <td>90.0</td>\n      <td>$50K and a Call Girl: A Love Story</td>\n      <td>6.3</td>\n      <td>11.0</td>\n      <td>2014</td>\n      <td>1</td>\n      <td>1</td>\n      <td>0</td>\n    </tr>\n    <tr>\n      <th>14832</th>\n      <td>0.0</td>\n      <td>0.0</td>\n      <td>1.0</td>\n      <td>0.0</td>\n      <td>0.0</td>\n      <td>0.0</td>\n      <td>1.0</td>\n      <td>0.0</td>\n      <td>0.0</td>\n      <td>0.0</td>\n      <td>...</td>\n      <td>3.350555</td>\n      <td>0.0</td>\n      <td>78.0</td>\n      <td>$9.99</td>\n      <td>6.0</td>\n      <td>28.0</td>\n      <td>2008</td>\n      <td>3</td>\n      <td>9</td>\n      <td>0</td>\n    </tr>\n  </tbody>\n</table>\n<p>5 rows × 34 columns</p>\n</div>"
     },
     "execution_count": 16,
     "metadata": {},
     "output_type": "execute_result"
    }
   ],
   "source": [
    "# These are IMDB IDs of movies known to be Christmas movies or classic Christmas movies. See other experiments for details.\n",
    "labelled_movies = ['tt0993789','tt6433880','tt2402927','tt0081793','tt2709692','tt0064349','tt0041473','tt7736496','tt0032981','tt0043733','tt0338348','tt0117372','tt1430607','tt0099487','tt1401143','tt0086465','tt3530002','tt0044008','tt1067106','tt0037595','tt0096061','tt0116705','tt0457939','tt0034862','tt0087363','tt0039628','tt0110527','tt0033045','tt2083355','tt0039190','tt0319343','tt0085936','tt0047673','tt0104940','tt0095016','tt0058536','tt0097958','tt0107688','tt0114924','tt0111070','tt0085334','tt1268799','tt0037059','tt0314331','tt0071222','tt0060345','tt0099785','tt0373469','tt3850590','tt0059026','tt0038650','tt3824458','tt0307987']\n",
    "\n",
    "# We need to label all rows based on if they're a Christmas movie or not so we can train a model\n",
    "def set_label(row):\n",
    "    imdb = row['imdb_id']\n",
    "    if imdb in labelled_movies:\n",
    "        row['Is Christmas Movie'] = 1\n",
    "    else:\n",
    "        row['Is Christmas Movie'] = 0\n",
    "    return row\n",
    "\n",
    "movies = movies.apply(set_label, axis=1)\n",
    "\n",
    "movies.head()"
   ],
   "metadata": {
    "collapsed": false,
    "pycharm": {
     "name": "#%%\n"
    }
   }
  },
  {
   "cell_type": "code",
   "execution_count": 17,
   "outputs": [],
   "source": [
    "# Export the full data set\n",
    "movies = movies.set_index('id')\n",
    "movies.to_csv('Processed.csv')"
   ],
   "metadata": {
    "collapsed": false,
    "pycharm": {
     "name": "#%%\n"
    }
   }
  },
  {
   "cell_type": "code",
   "execution_count": 18,
   "outputs": [
    {
     "data": {
      "text/plain": "        Is Action  Is Adventure  Is Animation  Is Comedy  Is Crime  \\\nid                                                                   \n267752        0.0           0.0           0.0        0.0       0.0   \n143747        0.0           0.0           0.0        0.0       0.0   \n4204          0.0           0.0           0.0        1.0       0.0   \n248268        0.0           0.0           0.0        0.0       0.0   \n19311         0.0           0.0           1.0        0.0       0.0   \n\n        Is Documentary  Is Drama  Is Family  Is Fantasy  Is Foreign  ...  \\\nid                                                                   ...   \n267752             1.0       0.0        0.0         0.0         0.0  ...   \n143747             0.0       0.0        0.0         0.0         0.0  ...   \n4204               0.0       1.0        0.0         0.0         0.0  ...   \n248268             0.0       1.0        0.0         0.0         0.0  ...   \n19311              0.0       1.0        0.0         0.0         0.0  ...   \n\n        Is War  Is Western  adult    imdb_id  runtime  \\\nid                                                      \n267752     0.0         0.0      1  tt3060338     74.0   \n143747     0.0         1.0      1  tt0060697    104.0   \n4204       0.0         0.0      1  tt1024733     98.0   \n248268     0.0         0.0      1  tt2106284     90.0   \n19311      0.0         0.0      1  tt0790799     78.0   \n\n                                     title  release_year  release_quarter  \\\nid                                                                          \n267752                        #chicagoGirl          2013                4   \n143747                 $1,000 on the Black          1966                4   \n4204                              $5 a Day          2008                1   \n248268  $50K and a Call Girl: A Love Story          2014                1   \n19311                                $9.99          2008                3   \n\n        release_month  Is Christmas Movie  \nid                                         \n267752             11                   0  \n143747             12                   0  \n4204                1                   0  \n248268              1                   0  \n19311               9                   0  \n\n[5 rows x 28 columns]",
      "text/html": "<div>\n<style scoped>\n    .dataframe tbody tr th:only-of-type {\n        vertical-align: middle;\n    }\n\n    .dataframe tbody tr th {\n        vertical-align: top;\n    }\n\n    .dataframe thead th {\n        text-align: right;\n    }\n</style>\n<table border=\"1\" class=\"dataframe\">\n  <thead>\n    <tr style=\"text-align: right;\">\n      <th></th>\n      <th>Is Action</th>\n      <th>Is Adventure</th>\n      <th>Is Animation</th>\n      <th>Is Comedy</th>\n      <th>Is Crime</th>\n      <th>Is Documentary</th>\n      <th>Is Drama</th>\n      <th>Is Family</th>\n      <th>Is Fantasy</th>\n      <th>Is Foreign</th>\n      <th>...</th>\n      <th>Is War</th>\n      <th>Is Western</th>\n      <th>adult</th>\n      <th>imdb_id</th>\n      <th>runtime</th>\n      <th>title</th>\n      <th>release_year</th>\n      <th>release_quarter</th>\n      <th>release_month</th>\n      <th>Is Christmas Movie</th>\n    </tr>\n    <tr>\n      <th>id</th>\n      <th></th>\n      <th></th>\n      <th></th>\n      <th></th>\n      <th></th>\n      <th></th>\n      <th></th>\n      <th></th>\n      <th></th>\n      <th></th>\n      <th></th>\n      <th></th>\n      <th></th>\n      <th></th>\n      <th></th>\n      <th></th>\n      <th></th>\n      <th></th>\n      <th></th>\n      <th></th>\n      <th></th>\n    </tr>\n  </thead>\n  <tbody>\n    <tr>\n      <th>267752</th>\n      <td>0.0</td>\n      <td>0.0</td>\n      <td>0.0</td>\n      <td>0.0</td>\n      <td>0.0</td>\n      <td>1.0</td>\n      <td>0.0</td>\n      <td>0.0</td>\n      <td>0.0</td>\n      <td>0.0</td>\n      <td>...</td>\n      <td>0.0</td>\n      <td>0.0</td>\n      <td>1</td>\n      <td>tt3060338</td>\n      <td>74.0</td>\n      <td>#chicagoGirl</td>\n      <td>2013</td>\n      <td>4</td>\n      <td>11</td>\n      <td>0</td>\n    </tr>\n    <tr>\n      <th>143747</th>\n      <td>0.0</td>\n      <td>0.0</td>\n      <td>0.0</td>\n      <td>0.0</td>\n      <td>0.0</td>\n      <td>0.0</td>\n      <td>0.0</td>\n      <td>0.0</td>\n      <td>0.0</td>\n      <td>0.0</td>\n      <td>...</td>\n      <td>0.0</td>\n      <td>1.0</td>\n      <td>1</td>\n      <td>tt0060697</td>\n      <td>104.0</td>\n      <td>$1,000 on the Black</td>\n      <td>1966</td>\n      <td>4</td>\n      <td>12</td>\n      <td>0</td>\n    </tr>\n    <tr>\n      <th>4204</th>\n      <td>0.0</td>\n      <td>0.0</td>\n      <td>0.0</td>\n      <td>1.0</td>\n      <td>0.0</td>\n      <td>0.0</td>\n      <td>1.0</td>\n      <td>0.0</td>\n      <td>0.0</td>\n      <td>0.0</td>\n      <td>...</td>\n      <td>0.0</td>\n      <td>0.0</td>\n      <td>1</td>\n      <td>tt1024733</td>\n      <td>98.0</td>\n      <td>$5 a Day</td>\n      <td>2008</td>\n      <td>1</td>\n      <td>1</td>\n      <td>0</td>\n    </tr>\n    <tr>\n      <th>248268</th>\n      <td>0.0</td>\n      <td>0.0</td>\n      <td>0.0</td>\n      <td>0.0</td>\n      <td>0.0</td>\n      <td>0.0</td>\n      <td>1.0</td>\n      <td>0.0</td>\n      <td>0.0</td>\n      <td>0.0</td>\n      <td>...</td>\n      <td>0.0</td>\n      <td>0.0</td>\n      <td>1</td>\n      <td>tt2106284</td>\n      <td>90.0</td>\n      <td>$50K and a Call Girl: A Love Story</td>\n      <td>2014</td>\n      <td>1</td>\n      <td>1</td>\n      <td>0</td>\n    </tr>\n    <tr>\n      <th>19311</th>\n      <td>0.0</td>\n      <td>0.0</td>\n      <td>1.0</td>\n      <td>0.0</td>\n      <td>0.0</td>\n      <td>0.0</td>\n      <td>1.0</td>\n      <td>0.0</td>\n      <td>0.0</td>\n      <td>0.0</td>\n      <td>...</td>\n      <td>0.0</td>\n      <td>0.0</td>\n      <td>1</td>\n      <td>tt0790799</td>\n      <td>78.0</td>\n      <td>$9.99</td>\n      <td>2008</td>\n      <td>3</td>\n      <td>9</td>\n      <td>0</td>\n    </tr>\n  </tbody>\n</table>\n<p>5 rows × 28 columns</p>\n</div>"
     },
     "execution_count": 18,
     "metadata": {},
     "output_type": "execute_result"
    }
   ],
   "source": [
    "# These columns are helpful, but bias the ML algorithms too much given the quantity of tiny movies\n",
    "movies = movies.drop('budget', axis=1)\n",
    "movies = movies.drop('revenue', axis=1)\n",
    "movies = movies.drop('popularity', axis=1)\n",
    "movies = movies.drop('vote_count', axis=1)\n",
    "movies = movies.drop('vote_average', axis=1)\n",
    "\n",
    "movies.head()"
   ],
   "metadata": {
    "collapsed": false,
    "pycharm": {
     "name": "#%%\n"
    }
   }
  },
  {
   "cell_type": "code",
   "execution_count": 19,
   "outputs": [],
   "source": [
    "id_columns = ['title', 'imdb_id']\n",
    "\n",
    "dieHard = movies[movies['title'] == 'Die Hard']\n",
    "dieHard = dieHard.drop(id_columns, axis=1) # Remove the title\n",
    "dieHard.to_csv('DieHard.csv')\n",
    "\n",
    "train_test = movies[movies['title'] != 'Die Hard']\n",
    "train_test = train_test.drop(id_columns, axis=1) # Remove the title\n",
    "train_test.to_csv('traintest.csv')"
   ],
   "metadata": {
    "collapsed": false,
    "pycharm": {
     "name": "#%%\n"
    }
   }
  }
 ],
 "metadata": {
  "kernelspec": {
   "display_name": "Python 3",
   "language": "python",
   "name": "python3"
  },
  "language_info": {
   "codemirror_mode": {
    "name": "ipython",
    "version": 2
   },
   "file_extension": ".py",
   "mimetype": "text/x-python",
   "name": "python",
   "nbconvert_exporter": "python",
   "pygments_lexer": "ipython2",
   "version": "2.7.6"
  }
 },
 "nbformat": 4,
 "nbformat_minor": 0
}