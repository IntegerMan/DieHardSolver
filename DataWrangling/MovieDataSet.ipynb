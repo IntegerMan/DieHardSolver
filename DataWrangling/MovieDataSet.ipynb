{
 "cells": [
  {
   "cell_type": "code",
   "execution_count": 64,
   "metadata": {
    "collapsed": true
   },
   "outputs": [
    {
     "name": "stderr",
     "output_type": "stream",
     "text": [
      "C:\\Users\\Matt\\anaconda3\\lib\\site-packages\\IPython\\core\\interactiveshell.py:3165: DtypeWarning: Columns (10) have mixed types.Specify dtype option on import or set low_memory=False.\n",
      "  has_raised = await self.run_ast_nodes(code_ast.body, cell_name,\n"
     ]
    },
    {
     "data": {
      "text/plain": "   adult                                             genres     id    imdb_id  \\\n1  False  [{'id': 12, 'name': 'Adventure'}, {'id': 14, '...   8844  tt0113497   \n2  False  [{'id': 10749, 'name': 'Romance'}, {'id': 35, ...  15602  tt0113228   \n3  False  [{'id': 35, 'name': 'Comedy'}, {'id': 18, 'nam...  31357  tt0114885   \n4  False                     [{'id': 35, 'name': 'Comedy'}]  11862  tt0113041   \n6  False  [{'id': 35, 'name': 'Comedy'}, {'id': 10749, '...  11860  tt0114319   \n\n                                            overview  popularity release_date  \\\n1  When siblings Judy and Peter discover an encha...   17.015539   1995-12-15   \n2  A family wedding reignites the ancient feud be...   11.712900   1995-12-22   \n3  Cheated on, mistreated and stepped on, the wom...    3.859495   1995-12-22   \n4  Just when George Banks has recovered from his ...    8.387519   1995-02-10   \n6  An ugly duckling having undergone a remarkable...    6.677277   1995-12-15   \n\n   runtime                                   spoken_languages  \\\n1    104.0  [{'iso_639_1': 'en', 'name': 'English'}, {'iso...   \n2    101.0           [{'iso_639_1': 'en', 'name': 'English'}]   \n3    127.0           [{'iso_639_1': 'en', 'name': 'English'}]   \n4    106.0           [{'iso_639_1': 'en', 'name': 'English'}]   \n6    127.0  [{'iso_639_1': 'fr', 'name': 'Français'}, {'is...   \n\n                                             tagline  \\\n1          Roll the dice and unleash the excitement!   \n2  Still Yelling. Still Fighting. Still Ready for...   \n3  Friends are the people who let you be yourself...   \n4  Just When His World Is Back To Normal... He's ...   \n6  You are cordially invited to the most surprisi...   \n\n                         title  vote_average  vote_count  release_year  \\\n1                      Jumanji           6.9      2413.0        1995.0   \n2             Grumpier Old Men           6.5        92.0        1995.0   \n3            Waiting to Exhale           6.1        34.0        1995.0   \n4  Father of the Bride Part II           5.7       173.0        1995.0   \n6                      Sabrina           6.2       141.0        1995.0   \n\n   release_quarter  release_month  \n1              4.0           12.0  \n2              4.0           12.0  \n3              4.0           12.0  \n4              1.0            2.0  \n6              4.0           12.0  ",
      "text/html": "<div>\n<style scoped>\n    .dataframe tbody tr th:only-of-type {\n        vertical-align: middle;\n    }\n\n    .dataframe tbody tr th {\n        vertical-align: top;\n    }\n\n    .dataframe thead th {\n        text-align: right;\n    }\n</style>\n<table border=\"1\" class=\"dataframe\">\n  <thead>\n    <tr style=\"text-align: right;\">\n      <th></th>\n      <th>adult</th>\n      <th>genres</th>\n      <th>id</th>\n      <th>imdb_id</th>\n      <th>overview</th>\n      <th>popularity</th>\n      <th>release_date</th>\n      <th>runtime</th>\n      <th>spoken_languages</th>\n      <th>tagline</th>\n      <th>title</th>\n      <th>vote_average</th>\n      <th>vote_count</th>\n      <th>release_year</th>\n      <th>release_quarter</th>\n      <th>release_month</th>\n    </tr>\n  </thead>\n  <tbody>\n    <tr>\n      <th>1</th>\n      <td>False</td>\n      <td>[{'id': 12, 'name': 'Adventure'}, {'id': 14, '...</td>\n      <td>8844</td>\n      <td>tt0113497</td>\n      <td>When siblings Judy and Peter discover an encha...</td>\n      <td>17.015539</td>\n      <td>1995-12-15</td>\n      <td>104.0</td>\n      <td>[{'iso_639_1': 'en', 'name': 'English'}, {'iso...</td>\n      <td>Roll the dice and unleash the excitement!</td>\n      <td>Jumanji</td>\n      <td>6.9</td>\n      <td>2413.0</td>\n      <td>1995.0</td>\n      <td>4.0</td>\n      <td>12.0</td>\n    </tr>\n    <tr>\n      <th>2</th>\n      <td>False</td>\n      <td>[{'id': 10749, 'name': 'Romance'}, {'id': 35, ...</td>\n      <td>15602</td>\n      <td>tt0113228</td>\n      <td>A family wedding reignites the ancient feud be...</td>\n      <td>11.712900</td>\n      <td>1995-12-22</td>\n      <td>101.0</td>\n      <td>[{'iso_639_1': 'en', 'name': 'English'}]</td>\n      <td>Still Yelling. Still Fighting. Still Ready for...</td>\n      <td>Grumpier Old Men</td>\n      <td>6.5</td>\n      <td>92.0</td>\n      <td>1995.0</td>\n      <td>4.0</td>\n      <td>12.0</td>\n    </tr>\n    <tr>\n      <th>3</th>\n      <td>False</td>\n      <td>[{'id': 35, 'name': 'Comedy'}, {'id': 18, 'nam...</td>\n      <td>31357</td>\n      <td>tt0114885</td>\n      <td>Cheated on, mistreated and stepped on, the wom...</td>\n      <td>3.859495</td>\n      <td>1995-12-22</td>\n      <td>127.0</td>\n      <td>[{'iso_639_1': 'en', 'name': 'English'}]</td>\n      <td>Friends are the people who let you be yourself...</td>\n      <td>Waiting to Exhale</td>\n      <td>6.1</td>\n      <td>34.0</td>\n      <td>1995.0</td>\n      <td>4.0</td>\n      <td>12.0</td>\n    </tr>\n    <tr>\n      <th>4</th>\n      <td>False</td>\n      <td>[{'id': 35, 'name': 'Comedy'}]</td>\n      <td>11862</td>\n      <td>tt0113041</td>\n      <td>Just when George Banks has recovered from his ...</td>\n      <td>8.387519</td>\n      <td>1995-02-10</td>\n      <td>106.0</td>\n      <td>[{'iso_639_1': 'en', 'name': 'English'}]</td>\n      <td>Just When His World Is Back To Normal... He's ...</td>\n      <td>Father of the Bride Part II</td>\n      <td>5.7</td>\n      <td>173.0</td>\n      <td>1995.0</td>\n      <td>1.0</td>\n      <td>2.0</td>\n    </tr>\n    <tr>\n      <th>6</th>\n      <td>False</td>\n      <td>[{'id': 35, 'name': 'Comedy'}, {'id': 10749, '...</td>\n      <td>11860</td>\n      <td>tt0114319</td>\n      <td>An ugly duckling having undergone a remarkable...</td>\n      <td>6.677277</td>\n      <td>1995-12-15</td>\n      <td>127.0</td>\n      <td>[{'iso_639_1': 'fr', 'name': 'Français'}, {'is...</td>\n      <td>You are cordially invited to the most surprisi...</td>\n      <td>Sabrina</td>\n      <td>6.2</td>\n      <td>141.0</td>\n      <td>1995.0</td>\n      <td>4.0</td>\n      <td>12.0</td>\n    </tr>\n  </tbody>\n</table>\n</div>"
     },
     "execution_count": 64,
     "metadata": {},
     "output_type": "execute_result"
    }
   ],
   "source": [
    "import json\n",
    "import pandas as pd\n",
    "\n",
    "path = 'MoviesDataSet/'\n",
    "\n",
    "# Load Data from the Kaggle dataset\n",
    "movies = pd.read_csv(path + 'movies_metadata.csv')\n",
    "\n",
    "# Drop junk columns\n",
    "movies = movies.drop('belongs_to_collection', axis=1)\n",
    "movies = movies.drop('homepage', axis=1)\n",
    "movies = movies.drop('original_language', axis=1)\n",
    "movies = movies.drop('original_title', axis=1)\n",
    "#movies = movies.drop('overview', axis=1) # Keeping this in - Neural nets may find some use for them\n",
    "#movies = movies.drop('tagline', axis=1) # Keeping this in - Neural nets may find some use for them\n",
    "movies = movies.drop('poster_path', axis=1)\n",
    "movies = movies.drop('production_companies', axis=1)\n",
    "movies = movies.drop('production_countries', axis=1)\n",
    "movies = movies.drop('video', axis=1)\n",
    "\n",
    "# These columns might be helpful, but they're not reliable in this dataset\n",
    "movies = movies.drop('revenue', axis=1)\n",
    "movies = movies.drop('budget', axis=1)\n",
    "\n",
    "# Filter out any unreleased movies\n",
    "movies = movies[movies['status'] == 'Released']\n",
    "movies = movies.drop('status', axis=1)\n",
    "\n",
    "# Only evaluate movies with ratings similar to our Christmas movies.\n",
    "# This is important since classic Christmas movies are popular and the minimum rating is a 5.4\n",
    "movies = movies[movies['vote_average'] >= 5.4]\n",
    "movies = movies[movies['vote_average'] <= 8.0]\n",
    "\n",
    "# Filter out extremely popular movies. Max popularity for a Christmas movie is 17.3\n",
    "movies['popularity'] = movies['popularity'].astype(float)\n",
    "movies = movies[movies['popularity'] <= 18]\n",
    "\n",
    "# Split the date into year / quarter / month components for easier analysis\n",
    "movies['release_year'] = pd.DatetimeIndex(movies['release_date']).year\n",
    "movies['release_quarter'] = pd.DatetimeIndex(movies['release_date']).quarter\n",
    "movies['release_month'] = pd.DatetimeIndex(movies['release_date']).month\n",
    "\n",
    "# Filter out movies from outside of the year range where our labelled data lives\n",
    "movies = movies[movies['release_year'] >= 1940 ]\n",
    "movies = movies[movies['release_year'] <= 2015 ]\n",
    "\n",
    "# Filter out extremely long movies\n",
    "movies['runtime'] = movies['runtime'].astype(int, errors='ignore')\n",
    "movies = movies[movies['runtime'] <= 150]\n",
    "\n",
    "# Convert ID to an int. Because why wouldn't it be?\n",
    "movies['id'] = movies['id'].astype(int)\n",
    "\n",
    "movies.head()"
   ]
  },
  {
   "cell_type": "code",
   "execution_count": 65,
   "outputs": [
    {
     "data": {
      "text/plain": "   adult                                             genres     id    imdb_id  \\\n1  False  [{'id': 12, 'name': 'Adventure'}, {'id': 14, '...   8844  tt0113497   \n2  False  [{'id': 10749, 'name': 'Romance'}, {'id': 35, ...  15602  tt0113228   \n3  False  [{'id': 35, 'name': 'Comedy'}, {'id': 18, 'nam...  31357  tt0114885   \n4  False                     [{'id': 35, 'name': 'Comedy'}]  11862  tt0113041   \n6  False  [{'id': 35, 'name': 'Comedy'}, {'id': 10749, '...  11860  tt0114319   \n\n                                            overview  popularity release_date  \\\n1  When siblings Judy and Peter discover an encha...   17.015539   1995-12-15   \n2  A family wedding reignites the ancient feud be...   11.712900   1995-12-22   \n3  Cheated on, mistreated and stepped on, the wom...    3.859495   1995-12-22   \n4  Just when George Banks has recovered from his ...    8.387519   1995-02-10   \n6  An ugly duckling having undergone a remarkable...    6.677277   1995-12-15   \n\n   runtime                                            tagline  \\\n1    104.0          Roll the dice and unleash the excitement!   \n2    101.0  Still Yelling. Still Fighting. Still Ready for...   \n3    127.0  Friends are the people who let you be yourself...   \n4    106.0  Just When His World Is Back To Normal... He's ...   \n6    127.0  You are cordially invited to the most surprisi...   \n\n                         title  vote_average  vote_count  release_year  \\\n1                      Jumanji           6.9      2413.0        1995.0   \n2             Grumpier Old Men           6.5        92.0        1995.0   \n3            Waiting to Exhale           6.1        34.0        1995.0   \n4  Father of the Bride Part II           5.7       173.0        1995.0   \n6                      Sabrina           6.2       141.0        1995.0   \n\n   release_quarter  release_month  \n1              4.0           12.0  \n2              4.0           12.0  \n3              4.0           12.0  \n4              1.0            2.0  \n6              4.0           12.0  ",
      "text/html": "<div>\n<style scoped>\n    .dataframe tbody tr th:only-of-type {\n        vertical-align: middle;\n    }\n\n    .dataframe tbody tr th {\n        vertical-align: top;\n    }\n\n    .dataframe thead th {\n        text-align: right;\n    }\n</style>\n<table border=\"1\" class=\"dataframe\">\n  <thead>\n    <tr style=\"text-align: right;\">\n      <th></th>\n      <th>adult</th>\n      <th>genres</th>\n      <th>id</th>\n      <th>imdb_id</th>\n      <th>overview</th>\n      <th>popularity</th>\n      <th>release_date</th>\n      <th>runtime</th>\n      <th>tagline</th>\n      <th>title</th>\n      <th>vote_average</th>\n      <th>vote_count</th>\n      <th>release_year</th>\n      <th>release_quarter</th>\n      <th>release_month</th>\n    </tr>\n  </thead>\n  <tbody>\n    <tr>\n      <th>1</th>\n      <td>False</td>\n      <td>[{'id': 12, 'name': 'Adventure'}, {'id': 14, '...</td>\n      <td>8844</td>\n      <td>tt0113497</td>\n      <td>When siblings Judy and Peter discover an encha...</td>\n      <td>17.015539</td>\n      <td>1995-12-15</td>\n      <td>104.0</td>\n      <td>Roll the dice and unleash the excitement!</td>\n      <td>Jumanji</td>\n      <td>6.9</td>\n      <td>2413.0</td>\n      <td>1995.0</td>\n      <td>4.0</td>\n      <td>12.0</td>\n    </tr>\n    <tr>\n      <th>2</th>\n      <td>False</td>\n      <td>[{'id': 10749, 'name': 'Romance'}, {'id': 35, ...</td>\n      <td>15602</td>\n      <td>tt0113228</td>\n      <td>A family wedding reignites the ancient feud be...</td>\n      <td>11.712900</td>\n      <td>1995-12-22</td>\n      <td>101.0</td>\n      <td>Still Yelling. Still Fighting. Still Ready for...</td>\n      <td>Grumpier Old Men</td>\n      <td>6.5</td>\n      <td>92.0</td>\n      <td>1995.0</td>\n      <td>4.0</td>\n      <td>12.0</td>\n    </tr>\n    <tr>\n      <th>3</th>\n      <td>False</td>\n      <td>[{'id': 35, 'name': 'Comedy'}, {'id': 18, 'nam...</td>\n      <td>31357</td>\n      <td>tt0114885</td>\n      <td>Cheated on, mistreated and stepped on, the wom...</td>\n      <td>3.859495</td>\n      <td>1995-12-22</td>\n      <td>127.0</td>\n      <td>Friends are the people who let you be yourself...</td>\n      <td>Waiting to Exhale</td>\n      <td>6.1</td>\n      <td>34.0</td>\n      <td>1995.0</td>\n      <td>4.0</td>\n      <td>12.0</td>\n    </tr>\n    <tr>\n      <th>4</th>\n      <td>False</td>\n      <td>[{'id': 35, 'name': 'Comedy'}]</td>\n      <td>11862</td>\n      <td>tt0113041</td>\n      <td>Just when George Banks has recovered from his ...</td>\n      <td>8.387519</td>\n      <td>1995-02-10</td>\n      <td>106.0</td>\n      <td>Just When His World Is Back To Normal... He's ...</td>\n      <td>Father of the Bride Part II</td>\n      <td>5.7</td>\n      <td>173.0</td>\n      <td>1995.0</td>\n      <td>1.0</td>\n      <td>2.0</td>\n    </tr>\n    <tr>\n      <th>6</th>\n      <td>False</td>\n      <td>[{'id': 35, 'name': 'Comedy'}, {'id': 10749, '...</td>\n      <td>11860</td>\n      <td>tt0114319</td>\n      <td>An ugly duckling having undergone a remarkable...</td>\n      <td>6.677277</td>\n      <td>1995-12-15</td>\n      <td>127.0</td>\n      <td>You are cordially invited to the most surprisi...</td>\n      <td>Sabrina</td>\n      <td>6.2</td>\n      <td>141.0</td>\n      <td>1995.0</td>\n      <td>4.0</td>\n      <td>12.0</td>\n    </tr>\n  </tbody>\n</table>\n</div>"
     },
     "execution_count": 65,
     "metadata": {},
     "output_type": "execute_result"
    }
   ],
   "source": [
    "def extract_language(row):\n",
    "    data = row['spoken_languages']\n",
    "    row['Is English'] = 'English' in data\n",
    "    return row\n",
    "\n",
    "movies = movies.apply(extract_language, axis=1)\n",
    "\n",
    "# Filter down to only English movies since all labelled movies are English\n",
    "movies = movies[movies['Is English'] == True]\n",
    "\n",
    "movies = movies.drop('spoken_languages', axis=1)\n",
    "movies = movies.drop('Is English', axis=1)\n",
    "movies.head()"
   ],
   "metadata": {
    "collapsed": false,
    "pycharm": {
     "name": "#%%\n"
    }
   }
  },
  {
   "cell_type": "code",
   "execution_count": 66,
   "outputs": [
    {
     "data": {
      "text/plain": "   Is Action  Is Adventure  Is Animation  Is Comedy  Is Crime  Is Documentary  \\\n1        NaN           1.0           NaN        NaN       NaN             NaN   \n2        NaN           NaN           NaN        1.0       NaN             NaN   \n3        NaN           NaN           NaN        1.0       NaN             NaN   \n4        NaN           NaN           NaN        1.0       NaN             NaN   \n6        NaN           NaN           NaN        1.0       NaN             NaN   \n\n   Is Drama  Is Family  Is Fantasy  Is Foreign  ...  popularity  release_date  \\\n1       NaN        1.0         1.0         NaN  ...   17.015539    1995-12-15   \n2       NaN        NaN         NaN         NaN  ...   11.712900    1995-12-22   \n3       1.0        NaN         NaN         NaN  ...    3.859495    1995-12-22   \n4       NaN        NaN         NaN         NaN  ...    8.387519    1995-02-10   \n6       NaN        NaN         NaN         NaN  ...    6.677277    1995-12-15   \n\n   release_month  release_quarter  release_year  runtime  \\\n1           12.0              4.0        1995.0    104.0   \n2           12.0              4.0        1995.0    101.0   \n3           12.0              4.0        1995.0    127.0   \n4            2.0              1.0        1995.0    106.0   \n6           12.0              4.0        1995.0    127.0   \n\n                                             tagline  \\\n1          Roll the dice and unleash the excitement!   \n2  Still Yelling. Still Fighting. Still Ready for...   \n3  Friends are the people who let you be yourself...   \n4  Just When His World Is Back To Normal... He's ...   \n6  You are cordially invited to the most surprisi...   \n\n                         title  vote_average  vote_count  \n1                      Jumanji           6.9      2413.0  \n2             Grumpier Old Men           6.5        92.0  \n3            Waiting to Exhale           6.1        34.0  \n4  Father of the Bride Part II           5.7       173.0  \n6                      Sabrina           6.2       141.0  \n\n[5 rows x 34 columns]",
      "text/html": "<div>\n<style scoped>\n    .dataframe tbody tr th:only-of-type {\n        vertical-align: middle;\n    }\n\n    .dataframe tbody tr th {\n        vertical-align: top;\n    }\n\n    .dataframe thead th {\n        text-align: right;\n    }\n</style>\n<table border=\"1\" class=\"dataframe\">\n  <thead>\n    <tr style=\"text-align: right;\">\n      <th></th>\n      <th>Is Action</th>\n      <th>Is Adventure</th>\n      <th>Is Animation</th>\n      <th>Is Comedy</th>\n      <th>Is Crime</th>\n      <th>Is Documentary</th>\n      <th>Is Drama</th>\n      <th>Is Family</th>\n      <th>Is Fantasy</th>\n      <th>Is Foreign</th>\n      <th>...</th>\n      <th>popularity</th>\n      <th>release_date</th>\n      <th>release_month</th>\n      <th>release_quarter</th>\n      <th>release_year</th>\n      <th>runtime</th>\n      <th>tagline</th>\n      <th>title</th>\n      <th>vote_average</th>\n      <th>vote_count</th>\n    </tr>\n  </thead>\n  <tbody>\n    <tr>\n      <th>1</th>\n      <td>NaN</td>\n      <td>1.0</td>\n      <td>NaN</td>\n      <td>NaN</td>\n      <td>NaN</td>\n      <td>NaN</td>\n      <td>NaN</td>\n      <td>1.0</td>\n      <td>1.0</td>\n      <td>NaN</td>\n      <td>...</td>\n      <td>17.015539</td>\n      <td>1995-12-15</td>\n      <td>12.0</td>\n      <td>4.0</td>\n      <td>1995.0</td>\n      <td>104.0</td>\n      <td>Roll the dice and unleash the excitement!</td>\n      <td>Jumanji</td>\n      <td>6.9</td>\n      <td>2413.0</td>\n    </tr>\n    <tr>\n      <th>2</th>\n      <td>NaN</td>\n      <td>NaN</td>\n      <td>NaN</td>\n      <td>1.0</td>\n      <td>NaN</td>\n      <td>NaN</td>\n      <td>NaN</td>\n      <td>NaN</td>\n      <td>NaN</td>\n      <td>NaN</td>\n      <td>...</td>\n      <td>11.712900</td>\n      <td>1995-12-22</td>\n      <td>12.0</td>\n      <td>4.0</td>\n      <td>1995.0</td>\n      <td>101.0</td>\n      <td>Still Yelling. Still Fighting. Still Ready for...</td>\n      <td>Grumpier Old Men</td>\n      <td>6.5</td>\n      <td>92.0</td>\n    </tr>\n    <tr>\n      <th>3</th>\n      <td>NaN</td>\n      <td>NaN</td>\n      <td>NaN</td>\n      <td>1.0</td>\n      <td>NaN</td>\n      <td>NaN</td>\n      <td>1.0</td>\n      <td>NaN</td>\n      <td>NaN</td>\n      <td>NaN</td>\n      <td>...</td>\n      <td>3.859495</td>\n      <td>1995-12-22</td>\n      <td>12.0</td>\n      <td>4.0</td>\n      <td>1995.0</td>\n      <td>127.0</td>\n      <td>Friends are the people who let you be yourself...</td>\n      <td>Waiting to Exhale</td>\n      <td>6.1</td>\n      <td>34.0</td>\n    </tr>\n    <tr>\n      <th>4</th>\n      <td>NaN</td>\n      <td>NaN</td>\n      <td>NaN</td>\n      <td>1.0</td>\n      <td>NaN</td>\n      <td>NaN</td>\n      <td>NaN</td>\n      <td>NaN</td>\n      <td>NaN</td>\n      <td>NaN</td>\n      <td>...</td>\n      <td>8.387519</td>\n      <td>1995-02-10</td>\n      <td>2.0</td>\n      <td>1.0</td>\n      <td>1995.0</td>\n      <td>106.0</td>\n      <td>Just When His World Is Back To Normal... He's ...</td>\n      <td>Father of the Bride Part II</td>\n      <td>5.7</td>\n      <td>173.0</td>\n    </tr>\n    <tr>\n      <th>6</th>\n      <td>NaN</td>\n      <td>NaN</td>\n      <td>NaN</td>\n      <td>1.0</td>\n      <td>NaN</td>\n      <td>NaN</td>\n      <td>NaN</td>\n      <td>NaN</td>\n      <td>NaN</td>\n      <td>NaN</td>\n      <td>...</td>\n      <td>6.677277</td>\n      <td>1995-12-15</td>\n      <td>12.0</td>\n      <td>4.0</td>\n      <td>1995.0</td>\n      <td>127.0</td>\n      <td>You are cordially invited to the most surprisi...</td>\n      <td>Sabrina</td>\n      <td>6.2</td>\n      <td>141.0</td>\n    </tr>\n  </tbody>\n</table>\n<p>5 rows × 34 columns</p>\n</div>"
     },
     "execution_count": 66,
     "metadata": {},
     "output_type": "execute_result"
    }
   ],
   "source": [
    "# Detect Genres\n",
    "def extract_genres(row):\n",
    "    data = row['genres']\n",
    "    arr = json.loads(data.replace(\"'\", \"\\\"\"))\n",
    "    for genre in arr:\n",
    "        row['Is ' + genre['name']] = 1\n",
    "\n",
    "    return row\n",
    "\n",
    "movies = movies.apply(extract_genres, axis=1)\n",
    "\n",
    "# Set our NA values for non-genre membership to 0\n",
    "#movies = movies.fillna(0)\n",
    "\n",
    "# Drop the no longer needed source column\n",
    "movies = movies.drop('genres', axis=1)\n",
    "movies.head()"
   ],
   "metadata": {
    "collapsed": false,
    "pycharm": {
     "name": "#%%\n"
    }
   }
  },
  {
   "cell_type": "code",
   "execution_count": 67,
   "outputs": [],
   "source": [
    "# Convert our adult column from true / false to 1 / 0.\n",
    "# Note we move from String -> Bool -> Int here\n",
    "movies['adult'] = movies['adult'].astype(bool).astype(int)"
   ],
   "metadata": {
    "collapsed": false,
    "pycharm": {
     "name": "#%%\n"
    }
   }
  },
  {
   "cell_type": "code",
   "execution_count": 68,
   "outputs": [
    {
     "data": {
      "text/plain": "   Is Action  Is Adventure  Is Animation  Is Comedy  Is Crime  Is Documentary  \\\n1        NaN           1.0           NaN        NaN       NaN             NaN   \n2        NaN           NaN           NaN        1.0       NaN             NaN   \n3        NaN           NaN           NaN        1.0       NaN             NaN   \n4        NaN           NaN           NaN        1.0       NaN             NaN   \n6        NaN           NaN           NaN        1.0       NaN             NaN   \n\n   Is Drama  Is Family  Is Fantasy  Is Foreign  ...  release_date  \\\n1       NaN        1.0         1.0         NaN  ...    1995-12-15   \n2       NaN        NaN         NaN         NaN  ...    1995-12-22   \n3       1.0        NaN         NaN         NaN  ...    1995-12-22   \n4       NaN        NaN         NaN         NaN  ...    1995-02-10   \n6       NaN        NaN         NaN         NaN  ...    1995-12-15   \n\n   release_month  release_quarter  release_year  runtime  \\\n1           12.0              4.0        1995.0    104.0   \n2           12.0              4.0        1995.0    101.0   \n3           12.0              4.0        1995.0    127.0   \n4            2.0              1.0        1995.0    106.0   \n6           12.0              4.0        1995.0    127.0   \n\n                                             tagline  \\\n1          Roll the dice and unleash the excitement!   \n2  Still Yelling. Still Fighting. Still Ready for...   \n3  Friends are the people who let you be yourself...   \n4  Just When His World Is Back To Normal... He's ...   \n6  You are cordially invited to the most surprisi...   \n\n                         title  vote_average  vote_count  Is Christmas Movie  \n1                      Jumanji           6.9      2413.0                   0  \n2             Grumpier Old Men           6.5        92.0                   0  \n3            Waiting to Exhale           6.1        34.0                   0  \n4  Father of the Bride Part II           5.7       173.0                   0  \n6                      Sabrina           6.2       141.0                   0  \n\n[5 rows x 35 columns]",
      "text/html": "<div>\n<style scoped>\n    .dataframe tbody tr th:only-of-type {\n        vertical-align: middle;\n    }\n\n    .dataframe tbody tr th {\n        vertical-align: top;\n    }\n\n    .dataframe thead th {\n        text-align: right;\n    }\n</style>\n<table border=\"1\" class=\"dataframe\">\n  <thead>\n    <tr style=\"text-align: right;\">\n      <th></th>\n      <th>Is Action</th>\n      <th>Is Adventure</th>\n      <th>Is Animation</th>\n      <th>Is Comedy</th>\n      <th>Is Crime</th>\n      <th>Is Documentary</th>\n      <th>Is Drama</th>\n      <th>Is Family</th>\n      <th>Is Fantasy</th>\n      <th>Is Foreign</th>\n      <th>...</th>\n      <th>release_date</th>\n      <th>release_month</th>\n      <th>release_quarter</th>\n      <th>release_year</th>\n      <th>runtime</th>\n      <th>tagline</th>\n      <th>title</th>\n      <th>vote_average</th>\n      <th>vote_count</th>\n      <th>Is Christmas Movie</th>\n    </tr>\n  </thead>\n  <tbody>\n    <tr>\n      <th>1</th>\n      <td>NaN</td>\n      <td>1.0</td>\n      <td>NaN</td>\n      <td>NaN</td>\n      <td>NaN</td>\n      <td>NaN</td>\n      <td>NaN</td>\n      <td>1.0</td>\n      <td>1.0</td>\n      <td>NaN</td>\n      <td>...</td>\n      <td>1995-12-15</td>\n      <td>12.0</td>\n      <td>4.0</td>\n      <td>1995.0</td>\n      <td>104.0</td>\n      <td>Roll the dice and unleash the excitement!</td>\n      <td>Jumanji</td>\n      <td>6.9</td>\n      <td>2413.0</td>\n      <td>0</td>\n    </tr>\n    <tr>\n      <th>2</th>\n      <td>NaN</td>\n      <td>NaN</td>\n      <td>NaN</td>\n      <td>1.0</td>\n      <td>NaN</td>\n      <td>NaN</td>\n      <td>NaN</td>\n      <td>NaN</td>\n      <td>NaN</td>\n      <td>NaN</td>\n      <td>...</td>\n      <td>1995-12-22</td>\n      <td>12.0</td>\n      <td>4.0</td>\n      <td>1995.0</td>\n      <td>101.0</td>\n      <td>Still Yelling. Still Fighting. Still Ready for...</td>\n      <td>Grumpier Old Men</td>\n      <td>6.5</td>\n      <td>92.0</td>\n      <td>0</td>\n    </tr>\n    <tr>\n      <th>3</th>\n      <td>NaN</td>\n      <td>NaN</td>\n      <td>NaN</td>\n      <td>1.0</td>\n      <td>NaN</td>\n      <td>NaN</td>\n      <td>1.0</td>\n      <td>NaN</td>\n      <td>NaN</td>\n      <td>NaN</td>\n      <td>...</td>\n      <td>1995-12-22</td>\n      <td>12.0</td>\n      <td>4.0</td>\n      <td>1995.0</td>\n      <td>127.0</td>\n      <td>Friends are the people who let you be yourself...</td>\n      <td>Waiting to Exhale</td>\n      <td>6.1</td>\n      <td>34.0</td>\n      <td>0</td>\n    </tr>\n    <tr>\n      <th>4</th>\n      <td>NaN</td>\n      <td>NaN</td>\n      <td>NaN</td>\n      <td>1.0</td>\n      <td>NaN</td>\n      <td>NaN</td>\n      <td>NaN</td>\n      <td>NaN</td>\n      <td>NaN</td>\n      <td>NaN</td>\n      <td>...</td>\n      <td>1995-02-10</td>\n      <td>2.0</td>\n      <td>1.0</td>\n      <td>1995.0</td>\n      <td>106.0</td>\n      <td>Just When His World Is Back To Normal... He's ...</td>\n      <td>Father of the Bride Part II</td>\n      <td>5.7</td>\n      <td>173.0</td>\n      <td>0</td>\n    </tr>\n    <tr>\n      <th>6</th>\n      <td>NaN</td>\n      <td>NaN</td>\n      <td>NaN</td>\n      <td>1.0</td>\n      <td>NaN</td>\n      <td>NaN</td>\n      <td>NaN</td>\n      <td>NaN</td>\n      <td>NaN</td>\n      <td>NaN</td>\n      <td>...</td>\n      <td>1995-12-15</td>\n      <td>12.0</td>\n      <td>4.0</td>\n      <td>1995.0</td>\n      <td>127.0</td>\n      <td>You are cordially invited to the most surprisi...</td>\n      <td>Sabrina</td>\n      <td>6.2</td>\n      <td>141.0</td>\n      <td>0</td>\n    </tr>\n  </tbody>\n</table>\n<p>5 rows × 35 columns</p>\n</div>"
     },
     "execution_count": 68,
     "metadata": {},
     "output_type": "execute_result"
    }
   ],
   "source": [
    "# These are IMDB IDs of movies known to be Christmas movies or classic Christmas movies. See other experiments for details.\n",
    "labelled_movies = ['tt0993789','tt6433880','tt2402927','tt0081793','tt2709692','tt0064349','tt0041473','tt7736496','tt0032981','tt0043733','tt0338348','tt0117372','tt1430607','tt0099487','tt1401143','tt0086465','tt3530002','tt0044008','tt1067106','tt0037595','tt0096061','tt0116705','tt0457939','tt0034862','tt0087363','tt0039628','tt0110527','tt0033045','tt2083355','tt0039190','tt0319343','tt0085936','tt0047673','tt0104940','tt0095016','tt0058536','tt0097958','tt0107688','tt0114924','tt0111070','tt0085334','tt1268799','tt0037059','tt0314331','tt0071222','tt0060345','tt0099785','tt0373469','tt3850590','tt0059026','tt0038650','tt3824458','tt0307987']\n",
    "\n",
    "# We need to label all rows based on if they're a Christmas movie or not so we can train a model\n",
    "def set_label(row):\n",
    "    imdb = row['imdb_id']\n",
    "    if imdb in labelled_movies:\n",
    "        row['Is Christmas Movie'] = 1\n",
    "    else:\n",
    "        row['Is Christmas Movie'] = 0\n",
    "    return row\n",
    "\n",
    "movies = movies.apply(set_label, axis=1)\n",
    "\n",
    "movies.head()"
   ],
   "metadata": {
    "collapsed": false,
    "pycharm": {
     "name": "#%%\n"
    }
   }
  },
  {
   "cell_type": "code",
   "execution_count": 69,
   "outputs": [],
   "source": [
    "# Load our Keywords dataset\n",
    "keywords = pd.read_csv(path + \"keywords.csv\")\n",
    "keywords['id'] = keywords['id'].astype(int)"
   ],
   "metadata": {
    "collapsed": false,
    "pycharm": {
     "name": "#%%\n"
    }
   }
  },
  {
   "cell_type": "code",
   "execution_count": 70,
   "outputs": [
    {
     "data": {
      "text/plain": "   Is Action  Is Adventure  Is Animation  Is Comedy  Is Crime  Is Documentary  \\\n0        NaN           1.0           NaN        NaN       NaN             NaN   \n1        NaN           NaN           NaN        1.0       NaN             NaN   \n2        NaN           NaN           NaN        1.0       NaN             NaN   \n3        NaN           NaN           NaN        1.0       NaN             NaN   \n4        NaN           NaN           NaN        1.0       NaN             NaN   \n\n   Is Drama  Is Family  Is Fantasy  Is Foreign  ...  release_month  \\\n0       NaN        1.0         1.0         NaN  ...           12.0   \n1       NaN        NaN         NaN         NaN  ...           12.0   \n2       1.0        NaN         NaN         NaN  ...           12.0   \n3       NaN        NaN         NaN         NaN  ...            2.0   \n4       NaN        NaN         NaN         NaN  ...           12.0   \n\n   release_quarter  release_year  runtime  \\\n0              4.0        1995.0    104.0   \n1              4.0        1995.0    101.0   \n2              4.0        1995.0    127.0   \n3              1.0        1995.0    106.0   \n4              4.0        1995.0    127.0   \n\n                                             tagline  \\\n0          Roll the dice and unleash the excitement!   \n1  Still Yelling. Still Fighting. Still Ready for...   \n2  Friends are the people who let you be yourself...   \n3  Just When His World Is Back To Normal... He's ...   \n4  You are cordially invited to the most surprisi...   \n\n                         title  vote_average  vote_count  Is Christmas Movie  \\\n0                      Jumanji           6.9      2413.0                   0   \n1             Grumpier Old Men           6.5        92.0                   0   \n2            Waiting to Exhale           6.1        34.0                   0   \n3  Father of the Bride Part II           5.7       173.0                   0   \n4                      Sabrina           6.2       141.0                   0   \n\n                                            keywords  \n0  [{'id': 10090, 'name': 'board game'}, {'id': 1...  \n1  [{'id': 1495, 'name': 'fishing'}, {'id': 12392...  \n2  [{'id': 818, 'name': 'based on novel'}, {'id':...  \n3  [{'id': 1009, 'name': 'baby'}, {'id': 1599, 'n...  \n4  [{'id': 90, 'name': 'paris'}, {'id': 380, 'nam...  \n\n[5 rows x 36 columns]",
      "text/html": "<div>\n<style scoped>\n    .dataframe tbody tr th:only-of-type {\n        vertical-align: middle;\n    }\n\n    .dataframe tbody tr th {\n        vertical-align: top;\n    }\n\n    .dataframe thead th {\n        text-align: right;\n    }\n</style>\n<table border=\"1\" class=\"dataframe\">\n  <thead>\n    <tr style=\"text-align: right;\">\n      <th></th>\n      <th>Is Action</th>\n      <th>Is Adventure</th>\n      <th>Is Animation</th>\n      <th>Is Comedy</th>\n      <th>Is Crime</th>\n      <th>Is Documentary</th>\n      <th>Is Drama</th>\n      <th>Is Family</th>\n      <th>Is Fantasy</th>\n      <th>Is Foreign</th>\n      <th>...</th>\n      <th>release_month</th>\n      <th>release_quarter</th>\n      <th>release_year</th>\n      <th>runtime</th>\n      <th>tagline</th>\n      <th>title</th>\n      <th>vote_average</th>\n      <th>vote_count</th>\n      <th>Is Christmas Movie</th>\n      <th>keywords</th>\n    </tr>\n  </thead>\n  <tbody>\n    <tr>\n      <th>0</th>\n      <td>NaN</td>\n      <td>1.0</td>\n      <td>NaN</td>\n      <td>NaN</td>\n      <td>NaN</td>\n      <td>NaN</td>\n      <td>NaN</td>\n      <td>1.0</td>\n      <td>1.0</td>\n      <td>NaN</td>\n      <td>...</td>\n      <td>12.0</td>\n      <td>4.0</td>\n      <td>1995.0</td>\n      <td>104.0</td>\n      <td>Roll the dice and unleash the excitement!</td>\n      <td>Jumanji</td>\n      <td>6.9</td>\n      <td>2413.0</td>\n      <td>0</td>\n      <td>[{'id': 10090, 'name': 'board game'}, {'id': 1...</td>\n    </tr>\n    <tr>\n      <th>1</th>\n      <td>NaN</td>\n      <td>NaN</td>\n      <td>NaN</td>\n      <td>1.0</td>\n      <td>NaN</td>\n      <td>NaN</td>\n      <td>NaN</td>\n      <td>NaN</td>\n      <td>NaN</td>\n      <td>NaN</td>\n      <td>...</td>\n      <td>12.0</td>\n      <td>4.0</td>\n      <td>1995.0</td>\n      <td>101.0</td>\n      <td>Still Yelling. Still Fighting. Still Ready for...</td>\n      <td>Grumpier Old Men</td>\n      <td>6.5</td>\n      <td>92.0</td>\n      <td>0</td>\n      <td>[{'id': 1495, 'name': 'fishing'}, {'id': 12392...</td>\n    </tr>\n    <tr>\n      <th>2</th>\n      <td>NaN</td>\n      <td>NaN</td>\n      <td>NaN</td>\n      <td>1.0</td>\n      <td>NaN</td>\n      <td>NaN</td>\n      <td>1.0</td>\n      <td>NaN</td>\n      <td>NaN</td>\n      <td>NaN</td>\n      <td>...</td>\n      <td>12.0</td>\n      <td>4.0</td>\n      <td>1995.0</td>\n      <td>127.0</td>\n      <td>Friends are the people who let you be yourself...</td>\n      <td>Waiting to Exhale</td>\n      <td>6.1</td>\n      <td>34.0</td>\n      <td>0</td>\n      <td>[{'id': 818, 'name': 'based on novel'}, {'id':...</td>\n    </tr>\n    <tr>\n      <th>3</th>\n      <td>NaN</td>\n      <td>NaN</td>\n      <td>NaN</td>\n      <td>1.0</td>\n      <td>NaN</td>\n      <td>NaN</td>\n      <td>NaN</td>\n      <td>NaN</td>\n      <td>NaN</td>\n      <td>NaN</td>\n      <td>...</td>\n      <td>2.0</td>\n      <td>1.0</td>\n      <td>1995.0</td>\n      <td>106.0</td>\n      <td>Just When His World Is Back To Normal... He's ...</td>\n      <td>Father of the Bride Part II</td>\n      <td>5.7</td>\n      <td>173.0</td>\n      <td>0</td>\n      <td>[{'id': 1009, 'name': 'baby'}, {'id': 1599, 'n...</td>\n    </tr>\n    <tr>\n      <th>4</th>\n      <td>NaN</td>\n      <td>NaN</td>\n      <td>NaN</td>\n      <td>1.0</td>\n      <td>NaN</td>\n      <td>NaN</td>\n      <td>NaN</td>\n      <td>NaN</td>\n      <td>NaN</td>\n      <td>NaN</td>\n      <td>...</td>\n      <td>12.0</td>\n      <td>4.0</td>\n      <td>1995.0</td>\n      <td>127.0</td>\n      <td>You are cordially invited to the most surprisi...</td>\n      <td>Sabrina</td>\n      <td>6.2</td>\n      <td>141.0</td>\n      <td>0</td>\n      <td>[{'id': 90, 'name': 'paris'}, {'id': 380, 'nam...</td>\n    </tr>\n  </tbody>\n</table>\n<p>5 rows × 36 columns</p>\n</div>"
     },
     "execution_count": 70,
     "metadata": {},
     "output_type": "execute_result"
    }
   ],
   "source": [
    "# Merge the keywords column into our dataset\n",
    "movies = pd.merge(movies, keywords, on='id')\n",
    "movies.head()"
   ],
   "metadata": {
    "collapsed": false,
    "pycharm": {
     "name": "#%%\n"
    }
   }
  },
  {
   "cell_type": "code",
   "execution_count": 71,
   "outputs": [],
   "source": [
    "# Filter rows without keywords\n",
    "movies = movies[movies['keywords'] != '[]']"
   ],
   "metadata": {
    "collapsed": false,
    "pycharm": {
     "name": "#%%\n"
    }
   }
  },
  {
   "cell_type": "code",
   "execution_count": 72,
   "outputs": [
    {
     "data": {
      "text/plain": "   Is Action  Is Adventure  Is Animation  Is Christmas Movie  Is Comedy  \\\n0        NaN           1.0           NaN                   0        NaN   \n1        NaN           NaN           NaN                   0        1.0   \n2        NaN           NaN           NaN                   0        1.0   \n3        NaN           NaN           NaN                   0        1.0   \n4        NaN           NaN           NaN                   0        1.0   \n\n   Is Crime  Is Documentary  Is Drama  Is Family  Is Fantasy  ...  popularity  \\\n0       NaN             NaN       NaN        1.0         1.0  ...   17.015539   \n1       NaN             NaN       NaN        NaN         NaN  ...   11.712900   \n2       NaN             NaN       1.0        NaN         NaN  ...    3.859495   \n3       NaN             NaN       NaN        NaN         NaN  ...    8.387519   \n4       NaN             NaN       NaN        NaN         NaN  ...    6.677277   \n\n   release_date  release_month  release_quarter  release_year  runtime  \\\n0    1995-12-15           12.0              4.0        1995.0    104.0   \n1    1995-12-22           12.0              4.0        1995.0    101.0   \n2    1995-12-22           12.0              4.0        1995.0    127.0   \n3    1995-02-10            2.0              1.0        1995.0    106.0   \n4    1995-12-15           12.0              4.0        1995.0    127.0   \n\n                                             tagline  \\\n0          Roll the dice and unleash the excitement!   \n1  Still Yelling. Still Fighting. Still Ready for...   \n2  Friends are the people who let you be yourself...   \n3  Just When His World Is Back To Normal... He's ...   \n4  You are cordially invited to the most surprisi...   \n\n                         title  vote_average  vote_count  \n0                      Jumanji           6.9      2413.0  \n1             Grumpier Old Men           6.5        92.0  \n2            Waiting to Exhale           6.1        34.0  \n3  Father of the Bride Part II           5.7       173.0  \n4                      Sabrina           6.2       141.0  \n\n[5 rows x 87 columns]",
      "text/html": "<div>\n<style scoped>\n    .dataframe tbody tr th:only-of-type {\n        vertical-align: middle;\n    }\n\n    .dataframe tbody tr th {\n        vertical-align: top;\n    }\n\n    .dataframe thead th {\n        text-align: right;\n    }\n</style>\n<table border=\"1\" class=\"dataframe\">\n  <thead>\n    <tr style=\"text-align: right;\">\n      <th></th>\n      <th>Is Action</th>\n      <th>Is Adventure</th>\n      <th>Is Animation</th>\n      <th>Is Christmas Movie</th>\n      <th>Is Comedy</th>\n      <th>Is Crime</th>\n      <th>Is Documentary</th>\n      <th>Is Drama</th>\n      <th>Is Family</th>\n      <th>Is Fantasy</th>\n      <th>...</th>\n      <th>popularity</th>\n      <th>release_date</th>\n      <th>release_month</th>\n      <th>release_quarter</th>\n      <th>release_year</th>\n      <th>runtime</th>\n      <th>tagline</th>\n      <th>title</th>\n      <th>vote_average</th>\n      <th>vote_count</th>\n    </tr>\n  </thead>\n  <tbody>\n    <tr>\n      <th>0</th>\n      <td>NaN</td>\n      <td>1.0</td>\n      <td>NaN</td>\n      <td>0</td>\n      <td>NaN</td>\n      <td>NaN</td>\n      <td>NaN</td>\n      <td>NaN</td>\n      <td>1.0</td>\n      <td>1.0</td>\n      <td>...</td>\n      <td>17.015539</td>\n      <td>1995-12-15</td>\n      <td>12.0</td>\n      <td>4.0</td>\n      <td>1995.0</td>\n      <td>104.0</td>\n      <td>Roll the dice and unleash the excitement!</td>\n      <td>Jumanji</td>\n      <td>6.9</td>\n      <td>2413.0</td>\n    </tr>\n    <tr>\n      <th>1</th>\n      <td>NaN</td>\n      <td>NaN</td>\n      <td>NaN</td>\n      <td>0</td>\n      <td>1.0</td>\n      <td>NaN</td>\n      <td>NaN</td>\n      <td>NaN</td>\n      <td>NaN</td>\n      <td>NaN</td>\n      <td>...</td>\n      <td>11.712900</td>\n      <td>1995-12-22</td>\n      <td>12.0</td>\n      <td>4.0</td>\n      <td>1995.0</td>\n      <td>101.0</td>\n      <td>Still Yelling. Still Fighting. Still Ready for...</td>\n      <td>Grumpier Old Men</td>\n      <td>6.5</td>\n      <td>92.0</td>\n    </tr>\n    <tr>\n      <th>2</th>\n      <td>NaN</td>\n      <td>NaN</td>\n      <td>NaN</td>\n      <td>0</td>\n      <td>1.0</td>\n      <td>NaN</td>\n      <td>NaN</td>\n      <td>1.0</td>\n      <td>NaN</td>\n      <td>NaN</td>\n      <td>...</td>\n      <td>3.859495</td>\n      <td>1995-12-22</td>\n      <td>12.0</td>\n      <td>4.0</td>\n      <td>1995.0</td>\n      <td>127.0</td>\n      <td>Friends are the people who let you be yourself...</td>\n      <td>Waiting to Exhale</td>\n      <td>6.1</td>\n      <td>34.0</td>\n    </tr>\n    <tr>\n      <th>3</th>\n      <td>NaN</td>\n      <td>NaN</td>\n      <td>NaN</td>\n      <td>0</td>\n      <td>1.0</td>\n      <td>NaN</td>\n      <td>NaN</td>\n      <td>NaN</td>\n      <td>NaN</td>\n      <td>NaN</td>\n      <td>...</td>\n      <td>8.387519</td>\n      <td>1995-02-10</td>\n      <td>2.0</td>\n      <td>1.0</td>\n      <td>1995.0</td>\n      <td>106.0</td>\n      <td>Just When His World Is Back To Normal... He's ...</td>\n      <td>Father of the Bride Part II</td>\n      <td>5.7</td>\n      <td>173.0</td>\n    </tr>\n    <tr>\n      <th>4</th>\n      <td>NaN</td>\n      <td>NaN</td>\n      <td>NaN</td>\n      <td>0</td>\n      <td>1.0</td>\n      <td>NaN</td>\n      <td>NaN</td>\n      <td>NaN</td>\n      <td>NaN</td>\n      <td>NaN</td>\n      <td>...</td>\n      <td>6.677277</td>\n      <td>1995-12-15</td>\n      <td>12.0</td>\n      <td>4.0</td>\n      <td>1995.0</td>\n      <td>127.0</td>\n      <td>You are cordially invited to the most surprisi...</td>\n      <td>Sabrina</td>\n      <td>6.2</td>\n      <td>141.0</td>\n    </tr>\n  </tbody>\n</table>\n<p>5 rows × 87 columns</p>\n</div>"
     },
     "execution_count": 72,
     "metadata": {},
     "output_type": "execute_result"
    }
   ],
   "source": [
    "# Detect Keywords\n",
    "def extract_keywords(row):\n",
    "    data = row['keywords']\n",
    "\n",
    "    # Sorry, I suck at RegEx right now. The source data doesn't truly use JSON and doesn't encode apostrophes either\n",
    "    data = data.replace(\"n's\",\"ns\") # Strip apostrophes not for serialization\n",
    "    data = data.replace(\"r's\",\"rs\") # Strip apostrophes not for serialization\n",
    "    data = data.replace(\"ladies'\",\"ladies\") # Strip apostrophes not for serialization\n",
    "    data = data.replace(\"one's\",\"ones\") # Strip apostrophes not for serialization\n",
    "    data = data.replace(\"d's\",\"ds\") # Strip apostrophes not for serialization\n",
    "    data = data.replace(\"t's\",\"ts\") # Strip apostrophes not for serialization\n",
    "    data = data.replace(\"l's\",\"ls\") # Strip apostrophes not for serialization\n",
    "    data = data.replace(\"e's\",\"es\") # Strip apostrophes not for serialization\n",
    "    data = data.replace(\"d'e\",\"de\") # Strip apostrophes not for serialization\n",
    "    data = data.replace(\"girls' \",\"girls \") # Strip apostrophes not for serialization\n",
    "    data = data.replace(\"boys' \",\"boys \") # Strip apostrophes not for serialization\n",
    "    data = data.replace(\"y's\",\"ys\") # Strip apostrophes not for serialization\n",
    "    data = data.replace(\"'s \",\"s\") # Strip apostrophes not for serialization\n",
    "    data = data.replace(\"ers' \",\"ers \") # Strip apostrophes not for serialization\n",
    "    data = data.replace(\"s' \",\"s \") # Strip apostrophes not for serialization\n",
    "    data = data.replace(\"'n'\",\"n\") # Strip apostrophes not for serialization\n",
    "    data = data.replace(\"\\\\xa0\",\"\") # Weird data\n",
    "    data = data.replace(\"p's\", \"ps\")\n",
    "    data = data.replace(\"o'h\", \"oh\")\n",
    "    data = data.replace(\"a'u\", \"au\")\n",
    "    data = data.replace(\"u'v\", \"uv\")\n",
    "    data = data.replace(\"d'a\", \"da\")\n",
    "\n",
    "    # The source data is only quasi-JSON so I need to change ' to \" so it will parse\n",
    "    data = data.replace(\"'\", \"\\\"\")\n",
    "\n",
    "    # These tags have to do with the labelled (Christmas movies) data\n",
    "    # The full set of tags results in 14,400 columns and is too large to handle in this experiment\n",
    "    # Note that a few of the things in this list are surprising and are likely due to the inclusion of Bad Santa and things like that\n",
    "    labelled_tags = ['Angel','Bars and Restaurants','Burglar','Based on Novel','Chicago','Christmas','Christmas Party','Christmas Eve','Christmas Carol','Department Store','Female Nudity','Ghost','Gift','Holiday','Hoodlum','Hospital','Lawyer','LGBT','London England','Los Angeles','Love at First Sight','Monster','Multiple Storylines','Murder','Musical','New Years Eve','North Pole','Puppet','Road Trip','Santa Claus','Scrooge','Sex','Snow','Victorian England','Winter','Woman Director']\n",
    "    \n",
    "    # Because people can define Christmas movies by the things they're NOT, add in other common tags\n",
    "    # this allows the algorithm to penalize movies with these common tags\n",
    "    unlablled_tags = ['aftercreditsstinger','alien','based on a true story','biography','blood','corruption','dark comedy','death','detective','dog','drug','dystopia','england','escape','family','father','film noir','friendship','gangster','gay','high school','independent film','investigation','kidnapping','love','marriage','martial arts','money','music','new york','nudity','paris','party','prison','revenge','robbery','romance','secret','remake','sequel','serial killer','small town','sport','spy','stand-up comedy','suicide','suspense','teacher','teenager','vampire','violence','wedding','world war ii']\n",
    "\n",
    "    try:\n",
    "        arr = json.loads(data)\n",
    "        for item in arr:\n",
    "            name = item['name']\n",
    "            if name in labelled_tags or name in unlablled_tags:\n",
    "                row['Tag: ' + name] = 1\n",
    "    except:\n",
    "        print('Could not parse: ' + data)\n",
    "\n",
    "    return row\n",
    "\n",
    "movies = movies.apply(extract_keywords, axis=1)\n",
    "\n",
    "# Set our NA values for non-keyword membership to 0\n",
    "#movies = movies.fillna(0)\n",
    "\n",
    "# Drop the no longer needed source column\n",
    "movies = movies.drop('keywords', axis=1)\n",
    "movies.head()"
   ],
   "metadata": {
    "collapsed": false,
    "pycharm": {
     "name": "#%%\n"
    }
   }
  },
  {
   "cell_type": "code",
   "execution_count": 73,
   "outputs": [],
   "source": [
    "# These pieces of logic were used to analyzed present tags\n",
    "#stats = movies.describe(include='all')\n",
    "#stats.to_csv('Stats.csv')\n",
    "\n",
    "#stats = movies[movies['Is Christmas Movie'] == 1].describe(include='all')\n",
    "#stats.to_csv('LabelledStats.csv')"
   ],
   "metadata": {
    "collapsed": false,
    "pycharm": {
     "name": "#%%\n"
    }
   }
  },
  {
   "cell_type": "code",
   "execution_count": 74,
   "outputs": [],
   "source": [
    "# Set the index for clarity\n",
    "movies_export = movies.set_index('id')\n",
    "\n",
    "# Export the full data set\n",
    "movies_export.to_csv('Processed.csv')"
   ],
   "metadata": {
    "collapsed": false,
    "pycharm": {
     "name": "#%%\n"
    }
   }
  },
  {
   "cell_type": "code",
   "execution_count": 75,
   "outputs": [
    {
     "data": {
      "text/plain": "       Is Action  Is Adventure  Is Animation  Is Christmas Movie  Is Comedy  \\\nid                                                                            \n8844         0.0           1.0           0.0                   0        0.0   \n15602        0.0           0.0           0.0                   0        1.0   \n31357        0.0           0.0           0.0                   0        1.0   \n11862        0.0           0.0           0.0                   0        1.0   \n11860        0.0           0.0           0.0                   0        1.0   \n\n       Is Crime  Is Documentary  Is Drama  Is Family  Is Fantasy  ...  adult  \\\nid                                                                ...          \n8844        0.0             0.0       0.0        1.0         1.0  ...      1   \n15602       0.0             0.0       0.0        0.0         0.0  ...      1   \n31357       0.0             0.0       1.0        0.0         0.0  ...      1   \n11862       0.0             0.0       0.0        0.0         0.0  ...      1   \n11860       0.0             0.0       0.0        0.0         0.0  ...      1   \n\n         imdb_id                                           overview  \\\nid                                                                    \n8844   tt0113497  When siblings Judy and Peter discover an encha...   \n15602  tt0113228  A family wedding reignites the ancient feud be...   \n31357  tt0114885  Cheated on, mistreated and stepped on, the wom...   \n11862  tt0113041  Just when George Banks has recovered from his ...   \n11860  tt0114319  An ugly duckling having undergone a remarkable...   \n\n       release_date  release_month  release_quarter  release_year  runtime  \\\nid                                                                           \n8844     1995-12-15           12.0              4.0        1995.0    104.0   \n15602    1995-12-22           12.0              4.0        1995.0    101.0   \n31357    1995-12-22           12.0              4.0        1995.0    127.0   \n11862    1995-02-10            2.0              1.0        1995.0    106.0   \n11860    1995-12-15           12.0              4.0        1995.0    127.0   \n\n                                                 tagline  \\\nid                                                         \n8844           Roll the dice and unleash the excitement!   \n15602  Still Yelling. Still Fighting. Still Ready for...   \n31357  Friends are the people who let you be yourself...   \n11862  Just When His World Is Back To Normal... He's ...   \n11860  You are cordially invited to the most surprisi...   \n\n                             title  \nid                                  \n8844                       Jumanji  \n15602             Grumpier Old Men  \n31357            Waiting to Exhale  \n11862  Father of the Bride Part II  \n11860                      Sabrina  \n\n[5 rows x 83 columns]",
      "text/html": "<div>\n<style scoped>\n    .dataframe tbody tr th:only-of-type {\n        vertical-align: middle;\n    }\n\n    .dataframe tbody tr th {\n        vertical-align: top;\n    }\n\n    .dataframe thead th {\n        text-align: right;\n    }\n</style>\n<table border=\"1\" class=\"dataframe\">\n  <thead>\n    <tr style=\"text-align: right;\">\n      <th></th>\n      <th>Is Action</th>\n      <th>Is Adventure</th>\n      <th>Is Animation</th>\n      <th>Is Christmas Movie</th>\n      <th>Is Comedy</th>\n      <th>Is Crime</th>\n      <th>Is Documentary</th>\n      <th>Is Drama</th>\n      <th>Is Family</th>\n      <th>Is Fantasy</th>\n      <th>...</th>\n      <th>adult</th>\n      <th>imdb_id</th>\n      <th>overview</th>\n      <th>release_date</th>\n      <th>release_month</th>\n      <th>release_quarter</th>\n      <th>release_year</th>\n      <th>runtime</th>\n      <th>tagline</th>\n      <th>title</th>\n    </tr>\n    <tr>\n      <th>id</th>\n      <th></th>\n      <th></th>\n      <th></th>\n      <th></th>\n      <th></th>\n      <th></th>\n      <th></th>\n      <th></th>\n      <th></th>\n      <th></th>\n      <th></th>\n      <th></th>\n      <th></th>\n      <th></th>\n      <th></th>\n      <th></th>\n      <th></th>\n      <th></th>\n      <th></th>\n      <th></th>\n      <th></th>\n    </tr>\n  </thead>\n  <tbody>\n    <tr>\n      <th>8844</th>\n      <td>0.0</td>\n      <td>1.0</td>\n      <td>0.0</td>\n      <td>0</td>\n      <td>0.0</td>\n      <td>0.0</td>\n      <td>0.0</td>\n      <td>0.0</td>\n      <td>1.0</td>\n      <td>1.0</td>\n      <td>...</td>\n      <td>1</td>\n      <td>tt0113497</td>\n      <td>When siblings Judy and Peter discover an encha...</td>\n      <td>1995-12-15</td>\n      <td>12.0</td>\n      <td>4.0</td>\n      <td>1995.0</td>\n      <td>104.0</td>\n      <td>Roll the dice and unleash the excitement!</td>\n      <td>Jumanji</td>\n    </tr>\n    <tr>\n      <th>15602</th>\n      <td>0.0</td>\n      <td>0.0</td>\n      <td>0.0</td>\n      <td>0</td>\n      <td>1.0</td>\n      <td>0.0</td>\n      <td>0.0</td>\n      <td>0.0</td>\n      <td>0.0</td>\n      <td>0.0</td>\n      <td>...</td>\n      <td>1</td>\n      <td>tt0113228</td>\n      <td>A family wedding reignites the ancient feud be...</td>\n      <td>1995-12-22</td>\n      <td>12.0</td>\n      <td>4.0</td>\n      <td>1995.0</td>\n      <td>101.0</td>\n      <td>Still Yelling. Still Fighting. Still Ready for...</td>\n      <td>Grumpier Old Men</td>\n    </tr>\n    <tr>\n      <th>31357</th>\n      <td>0.0</td>\n      <td>0.0</td>\n      <td>0.0</td>\n      <td>0</td>\n      <td>1.0</td>\n      <td>0.0</td>\n      <td>0.0</td>\n      <td>1.0</td>\n      <td>0.0</td>\n      <td>0.0</td>\n      <td>...</td>\n      <td>1</td>\n      <td>tt0114885</td>\n      <td>Cheated on, mistreated and stepped on, the wom...</td>\n      <td>1995-12-22</td>\n      <td>12.0</td>\n      <td>4.0</td>\n      <td>1995.0</td>\n      <td>127.0</td>\n      <td>Friends are the people who let you be yourself...</td>\n      <td>Waiting to Exhale</td>\n    </tr>\n    <tr>\n      <th>11862</th>\n      <td>0.0</td>\n      <td>0.0</td>\n      <td>0.0</td>\n      <td>0</td>\n      <td>1.0</td>\n      <td>0.0</td>\n      <td>0.0</td>\n      <td>0.0</td>\n      <td>0.0</td>\n      <td>0.0</td>\n      <td>...</td>\n      <td>1</td>\n      <td>tt0113041</td>\n      <td>Just when George Banks has recovered from his ...</td>\n      <td>1995-02-10</td>\n      <td>2.0</td>\n      <td>1.0</td>\n      <td>1995.0</td>\n      <td>106.0</td>\n      <td>Just When His World Is Back To Normal... He's ...</td>\n      <td>Father of the Bride Part II</td>\n    </tr>\n    <tr>\n      <th>11860</th>\n      <td>0.0</td>\n      <td>0.0</td>\n      <td>0.0</td>\n      <td>0</td>\n      <td>1.0</td>\n      <td>0.0</td>\n      <td>0.0</td>\n      <td>0.0</td>\n      <td>0.0</td>\n      <td>0.0</td>\n      <td>...</td>\n      <td>1</td>\n      <td>tt0114319</td>\n      <td>An ugly duckling having undergone a remarkable...</td>\n      <td>1995-12-15</td>\n      <td>12.0</td>\n      <td>4.0</td>\n      <td>1995.0</td>\n      <td>127.0</td>\n      <td>You are cordially invited to the most surprisi...</td>\n      <td>Sabrina</td>\n    </tr>\n  </tbody>\n</table>\n<p>5 rows × 83 columns</p>\n</div>"
     },
     "execution_count": 75,
     "metadata": {},
     "output_type": "execute_result"
    }
   ],
   "source": [
    "# These columns are helpful, but bias the ML algorithms too much given the quantity of tiny movies\n",
    "movies_export = movies_export.drop('popularity', axis=1)\n",
    "movies_export = movies_export.drop('vote_count', axis=1)\n",
    "movies_export = movies_export.drop('vote_average', axis=1)\n",
    "\n",
    "# Use 0 instead of NA\n",
    "movies_export = movies_export.fillna(0)\n",
    "\n",
    "movies_export.head()"
   ],
   "metadata": {
    "collapsed": false,
    "pycharm": {
     "name": "#%%\n"
    }
   }
  },
  {
   "cell_type": "code",
   "execution_count": 76,
   "outputs": [],
   "source": [
    "dieHard = movies_export[movies_export['title'] == 'Die Hard']\n",
    "dieHard = dieHard.drop('imdb_id', axis=1) # Remove the title\n",
    "dieHard.to_csv('DieHard.csv')\n",
    "\n",
    "# Make Sure Die Hard doesn't make it into the training or verification data\n",
    "movies_export = movies_export[movies_export['title'] != 'Die Hard']\n",
    "\n",
    "# Save our labelled data\n",
    "labelled = movies_export[movies_export['Is Christmas Movie'] == 1]\n",
    "labelled.to_csv('Labelled.csv')\n",
    "\n",
    "# Get our unlabelled data\n",
    "unlabelled = movies_export[movies_export['Is Christmas Movie'] == 0]\n",
    "unlabelled.to_csv('Unlabelled.csv')"
   ],
   "metadata": {
    "collapsed": false,
    "pycharm": {
     "name": "#%%\n"
    }
   }
  },
  {
   "cell_type": "code",
   "execution_count": 78,
   "outputs": [],
   "source": [
    "# We have FAR more movies that are not Christmas movies than movies that are. So let's take every 57th row and make that our sample of the larger dataset\n",
    "# 57 was chosen to reduce the dataset to a size where 1 out of 5 items would be a Christmas Movie.\n",
    "sampled = unlabelled.iloc[::57, :]\n",
    "\n",
    "unioned = pd.concat([labelled, sampled])\n",
    "unioned = unioned.sort_values('release_date')\n",
    "\n",
    "train_test = unioned.drop('imdb_id', axis=1)\n",
    "train_test.to_csv('traintest.csv')"
   ],
   "metadata": {
    "collapsed": false,
    "pycharm": {
     "name": "#%%\n"
    }
   }
  }
 ],
 "metadata": {
  "kernelspec": {
   "display_name": "Python 3",
   "language": "python",
   "name": "python3"
  },
  "language_info": {
   "codemirror_mode": {
    "name": "ipython",
    "version": 2
   },
   "file_extension": ".py",
   "mimetype": "text/x-python",
   "name": "python",
   "nbconvert_exporter": "python",
   "pygments_lexer": "ipython2",
   "version": "2.7.6"
  }
 },
 "nbformat": 4,
 "nbformat_minor": 0
}