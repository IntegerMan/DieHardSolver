{
 "cells": [
  {
   "cell_type": "code",
   "execution_count": 137,
   "metadata": {
    "collapsed": true
   },
   "outputs": [
    {
     "name": "stderr",
     "output_type": "stream",
     "text": [
      "c:\\users\\matte\\appdata\\local\\programs\\python\\python39\\lib\\site-packages\\IPython\\core\\interactiveshell.py:3441: DtypeWarning: Columns (10) have mixed types.Specify dtype option on import or set low_memory=False.\n",
      "  exec(code_obj, self.user_global_ns, self.user_ns)\n"
     ]
    },
    {
     "data": {
      "text/plain": "        adult                                             genres    imdb_id  \\\nid                                                                            \n267752  False                [{'id': 99, 'name': 'Documentary'}]  tt3060338   \n143747  False                    [{'id': 37, 'name': 'Western'}]  tt0060697   \n4204    False  [{'id': 18, 'name': 'Drama'}, {'id': 35, 'name...  tt1024733   \n248268  False                      [{'id': 18, 'name': 'Drama'}]  tt2106284   \n19311   False  [{'id': 16, 'name': 'Animation'}, {'id': 18, '...  tt0790799   \n\n        popularity release_date  runtime  \\\nid                                         \n267752    0.108531   2013-11-21     74.0   \n143747    0.634857   1966-12-18    104.0   \n4204      2.326842   2008-01-01     98.0   \n248268    0.984593   2014-01-10     90.0   \n19311     3.350555   2008-09-04     78.0   \n\n                                         spoken_languages  \\\nid                                                          \n267752                                                 []   \n143747  [{'iso_639_1': 'it', 'name': 'Italiano'}, {'is...   \n4204             [{'iso_639_1': 'en', 'name': 'English'}]   \n248268           [{'iso_639_1': 'en', 'name': 'English'}]   \n19311            [{'iso_639_1': 'en', 'name': 'English'}]   \n\n                                     title  vote_average  vote_count  \\\nid                                                                     \n267752                        #chicagoGirl           7.0         1.0   \n143747                 $1,000 on the Black           6.0         2.0   \n4204                              $5 a Day           6.0        24.0   \n248268  $50K and a Call Girl: A Love Story           6.3        11.0   \n19311                                $9.99           6.0        28.0   \n\n        release_year  release_quarter  release_month  \nid                                                    \n267752        2013.0              4.0           11.0  \n143747        1966.0              4.0           12.0  \n4204          2008.0              1.0            1.0  \n248268        2014.0              1.0            1.0  \n19311         2008.0              3.0            9.0  ",
      "text/html": "<div>\n<style scoped>\n    .dataframe tbody tr th:only-of-type {\n        vertical-align: middle;\n    }\n\n    .dataframe tbody tr th {\n        vertical-align: top;\n    }\n\n    .dataframe thead th {\n        text-align: right;\n    }\n</style>\n<table border=\"1\" class=\"dataframe\">\n  <thead>\n    <tr style=\"text-align: right;\">\n      <th></th>\n      <th>adult</th>\n      <th>genres</th>\n      <th>imdb_id</th>\n      <th>popularity</th>\n      <th>release_date</th>\n      <th>runtime</th>\n      <th>spoken_languages</th>\n      <th>title</th>\n      <th>vote_average</th>\n      <th>vote_count</th>\n      <th>release_year</th>\n      <th>release_quarter</th>\n      <th>release_month</th>\n    </tr>\n    <tr>\n      <th>id</th>\n      <th></th>\n      <th></th>\n      <th></th>\n      <th></th>\n      <th></th>\n      <th></th>\n      <th></th>\n      <th></th>\n      <th></th>\n      <th></th>\n      <th></th>\n      <th></th>\n      <th></th>\n    </tr>\n  </thead>\n  <tbody>\n    <tr>\n      <th>267752</th>\n      <td>False</td>\n      <td>[{'id': 99, 'name': 'Documentary'}]</td>\n      <td>tt3060338</td>\n      <td>0.108531</td>\n      <td>2013-11-21</td>\n      <td>74.0</td>\n      <td>[]</td>\n      <td>#chicagoGirl</td>\n      <td>7.0</td>\n      <td>1.0</td>\n      <td>2013.0</td>\n      <td>4.0</td>\n      <td>11.0</td>\n    </tr>\n    <tr>\n      <th>143747</th>\n      <td>False</td>\n      <td>[{'id': 37, 'name': 'Western'}]</td>\n      <td>tt0060697</td>\n      <td>0.634857</td>\n      <td>1966-12-18</td>\n      <td>104.0</td>\n      <td>[{'iso_639_1': 'it', 'name': 'Italiano'}, {'is...</td>\n      <td>$1,000 on the Black</td>\n      <td>6.0</td>\n      <td>2.0</td>\n      <td>1966.0</td>\n      <td>4.0</td>\n      <td>12.0</td>\n    </tr>\n    <tr>\n      <th>4204</th>\n      <td>False</td>\n      <td>[{'id': 18, 'name': 'Drama'}, {'id': 35, 'name...</td>\n      <td>tt1024733</td>\n      <td>2.326842</td>\n      <td>2008-01-01</td>\n      <td>98.0</td>\n      <td>[{'iso_639_1': 'en', 'name': 'English'}]</td>\n      <td>$5 a Day</td>\n      <td>6.0</td>\n      <td>24.0</td>\n      <td>2008.0</td>\n      <td>1.0</td>\n      <td>1.0</td>\n    </tr>\n    <tr>\n      <th>248268</th>\n      <td>False</td>\n      <td>[{'id': 18, 'name': 'Drama'}]</td>\n      <td>tt2106284</td>\n      <td>0.984593</td>\n      <td>2014-01-10</td>\n      <td>90.0</td>\n      <td>[{'iso_639_1': 'en', 'name': 'English'}]</td>\n      <td>$50K and a Call Girl: A Love Story</td>\n      <td>6.3</td>\n      <td>11.0</td>\n      <td>2014.0</td>\n      <td>1.0</td>\n      <td>1.0</td>\n    </tr>\n    <tr>\n      <th>19311</th>\n      <td>False</td>\n      <td>[{'id': 16, 'name': 'Animation'}, {'id': 18, '...</td>\n      <td>tt0790799</td>\n      <td>3.350555</td>\n      <td>2008-09-04</td>\n      <td>78.0</td>\n      <td>[{'iso_639_1': 'en', 'name': 'English'}]</td>\n      <td>$9.99</td>\n      <td>6.0</td>\n      <td>28.0</td>\n      <td>2008.0</td>\n      <td>3.0</td>\n      <td>9.0</td>\n    </tr>\n  </tbody>\n</table>\n</div>"
     },
     "execution_count": 137,
     "metadata": {},
     "output_type": "execute_result"
    }
   ],
   "source": [
    "import json\n",
    "import pandas as pd\n",
    "\n",
    "path = 'MoviesDataSet/'\n",
    "\n",
    "# Load Data from the Kaggle dataset\n",
    "movies = pd.read_csv(path + 'movies_metadata.csv')\n",
    "\n",
    "movies = movies.set_index('id')\n",
    "\n",
    "# Drop junk columns\n",
    "movies = movies.drop('belongs_to_collection', axis=1)\n",
    "movies = movies.drop('homepage', axis=1)\n",
    "movies = movies.drop('original_language', axis=1)\n",
    "movies = movies.drop('original_title', axis=1)\n",
    "movies = movies.drop('overview', axis=1)\n",
    "movies = movies.drop('tagline', axis=1)\n",
    "movies = movies.drop('poster_path', axis=1)\n",
    "movies = movies.drop('production_companies', axis=1)\n",
    "movies = movies.drop('production_countries', axis=1)\n",
    "movies = movies.drop('video', axis=1)\n",
    "\n",
    "# These columns might be helpful, but they're not reliable in this dataset\n",
    "movies = movies.drop('revenue', axis=1)\n",
    "movies = movies.drop('budget', axis=1)\n",
    "\n",
    "# Filter out any unreleased movies\n",
    "movies = movies[movies['status'] == 'Released']\n",
    "movies = movies.drop('status', axis=1)\n",
    "\n",
    "# Only evaluate movies with ratings similar to our Christmas movies.\n",
    "# This is important since classic Christmas movies are popular and the minimum rating is a 5.4\n",
    "movies = movies[movies['vote_average'] >= 5.4]\n",
    "movies = movies[movies['vote_average'] <= 8.0]\n",
    "\n",
    "# Filter out extremely popular movies. Max popularity for a Christmas movie is 17.3\n",
    "movies['popularity'] = movies['popularity'].astype(float)\n",
    "movies = movies[movies['popularity'] <= 18]\n",
    "\n",
    "# Split the date into year / quarter / month components for easier analysis\n",
    "movies['release_year'] = pd.DatetimeIndex(movies['release_date']).year\n",
    "movies['release_quarter'] = pd.DatetimeIndex(movies['release_date']).quarter\n",
    "movies['release_month'] = pd.DatetimeIndex(movies['release_date']).month\n",
    "\n",
    "# Filter out movies from outside of the year range where our labelled data lives\n",
    "movies = movies[movies['release_year'] >= 1940 ]\n",
    "movies = movies[movies['release_year'] <= 2015 ]\n",
    "\n",
    "# Filter out extremely long movies\n",
    "movies['runtime'] = movies['runtime'].astype(int, errors='ignore')\n",
    "movies = movies[movies['runtime'] <= 150]\n",
    "\n",
    "# Sort movies by title\n",
    "movies = movies.sort_values('title')\n",
    "\n",
    "movies.head()"
   ]
  },
  {
   "cell_type": "code",
   "execution_count": 138,
   "outputs": [
    {
     "data": {
      "text/plain": "        adult                                             genres    imdb_id  \\\nid                                                                            \n4204    False  [{'id': 18, 'name': 'Drama'}, {'id': 35, 'name...  tt1024733   \n248268  False                      [{'id': 18, 'name': 'Drama'}]  tt2106284   \n19311   False  [{'id': 16, 'name': 'Animation'}, {'id': 18, '...  tt0790799   \n95383   False                [{'id': 99, 'name': 'Documentary'}]  tt2258233   \n252178  False  [{'id': 53, 'name': 'Thriller'}, {'id': 28, 'n...  tt2614684   \n\n        popularity release_date  runtime                               title  \\\nid                                                                             \n4204      2.326842   2008-01-01     98.0                            $5 a Day   \n248268    0.984593   2014-01-10     90.0  $50K and a Call Girl: A Love Story   \n19311     3.350555   2008-09-04     78.0                               $9.99   \n95383     0.891024   2013-01-11     89.0                          $ellebrity   \n252178    7.080550   2014-10-10     99.0                                 '71   \n\n        vote_average  vote_count  release_year  release_quarter  release_month  \nid                                                                              \n4204             6.0        24.0        2008.0              1.0            1.0  \n248268           6.3        11.0        2014.0              1.0            1.0  \n19311            6.0        28.0        2008.0              3.0            9.0  \n95383            5.5         9.0        2013.0              1.0            1.0  \n252178           6.7       414.0        2014.0              4.0           10.0  ",
      "text/html": "<div>\n<style scoped>\n    .dataframe tbody tr th:only-of-type {\n        vertical-align: middle;\n    }\n\n    .dataframe tbody tr th {\n        vertical-align: top;\n    }\n\n    .dataframe thead th {\n        text-align: right;\n    }\n</style>\n<table border=\"1\" class=\"dataframe\">\n  <thead>\n    <tr style=\"text-align: right;\">\n      <th></th>\n      <th>adult</th>\n      <th>genres</th>\n      <th>imdb_id</th>\n      <th>popularity</th>\n      <th>release_date</th>\n      <th>runtime</th>\n      <th>title</th>\n      <th>vote_average</th>\n      <th>vote_count</th>\n      <th>release_year</th>\n      <th>release_quarter</th>\n      <th>release_month</th>\n    </tr>\n    <tr>\n      <th>id</th>\n      <th></th>\n      <th></th>\n      <th></th>\n      <th></th>\n      <th></th>\n      <th></th>\n      <th></th>\n      <th></th>\n      <th></th>\n      <th></th>\n      <th></th>\n      <th></th>\n    </tr>\n  </thead>\n  <tbody>\n    <tr>\n      <th>4204</th>\n      <td>False</td>\n      <td>[{'id': 18, 'name': 'Drama'}, {'id': 35, 'name...</td>\n      <td>tt1024733</td>\n      <td>2.326842</td>\n      <td>2008-01-01</td>\n      <td>98.0</td>\n      <td>$5 a Day</td>\n      <td>6.0</td>\n      <td>24.0</td>\n      <td>2008.0</td>\n      <td>1.0</td>\n      <td>1.0</td>\n    </tr>\n    <tr>\n      <th>248268</th>\n      <td>False</td>\n      <td>[{'id': 18, 'name': 'Drama'}]</td>\n      <td>tt2106284</td>\n      <td>0.984593</td>\n      <td>2014-01-10</td>\n      <td>90.0</td>\n      <td>$50K and a Call Girl: A Love Story</td>\n      <td>6.3</td>\n      <td>11.0</td>\n      <td>2014.0</td>\n      <td>1.0</td>\n      <td>1.0</td>\n    </tr>\n    <tr>\n      <th>19311</th>\n      <td>False</td>\n      <td>[{'id': 16, 'name': 'Animation'}, {'id': 18, '...</td>\n      <td>tt0790799</td>\n      <td>3.350555</td>\n      <td>2008-09-04</td>\n      <td>78.0</td>\n      <td>$9.99</td>\n      <td>6.0</td>\n      <td>28.0</td>\n      <td>2008.0</td>\n      <td>3.0</td>\n      <td>9.0</td>\n    </tr>\n    <tr>\n      <th>95383</th>\n      <td>False</td>\n      <td>[{'id': 99, 'name': 'Documentary'}]</td>\n      <td>tt2258233</td>\n      <td>0.891024</td>\n      <td>2013-01-11</td>\n      <td>89.0</td>\n      <td>$ellebrity</td>\n      <td>5.5</td>\n      <td>9.0</td>\n      <td>2013.0</td>\n      <td>1.0</td>\n      <td>1.0</td>\n    </tr>\n    <tr>\n      <th>252178</th>\n      <td>False</td>\n      <td>[{'id': 53, 'name': 'Thriller'}, {'id': 28, 'n...</td>\n      <td>tt2614684</td>\n      <td>7.080550</td>\n      <td>2014-10-10</td>\n      <td>99.0</td>\n      <td>'71</td>\n      <td>6.7</td>\n      <td>414.0</td>\n      <td>2014.0</td>\n      <td>4.0</td>\n      <td>10.0</td>\n    </tr>\n  </tbody>\n</table>\n</div>"
     },
     "execution_count": 138,
     "metadata": {},
     "output_type": "execute_result"
    }
   ],
   "source": [
    "def extract_language(row):\n",
    "    data = row['spoken_languages']\n",
    "    row['Is English'] = 'English' in data\n",
    "    return row\n",
    "\n",
    "movies = movies.apply(extract_language, axis=1)\n",
    "\n",
    "# Filter down to only English movies since all labelled movies are English\n",
    "movies = movies[movies['Is English'] == True]\n",
    "\n",
    "movies = movies.drop('spoken_languages', axis=1)\n",
    "movies = movies.drop('Is English', axis=1)\n",
    "movies.head()"
   ],
   "metadata": {
    "collapsed": false,
    "pycharm": {
     "name": "#%%\n"
    }
   }
  },
  {
   "cell_type": "code",
   "execution_count": 139,
   "outputs": [
    {
     "data": {
      "text/plain": "        Is Action  Is Adventure  Is Animation  Is Comedy  Is Crime  \\\nid                                                                   \n4204          0.0           0.0           0.0        1.0       0.0   \n248268        0.0           0.0           0.0        0.0       0.0   \n19311         0.0           0.0           1.0        0.0       0.0   \n95383         0.0           0.0           0.0        0.0       0.0   \n252178        1.0           0.0           0.0        0.0       0.0   \n\n        Is Documentary  Is Drama  Is Family  Is Fantasy  Is Foreign  ...  \\\nid                                                                   ...   \n4204               0.0       1.0        0.0         0.0         0.0  ...   \n248268             0.0       1.0        0.0         0.0         0.0  ...   \n19311              0.0       1.0        0.0         0.0         0.0  ...   \n95383              1.0       0.0        0.0         0.0         0.0  ...   \n252178             0.0       1.0        0.0         0.0         0.0  ...   \n\n          imdb_id  popularity  release_date  release_month  release_quarter  \\\nid                                                                            \n4204    tt1024733    2.326842    2008-01-01            1.0              1.0   \n248268  tt2106284    0.984593    2014-01-10            1.0              1.0   \n19311   tt0790799    3.350555    2008-09-04            9.0              3.0   \n95383   tt2258233    0.891024    2013-01-11            1.0              1.0   \n252178  tt2614684    7.080550    2014-10-10           10.0              4.0   \n\n        release_year  runtime                               title  \\\nid                                                                  \n4204          2008.0     98.0                            $5 a Day   \n248268        2014.0     90.0  $50K and a Call Girl: A Love Story   \n19311         2008.0     78.0                               $9.99   \n95383         2013.0     89.0                          $ellebrity   \n252178        2014.0     99.0                                 '71   \n\n        vote_average  vote_count  \nid                                \n4204             6.0        24.0  \n248268           6.3        11.0  \n19311            6.0        28.0  \n95383            5.5         9.0  \n252178           6.7       414.0  \n\n[5 rows x 31 columns]",
      "text/html": "<div>\n<style scoped>\n    .dataframe tbody tr th:only-of-type {\n        vertical-align: middle;\n    }\n\n    .dataframe tbody tr th {\n        vertical-align: top;\n    }\n\n    .dataframe thead th {\n        text-align: right;\n    }\n</style>\n<table border=\"1\" class=\"dataframe\">\n  <thead>\n    <tr style=\"text-align: right;\">\n      <th></th>\n      <th>Is Action</th>\n      <th>Is Adventure</th>\n      <th>Is Animation</th>\n      <th>Is Comedy</th>\n      <th>Is Crime</th>\n      <th>Is Documentary</th>\n      <th>Is Drama</th>\n      <th>Is Family</th>\n      <th>Is Fantasy</th>\n      <th>Is Foreign</th>\n      <th>...</th>\n      <th>imdb_id</th>\n      <th>popularity</th>\n      <th>release_date</th>\n      <th>release_month</th>\n      <th>release_quarter</th>\n      <th>release_year</th>\n      <th>runtime</th>\n      <th>title</th>\n      <th>vote_average</th>\n      <th>vote_count</th>\n    </tr>\n    <tr>\n      <th>id</th>\n      <th></th>\n      <th></th>\n      <th></th>\n      <th></th>\n      <th></th>\n      <th></th>\n      <th></th>\n      <th></th>\n      <th></th>\n      <th></th>\n      <th></th>\n      <th></th>\n      <th></th>\n      <th></th>\n      <th></th>\n      <th></th>\n      <th></th>\n      <th></th>\n      <th></th>\n      <th></th>\n      <th></th>\n    </tr>\n  </thead>\n  <tbody>\n    <tr>\n      <th>4204</th>\n      <td>0.0</td>\n      <td>0.0</td>\n      <td>0.0</td>\n      <td>1.0</td>\n      <td>0.0</td>\n      <td>0.0</td>\n      <td>1.0</td>\n      <td>0.0</td>\n      <td>0.0</td>\n      <td>0.0</td>\n      <td>...</td>\n      <td>tt1024733</td>\n      <td>2.326842</td>\n      <td>2008-01-01</td>\n      <td>1.0</td>\n      <td>1.0</td>\n      <td>2008.0</td>\n      <td>98.0</td>\n      <td>$5 a Day</td>\n      <td>6.0</td>\n      <td>24.0</td>\n    </tr>\n    <tr>\n      <th>248268</th>\n      <td>0.0</td>\n      <td>0.0</td>\n      <td>0.0</td>\n      <td>0.0</td>\n      <td>0.0</td>\n      <td>0.0</td>\n      <td>1.0</td>\n      <td>0.0</td>\n      <td>0.0</td>\n      <td>0.0</td>\n      <td>...</td>\n      <td>tt2106284</td>\n      <td>0.984593</td>\n      <td>2014-01-10</td>\n      <td>1.0</td>\n      <td>1.0</td>\n      <td>2014.0</td>\n      <td>90.0</td>\n      <td>$50K and a Call Girl: A Love Story</td>\n      <td>6.3</td>\n      <td>11.0</td>\n    </tr>\n    <tr>\n      <th>19311</th>\n      <td>0.0</td>\n      <td>0.0</td>\n      <td>1.0</td>\n      <td>0.0</td>\n      <td>0.0</td>\n      <td>0.0</td>\n      <td>1.0</td>\n      <td>0.0</td>\n      <td>0.0</td>\n      <td>0.0</td>\n      <td>...</td>\n      <td>tt0790799</td>\n      <td>3.350555</td>\n      <td>2008-09-04</td>\n      <td>9.0</td>\n      <td>3.0</td>\n      <td>2008.0</td>\n      <td>78.0</td>\n      <td>$9.99</td>\n      <td>6.0</td>\n      <td>28.0</td>\n    </tr>\n    <tr>\n      <th>95383</th>\n      <td>0.0</td>\n      <td>0.0</td>\n      <td>0.0</td>\n      <td>0.0</td>\n      <td>0.0</td>\n      <td>1.0</td>\n      <td>0.0</td>\n      <td>0.0</td>\n      <td>0.0</td>\n      <td>0.0</td>\n      <td>...</td>\n      <td>tt2258233</td>\n      <td>0.891024</td>\n      <td>2013-01-11</td>\n      <td>1.0</td>\n      <td>1.0</td>\n      <td>2013.0</td>\n      <td>89.0</td>\n      <td>$ellebrity</td>\n      <td>5.5</td>\n      <td>9.0</td>\n    </tr>\n    <tr>\n      <th>252178</th>\n      <td>1.0</td>\n      <td>0.0</td>\n      <td>0.0</td>\n      <td>0.0</td>\n      <td>0.0</td>\n      <td>0.0</td>\n      <td>1.0</td>\n      <td>0.0</td>\n      <td>0.0</td>\n      <td>0.0</td>\n      <td>...</td>\n      <td>tt2614684</td>\n      <td>7.080550</td>\n      <td>2014-10-10</td>\n      <td>10.0</td>\n      <td>4.0</td>\n      <td>2014.0</td>\n      <td>99.0</td>\n      <td>'71</td>\n      <td>6.7</td>\n      <td>414.0</td>\n    </tr>\n  </tbody>\n</table>\n<p>5 rows × 31 columns</p>\n</div>"
     },
     "execution_count": 139,
     "metadata": {},
     "output_type": "execute_result"
    }
   ],
   "source": [
    "# Detect Genres\n",
    "def extract_genres(row):\n",
    "    data = row['genres']\n",
    "    arr = json.loads(data.replace(\"'\", \"\\\"\"))\n",
    "    for genre in arr:\n",
    "        row['Is ' + genre['name']] = 1\n",
    "\n",
    "    return row\n",
    "\n",
    "movies = movies.apply(extract_genres, axis=1)\n",
    "\n",
    "# Set our NA values for non-genre membership to 0\n",
    "movies = movies.fillna(0)\n",
    "\n",
    "# Drop the no longer needed source column\n",
    "movies = movies.drop('genres', axis=1)\n",
    "movies.head()"
   ],
   "metadata": {
    "collapsed": false,
    "pycharm": {
     "name": "#%%\n"
    }
   }
  },
  {
   "cell_type": "code",
   "execution_count": 140,
   "outputs": [
    {
     "data": {
      "text/plain": "        Is Action  Is Adventure  Is Animation  Is Comedy  Is Crime  \\\nid                                                                   \n4204          0.0           0.0           0.0        1.0       0.0   \n248268        0.0           0.0           0.0        0.0       0.0   \n19311         0.0           0.0           1.0        0.0       0.0   \n95383         0.0           0.0           0.0        0.0       0.0   \n252178        1.0           0.0           0.0        0.0       0.0   \n\n        Is Documentary  Is Drama  Is Family  Is Fantasy  Is Foreign  ...  \\\nid                                                                   ...   \n4204               0.0       1.0        0.0         0.0         0.0  ...   \n248268             0.0       1.0        0.0         0.0         0.0  ...   \n19311              0.0       1.0        0.0         0.0         0.0  ...   \n95383              1.0       0.0        0.0         0.0         0.0  ...   \n252178             0.0       1.0        0.0         0.0         0.0  ...   \n\n          imdb_id  popularity  release_date  release_month  release_quarter  \\\nid                                                                            \n4204    tt1024733    2.326842    2008-01-01            1.0              1.0   \n248268  tt2106284    0.984593    2014-01-10            1.0              1.0   \n19311   tt0790799    3.350555    2008-09-04            9.0              3.0   \n95383   tt2258233    0.891024    2013-01-11            1.0              1.0   \n252178  tt2614684    7.080550    2014-10-10           10.0              4.0   \n\n        release_year  runtime                               title  \\\nid                                                                  \n4204          2008.0     98.0                            $5 a Day   \n248268        2014.0     90.0  $50K and a Call Girl: A Love Story   \n19311         2008.0     78.0                               $9.99   \n95383         2013.0     89.0                          $ellebrity   \n252178        2014.0     99.0                                 '71   \n\n        vote_average  vote_count  \nid                                \n4204             6.0        24.0  \n248268           6.3        11.0  \n19311            6.0        28.0  \n95383            5.5         9.0  \n252178           6.7       414.0  \n\n[5 rows x 31 columns]",
      "text/html": "<div>\n<style scoped>\n    .dataframe tbody tr th:only-of-type {\n        vertical-align: middle;\n    }\n\n    .dataframe tbody tr th {\n        vertical-align: top;\n    }\n\n    .dataframe thead th {\n        text-align: right;\n    }\n</style>\n<table border=\"1\" class=\"dataframe\">\n  <thead>\n    <tr style=\"text-align: right;\">\n      <th></th>\n      <th>Is Action</th>\n      <th>Is Adventure</th>\n      <th>Is Animation</th>\n      <th>Is Comedy</th>\n      <th>Is Crime</th>\n      <th>Is Documentary</th>\n      <th>Is Drama</th>\n      <th>Is Family</th>\n      <th>Is Fantasy</th>\n      <th>Is Foreign</th>\n      <th>...</th>\n      <th>imdb_id</th>\n      <th>popularity</th>\n      <th>release_date</th>\n      <th>release_month</th>\n      <th>release_quarter</th>\n      <th>release_year</th>\n      <th>runtime</th>\n      <th>title</th>\n      <th>vote_average</th>\n      <th>vote_count</th>\n    </tr>\n    <tr>\n      <th>id</th>\n      <th></th>\n      <th></th>\n      <th></th>\n      <th></th>\n      <th></th>\n      <th></th>\n      <th></th>\n      <th></th>\n      <th></th>\n      <th></th>\n      <th></th>\n      <th></th>\n      <th></th>\n      <th></th>\n      <th></th>\n      <th></th>\n      <th></th>\n      <th></th>\n      <th></th>\n      <th></th>\n      <th></th>\n    </tr>\n  </thead>\n  <tbody>\n    <tr>\n      <th>4204</th>\n      <td>0.0</td>\n      <td>0.0</td>\n      <td>0.0</td>\n      <td>1.0</td>\n      <td>0.0</td>\n      <td>0.0</td>\n      <td>1.0</td>\n      <td>0.0</td>\n      <td>0.0</td>\n      <td>0.0</td>\n      <td>...</td>\n      <td>tt1024733</td>\n      <td>2.326842</td>\n      <td>2008-01-01</td>\n      <td>1.0</td>\n      <td>1.0</td>\n      <td>2008.0</td>\n      <td>98.0</td>\n      <td>$5 a Day</td>\n      <td>6.0</td>\n      <td>24.0</td>\n    </tr>\n    <tr>\n      <th>248268</th>\n      <td>0.0</td>\n      <td>0.0</td>\n      <td>0.0</td>\n      <td>0.0</td>\n      <td>0.0</td>\n      <td>0.0</td>\n      <td>1.0</td>\n      <td>0.0</td>\n      <td>0.0</td>\n      <td>0.0</td>\n      <td>...</td>\n      <td>tt2106284</td>\n      <td>0.984593</td>\n      <td>2014-01-10</td>\n      <td>1.0</td>\n      <td>1.0</td>\n      <td>2014.0</td>\n      <td>90.0</td>\n      <td>$50K and a Call Girl: A Love Story</td>\n      <td>6.3</td>\n      <td>11.0</td>\n    </tr>\n    <tr>\n      <th>19311</th>\n      <td>0.0</td>\n      <td>0.0</td>\n      <td>1.0</td>\n      <td>0.0</td>\n      <td>0.0</td>\n      <td>0.0</td>\n      <td>1.0</td>\n      <td>0.0</td>\n      <td>0.0</td>\n      <td>0.0</td>\n      <td>...</td>\n      <td>tt0790799</td>\n      <td>3.350555</td>\n      <td>2008-09-04</td>\n      <td>9.0</td>\n      <td>3.0</td>\n      <td>2008.0</td>\n      <td>78.0</td>\n      <td>$9.99</td>\n      <td>6.0</td>\n      <td>28.0</td>\n    </tr>\n    <tr>\n      <th>95383</th>\n      <td>0.0</td>\n      <td>0.0</td>\n      <td>0.0</td>\n      <td>0.0</td>\n      <td>0.0</td>\n      <td>1.0</td>\n      <td>0.0</td>\n      <td>0.0</td>\n      <td>0.0</td>\n      <td>0.0</td>\n      <td>...</td>\n      <td>tt2258233</td>\n      <td>0.891024</td>\n      <td>2013-01-11</td>\n      <td>1.0</td>\n      <td>1.0</td>\n      <td>2013.0</td>\n      <td>89.0</td>\n      <td>$ellebrity</td>\n      <td>5.5</td>\n      <td>9.0</td>\n    </tr>\n    <tr>\n      <th>252178</th>\n      <td>1.0</td>\n      <td>0.0</td>\n      <td>0.0</td>\n      <td>0.0</td>\n      <td>0.0</td>\n      <td>0.0</td>\n      <td>1.0</td>\n      <td>0.0</td>\n      <td>0.0</td>\n      <td>0.0</td>\n      <td>...</td>\n      <td>tt2614684</td>\n      <td>7.080550</td>\n      <td>2014-10-10</td>\n      <td>10.0</td>\n      <td>4.0</td>\n      <td>2014.0</td>\n      <td>99.0</td>\n      <td>'71</td>\n      <td>6.7</td>\n      <td>414.0</td>\n    </tr>\n  </tbody>\n</table>\n<p>5 rows × 31 columns</p>\n</div>"
     },
     "execution_count": 140,
     "metadata": {},
     "output_type": "execute_result"
    }
   ],
   "source": [
    "# Convert our adult column from true / false to 1 / 0.\n",
    "# Note we move from String -> Bool -> Int here\n",
    "movies['adult'] = movies['adult'].astype(bool).astype(int)\n",
    "\n",
    "movies.head()"
   ],
   "metadata": {
    "collapsed": false,
    "pycharm": {
     "name": "#%%\n"
    }
   }
  },
  {
   "cell_type": "code",
   "execution_count": 141,
   "outputs": [
    {
     "data": {
      "text/plain": "        Is Action  Is Adventure  Is Animation  Is Comedy  Is Crime  \\\nid                                                                   \n4204          0.0           0.0           0.0        1.0       0.0   \n248268        0.0           0.0           0.0        0.0       0.0   \n19311         0.0           0.0           1.0        0.0       0.0   \n95383         0.0           0.0           0.0        0.0       0.0   \n252178        1.0           0.0           0.0        0.0       0.0   \n\n        Is Documentary  Is Drama  Is Family  Is Fantasy  Is Foreign  ...  \\\nid                                                                   ...   \n4204               0.0       1.0        0.0         0.0         0.0  ...   \n248268             0.0       1.0        0.0         0.0         0.0  ...   \n19311              0.0       1.0        0.0         0.0         0.0  ...   \n95383              1.0       0.0        0.0         0.0         0.0  ...   \n252178             0.0       1.0        0.0         0.0         0.0  ...   \n\n        popularity  release_date  release_month  release_quarter  \\\nid                                                                 \n4204      2.326842    2008-01-01            1.0              1.0   \n248268    0.984593    2014-01-10            1.0              1.0   \n19311     3.350555    2008-09-04            9.0              3.0   \n95383     0.891024    2013-01-11            1.0              1.0   \n252178    7.080550    2014-10-10           10.0              4.0   \n\n        release_year  runtime                               title  \\\nid                                                                  \n4204          2008.0     98.0                            $5 a Day   \n248268        2014.0     90.0  $50K and a Call Girl: A Love Story   \n19311         2008.0     78.0                               $9.99   \n95383         2013.0     89.0                          $ellebrity   \n252178        2014.0     99.0                                 '71   \n\n        vote_average  vote_count  Is Christmas Movie  \nid                                                    \n4204             6.0        24.0                   0  \n248268           6.3        11.0                   0  \n19311            6.0        28.0                   0  \n95383            5.5         9.0                   0  \n252178           6.7       414.0                   0  \n\n[5 rows x 32 columns]",
      "text/html": "<div>\n<style scoped>\n    .dataframe tbody tr th:only-of-type {\n        vertical-align: middle;\n    }\n\n    .dataframe tbody tr th {\n        vertical-align: top;\n    }\n\n    .dataframe thead th {\n        text-align: right;\n    }\n</style>\n<table border=\"1\" class=\"dataframe\">\n  <thead>\n    <tr style=\"text-align: right;\">\n      <th></th>\n      <th>Is Action</th>\n      <th>Is Adventure</th>\n      <th>Is Animation</th>\n      <th>Is Comedy</th>\n      <th>Is Crime</th>\n      <th>Is Documentary</th>\n      <th>Is Drama</th>\n      <th>Is Family</th>\n      <th>Is Fantasy</th>\n      <th>Is Foreign</th>\n      <th>...</th>\n      <th>popularity</th>\n      <th>release_date</th>\n      <th>release_month</th>\n      <th>release_quarter</th>\n      <th>release_year</th>\n      <th>runtime</th>\n      <th>title</th>\n      <th>vote_average</th>\n      <th>vote_count</th>\n      <th>Is Christmas Movie</th>\n    </tr>\n    <tr>\n      <th>id</th>\n      <th></th>\n      <th></th>\n      <th></th>\n      <th></th>\n      <th></th>\n      <th></th>\n      <th></th>\n      <th></th>\n      <th></th>\n      <th></th>\n      <th></th>\n      <th></th>\n      <th></th>\n      <th></th>\n      <th></th>\n      <th></th>\n      <th></th>\n      <th></th>\n      <th></th>\n      <th></th>\n      <th></th>\n    </tr>\n  </thead>\n  <tbody>\n    <tr>\n      <th>4204</th>\n      <td>0.0</td>\n      <td>0.0</td>\n      <td>0.0</td>\n      <td>1.0</td>\n      <td>0.0</td>\n      <td>0.0</td>\n      <td>1.0</td>\n      <td>0.0</td>\n      <td>0.0</td>\n      <td>0.0</td>\n      <td>...</td>\n      <td>2.326842</td>\n      <td>2008-01-01</td>\n      <td>1.0</td>\n      <td>1.0</td>\n      <td>2008.0</td>\n      <td>98.0</td>\n      <td>$5 a Day</td>\n      <td>6.0</td>\n      <td>24.0</td>\n      <td>0</td>\n    </tr>\n    <tr>\n      <th>248268</th>\n      <td>0.0</td>\n      <td>0.0</td>\n      <td>0.0</td>\n      <td>0.0</td>\n      <td>0.0</td>\n      <td>0.0</td>\n      <td>1.0</td>\n      <td>0.0</td>\n      <td>0.0</td>\n      <td>0.0</td>\n      <td>...</td>\n      <td>0.984593</td>\n      <td>2014-01-10</td>\n      <td>1.0</td>\n      <td>1.0</td>\n      <td>2014.0</td>\n      <td>90.0</td>\n      <td>$50K and a Call Girl: A Love Story</td>\n      <td>6.3</td>\n      <td>11.0</td>\n      <td>0</td>\n    </tr>\n    <tr>\n      <th>19311</th>\n      <td>0.0</td>\n      <td>0.0</td>\n      <td>1.0</td>\n      <td>0.0</td>\n      <td>0.0</td>\n      <td>0.0</td>\n      <td>1.0</td>\n      <td>0.0</td>\n      <td>0.0</td>\n      <td>0.0</td>\n      <td>...</td>\n      <td>3.350555</td>\n      <td>2008-09-04</td>\n      <td>9.0</td>\n      <td>3.0</td>\n      <td>2008.0</td>\n      <td>78.0</td>\n      <td>$9.99</td>\n      <td>6.0</td>\n      <td>28.0</td>\n      <td>0</td>\n    </tr>\n    <tr>\n      <th>95383</th>\n      <td>0.0</td>\n      <td>0.0</td>\n      <td>0.0</td>\n      <td>0.0</td>\n      <td>0.0</td>\n      <td>1.0</td>\n      <td>0.0</td>\n      <td>0.0</td>\n      <td>0.0</td>\n      <td>0.0</td>\n      <td>...</td>\n      <td>0.891024</td>\n      <td>2013-01-11</td>\n      <td>1.0</td>\n      <td>1.0</td>\n      <td>2013.0</td>\n      <td>89.0</td>\n      <td>$ellebrity</td>\n      <td>5.5</td>\n      <td>9.0</td>\n      <td>0</td>\n    </tr>\n    <tr>\n      <th>252178</th>\n      <td>1.0</td>\n      <td>0.0</td>\n      <td>0.0</td>\n      <td>0.0</td>\n      <td>0.0</td>\n      <td>0.0</td>\n      <td>1.0</td>\n      <td>0.0</td>\n      <td>0.0</td>\n      <td>0.0</td>\n      <td>...</td>\n      <td>7.080550</td>\n      <td>2014-10-10</td>\n      <td>10.0</td>\n      <td>4.0</td>\n      <td>2014.0</td>\n      <td>99.0</td>\n      <td>'71</td>\n      <td>6.7</td>\n      <td>414.0</td>\n      <td>0</td>\n    </tr>\n  </tbody>\n</table>\n<p>5 rows × 32 columns</p>\n</div>"
     },
     "execution_count": 141,
     "metadata": {},
     "output_type": "execute_result"
    }
   ],
   "source": [
    "# These are IMDB IDs of movies known to be Christmas movies or classic Christmas movies. See other experiments for details.\n",
    "labelled_movies = ['tt0993789','tt6433880','tt2402927','tt0081793','tt2709692','tt0064349','tt0041473','tt7736496','tt0032981','tt0043733','tt0338348','tt0117372','tt1430607','tt0099487','tt1401143','tt0086465','tt3530002','tt0044008','tt1067106','tt0037595','tt0096061','tt0116705','tt0457939','tt0034862','tt0087363','tt0039628','tt0110527','tt0033045','tt2083355','tt0039190','tt0319343','tt0085936','tt0047673','tt0104940','tt0095016','tt0058536','tt0097958','tt0107688','tt0114924','tt0111070','tt0085334','tt1268799','tt0037059','tt0314331','tt0071222','tt0060345','tt0099785','tt0373469','tt3850590','tt0059026','tt0038650','tt3824458','tt0307987']\n",
    "\n",
    "# We need to label all rows based on if they're a Christmas movie or not so we can train a model\n",
    "def set_label(row):\n",
    "    imdb = row['imdb_id']\n",
    "    if imdb in labelled_movies:\n",
    "        row['Is Christmas Movie'] = 1\n",
    "    else:\n",
    "        row['Is Christmas Movie'] = 0\n",
    "    return row\n",
    "\n",
    "movies = movies.apply(set_label, axis=1)\n",
    "\n",
    "movies.head()"
   ],
   "metadata": {
    "collapsed": false,
    "pycharm": {
     "name": "#%%\n"
    }
   }
  },
  {
   "cell_type": "code",
   "execution_count": 142,
   "outputs": [],
   "source": [
    "# Export the full data set\n",
    "movies.to_csv('Processed.csv')"
   ],
   "metadata": {
    "collapsed": false,
    "pycharm": {
     "name": "#%%\n"
    }
   }
  },
  {
   "cell_type": "code",
   "execution_count": 143,
   "outputs": [
    {
     "data": {
      "text/plain": "        Is Action  Is Adventure  Is Animation  Is Comedy  Is Crime  \\\nid                                                                   \n4204          0.0           0.0           0.0        1.0       0.0   \n248268        0.0           0.0           0.0        0.0       0.0   \n19311         0.0           0.0           1.0        0.0       0.0   \n95383         0.0           0.0           0.0        0.0       0.0   \n252178        1.0           0.0           0.0        0.0       0.0   \n\n        Is Documentary  Is Drama  Is Family  Is Fantasy  Is Foreign  ...  \\\nid                                                                   ...   \n4204               0.0       1.0        0.0         0.0         0.0  ...   \n248268             0.0       1.0        0.0         0.0         0.0  ...   \n19311              0.0       1.0        0.0         0.0         0.0  ...   \n95383              1.0       0.0        0.0         0.0         0.0  ...   \n252178             0.0       1.0        0.0         0.0         0.0  ...   \n\n        Is Western  adult    imdb_id  release_date  release_month  \\\nid                                                                  \n4204           0.0      1  tt1024733    2008-01-01            1.0   \n248268         0.0      1  tt2106284    2014-01-10            1.0   \n19311          0.0      1  tt0790799    2008-09-04            9.0   \n95383          0.0      1  tt2258233    2013-01-11            1.0   \n252178         0.0      1  tt2614684    2014-10-10           10.0   \n\n        release_quarter  release_year  runtime  \\\nid                                               \n4204                1.0        2008.0     98.0   \n248268              1.0        2014.0     90.0   \n19311               3.0        2008.0     78.0   \n95383               1.0        2013.0     89.0   \n252178              4.0        2014.0     99.0   \n\n                                     title  Is Christmas Movie  \nid                                                              \n4204                              $5 a Day                   0  \n248268  $50K and a Call Girl: A Love Story                   0  \n19311                                $9.99                   0  \n95383                           $ellebrity                   0  \n252178                                 '71                   0  \n\n[5 rows x 29 columns]",
      "text/html": "<div>\n<style scoped>\n    .dataframe tbody tr th:only-of-type {\n        vertical-align: middle;\n    }\n\n    .dataframe tbody tr th {\n        vertical-align: top;\n    }\n\n    .dataframe thead th {\n        text-align: right;\n    }\n</style>\n<table border=\"1\" class=\"dataframe\">\n  <thead>\n    <tr style=\"text-align: right;\">\n      <th></th>\n      <th>Is Action</th>\n      <th>Is Adventure</th>\n      <th>Is Animation</th>\n      <th>Is Comedy</th>\n      <th>Is Crime</th>\n      <th>Is Documentary</th>\n      <th>Is Drama</th>\n      <th>Is Family</th>\n      <th>Is Fantasy</th>\n      <th>Is Foreign</th>\n      <th>...</th>\n      <th>Is Western</th>\n      <th>adult</th>\n      <th>imdb_id</th>\n      <th>release_date</th>\n      <th>release_month</th>\n      <th>release_quarter</th>\n      <th>release_year</th>\n      <th>runtime</th>\n      <th>title</th>\n      <th>Is Christmas Movie</th>\n    </tr>\n    <tr>\n      <th>id</th>\n      <th></th>\n      <th></th>\n      <th></th>\n      <th></th>\n      <th></th>\n      <th></th>\n      <th></th>\n      <th></th>\n      <th></th>\n      <th></th>\n      <th></th>\n      <th></th>\n      <th></th>\n      <th></th>\n      <th></th>\n      <th></th>\n      <th></th>\n      <th></th>\n      <th></th>\n      <th></th>\n      <th></th>\n    </tr>\n  </thead>\n  <tbody>\n    <tr>\n      <th>4204</th>\n      <td>0.0</td>\n      <td>0.0</td>\n      <td>0.0</td>\n      <td>1.0</td>\n      <td>0.0</td>\n      <td>0.0</td>\n      <td>1.0</td>\n      <td>0.0</td>\n      <td>0.0</td>\n      <td>0.0</td>\n      <td>...</td>\n      <td>0.0</td>\n      <td>1</td>\n      <td>tt1024733</td>\n      <td>2008-01-01</td>\n      <td>1.0</td>\n      <td>1.0</td>\n      <td>2008.0</td>\n      <td>98.0</td>\n      <td>$5 a Day</td>\n      <td>0</td>\n    </tr>\n    <tr>\n      <th>248268</th>\n      <td>0.0</td>\n      <td>0.0</td>\n      <td>0.0</td>\n      <td>0.0</td>\n      <td>0.0</td>\n      <td>0.0</td>\n      <td>1.0</td>\n      <td>0.0</td>\n      <td>0.0</td>\n      <td>0.0</td>\n      <td>...</td>\n      <td>0.0</td>\n      <td>1</td>\n      <td>tt2106284</td>\n      <td>2014-01-10</td>\n      <td>1.0</td>\n      <td>1.0</td>\n      <td>2014.0</td>\n      <td>90.0</td>\n      <td>$50K and a Call Girl: A Love Story</td>\n      <td>0</td>\n    </tr>\n    <tr>\n      <th>19311</th>\n      <td>0.0</td>\n      <td>0.0</td>\n      <td>1.0</td>\n      <td>0.0</td>\n      <td>0.0</td>\n      <td>0.0</td>\n      <td>1.0</td>\n      <td>0.0</td>\n      <td>0.0</td>\n      <td>0.0</td>\n      <td>...</td>\n      <td>0.0</td>\n      <td>1</td>\n      <td>tt0790799</td>\n      <td>2008-09-04</td>\n      <td>9.0</td>\n      <td>3.0</td>\n      <td>2008.0</td>\n      <td>78.0</td>\n      <td>$9.99</td>\n      <td>0</td>\n    </tr>\n    <tr>\n      <th>95383</th>\n      <td>0.0</td>\n      <td>0.0</td>\n      <td>0.0</td>\n      <td>0.0</td>\n      <td>0.0</td>\n      <td>1.0</td>\n      <td>0.0</td>\n      <td>0.0</td>\n      <td>0.0</td>\n      <td>0.0</td>\n      <td>...</td>\n      <td>0.0</td>\n      <td>1</td>\n      <td>tt2258233</td>\n      <td>2013-01-11</td>\n      <td>1.0</td>\n      <td>1.0</td>\n      <td>2013.0</td>\n      <td>89.0</td>\n      <td>$ellebrity</td>\n      <td>0</td>\n    </tr>\n    <tr>\n      <th>252178</th>\n      <td>1.0</td>\n      <td>0.0</td>\n      <td>0.0</td>\n      <td>0.0</td>\n      <td>0.0</td>\n      <td>0.0</td>\n      <td>1.0</td>\n      <td>0.0</td>\n      <td>0.0</td>\n      <td>0.0</td>\n      <td>...</td>\n      <td>0.0</td>\n      <td>1</td>\n      <td>tt2614684</td>\n      <td>2014-10-10</td>\n      <td>10.0</td>\n      <td>4.0</td>\n      <td>2014.0</td>\n      <td>99.0</td>\n      <td>'71</td>\n      <td>0</td>\n    </tr>\n  </tbody>\n</table>\n<p>5 rows × 29 columns</p>\n</div>"
     },
     "execution_count": 143,
     "metadata": {},
     "output_type": "execute_result"
    }
   ],
   "source": [
    "# These columns are helpful, but bias the ML algorithms too much given the quantity of tiny movies\n",
    "movies = movies.drop('popularity', axis=1)\n",
    "movies = movies.drop('vote_count', axis=1)\n",
    "movies = movies.drop('vote_average', axis=1)\n",
    "\n",
    "movies.head()"
   ],
   "metadata": {
    "collapsed": false,
    "pycharm": {
     "name": "#%%\n"
    }
   }
  },
  {
   "cell_type": "code",
   "execution_count": 144,
   "outputs": [],
   "source": [
    "id_columns = ['title', 'imdb_id']\n",
    "\n",
    "labelled = movies[movies['Is Christmas Movie'] == 1]\n",
    "labelled.to_csv('Labelled.csv')\n",
    "\n",
    "dieHard = movies[movies['title'] == 'Die Hard']\n",
    "dieHard = dieHard.drop(id_columns, axis=1) # Remove the title\n",
    "dieHard.to_csv('DieHard.csv')\n",
    "\n",
    "train_test = movies[movies['title'] != 'Die Hard']\n",
    "train_test = train_test.drop(id_columns, axis=1) # Remove the title\n",
    "train_test.to_csv('traintest.csv')"
   ],
   "metadata": {
    "collapsed": false,
    "pycharm": {
     "name": "#%%\n"
    }
   }
  }
 ],
 "metadata": {
  "kernelspec": {
   "display_name": "Python 3",
   "language": "python",
   "name": "python3"
  },
  "language_info": {
   "codemirror_mode": {
    "name": "ipython",
    "version": 2
   },
   "file_extension": ".py",
   "mimetype": "text/x-python",
   "name": "python",
   "nbconvert_exporter": "python",
   "pygments_lexer": "ipython2",
   "version": "2.7.6"
  }
 },
 "nbformat": 4,
 "nbformat_minor": 0
}