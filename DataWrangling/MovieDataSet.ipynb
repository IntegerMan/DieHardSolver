{
 "cells": [
  {
   "cell_type": "code",
   "execution_count": 19,
   "metadata": {
    "collapsed": true
   },
   "outputs": [
    {
     "name": "stderr",
     "output_type": "stream",
     "text": [
      "c:\\users\\matte\\appdata\\local\\programs\\python\\python39\\lib\\site-packages\\IPython\\core\\interactiveshell.py:3441: DtypeWarning: Columns (10) have mixed types.Specify dtype option on import or set low_memory=False.\n",
      "  exec(code_obj, self.user_global_ns, self.user_ns)\n"
     ]
    },
    {
     "data": {
      "text/plain": "       adult   budget                                             genres  \\\n18757  False        0                [{'id': 99, 'name': 'Documentary'}]   \n30961  False        0  [{'id': 35, 'name': 'Comedy'}, {'id': 18, 'nam...   \n36153  False  1500000  [{'id': 18, 'name': 'Drama'}, {'id': 9648, 'na...   \n23501  False        0                [{'id': 99, 'name': 'Documentary'}]   \n28042  False        0                    [{'id': 37, 'name': 'Western'}]   \n\n           id    imdb_id popularity release_date  revenue  runtime  \\\n18757   55245  tt1699720   0.077485   2010-01-01      0.0     83.0   \n30961   41371  tt1637976   1.190427   2010-07-27      0.0     95.0   \n36153  301325  tt3526286   2.451342   2015-11-20      0.0     90.0   \n23501  267752  tt3060338   0.108531   2013-11-21      0.0     74.0   \n28042  143747  tt0060697   0.634857   1966-12-18      0.0    104.0   \n\n                       title  vote_average  vote_count  \n18757  !Women Art Revolution           4.3         2.0  \n30961    #1 Cheerleader Camp           3.4        23.0  \n36153                #Horror           3.4        53.0  \n23501           #chicagoGirl           7.0         1.0  \n28042    $1,000 on the Black           6.0         2.0  ",
      "text/html": "<div>\n<style scoped>\n    .dataframe tbody tr th:only-of-type {\n        vertical-align: middle;\n    }\n\n    .dataframe tbody tr th {\n        vertical-align: top;\n    }\n\n    .dataframe thead th {\n        text-align: right;\n    }\n</style>\n<table border=\"1\" class=\"dataframe\">\n  <thead>\n    <tr style=\"text-align: right;\">\n      <th></th>\n      <th>adult</th>\n      <th>budget</th>\n      <th>genres</th>\n      <th>id</th>\n      <th>imdb_id</th>\n      <th>popularity</th>\n      <th>release_date</th>\n      <th>revenue</th>\n      <th>runtime</th>\n      <th>title</th>\n      <th>vote_average</th>\n      <th>vote_count</th>\n    </tr>\n  </thead>\n  <tbody>\n    <tr>\n      <th>18757</th>\n      <td>False</td>\n      <td>0</td>\n      <td>[{'id': 99, 'name': 'Documentary'}]</td>\n      <td>55245</td>\n      <td>tt1699720</td>\n      <td>0.077485</td>\n      <td>2010-01-01</td>\n      <td>0.0</td>\n      <td>83.0</td>\n      <td>!Women Art Revolution</td>\n      <td>4.3</td>\n      <td>2.0</td>\n    </tr>\n    <tr>\n      <th>30961</th>\n      <td>False</td>\n      <td>0</td>\n      <td>[{'id': 35, 'name': 'Comedy'}, {'id': 18, 'nam...</td>\n      <td>41371</td>\n      <td>tt1637976</td>\n      <td>1.190427</td>\n      <td>2010-07-27</td>\n      <td>0.0</td>\n      <td>95.0</td>\n      <td>#1 Cheerleader Camp</td>\n      <td>3.4</td>\n      <td>23.0</td>\n    </tr>\n    <tr>\n      <th>36153</th>\n      <td>False</td>\n      <td>1500000</td>\n      <td>[{'id': 18, 'name': 'Drama'}, {'id': 9648, 'na...</td>\n      <td>301325</td>\n      <td>tt3526286</td>\n      <td>2.451342</td>\n      <td>2015-11-20</td>\n      <td>0.0</td>\n      <td>90.0</td>\n      <td>#Horror</td>\n      <td>3.4</td>\n      <td>53.0</td>\n    </tr>\n    <tr>\n      <th>23501</th>\n      <td>False</td>\n      <td>0</td>\n      <td>[{'id': 99, 'name': 'Documentary'}]</td>\n      <td>267752</td>\n      <td>tt3060338</td>\n      <td>0.108531</td>\n      <td>2013-11-21</td>\n      <td>0.0</td>\n      <td>74.0</td>\n      <td>#chicagoGirl</td>\n      <td>7.0</td>\n      <td>1.0</td>\n    </tr>\n    <tr>\n      <th>28042</th>\n      <td>False</td>\n      <td>0</td>\n      <td>[{'id': 37, 'name': 'Western'}]</td>\n      <td>143747</td>\n      <td>tt0060697</td>\n      <td>0.634857</td>\n      <td>1966-12-18</td>\n      <td>0.0</td>\n      <td>104.0</td>\n      <td>$1,000 on the Black</td>\n      <td>6.0</td>\n      <td>2.0</td>\n    </tr>\n  </tbody>\n</table>\n</div>"
     },
     "execution_count": 19,
     "metadata": {},
     "output_type": "execute_result"
    }
   ],
   "source": [
    "import json\n",
    "import pandas as pd\n",
    "\n",
    "path = 'MoviesDataSet/'\n",
    "\n",
    "# Load Data from the Kaggle dataset\n",
    "movies = pd.read_csv(path + 'movies_metadata.csv')\n",
    "\n",
    "# Drop junk columns\n",
    "movies = movies.drop('belongs_to_collection', axis=1)\n",
    "movies = movies.drop('homepage', axis=1)\n",
    "movies = movies.drop('original_language', axis=1)\n",
    "movies = movies.drop('original_title', axis=1)\n",
    "movies = movies.drop('spoken_languages', axis=1)\n",
    "movies = movies.drop('overview', axis=1)\n",
    "movies = movies.drop('tagline', axis=1)\n",
    "movies = movies.drop('poster_path', axis=1)\n",
    "movies = movies.drop('production_companies', axis=1)\n",
    "movies = movies.drop('production_countries', axis=1)\n",
    "movies = movies.drop('video', axis=1)\n",
    "\n",
    "# Filter out any unreleased movies\n",
    "movies = movies[movies['status'] == 'Released']\n",
    "movies = movies.drop('status', axis=1)\n",
    "\n",
    "# Filter down the columns to those we really care about (losing belongs_to_collection, homepage, original_language, production_companies, production_countries, poster_path, spoken_languages, original_title, video, status\n",
    "# Note: budget and revenue are interesting, but are mostly 0's so are unusable here, so those are lost too\n",
    "#movies = movies[['id', 'imdb_id',  'title', 'budget', 'revenue', 'adult', 'genres', 'popularity', 'overview', 'release_date', 'runtime', 'tagline', 'vote_average', 'vote_count']]\n",
    "\n",
    "# Sort movies by title\n",
    "movies = movies.sort_values('title')\n",
    "\n",
    "movies.head()"
   ]
  },
  {
   "cell_type": "code",
   "execution_count": 20,
   "outputs": [
    {
     "data": {
      "text/plain": "       Is Action  Is Adventure  Is Animation  Is Comedy  Is Crime  \\\n18757        0.0           0.0           0.0        0.0       0.0   \n30961        0.0           0.0           0.0        1.0       0.0   \n36153        0.0           0.0           0.0        0.0       0.0   \n23501        0.0           0.0           0.0        0.0       0.0   \n28042        0.0           0.0           0.0        0.0       0.0   \n\n       Is Documentary  Is Drama  Is Family  Is Fantasy  Is Foreign  ...  \\\n18757             1.0       0.0        0.0         0.0         0.0  ...   \n30961             0.0       1.0        0.0         0.0         0.0  ...   \n36153             0.0       1.0        0.0         0.0         0.0  ...   \n23501             1.0       0.0        0.0         0.0         0.0  ...   \n28042             0.0       0.0        0.0         0.0         0.0  ...   \n\n        budget      id    imdb_id  popularity  release_date  revenue  runtime  \\\n18757        0   55245  tt1699720    0.077485    2010-01-01      0.0     83.0   \n30961        0   41371  tt1637976    1.190427    2010-07-27      0.0     95.0   \n36153  1500000  301325  tt3526286    2.451342    2015-11-20      0.0     90.0   \n23501        0  267752  tt3060338    0.108531    2013-11-21      0.0     74.0   \n28042        0  143747  tt0060697    0.634857    1966-12-18      0.0    104.0   \n\n                       title  vote_average  vote_count  \n18757  !Women Art Revolution           4.3         2.0  \n30961    #1 Cheerleader Camp           3.4        23.0  \n36153                #Horror           3.4        53.0  \n23501           #chicagoGirl           7.0         1.0  \n28042    $1,000 on the Black           6.0         2.0  \n\n[5 rows x 31 columns]",
      "text/html": "<div>\n<style scoped>\n    .dataframe tbody tr th:only-of-type {\n        vertical-align: middle;\n    }\n\n    .dataframe tbody tr th {\n        vertical-align: top;\n    }\n\n    .dataframe thead th {\n        text-align: right;\n    }\n</style>\n<table border=\"1\" class=\"dataframe\">\n  <thead>\n    <tr style=\"text-align: right;\">\n      <th></th>\n      <th>Is Action</th>\n      <th>Is Adventure</th>\n      <th>Is Animation</th>\n      <th>Is Comedy</th>\n      <th>Is Crime</th>\n      <th>Is Documentary</th>\n      <th>Is Drama</th>\n      <th>Is Family</th>\n      <th>Is Fantasy</th>\n      <th>Is Foreign</th>\n      <th>...</th>\n      <th>budget</th>\n      <th>id</th>\n      <th>imdb_id</th>\n      <th>popularity</th>\n      <th>release_date</th>\n      <th>revenue</th>\n      <th>runtime</th>\n      <th>title</th>\n      <th>vote_average</th>\n      <th>vote_count</th>\n    </tr>\n  </thead>\n  <tbody>\n    <tr>\n      <th>18757</th>\n      <td>0.0</td>\n      <td>0.0</td>\n      <td>0.0</td>\n      <td>0.0</td>\n      <td>0.0</td>\n      <td>1.0</td>\n      <td>0.0</td>\n      <td>0.0</td>\n      <td>0.0</td>\n      <td>0.0</td>\n      <td>...</td>\n      <td>0</td>\n      <td>55245</td>\n      <td>tt1699720</td>\n      <td>0.077485</td>\n      <td>2010-01-01</td>\n      <td>0.0</td>\n      <td>83.0</td>\n      <td>!Women Art Revolution</td>\n      <td>4.3</td>\n      <td>2.0</td>\n    </tr>\n    <tr>\n      <th>30961</th>\n      <td>0.0</td>\n      <td>0.0</td>\n      <td>0.0</td>\n      <td>1.0</td>\n      <td>0.0</td>\n      <td>0.0</td>\n      <td>1.0</td>\n      <td>0.0</td>\n      <td>0.0</td>\n      <td>0.0</td>\n      <td>...</td>\n      <td>0</td>\n      <td>41371</td>\n      <td>tt1637976</td>\n      <td>1.190427</td>\n      <td>2010-07-27</td>\n      <td>0.0</td>\n      <td>95.0</td>\n      <td>#1 Cheerleader Camp</td>\n      <td>3.4</td>\n      <td>23.0</td>\n    </tr>\n    <tr>\n      <th>36153</th>\n      <td>0.0</td>\n      <td>0.0</td>\n      <td>0.0</td>\n      <td>0.0</td>\n      <td>0.0</td>\n      <td>0.0</td>\n      <td>1.0</td>\n      <td>0.0</td>\n      <td>0.0</td>\n      <td>0.0</td>\n      <td>...</td>\n      <td>1500000</td>\n      <td>301325</td>\n      <td>tt3526286</td>\n      <td>2.451342</td>\n      <td>2015-11-20</td>\n      <td>0.0</td>\n      <td>90.0</td>\n      <td>#Horror</td>\n      <td>3.4</td>\n      <td>53.0</td>\n    </tr>\n    <tr>\n      <th>23501</th>\n      <td>0.0</td>\n      <td>0.0</td>\n      <td>0.0</td>\n      <td>0.0</td>\n      <td>0.0</td>\n      <td>1.0</td>\n      <td>0.0</td>\n      <td>0.0</td>\n      <td>0.0</td>\n      <td>0.0</td>\n      <td>...</td>\n      <td>0</td>\n      <td>267752</td>\n      <td>tt3060338</td>\n      <td>0.108531</td>\n      <td>2013-11-21</td>\n      <td>0.0</td>\n      <td>74.0</td>\n      <td>#chicagoGirl</td>\n      <td>7.0</td>\n      <td>1.0</td>\n    </tr>\n    <tr>\n      <th>28042</th>\n      <td>0.0</td>\n      <td>0.0</td>\n      <td>0.0</td>\n      <td>0.0</td>\n      <td>0.0</td>\n      <td>0.0</td>\n      <td>0.0</td>\n      <td>0.0</td>\n      <td>0.0</td>\n      <td>0.0</td>\n      <td>...</td>\n      <td>0</td>\n      <td>143747</td>\n      <td>tt0060697</td>\n      <td>0.634857</td>\n      <td>1966-12-18</td>\n      <td>0.0</td>\n      <td>104.0</td>\n      <td>$1,000 on the Black</td>\n      <td>6.0</td>\n      <td>2.0</td>\n    </tr>\n  </tbody>\n</table>\n<p>5 rows × 31 columns</p>\n</div>"
     },
     "execution_count": 20,
     "metadata": {},
     "output_type": "execute_result"
    }
   ],
   "source": [
    "# Detect Genres\n",
    "def extract_genres(row):\n",
    "    data = row['genres']\n",
    "    arr = json.loads(data.replace(\"'\", \"\\\"\"))\n",
    "    for genre in arr:\n",
    "        row['Is ' + genre['name']] = 1\n",
    "\n",
    "    return row\n",
    "\n",
    "movies = movies.apply(extract_genres, axis=1)\n",
    "\n",
    "# Set our NA values for non-genre membership to 0\n",
    "movies = movies.fillna(0)\n",
    "\n",
    "# Drop the no longer needed source column\n",
    "movies = movies.drop('genres', axis=1)\n",
    "movies.head()"
   ],
   "metadata": {
    "collapsed": false,
    "pycharm": {
     "name": "#%%\n"
    }
   }
  },
  {
   "cell_type": "code",
   "execution_count": 21,
   "outputs": [
    {
     "data": {
      "text/plain": "       Is Action  Is Adventure  Is Animation  Is Comedy  Is Crime  \\\n18757        0.0           0.0           0.0        0.0       0.0   \n30961        0.0           0.0           0.0        1.0       0.0   \n36153        0.0           0.0           0.0        0.0       0.0   \n23501        0.0           0.0           0.0        0.0       0.0   \n28042        0.0           0.0           0.0        0.0       0.0   \n\n       Is Documentary  Is Drama  Is Family  Is Fantasy  Is Foreign  ...  \\\n18757             1.0       0.0        0.0         0.0         0.0  ...   \n30961             0.0       1.0        0.0         0.0         0.0  ...   \n36153             0.0       1.0        0.0         0.0         0.0  ...   \n23501             1.0       0.0        0.0         0.0         0.0  ...   \n28042             0.0       0.0        0.0         0.0         0.0  ...   \n\n         imdb_id  popularity  revenue  runtime                  title  \\\n18757  tt1699720    0.077485      0.0     83.0  !Women Art Revolution   \n30961  tt1637976    1.190427      0.0     95.0    #1 Cheerleader Camp   \n36153  tt3526286    2.451342      0.0     90.0                #Horror   \n23501  tt3060338    0.108531      0.0     74.0           #chicagoGirl   \n28042  tt0060697    0.634857      0.0    104.0    $1,000 on the Black   \n\n       vote_average  vote_count  release_year  release_quarter  release_month  \n18757           4.3         2.0          2010                1              1  \n30961           3.4        23.0          2010                3              7  \n36153           3.4        53.0          2015                4             11  \n23501           7.0         1.0          2013                4             11  \n28042           6.0         2.0          1966                4             12  \n\n[5 rows x 33 columns]",
      "text/html": "<div>\n<style scoped>\n    .dataframe tbody tr th:only-of-type {\n        vertical-align: middle;\n    }\n\n    .dataframe tbody tr th {\n        vertical-align: top;\n    }\n\n    .dataframe thead th {\n        text-align: right;\n    }\n</style>\n<table border=\"1\" class=\"dataframe\">\n  <thead>\n    <tr style=\"text-align: right;\">\n      <th></th>\n      <th>Is Action</th>\n      <th>Is Adventure</th>\n      <th>Is Animation</th>\n      <th>Is Comedy</th>\n      <th>Is Crime</th>\n      <th>Is Documentary</th>\n      <th>Is Drama</th>\n      <th>Is Family</th>\n      <th>Is Fantasy</th>\n      <th>Is Foreign</th>\n      <th>...</th>\n      <th>imdb_id</th>\n      <th>popularity</th>\n      <th>revenue</th>\n      <th>runtime</th>\n      <th>title</th>\n      <th>vote_average</th>\n      <th>vote_count</th>\n      <th>release_year</th>\n      <th>release_quarter</th>\n      <th>release_month</th>\n    </tr>\n  </thead>\n  <tbody>\n    <tr>\n      <th>18757</th>\n      <td>0.0</td>\n      <td>0.0</td>\n      <td>0.0</td>\n      <td>0.0</td>\n      <td>0.0</td>\n      <td>1.0</td>\n      <td>0.0</td>\n      <td>0.0</td>\n      <td>0.0</td>\n      <td>0.0</td>\n      <td>...</td>\n      <td>tt1699720</td>\n      <td>0.077485</td>\n      <td>0.0</td>\n      <td>83.0</td>\n      <td>!Women Art Revolution</td>\n      <td>4.3</td>\n      <td>2.0</td>\n      <td>2010</td>\n      <td>1</td>\n      <td>1</td>\n    </tr>\n    <tr>\n      <th>30961</th>\n      <td>0.0</td>\n      <td>0.0</td>\n      <td>0.0</td>\n      <td>1.0</td>\n      <td>0.0</td>\n      <td>0.0</td>\n      <td>1.0</td>\n      <td>0.0</td>\n      <td>0.0</td>\n      <td>0.0</td>\n      <td>...</td>\n      <td>tt1637976</td>\n      <td>1.190427</td>\n      <td>0.0</td>\n      <td>95.0</td>\n      <td>#1 Cheerleader Camp</td>\n      <td>3.4</td>\n      <td>23.0</td>\n      <td>2010</td>\n      <td>3</td>\n      <td>7</td>\n    </tr>\n    <tr>\n      <th>36153</th>\n      <td>0.0</td>\n      <td>0.0</td>\n      <td>0.0</td>\n      <td>0.0</td>\n      <td>0.0</td>\n      <td>0.0</td>\n      <td>1.0</td>\n      <td>0.0</td>\n      <td>0.0</td>\n      <td>0.0</td>\n      <td>...</td>\n      <td>tt3526286</td>\n      <td>2.451342</td>\n      <td>0.0</td>\n      <td>90.0</td>\n      <td>#Horror</td>\n      <td>3.4</td>\n      <td>53.0</td>\n      <td>2015</td>\n      <td>4</td>\n      <td>11</td>\n    </tr>\n    <tr>\n      <th>23501</th>\n      <td>0.0</td>\n      <td>0.0</td>\n      <td>0.0</td>\n      <td>0.0</td>\n      <td>0.0</td>\n      <td>1.0</td>\n      <td>0.0</td>\n      <td>0.0</td>\n      <td>0.0</td>\n      <td>0.0</td>\n      <td>...</td>\n      <td>tt3060338</td>\n      <td>0.108531</td>\n      <td>0.0</td>\n      <td>74.0</td>\n      <td>#chicagoGirl</td>\n      <td>7.0</td>\n      <td>1.0</td>\n      <td>2013</td>\n      <td>4</td>\n      <td>11</td>\n    </tr>\n    <tr>\n      <th>28042</th>\n      <td>0.0</td>\n      <td>0.0</td>\n      <td>0.0</td>\n      <td>0.0</td>\n      <td>0.0</td>\n      <td>0.0</td>\n      <td>0.0</td>\n      <td>0.0</td>\n      <td>0.0</td>\n      <td>0.0</td>\n      <td>...</td>\n      <td>tt0060697</td>\n      <td>0.634857</td>\n      <td>0.0</td>\n      <td>104.0</td>\n      <td>$1,000 on the Black</td>\n      <td>6.0</td>\n      <td>2.0</td>\n      <td>1966</td>\n      <td>4</td>\n      <td>12</td>\n    </tr>\n  </tbody>\n</table>\n<p>5 rows × 33 columns</p>\n</div>"
     },
     "execution_count": 21,
     "metadata": {},
     "output_type": "execute_result"
    }
   ],
   "source": [
    "# Split the date into year / quarter / month components for easier analysis\n",
    "movies['release_year'] = pd.DatetimeIndex(movies['release_date']).year\n",
    "movies['release_quarter'] = pd.DatetimeIndex(movies['release_date']).quarter\n",
    "movies['release_month'] = pd.DatetimeIndex(movies['release_date']).month\n",
    "\n",
    "# Remove the core release date column\n",
    "movies = movies.drop('release_date', axis=1)\n",
    "\n",
    "movies.head()"
   ],
   "metadata": {
    "collapsed": false,
    "pycharm": {
     "name": "#%%\n"
    }
   }
  },
  {
   "cell_type": "code",
   "execution_count": 22,
   "outputs": [
    {
     "data": {
      "text/plain": "       Is Action  Is Adventure  Is Animation  Is Comedy  Is Crime  \\\n18757        0.0           0.0           0.0        0.0       0.0   \n30961        0.0           0.0           0.0        1.0       0.0   \n36153        0.0           0.0           0.0        0.0       0.0   \n23501        0.0           0.0           0.0        0.0       0.0   \n28042        0.0           0.0           0.0        0.0       0.0   \n\n       Is Documentary  Is Drama  Is Family  Is Fantasy  Is Foreign  ...  \\\n18757             1.0       0.0        0.0         0.0         0.0  ...   \n30961             0.0       1.0        0.0         0.0         0.0  ...   \n36153             0.0       1.0        0.0         0.0         0.0  ...   \n23501             1.0       0.0        0.0         0.0         0.0  ...   \n28042             0.0       0.0        0.0         0.0         0.0  ...   \n\n         imdb_id  popularity  revenue  runtime                  title  \\\n18757  tt1699720    0.077485      0.0     83.0  !Women Art Revolution   \n30961  tt1637976    1.190427      0.0     95.0    #1 Cheerleader Camp   \n36153  tt3526286    2.451342      0.0     90.0                #Horror   \n23501  tt3060338    0.108531      0.0     74.0           #chicagoGirl   \n28042  tt0060697    0.634857      0.0    104.0    $1,000 on the Black   \n\n       vote_average  vote_count  release_year  release_quarter  release_month  \n18757           4.3         2.0          2010                1              1  \n30961           3.4        23.0          2010                3              7  \n36153           3.4        53.0          2015                4             11  \n23501           7.0         1.0          2013                4             11  \n28042           6.0         2.0          1966                4             12  \n\n[5 rows x 33 columns]",
      "text/html": "<div>\n<style scoped>\n    .dataframe tbody tr th:only-of-type {\n        vertical-align: middle;\n    }\n\n    .dataframe tbody tr th {\n        vertical-align: top;\n    }\n\n    .dataframe thead th {\n        text-align: right;\n    }\n</style>\n<table border=\"1\" class=\"dataframe\">\n  <thead>\n    <tr style=\"text-align: right;\">\n      <th></th>\n      <th>Is Action</th>\n      <th>Is Adventure</th>\n      <th>Is Animation</th>\n      <th>Is Comedy</th>\n      <th>Is Crime</th>\n      <th>Is Documentary</th>\n      <th>Is Drama</th>\n      <th>Is Family</th>\n      <th>Is Fantasy</th>\n      <th>Is Foreign</th>\n      <th>...</th>\n      <th>imdb_id</th>\n      <th>popularity</th>\n      <th>revenue</th>\n      <th>runtime</th>\n      <th>title</th>\n      <th>vote_average</th>\n      <th>vote_count</th>\n      <th>release_year</th>\n      <th>release_quarter</th>\n      <th>release_month</th>\n    </tr>\n  </thead>\n  <tbody>\n    <tr>\n      <th>18757</th>\n      <td>0.0</td>\n      <td>0.0</td>\n      <td>0.0</td>\n      <td>0.0</td>\n      <td>0.0</td>\n      <td>1.0</td>\n      <td>0.0</td>\n      <td>0.0</td>\n      <td>0.0</td>\n      <td>0.0</td>\n      <td>...</td>\n      <td>tt1699720</td>\n      <td>0.077485</td>\n      <td>0.0</td>\n      <td>83.0</td>\n      <td>!Women Art Revolution</td>\n      <td>4.3</td>\n      <td>2.0</td>\n      <td>2010</td>\n      <td>1</td>\n      <td>1</td>\n    </tr>\n    <tr>\n      <th>30961</th>\n      <td>0.0</td>\n      <td>0.0</td>\n      <td>0.0</td>\n      <td>1.0</td>\n      <td>0.0</td>\n      <td>0.0</td>\n      <td>1.0</td>\n      <td>0.0</td>\n      <td>0.0</td>\n      <td>0.0</td>\n      <td>...</td>\n      <td>tt1637976</td>\n      <td>1.190427</td>\n      <td>0.0</td>\n      <td>95.0</td>\n      <td>#1 Cheerleader Camp</td>\n      <td>3.4</td>\n      <td>23.0</td>\n      <td>2010</td>\n      <td>3</td>\n      <td>7</td>\n    </tr>\n    <tr>\n      <th>36153</th>\n      <td>0.0</td>\n      <td>0.0</td>\n      <td>0.0</td>\n      <td>0.0</td>\n      <td>0.0</td>\n      <td>0.0</td>\n      <td>1.0</td>\n      <td>0.0</td>\n      <td>0.0</td>\n      <td>0.0</td>\n      <td>...</td>\n      <td>tt3526286</td>\n      <td>2.451342</td>\n      <td>0.0</td>\n      <td>90.0</td>\n      <td>#Horror</td>\n      <td>3.4</td>\n      <td>53.0</td>\n      <td>2015</td>\n      <td>4</td>\n      <td>11</td>\n    </tr>\n    <tr>\n      <th>23501</th>\n      <td>0.0</td>\n      <td>0.0</td>\n      <td>0.0</td>\n      <td>0.0</td>\n      <td>0.0</td>\n      <td>1.0</td>\n      <td>0.0</td>\n      <td>0.0</td>\n      <td>0.0</td>\n      <td>0.0</td>\n      <td>...</td>\n      <td>tt3060338</td>\n      <td>0.108531</td>\n      <td>0.0</td>\n      <td>74.0</td>\n      <td>#chicagoGirl</td>\n      <td>7.0</td>\n      <td>1.0</td>\n      <td>2013</td>\n      <td>4</td>\n      <td>11</td>\n    </tr>\n    <tr>\n      <th>28042</th>\n      <td>0.0</td>\n      <td>0.0</td>\n      <td>0.0</td>\n      <td>0.0</td>\n      <td>0.0</td>\n      <td>0.0</td>\n      <td>0.0</td>\n      <td>0.0</td>\n      <td>0.0</td>\n      <td>0.0</td>\n      <td>...</td>\n      <td>tt0060697</td>\n      <td>0.634857</td>\n      <td>0.0</td>\n      <td>104.0</td>\n      <td>$1,000 on the Black</td>\n      <td>6.0</td>\n      <td>2.0</td>\n      <td>1966</td>\n      <td>4</td>\n      <td>12</td>\n    </tr>\n  </tbody>\n</table>\n<p>5 rows × 33 columns</p>\n</div>"
     },
     "execution_count": 22,
     "metadata": {},
     "output_type": "execute_result"
    }
   ],
   "source": [
    "# Convert our adult column from true / false to 1 / 0.\n",
    "# Note we move from String -> Bool -> Int here\n",
    "movies['adult'] = movies['adult'].astype(bool).astype(int)\n",
    "\n",
    "movies.head()"
   ],
   "metadata": {
    "collapsed": false,
    "pycharm": {
     "name": "#%%\n"
    }
   }
  },
  {
   "cell_type": "code",
   "execution_count": 23,
   "outputs": [
    {
     "data": {
      "text/plain": "       Is Action  Is Adventure  Is Animation  Is Comedy  Is Crime  \\\n18757        0.0           0.0           0.0        0.0       0.0   \n30961        0.0           0.0           0.0        1.0       0.0   \n36153        0.0           0.0           0.0        0.0       0.0   \n23501        0.0           0.0           0.0        0.0       0.0   \n28042        0.0           0.0           0.0        0.0       0.0   \n\n       Is Documentary  Is Drama  Is Family  Is Fantasy  Is Foreign  ...  \\\n18757             1.0       0.0        0.0         0.0         0.0  ...   \n30961             0.0       1.0        0.0         0.0         0.0  ...   \n36153             0.0       1.0        0.0         0.0         0.0  ...   \n23501             1.0       0.0        0.0         0.0         0.0  ...   \n28042             0.0       0.0        0.0         0.0         0.0  ...   \n\n       popularity  revenue  runtime                  title  vote_average  \\\n18757    0.077485      0.0     83.0  !Women Art Revolution           4.3   \n30961    1.190427      0.0     95.0    #1 Cheerleader Camp           3.4   \n36153    2.451342      0.0     90.0                #Horror           3.4   \n23501    0.108531      0.0     74.0           #chicagoGirl           7.0   \n28042    0.634857      0.0    104.0    $1,000 on the Black           6.0   \n\n       vote_count  release_year  release_quarter  release_month  \\\n18757         2.0          2010                1              1   \n30961        23.0          2010                3              7   \n36153        53.0          2015                4             11   \n23501         1.0          2013                4             11   \n28042         2.0          1966                4             12   \n\n       Is Christmas Movie  \n18757                   0  \n30961                   0  \n36153                   0  \n23501                   0  \n28042                   0  \n\n[5 rows x 34 columns]",
      "text/html": "<div>\n<style scoped>\n    .dataframe tbody tr th:only-of-type {\n        vertical-align: middle;\n    }\n\n    .dataframe tbody tr th {\n        vertical-align: top;\n    }\n\n    .dataframe thead th {\n        text-align: right;\n    }\n</style>\n<table border=\"1\" class=\"dataframe\">\n  <thead>\n    <tr style=\"text-align: right;\">\n      <th></th>\n      <th>Is Action</th>\n      <th>Is Adventure</th>\n      <th>Is Animation</th>\n      <th>Is Comedy</th>\n      <th>Is Crime</th>\n      <th>Is Documentary</th>\n      <th>Is Drama</th>\n      <th>Is Family</th>\n      <th>Is Fantasy</th>\n      <th>Is Foreign</th>\n      <th>...</th>\n      <th>popularity</th>\n      <th>revenue</th>\n      <th>runtime</th>\n      <th>title</th>\n      <th>vote_average</th>\n      <th>vote_count</th>\n      <th>release_year</th>\n      <th>release_quarter</th>\n      <th>release_month</th>\n      <th>Is Christmas Movie</th>\n    </tr>\n  </thead>\n  <tbody>\n    <tr>\n      <th>18757</th>\n      <td>0.0</td>\n      <td>0.0</td>\n      <td>0.0</td>\n      <td>0.0</td>\n      <td>0.0</td>\n      <td>1.0</td>\n      <td>0.0</td>\n      <td>0.0</td>\n      <td>0.0</td>\n      <td>0.0</td>\n      <td>...</td>\n      <td>0.077485</td>\n      <td>0.0</td>\n      <td>83.0</td>\n      <td>!Women Art Revolution</td>\n      <td>4.3</td>\n      <td>2.0</td>\n      <td>2010</td>\n      <td>1</td>\n      <td>1</td>\n      <td>0</td>\n    </tr>\n    <tr>\n      <th>30961</th>\n      <td>0.0</td>\n      <td>0.0</td>\n      <td>0.0</td>\n      <td>1.0</td>\n      <td>0.0</td>\n      <td>0.0</td>\n      <td>1.0</td>\n      <td>0.0</td>\n      <td>0.0</td>\n      <td>0.0</td>\n      <td>...</td>\n      <td>1.190427</td>\n      <td>0.0</td>\n      <td>95.0</td>\n      <td>#1 Cheerleader Camp</td>\n      <td>3.4</td>\n      <td>23.0</td>\n      <td>2010</td>\n      <td>3</td>\n      <td>7</td>\n      <td>0</td>\n    </tr>\n    <tr>\n      <th>36153</th>\n      <td>0.0</td>\n      <td>0.0</td>\n      <td>0.0</td>\n      <td>0.0</td>\n      <td>0.0</td>\n      <td>0.0</td>\n      <td>1.0</td>\n      <td>0.0</td>\n      <td>0.0</td>\n      <td>0.0</td>\n      <td>...</td>\n      <td>2.451342</td>\n      <td>0.0</td>\n      <td>90.0</td>\n      <td>#Horror</td>\n      <td>3.4</td>\n      <td>53.0</td>\n      <td>2015</td>\n      <td>4</td>\n      <td>11</td>\n      <td>0</td>\n    </tr>\n    <tr>\n      <th>23501</th>\n      <td>0.0</td>\n      <td>0.0</td>\n      <td>0.0</td>\n      <td>0.0</td>\n      <td>0.0</td>\n      <td>1.0</td>\n      <td>0.0</td>\n      <td>0.0</td>\n      <td>0.0</td>\n      <td>0.0</td>\n      <td>...</td>\n      <td>0.108531</td>\n      <td>0.0</td>\n      <td>74.0</td>\n      <td>#chicagoGirl</td>\n      <td>7.0</td>\n      <td>1.0</td>\n      <td>2013</td>\n      <td>4</td>\n      <td>11</td>\n      <td>0</td>\n    </tr>\n    <tr>\n      <th>28042</th>\n      <td>0.0</td>\n      <td>0.0</td>\n      <td>0.0</td>\n      <td>0.0</td>\n      <td>0.0</td>\n      <td>0.0</td>\n      <td>0.0</td>\n      <td>0.0</td>\n      <td>0.0</td>\n      <td>0.0</td>\n      <td>...</td>\n      <td>0.634857</td>\n      <td>0.0</td>\n      <td>104.0</td>\n      <td>$1,000 on the Black</td>\n      <td>6.0</td>\n      <td>2.0</td>\n      <td>1966</td>\n      <td>4</td>\n      <td>12</td>\n      <td>0</td>\n    </tr>\n  </tbody>\n</table>\n<p>5 rows × 34 columns</p>\n</div>"
     },
     "execution_count": 23,
     "metadata": {},
     "output_type": "execute_result"
    }
   ],
   "source": [
    "# These are IMDB IDs of movies known to be Christmas movies or classic Christmas movies. See other experiments for details.\n",
    "labelled_movies = ['tt0993789','tt6433880','tt2402927','tt0081793','tt2709692','tt0064349','tt0041473','tt7736496','tt0032981','tt0043733','tt0338348','tt0117372','tt1430607','tt0099487','tt1401143','tt0086465','tt3530002','tt0044008','tt1067106','tt0037595','tt0096061','tt0116705','tt0457939','tt0034862','tt0087363','tt0039628','tt0110527','tt0033045','tt2083355','tt0039190','tt0319343','tt0085936','tt0047673','tt0104940','tt0095016','tt0058536','tt0097958','tt0107688','tt0114924','tt0111070','tt0085334','tt1268799','tt0037059','tt0314331','tt0071222','tt0060345','tt0099785','tt0373469','tt3850590','tt0059026','tt0038650','tt3824458','tt0307987']\n",
    "\n",
    "# We need to label all rows based on if they're a Christmas movie or not so we can train a model\n",
    "def set_label(row):\n",
    "    imdb = row['imdb_id']\n",
    "    if imdb in labelled_movies:\n",
    "        row['Is Christmas Movie'] = 1\n",
    "    else:\n",
    "        row['Is Christmas Movie'] = 0\n",
    "    return row\n",
    "\n",
    "movies = movies.apply(set_label, axis=1)\n",
    "\n",
    "movies.head()"
   ],
   "metadata": {
    "collapsed": false,
    "pycharm": {
     "name": "#%%\n"
    }
   }
  },
  {
   "cell_type": "code",
   "execution_count": 26,
   "outputs": [],
   "source": [
    "# Export the full data set\n",
    "movies = movies.set_index('id')\n",
    "movies.to_csv('Processed.csv')"
   ],
   "metadata": {
    "collapsed": false,
    "pycharm": {
     "name": "#%%\n"
    }
   }
  },
  {
   "cell_type": "code",
   "execution_count": 27,
   "outputs": [
    {
     "data": {
      "text/plain": "        Is Action  Is Adventure  Is Animation  Is Comedy  Is Crime  \\\nid                                                                   \n55245         0.0           0.0           0.0        0.0       0.0   \n41371         0.0           0.0           0.0        1.0       0.0   \n301325        0.0           0.0           0.0        0.0       0.0   \n267752        0.0           0.0           0.0        0.0       0.0   \n143747        0.0           0.0           0.0        0.0       0.0   \n\n        Is Documentary  Is Drama  Is Family  Is Fantasy  Is Foreign  ...  \\\nid                                                                   ...   \n55245              1.0       0.0        0.0         0.0         0.0  ...   \n41371              0.0       1.0        0.0         0.0         0.0  ...   \n301325             0.0       1.0        0.0         0.0         0.0  ...   \n267752             1.0       0.0        0.0         0.0         0.0  ...   \n143747             0.0       0.0        0.0         0.0         0.0  ...   \n\n        Is War  Is Western  adult    imdb_id  runtime                  title  \\\nid                                                                             \n55245      0.0         0.0      1  tt1699720     83.0  !Women Art Revolution   \n41371      0.0         0.0      1  tt1637976     95.0    #1 Cheerleader Camp   \n301325     0.0         0.0      1  tt3526286     90.0                #Horror   \n267752     0.0         0.0      1  tt3060338     74.0           #chicagoGirl   \n143747     0.0         1.0      1  tt0060697    104.0    $1,000 on the Black   \n\n        release_year  release_quarter  release_month  Is Christmas Movie  \nid                                                                        \n55245           2010                1              1                   0  \n41371           2010                3              7                   0  \n301325          2015                4             11                   0  \n267752          2013                4             11                   0  \n143747          1966                4             12                   0  \n\n[5 rows x 28 columns]",
      "text/html": "<div>\n<style scoped>\n    .dataframe tbody tr th:only-of-type {\n        vertical-align: middle;\n    }\n\n    .dataframe tbody tr th {\n        vertical-align: top;\n    }\n\n    .dataframe thead th {\n        text-align: right;\n    }\n</style>\n<table border=\"1\" class=\"dataframe\">\n  <thead>\n    <tr style=\"text-align: right;\">\n      <th></th>\n      <th>Is Action</th>\n      <th>Is Adventure</th>\n      <th>Is Animation</th>\n      <th>Is Comedy</th>\n      <th>Is Crime</th>\n      <th>Is Documentary</th>\n      <th>Is Drama</th>\n      <th>Is Family</th>\n      <th>Is Fantasy</th>\n      <th>Is Foreign</th>\n      <th>...</th>\n      <th>Is War</th>\n      <th>Is Western</th>\n      <th>adult</th>\n      <th>imdb_id</th>\n      <th>runtime</th>\n      <th>title</th>\n      <th>release_year</th>\n      <th>release_quarter</th>\n      <th>release_month</th>\n      <th>Is Christmas Movie</th>\n    </tr>\n    <tr>\n      <th>id</th>\n      <th></th>\n      <th></th>\n      <th></th>\n      <th></th>\n      <th></th>\n      <th></th>\n      <th></th>\n      <th></th>\n      <th></th>\n      <th></th>\n      <th></th>\n      <th></th>\n      <th></th>\n      <th></th>\n      <th></th>\n      <th></th>\n      <th></th>\n      <th></th>\n      <th></th>\n      <th></th>\n      <th></th>\n    </tr>\n  </thead>\n  <tbody>\n    <tr>\n      <th>55245</th>\n      <td>0.0</td>\n      <td>0.0</td>\n      <td>0.0</td>\n      <td>0.0</td>\n      <td>0.0</td>\n      <td>1.0</td>\n      <td>0.0</td>\n      <td>0.0</td>\n      <td>0.0</td>\n      <td>0.0</td>\n      <td>...</td>\n      <td>0.0</td>\n      <td>0.0</td>\n      <td>1</td>\n      <td>tt1699720</td>\n      <td>83.0</td>\n      <td>!Women Art Revolution</td>\n      <td>2010</td>\n      <td>1</td>\n      <td>1</td>\n      <td>0</td>\n    </tr>\n    <tr>\n      <th>41371</th>\n      <td>0.0</td>\n      <td>0.0</td>\n      <td>0.0</td>\n      <td>1.0</td>\n      <td>0.0</td>\n      <td>0.0</td>\n      <td>1.0</td>\n      <td>0.0</td>\n      <td>0.0</td>\n      <td>0.0</td>\n      <td>...</td>\n      <td>0.0</td>\n      <td>0.0</td>\n      <td>1</td>\n      <td>tt1637976</td>\n      <td>95.0</td>\n      <td>#1 Cheerleader Camp</td>\n      <td>2010</td>\n      <td>3</td>\n      <td>7</td>\n      <td>0</td>\n    </tr>\n    <tr>\n      <th>301325</th>\n      <td>0.0</td>\n      <td>0.0</td>\n      <td>0.0</td>\n      <td>0.0</td>\n      <td>0.0</td>\n      <td>0.0</td>\n      <td>1.0</td>\n      <td>0.0</td>\n      <td>0.0</td>\n      <td>0.0</td>\n      <td>...</td>\n      <td>0.0</td>\n      <td>0.0</td>\n      <td>1</td>\n      <td>tt3526286</td>\n      <td>90.0</td>\n      <td>#Horror</td>\n      <td>2015</td>\n      <td>4</td>\n      <td>11</td>\n      <td>0</td>\n    </tr>\n    <tr>\n      <th>267752</th>\n      <td>0.0</td>\n      <td>0.0</td>\n      <td>0.0</td>\n      <td>0.0</td>\n      <td>0.0</td>\n      <td>1.0</td>\n      <td>0.0</td>\n      <td>0.0</td>\n      <td>0.0</td>\n      <td>0.0</td>\n      <td>...</td>\n      <td>0.0</td>\n      <td>0.0</td>\n      <td>1</td>\n      <td>tt3060338</td>\n      <td>74.0</td>\n      <td>#chicagoGirl</td>\n      <td>2013</td>\n      <td>4</td>\n      <td>11</td>\n      <td>0</td>\n    </tr>\n    <tr>\n      <th>143747</th>\n      <td>0.0</td>\n      <td>0.0</td>\n      <td>0.0</td>\n      <td>0.0</td>\n      <td>0.0</td>\n      <td>0.0</td>\n      <td>0.0</td>\n      <td>0.0</td>\n      <td>0.0</td>\n      <td>0.0</td>\n      <td>...</td>\n      <td>0.0</td>\n      <td>1.0</td>\n      <td>1</td>\n      <td>tt0060697</td>\n      <td>104.0</td>\n      <td>$1,000 on the Black</td>\n      <td>1966</td>\n      <td>4</td>\n      <td>12</td>\n      <td>0</td>\n    </tr>\n  </tbody>\n</table>\n<p>5 rows × 28 columns</p>\n</div>"
     },
     "execution_count": 27,
     "metadata": {},
     "output_type": "execute_result"
    }
   ],
   "source": [
    "# These columns are helpful, but bias the ML algorithms too much given the quantity of tiny movies\n",
    "movies = movies.drop('budget', axis=1)\n",
    "movies = movies.drop('revenue', axis=1)\n",
    "movies = movies.drop('popularity', axis=1)\n",
    "movies = movies.drop('vote_count', axis=1)\n",
    "movies = movies.drop('vote_average', axis=1)\n",
    "\n",
    "movies.head()"
   ],
   "metadata": {
    "collapsed": false,
    "pycharm": {
     "name": "#%%\n"
    }
   }
  },
  {
   "cell_type": "code",
   "execution_count": 29,
   "outputs": [],
   "source": [
    "id_columns = ['title', 'imdb_id']\n",
    "\n",
    "dieHard = movies[movies['title'] == 'Die Hard']\n",
    "dieHard = dieHard.drop(id_columns, axis=1) # Remove the title\n",
    "dieHard.to_csv('DieHard.csv')\n",
    "\n",
    "train_test = movies[movies['title'] != 'Die Hard']\n",
    "train_test = train_test.drop(id_columns, axis=1) # Remove the title\n",
    "train_test.to_csv('traintest.csv')"
   ],
   "metadata": {
    "collapsed": false,
    "pycharm": {
     "name": "#%%\n"
    }
   }
  }
 ],
 "metadata": {
  "kernelspec": {
   "display_name": "Python 3",
   "language": "python",
   "name": "python3"
  },
  "language_info": {
   "codemirror_mode": {
    "name": "ipython",
    "version": 2
   },
   "file_extension": ".py",
   "mimetype": "text/x-python",
   "name": "python",
   "nbconvert_exporter": "python",
   "pygments_lexer": "ipython2",
   "version": "2.7.6"
  }
 },
 "nbformat": 4,
 "nbformat_minor": 0
}