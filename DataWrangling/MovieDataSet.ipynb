{
 "cells": [
  {
   "cell_type": "code",
   "execution_count": 25,
   "metadata": {
    "collapsed": true
   },
   "outputs": [
    {
     "name": "stderr",
     "output_type": "stream",
     "text": [
      "C:\\Users\\Matt\\anaconda3\\lib\\site-packages\\IPython\\core\\interactiveshell.py:3165: DtypeWarning: Columns (10) have mixed types.Specify dtype option on import or set low_memory=False.\n",
      "  has_raised = await self.run_ast_nodes(code_ast.body, cell_name,\n"
     ]
    },
    {
     "data": {
      "text/plain": "      adult belongs_to_collection budget  \\\n189   False                   NaN      0   \n682   False                   NaN      0   \n767   False                   NaN      0   \n775   False                   NaN      0   \n1032  False                   NaN      0   \n\n                                                 genres  \\\n189                 [{'id': 99, 'name': 'Documentary'}]   \n682   [{'id': 80, 'name': 'Crime'}, {'id': 18, 'name...   \n767                 [{'id': 99, 'name': 'Documentary'}]   \n775                       [{'id': 18, 'name': 'Drama'}]   \n1032                      [{'id': 18, 'name': 'Drama'}]   \n\n                         homepage     id    imdb_id original_language  \\\n189                           NaN  56088  tt0114435                en   \n682                           NaN  48260  tt0112604                en   \n767   http://www.tsquare.tv/film/  52059  tt0113147                en   \n775                           NaN  44495  tt0072362                en   \n1032                          NaN  38191  tt0117781                en   \n\n                  original_title  \\\n189                     The Show   \n682               Butterfly Kiss   \n767   The Gate of Heavenly Peace   \n775         A Very Natural Thing   \n1032               The Sunchaser   \n\n                                               overview  ... release_date  \\\n189   A documentary about the culture of hip-hop. Th...  ...   1995-08-25   \n682   Eunice is walking along the highways of northe...  ...   1995-08-18   \n767   The Gate of Heavenly Peace is a feature-length...  ...   1995-01-01   \n775   When David, an ex-monk still in his twenties m...  ...   1974-01-01   \n1032  A young half-Navajo convict (Jon Seda) dying o...  ...   1996-05-29   \n\n     revenue runtime                          spoken_languages   status  \\\n189      0.0    93.0                                        []      NaN   \n682      0.0    88.0  [{'iso_639_1': 'en', 'name': 'English'}]  Rumored   \n767      0.0   180.0                                        []      NaN   \n775      0.0    80.0  [{'iso_639_1': 'en', 'name': 'English'}]  Rumored   \n1032     0.0   122.0  [{'iso_639_1': 'en', 'name': 'English'}]  Rumored   \n\n                                                tagline  \\\n189       What Happens On Stage Is Only Half The Story!   \n682                                                 NaN   \n767                                                 NaN   \n775                                                 NaN   \n1032  It began as a kidnapping. It became a journey ...   \n\n                           title  video vote_average vote_count  \n189                     The Show  False          5.3        2.0  \n682               Butterfly Kiss  False          7.4        5.0  \n767   The Gate of Heavenly Peace  False          6.7        3.0  \n775         A Very Natural Thing  False          6.3        3.0  \n1032               The Sunchaser  False          6.1        8.0  \n\n[5 rows x 24 columns]",
      "text/html": "<div>\n<style scoped>\n    .dataframe tbody tr th:only-of-type {\n        vertical-align: middle;\n    }\n\n    .dataframe tbody tr th {\n        vertical-align: top;\n    }\n\n    .dataframe thead th {\n        text-align: right;\n    }\n</style>\n<table border=\"1\" class=\"dataframe\">\n  <thead>\n    <tr style=\"text-align: right;\">\n      <th></th>\n      <th>adult</th>\n      <th>belongs_to_collection</th>\n      <th>budget</th>\n      <th>genres</th>\n      <th>homepage</th>\n      <th>id</th>\n      <th>imdb_id</th>\n      <th>original_language</th>\n      <th>original_title</th>\n      <th>overview</th>\n      <th>...</th>\n      <th>release_date</th>\n      <th>revenue</th>\n      <th>runtime</th>\n      <th>spoken_languages</th>\n      <th>status</th>\n      <th>tagline</th>\n      <th>title</th>\n      <th>video</th>\n      <th>vote_average</th>\n      <th>vote_count</th>\n    </tr>\n  </thead>\n  <tbody>\n    <tr>\n      <th>189</th>\n      <td>False</td>\n      <td>NaN</td>\n      <td>0</td>\n      <td>[{'id': 99, 'name': 'Documentary'}]</td>\n      <td>NaN</td>\n      <td>56088</td>\n      <td>tt0114435</td>\n      <td>en</td>\n      <td>The Show</td>\n      <td>A documentary about the culture of hip-hop. Th...</td>\n      <td>...</td>\n      <td>1995-08-25</td>\n      <td>0.0</td>\n      <td>93.0</td>\n      <td>[]</td>\n      <td>NaN</td>\n      <td>What Happens On Stage Is Only Half The Story!</td>\n      <td>The Show</td>\n      <td>False</td>\n      <td>5.3</td>\n      <td>2.0</td>\n    </tr>\n    <tr>\n      <th>682</th>\n      <td>False</td>\n      <td>NaN</td>\n      <td>0</td>\n      <td>[{'id': 80, 'name': 'Crime'}, {'id': 18, 'name...</td>\n      <td>NaN</td>\n      <td>48260</td>\n      <td>tt0112604</td>\n      <td>en</td>\n      <td>Butterfly Kiss</td>\n      <td>Eunice is walking along the highways of northe...</td>\n      <td>...</td>\n      <td>1995-08-18</td>\n      <td>0.0</td>\n      <td>88.0</td>\n      <td>[{'iso_639_1': 'en', 'name': 'English'}]</td>\n      <td>Rumored</td>\n      <td>NaN</td>\n      <td>Butterfly Kiss</td>\n      <td>False</td>\n      <td>7.4</td>\n      <td>5.0</td>\n    </tr>\n    <tr>\n      <th>767</th>\n      <td>False</td>\n      <td>NaN</td>\n      <td>0</td>\n      <td>[{'id': 99, 'name': 'Documentary'}]</td>\n      <td>http://www.tsquare.tv/film/</td>\n      <td>52059</td>\n      <td>tt0113147</td>\n      <td>en</td>\n      <td>The Gate of Heavenly Peace</td>\n      <td>The Gate of Heavenly Peace is a feature-length...</td>\n      <td>...</td>\n      <td>1995-01-01</td>\n      <td>0.0</td>\n      <td>180.0</td>\n      <td>[]</td>\n      <td>NaN</td>\n      <td>NaN</td>\n      <td>The Gate of Heavenly Peace</td>\n      <td>False</td>\n      <td>6.7</td>\n      <td>3.0</td>\n    </tr>\n    <tr>\n      <th>775</th>\n      <td>False</td>\n      <td>NaN</td>\n      <td>0</td>\n      <td>[{'id': 18, 'name': 'Drama'}]</td>\n      <td>NaN</td>\n      <td>44495</td>\n      <td>tt0072362</td>\n      <td>en</td>\n      <td>A Very Natural Thing</td>\n      <td>When David, an ex-monk still in his twenties m...</td>\n      <td>...</td>\n      <td>1974-01-01</td>\n      <td>0.0</td>\n      <td>80.0</td>\n      <td>[{'iso_639_1': 'en', 'name': 'English'}]</td>\n      <td>Rumored</td>\n      <td>NaN</td>\n      <td>A Very Natural Thing</td>\n      <td>False</td>\n      <td>6.3</td>\n      <td>3.0</td>\n    </tr>\n    <tr>\n      <th>1032</th>\n      <td>False</td>\n      <td>NaN</td>\n      <td>0</td>\n      <td>[{'id': 18, 'name': 'Drama'}]</td>\n      <td>NaN</td>\n      <td>38191</td>\n      <td>tt0117781</td>\n      <td>en</td>\n      <td>The Sunchaser</td>\n      <td>A young half-Navajo convict (Jon Seda) dying o...</td>\n      <td>...</td>\n      <td>1996-05-29</td>\n      <td>0.0</td>\n      <td>122.0</td>\n      <td>[{'iso_639_1': 'en', 'name': 'English'}]</td>\n      <td>Rumored</td>\n      <td>It began as a kidnapping. It became a journey ...</td>\n      <td>The Sunchaser</td>\n      <td>False</td>\n      <td>6.1</td>\n      <td>8.0</td>\n    </tr>\n  </tbody>\n</table>\n<p>5 rows × 24 columns</p>\n</div>"
     },
     "execution_count": 25,
     "metadata": {},
     "output_type": "execute_result"
    }
   ],
   "source": [
    "import pandas as pd\n",
    "\n",
    "path = 'MoviesDataSet/'\n",
    "\n",
    "movies = pd.read_csv(path + 'movies_metadata.csv')\n",
    "\n",
    "# Filter out any unreleased movies\n",
    "movies = movies[movies['status'] != 'Released']\n",
    "\n",
    "movies.head()"
   ]
  },
  {
   "cell_type": "code",
   "execution_count": 26,
   "outputs": [
    {
     "data": {
      "text/plain": "         id    imdb_id                       title  adult  \\\n189   56088  tt0114435                    The Show  False   \n682   48260  tt0112604              Butterfly Kiss  False   \n767   52059  tt0113147  The Gate of Heavenly Peace  False   \n775   44495  tt0072362        A Very Natural Thing  False   \n1032  38191  tt0117781               The Sunchaser  False   \n\n                                                 genres popularity  \\\n189                 [{'id': 99, 'name': 'Documentary'}]   0.159596   \n682   [{'id': 80, 'name': 'Crime'}, {'id': 18, 'name...   0.877853   \n767                 [{'id': 99, 'name': 'Documentary'}]    0.10705   \n775                       [{'id': 18, 'name': 'Drama'}]   0.147662   \n1032                      [{'id': 18, 'name': 'Drama'}]    2.35809   \n\n                                               overview  \\\n189   A documentary about the culture of hip-hop. Th...   \n682   Eunice is walking along the highways of northe...   \n767   The Gate of Heavenly Peace is a feature-length...   \n775   When David, an ex-monk still in his twenties m...   \n1032  A young half-Navajo convict (Jon Seda) dying o...   \n\n                                   production_companies  \\\n189                                                  []   \n682   [{'name': 'Dan Films', 'id': 1854}, {'name': '...   \n767                                                  []   \n775                                                  []   \n1032  [{'name': 'Regency Enterprises', 'id': 508}, {...   \n\n                                   production_countries release_date  runtime  \\\n189                                                  []   1995-08-25     93.0   \n682    [{'iso_3166_1': 'GB', 'name': 'United Kingdom'}]   1995-08-18     88.0   \n767                                                  []   1995-01-01    180.0   \n775   [{'iso_3166_1': 'US', 'name': 'United States o...   1974-01-01     80.0   \n1032  [{'iso_3166_1': 'US', 'name': 'United States o...   1996-05-29    122.0   \n\n                                                tagline  vote_average  \\\n189       What Happens On Stage Is Only Half The Story!           5.3   \n682                                                 NaN           7.4   \n767                                                 NaN           6.7   \n775                                                 NaN           6.3   \n1032  It began as a kidnapping. It became a journey ...           6.1   \n\n      vote_count  \n189          2.0  \n682          5.0  \n767          3.0  \n775          3.0  \n1032         8.0  ",
      "text/html": "<div>\n<style scoped>\n    .dataframe tbody tr th:only-of-type {\n        vertical-align: middle;\n    }\n\n    .dataframe tbody tr th {\n        vertical-align: top;\n    }\n\n    .dataframe thead th {\n        text-align: right;\n    }\n</style>\n<table border=\"1\" class=\"dataframe\">\n  <thead>\n    <tr style=\"text-align: right;\">\n      <th></th>\n      <th>id</th>\n      <th>imdb_id</th>\n      <th>title</th>\n      <th>adult</th>\n      <th>genres</th>\n      <th>popularity</th>\n      <th>overview</th>\n      <th>production_companies</th>\n      <th>production_countries</th>\n      <th>release_date</th>\n      <th>runtime</th>\n      <th>tagline</th>\n      <th>vote_average</th>\n      <th>vote_count</th>\n    </tr>\n  </thead>\n  <tbody>\n    <tr>\n      <th>189</th>\n      <td>56088</td>\n      <td>tt0114435</td>\n      <td>The Show</td>\n      <td>False</td>\n      <td>[{'id': 99, 'name': 'Documentary'}]</td>\n      <td>0.159596</td>\n      <td>A documentary about the culture of hip-hop. Th...</td>\n      <td>[]</td>\n      <td>[]</td>\n      <td>1995-08-25</td>\n      <td>93.0</td>\n      <td>What Happens On Stage Is Only Half The Story!</td>\n      <td>5.3</td>\n      <td>2.0</td>\n    </tr>\n    <tr>\n      <th>682</th>\n      <td>48260</td>\n      <td>tt0112604</td>\n      <td>Butterfly Kiss</td>\n      <td>False</td>\n      <td>[{'id': 80, 'name': 'Crime'}, {'id': 18, 'name...</td>\n      <td>0.877853</td>\n      <td>Eunice is walking along the highways of northe...</td>\n      <td>[{'name': 'Dan Films', 'id': 1854}, {'name': '...</td>\n      <td>[{'iso_3166_1': 'GB', 'name': 'United Kingdom'}]</td>\n      <td>1995-08-18</td>\n      <td>88.0</td>\n      <td>NaN</td>\n      <td>7.4</td>\n      <td>5.0</td>\n    </tr>\n    <tr>\n      <th>767</th>\n      <td>52059</td>\n      <td>tt0113147</td>\n      <td>The Gate of Heavenly Peace</td>\n      <td>False</td>\n      <td>[{'id': 99, 'name': 'Documentary'}]</td>\n      <td>0.10705</td>\n      <td>The Gate of Heavenly Peace is a feature-length...</td>\n      <td>[]</td>\n      <td>[]</td>\n      <td>1995-01-01</td>\n      <td>180.0</td>\n      <td>NaN</td>\n      <td>6.7</td>\n      <td>3.0</td>\n    </tr>\n    <tr>\n      <th>775</th>\n      <td>44495</td>\n      <td>tt0072362</td>\n      <td>A Very Natural Thing</td>\n      <td>False</td>\n      <td>[{'id': 18, 'name': 'Drama'}]</td>\n      <td>0.147662</td>\n      <td>When David, an ex-monk still in his twenties m...</td>\n      <td>[]</td>\n      <td>[{'iso_3166_1': 'US', 'name': 'United States o...</td>\n      <td>1974-01-01</td>\n      <td>80.0</td>\n      <td>NaN</td>\n      <td>6.3</td>\n      <td>3.0</td>\n    </tr>\n    <tr>\n      <th>1032</th>\n      <td>38191</td>\n      <td>tt0117781</td>\n      <td>The Sunchaser</td>\n      <td>False</td>\n      <td>[{'id': 18, 'name': 'Drama'}]</td>\n      <td>2.35809</td>\n      <td>A young half-Navajo convict (Jon Seda) dying o...</td>\n      <td>[{'name': 'Regency Enterprises', 'id': 508}, {...</td>\n      <td>[{'iso_3166_1': 'US', 'name': 'United States o...</td>\n      <td>1996-05-29</td>\n      <td>122.0</td>\n      <td>It began as a kidnapping. It became a journey ...</td>\n      <td>6.1</td>\n      <td>8.0</td>\n    </tr>\n  </tbody>\n</table>\n</div>"
     },
     "execution_count": 26,
     "metadata": {},
     "output_type": "execute_result"
    }
   ],
   "source": [
    "# Filter down the columns to those we really care about (losing belongs_to_collection, homepage, original_language, poster_path, spoken_languages, original_title, video, status\n",
    "# Note: budget and revenue are interesting, but are mostly 0's so are unusable here, so those are lost too\n",
    "movies = movies[['id', 'imdb_id',  'title', 'adult', 'genres', 'popularity', 'overview', 'production_companies', 'production_countries', 'release_date', 'runtime', 'tagline', 'vote_average', 'vote_count']]\n",
    "\n",
    "movies.head()"
   ],
   "metadata": {
    "collapsed": false,
    "pycharm": {
     "name": "#%%\n"
    }
   }
  },
  {
   "cell_type": "code",
   "execution_count": 27,
   "outputs": [
    {
     "data": {
      "text/plain": "          runtime  vote_average  vote_count\ncount  440.000000    446.000000  446.000000\nmean    79.525000      5.065695    9.627803\nstd     40.665022      2.566747   27.142579\nmin      0.000000      0.000000    0.000000\n25%     75.750000      4.000000    2.000000\n50%     90.000000      5.800000    4.000000\n75%    101.000000      6.700000    9.000000\nmax    180.000000     10.000000  453.000000",
      "text/html": "<div>\n<style scoped>\n    .dataframe tbody tr th:only-of-type {\n        vertical-align: middle;\n    }\n\n    .dataframe tbody tr th {\n        vertical-align: top;\n    }\n\n    .dataframe thead th {\n        text-align: right;\n    }\n</style>\n<table border=\"1\" class=\"dataframe\">\n  <thead>\n    <tr style=\"text-align: right;\">\n      <th></th>\n      <th>runtime</th>\n      <th>vote_average</th>\n      <th>vote_count</th>\n    </tr>\n  </thead>\n  <tbody>\n    <tr>\n      <th>count</th>\n      <td>440.000000</td>\n      <td>446.000000</td>\n      <td>446.000000</td>\n    </tr>\n    <tr>\n      <th>mean</th>\n      <td>79.525000</td>\n      <td>5.065695</td>\n      <td>9.627803</td>\n    </tr>\n    <tr>\n      <th>std</th>\n      <td>40.665022</td>\n      <td>2.566747</td>\n      <td>27.142579</td>\n    </tr>\n    <tr>\n      <th>min</th>\n      <td>0.000000</td>\n      <td>0.000000</td>\n      <td>0.000000</td>\n    </tr>\n    <tr>\n      <th>25%</th>\n      <td>75.750000</td>\n      <td>4.000000</td>\n      <td>2.000000</td>\n    </tr>\n    <tr>\n      <th>50%</th>\n      <td>90.000000</td>\n      <td>5.800000</td>\n      <td>4.000000</td>\n    </tr>\n    <tr>\n      <th>75%</th>\n      <td>101.000000</td>\n      <td>6.700000</td>\n      <td>9.000000</td>\n    </tr>\n    <tr>\n      <th>max</th>\n      <td>180.000000</td>\n      <td>10.000000</td>\n      <td>453.000000</td>\n    </tr>\n  </tbody>\n</table>\n</div>"
     },
     "execution_count": 27,
     "metadata": {},
     "output_type": "execute_result"
    }
   ],
   "source": [
    "movies.describe()"
   ],
   "metadata": {
    "collapsed": false,
    "pycharm": {
     "name": "#%%\n"
    }
   }
  },
  {
   "cell_type": "code",
   "execution_count": 27,
   "outputs": [],
   "source": [],
   "metadata": {
    "collapsed": false,
    "pycharm": {
     "name": "#%%\n"
    }
   }
  }
 ],
 "metadata": {
  "kernelspec": {
   "display_name": "Python 3",
   "language": "python",
   "name": "python3"
  },
  "language_info": {
   "codemirror_mode": {
    "name": "ipython",
    "version": 2
   },
   "file_extension": ".py",
   "mimetype": "text/x-python",
   "name": "python",
   "nbconvert_exporter": "python",
   "pygments_lexer": "ipython2",
   "version": "2.7.6"
  }
 },
 "nbformat": 4,
 "nbformat_minor": 0
}