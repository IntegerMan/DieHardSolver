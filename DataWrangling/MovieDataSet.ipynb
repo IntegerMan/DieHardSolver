{
 "cells": [
  {
   "cell_type": "code",
   "execution_count": 120,
   "metadata": {
    "collapsed": true
   },
   "outputs": [
    {
     "name": "stderr",
     "output_type": "stream",
     "text": [
      "C:\\Users\\Matt\\anaconda3\\lib\\site-packages\\IPython\\core\\interactiveshell.py:3165: DtypeWarning: Columns (10) have mixed types.Specify dtype option on import or set low_memory=False.\n",
      "  has_raised = await self.run_ast_nodes(code_ast.body, cell_name,\n"
     ]
    },
    {
     "data": {
      "text/plain": "           id    imdb_id                  title   budget  revenue  adult  \\\n18757   55245  tt1699720  !Women Art Revolution        0      0.0  False   \n30961   41371  tt1637976    #1 Cheerleader Camp        0      0.0  False   \n36153  301325  tt3526286                #Horror  1500000      0.0  False   \n23501  267752  tt3060338           #chicagoGirl        0      0.0  False   \n28042  143747  tt0060697    $1,000 on the Black        0      0.0  False   \n\n                                                  genres popularity  \\\n18757                [{'id': 99, 'name': 'Documentary'}]   0.077485   \n30961  [{'id': 35, 'name': 'Comedy'}, {'id': 18, 'nam...   1.190427   \n36153  [{'id': 18, 'name': 'Drama'}, {'id': 9648, 'na...   2.451342   \n23501                [{'id': 99, 'name': 'Documentary'}]   0.108531   \n28042                    [{'id': 37, 'name': 'Western'}]   0.634857   \n\n                                                overview release_date  \\\n18757  Through intimate interviews, provocative art, ...   2010-01-01   \n30961  A pair of horny college guys get summer jobs a...   2010-07-27   \n36153  Inspired by actual events, a group of 12 year ...   2015-11-20   \n23501  From her childhood bedroom in the Chicago subu...   2013-11-21   \n28042  Johnny Liston has just been released from pris...   1966-12-18   \n\n       runtime                                 tagline  vote_average  \\\n18757     83.0                 40 years in the making!           4.3   \n30961     95.0                Grab your spirit sticks!           3.4   \n36153     90.0                      Death is trending.           3.4   \n23501     74.0  The Social Network Takes on a Dictator           7.0   \n28042    104.0                                     NaN           6.0   \n\n       vote_count  \n18757         2.0  \n30961        23.0  \n36153        53.0  \n23501         1.0  \n28042         2.0  ",
      "text/html": "<div>\n<style scoped>\n    .dataframe tbody tr th:only-of-type {\n        vertical-align: middle;\n    }\n\n    .dataframe tbody tr th {\n        vertical-align: top;\n    }\n\n    .dataframe thead th {\n        text-align: right;\n    }\n</style>\n<table border=\"1\" class=\"dataframe\">\n  <thead>\n    <tr style=\"text-align: right;\">\n      <th></th>\n      <th>id</th>\n      <th>imdb_id</th>\n      <th>title</th>\n      <th>budget</th>\n      <th>revenue</th>\n      <th>adult</th>\n      <th>genres</th>\n      <th>popularity</th>\n      <th>overview</th>\n      <th>release_date</th>\n      <th>runtime</th>\n      <th>tagline</th>\n      <th>vote_average</th>\n      <th>vote_count</th>\n    </tr>\n  </thead>\n  <tbody>\n    <tr>\n      <th>18757</th>\n      <td>55245</td>\n      <td>tt1699720</td>\n      <td>!Women Art Revolution</td>\n      <td>0</td>\n      <td>0.0</td>\n      <td>False</td>\n      <td>[{'id': 99, 'name': 'Documentary'}]</td>\n      <td>0.077485</td>\n      <td>Through intimate interviews, provocative art, ...</td>\n      <td>2010-01-01</td>\n      <td>83.0</td>\n      <td>40 years in the making!</td>\n      <td>4.3</td>\n      <td>2.0</td>\n    </tr>\n    <tr>\n      <th>30961</th>\n      <td>41371</td>\n      <td>tt1637976</td>\n      <td>#1 Cheerleader Camp</td>\n      <td>0</td>\n      <td>0.0</td>\n      <td>False</td>\n      <td>[{'id': 35, 'name': 'Comedy'}, {'id': 18, 'nam...</td>\n      <td>1.190427</td>\n      <td>A pair of horny college guys get summer jobs a...</td>\n      <td>2010-07-27</td>\n      <td>95.0</td>\n      <td>Grab your spirit sticks!</td>\n      <td>3.4</td>\n      <td>23.0</td>\n    </tr>\n    <tr>\n      <th>36153</th>\n      <td>301325</td>\n      <td>tt3526286</td>\n      <td>#Horror</td>\n      <td>1500000</td>\n      <td>0.0</td>\n      <td>False</td>\n      <td>[{'id': 18, 'name': 'Drama'}, {'id': 9648, 'na...</td>\n      <td>2.451342</td>\n      <td>Inspired by actual events, a group of 12 year ...</td>\n      <td>2015-11-20</td>\n      <td>90.0</td>\n      <td>Death is trending.</td>\n      <td>3.4</td>\n      <td>53.0</td>\n    </tr>\n    <tr>\n      <th>23501</th>\n      <td>267752</td>\n      <td>tt3060338</td>\n      <td>#chicagoGirl</td>\n      <td>0</td>\n      <td>0.0</td>\n      <td>False</td>\n      <td>[{'id': 99, 'name': 'Documentary'}]</td>\n      <td>0.108531</td>\n      <td>From her childhood bedroom in the Chicago subu...</td>\n      <td>2013-11-21</td>\n      <td>74.0</td>\n      <td>The Social Network Takes on a Dictator</td>\n      <td>7.0</td>\n      <td>1.0</td>\n    </tr>\n    <tr>\n      <th>28042</th>\n      <td>143747</td>\n      <td>tt0060697</td>\n      <td>$1,000 on the Black</td>\n      <td>0</td>\n      <td>0.0</td>\n      <td>False</td>\n      <td>[{'id': 37, 'name': 'Western'}]</td>\n      <td>0.634857</td>\n      <td>Johnny Liston has just been released from pris...</td>\n      <td>1966-12-18</td>\n      <td>104.0</td>\n      <td>NaN</td>\n      <td>6.0</td>\n      <td>2.0</td>\n    </tr>\n  </tbody>\n</table>\n</div>"
     },
     "execution_count": 120,
     "metadata": {},
     "output_type": "execute_result"
    }
   ],
   "source": [
    "import json\n",
    "import pandas as pd\n",
    "\n",
    "path = 'MoviesDataSet/'\n",
    "\n",
    "movies = pd.read_csv(path + 'movies_metadata.csv')\n",
    "\n",
    "# Sort movies by title\n",
    "movies = movies.sort_values('title')\n",
    "\n",
    "# Filter out any unreleased movies\n",
    "movies = movies[movies['status'] == 'Released']\n",
    "\n",
    "# Filter down the columns to those we really care about (losing belongs_to_collection, homepage, original_language, production_companies, production_countries, poster_path, spoken_languages, original_title, video, status\n",
    "# Note: budget and revenue are interesting, but are mostly 0's so are unusable here, so those are lost too\n",
    "movies = movies[['id', 'imdb_id',  'title', 'budget', 'revenue', 'adult', 'genres', 'popularity', 'overview', 'release_date', 'runtime', 'tagline', 'vote_average', 'vote_count']]\n",
    "\n",
    "# Sort movies by title\n",
    "movies = movies.sort_values('title')\n",
    "\n",
    "movies.head()"
   ]
  },
  {
   "cell_type": "code",
   "execution_count": 121,
   "outputs": [
    {
     "data": {
      "text/plain": "       Is Action  Is Adventure  Is Animation  Is Comedy  Is Crime  \\\n18757        0.0           0.0           0.0        0.0       0.0   \n30961        0.0           0.0           0.0        1.0       0.0   \n36153        0.0           0.0           0.0        0.0       0.0   \n23501        0.0           0.0           0.0        0.0       0.0   \n28042        0.0           0.0           0.0        0.0       0.0   \n\n       Is Documentary  Is Drama  Is Family  Is Fantasy  Is Foreign  ...  \\\n18757             1.0       0.0        0.0         0.0         0.0  ...   \n30961             0.0       1.0        0.0         0.0         0.0  ...   \n36153             0.0       1.0        0.0         0.0         0.0  ...   \n23501             1.0       0.0        0.0         0.0         0.0  ...   \n28042             0.0       0.0        0.0         0.0         0.0  ...   \n\n         imdb_id                                           overview  \\\n18757  tt1699720  Through intimate interviews, provocative art, ...   \n30961  tt1637976  A pair of horny college guys get summer jobs a...   \n36153  tt3526286  Inspired by actual events, a group of 12 year ...   \n23501  tt3060338  From her childhood bedroom in the Chicago subu...   \n28042  tt0060697  Johnny Liston has just been released from pris...   \n\n       popularity  release_date  revenue  runtime  \\\n18757    0.077485    2010-01-01      0.0     83.0   \n30961    1.190427    2010-07-27      0.0     95.0   \n36153    2.451342    2015-11-20      0.0     90.0   \n23501    0.108531    2013-11-21      0.0     74.0   \n28042    0.634857    1966-12-18      0.0    104.0   \n\n                                      tagline                  title  \\\n18757                 40 years in the making!  !Women Art Revolution   \n30961                Grab your spirit sticks!    #1 Cheerleader Camp   \n36153                      Death is trending.                #Horror   \n23501  The Social Network Takes on a Dictator           #chicagoGirl   \n28042                                       0    $1,000 on the Black   \n\n       vote_average  vote_count  \n18757           4.3         2.0  \n30961           3.4        23.0  \n36153           3.4        53.0  \n23501           7.0         1.0  \n28042           6.0         2.0  \n\n[5 rows x 33 columns]",
      "text/html": "<div>\n<style scoped>\n    .dataframe tbody tr th:only-of-type {\n        vertical-align: middle;\n    }\n\n    .dataframe tbody tr th {\n        vertical-align: top;\n    }\n\n    .dataframe thead th {\n        text-align: right;\n    }\n</style>\n<table border=\"1\" class=\"dataframe\">\n  <thead>\n    <tr style=\"text-align: right;\">\n      <th></th>\n      <th>Is Action</th>\n      <th>Is Adventure</th>\n      <th>Is Animation</th>\n      <th>Is Comedy</th>\n      <th>Is Crime</th>\n      <th>Is Documentary</th>\n      <th>Is Drama</th>\n      <th>Is Family</th>\n      <th>Is Fantasy</th>\n      <th>Is Foreign</th>\n      <th>...</th>\n      <th>imdb_id</th>\n      <th>overview</th>\n      <th>popularity</th>\n      <th>release_date</th>\n      <th>revenue</th>\n      <th>runtime</th>\n      <th>tagline</th>\n      <th>title</th>\n      <th>vote_average</th>\n      <th>vote_count</th>\n    </tr>\n  </thead>\n  <tbody>\n    <tr>\n      <th>18757</th>\n      <td>0.0</td>\n      <td>0.0</td>\n      <td>0.0</td>\n      <td>0.0</td>\n      <td>0.0</td>\n      <td>1.0</td>\n      <td>0.0</td>\n      <td>0.0</td>\n      <td>0.0</td>\n      <td>0.0</td>\n      <td>...</td>\n      <td>tt1699720</td>\n      <td>Through intimate interviews, provocative art, ...</td>\n      <td>0.077485</td>\n      <td>2010-01-01</td>\n      <td>0.0</td>\n      <td>83.0</td>\n      <td>40 years in the making!</td>\n      <td>!Women Art Revolution</td>\n      <td>4.3</td>\n      <td>2.0</td>\n    </tr>\n    <tr>\n      <th>30961</th>\n      <td>0.0</td>\n      <td>0.0</td>\n      <td>0.0</td>\n      <td>1.0</td>\n      <td>0.0</td>\n      <td>0.0</td>\n      <td>1.0</td>\n      <td>0.0</td>\n      <td>0.0</td>\n      <td>0.0</td>\n      <td>...</td>\n      <td>tt1637976</td>\n      <td>A pair of horny college guys get summer jobs a...</td>\n      <td>1.190427</td>\n      <td>2010-07-27</td>\n      <td>0.0</td>\n      <td>95.0</td>\n      <td>Grab your spirit sticks!</td>\n      <td>#1 Cheerleader Camp</td>\n      <td>3.4</td>\n      <td>23.0</td>\n    </tr>\n    <tr>\n      <th>36153</th>\n      <td>0.0</td>\n      <td>0.0</td>\n      <td>0.0</td>\n      <td>0.0</td>\n      <td>0.0</td>\n      <td>0.0</td>\n      <td>1.0</td>\n      <td>0.0</td>\n      <td>0.0</td>\n      <td>0.0</td>\n      <td>...</td>\n      <td>tt3526286</td>\n      <td>Inspired by actual events, a group of 12 year ...</td>\n      <td>2.451342</td>\n      <td>2015-11-20</td>\n      <td>0.0</td>\n      <td>90.0</td>\n      <td>Death is trending.</td>\n      <td>#Horror</td>\n      <td>3.4</td>\n      <td>53.0</td>\n    </tr>\n    <tr>\n      <th>23501</th>\n      <td>0.0</td>\n      <td>0.0</td>\n      <td>0.0</td>\n      <td>0.0</td>\n      <td>0.0</td>\n      <td>1.0</td>\n      <td>0.0</td>\n      <td>0.0</td>\n      <td>0.0</td>\n      <td>0.0</td>\n      <td>...</td>\n      <td>tt3060338</td>\n      <td>From her childhood bedroom in the Chicago subu...</td>\n      <td>0.108531</td>\n      <td>2013-11-21</td>\n      <td>0.0</td>\n      <td>74.0</td>\n      <td>The Social Network Takes on a Dictator</td>\n      <td>#chicagoGirl</td>\n      <td>7.0</td>\n      <td>1.0</td>\n    </tr>\n    <tr>\n      <th>28042</th>\n      <td>0.0</td>\n      <td>0.0</td>\n      <td>0.0</td>\n      <td>0.0</td>\n      <td>0.0</td>\n      <td>0.0</td>\n      <td>0.0</td>\n      <td>0.0</td>\n      <td>0.0</td>\n      <td>0.0</td>\n      <td>...</td>\n      <td>tt0060697</td>\n      <td>Johnny Liston has just been released from pris...</td>\n      <td>0.634857</td>\n      <td>1966-12-18</td>\n      <td>0.0</td>\n      <td>104.0</td>\n      <td>0</td>\n      <td>$1,000 on the Black</td>\n      <td>6.0</td>\n      <td>2.0</td>\n    </tr>\n  </tbody>\n</table>\n<p>5 rows × 33 columns</p>\n</div>"
     },
     "execution_count": 121,
     "metadata": {},
     "output_type": "execute_result"
    }
   ],
   "source": [
    "# Detect Genres\n",
    "def extract_genres(row):\n",
    "    data = row['genres']\n",
    "    arr = json.loads(data.replace(\"'\", \"\\\"\"))\n",
    "    for genre in arr:\n",
    "        row['Is ' + genre['name']] = 1\n",
    "\n",
    "    return row\n",
    "\n",
    "movies = movies.apply(extract_genres, axis=1)\n",
    "\n",
    "# Set our NA values for non-genre membership to 0\n",
    "movies = movies.fillna(0)\n",
    "\n",
    "# Drop the no longer needed source column\n",
    "movies = movies.drop('genres', axis=1)\n",
    "movies.head()"
   ],
   "metadata": {
    "collapsed": false,
    "pycharm": {
     "name": "#%%\n"
    }
   }
  },
  {
   "cell_type": "code",
   "execution_count": 122,
   "outputs": [
    {
     "data": {
      "text/plain": "       Is Action  Is Adventure  Is Animation  Is Comedy  Is Crime  \\\n18757        0.0           0.0           0.0        0.0       0.0   \n30961        0.0           0.0           0.0        1.0       0.0   \n36153        0.0           0.0           0.0        0.0       0.0   \n23501        0.0           0.0           0.0        0.0       0.0   \n28042        0.0           0.0           0.0        0.0       0.0   \n\n       Is Documentary  Is Drama  Is Family  Is Fantasy  Is Foreign  ...  \\\n18757             1.0       0.0        0.0         0.0         0.0  ...   \n30961             0.0       1.0        0.0         0.0         0.0  ...   \n36153             0.0       1.0        0.0         0.0         0.0  ...   \n23501             1.0       0.0        0.0         0.0         0.0  ...   \n28042             0.0       0.0        0.0         0.0         0.0  ...   \n\n       popularity  revenue  runtime                                 tagline  \\\n18757    0.077485      0.0     83.0                 40 years in the making!   \n30961    1.190427      0.0     95.0                Grab your spirit sticks!   \n36153    2.451342      0.0     90.0                      Death is trending.   \n23501    0.108531      0.0     74.0  The Social Network Takes on a Dictator   \n28042    0.634857      0.0    104.0                                       0   \n\n                       title  vote_average  vote_count  release_year  \\\n18757  !Women Art Revolution           4.3         2.0          2010   \n30961    #1 Cheerleader Camp           3.4        23.0          2010   \n36153                #Horror           3.4        53.0          2015   \n23501           #chicagoGirl           7.0         1.0          2013   \n28042    $1,000 on the Black           6.0         2.0          1966   \n\n       release_quarter  release_month  \n18757                1              1  \n30961                3              7  \n36153                4             11  \n23501                4             11  \n28042                4             12  \n\n[5 rows x 35 columns]",
      "text/html": "<div>\n<style scoped>\n    .dataframe tbody tr th:only-of-type {\n        vertical-align: middle;\n    }\n\n    .dataframe tbody tr th {\n        vertical-align: top;\n    }\n\n    .dataframe thead th {\n        text-align: right;\n    }\n</style>\n<table border=\"1\" class=\"dataframe\">\n  <thead>\n    <tr style=\"text-align: right;\">\n      <th></th>\n      <th>Is Action</th>\n      <th>Is Adventure</th>\n      <th>Is Animation</th>\n      <th>Is Comedy</th>\n      <th>Is Crime</th>\n      <th>Is Documentary</th>\n      <th>Is Drama</th>\n      <th>Is Family</th>\n      <th>Is Fantasy</th>\n      <th>Is Foreign</th>\n      <th>...</th>\n      <th>popularity</th>\n      <th>revenue</th>\n      <th>runtime</th>\n      <th>tagline</th>\n      <th>title</th>\n      <th>vote_average</th>\n      <th>vote_count</th>\n      <th>release_year</th>\n      <th>release_quarter</th>\n      <th>release_month</th>\n    </tr>\n  </thead>\n  <tbody>\n    <tr>\n      <th>18757</th>\n      <td>0.0</td>\n      <td>0.0</td>\n      <td>0.0</td>\n      <td>0.0</td>\n      <td>0.0</td>\n      <td>1.0</td>\n      <td>0.0</td>\n      <td>0.0</td>\n      <td>0.0</td>\n      <td>0.0</td>\n      <td>...</td>\n      <td>0.077485</td>\n      <td>0.0</td>\n      <td>83.0</td>\n      <td>40 years in the making!</td>\n      <td>!Women Art Revolution</td>\n      <td>4.3</td>\n      <td>2.0</td>\n      <td>2010</td>\n      <td>1</td>\n      <td>1</td>\n    </tr>\n    <tr>\n      <th>30961</th>\n      <td>0.0</td>\n      <td>0.0</td>\n      <td>0.0</td>\n      <td>1.0</td>\n      <td>0.0</td>\n      <td>0.0</td>\n      <td>1.0</td>\n      <td>0.0</td>\n      <td>0.0</td>\n      <td>0.0</td>\n      <td>...</td>\n      <td>1.190427</td>\n      <td>0.0</td>\n      <td>95.0</td>\n      <td>Grab your spirit sticks!</td>\n      <td>#1 Cheerleader Camp</td>\n      <td>3.4</td>\n      <td>23.0</td>\n      <td>2010</td>\n      <td>3</td>\n      <td>7</td>\n    </tr>\n    <tr>\n      <th>36153</th>\n      <td>0.0</td>\n      <td>0.0</td>\n      <td>0.0</td>\n      <td>0.0</td>\n      <td>0.0</td>\n      <td>0.0</td>\n      <td>1.0</td>\n      <td>0.0</td>\n      <td>0.0</td>\n      <td>0.0</td>\n      <td>...</td>\n      <td>2.451342</td>\n      <td>0.0</td>\n      <td>90.0</td>\n      <td>Death is trending.</td>\n      <td>#Horror</td>\n      <td>3.4</td>\n      <td>53.0</td>\n      <td>2015</td>\n      <td>4</td>\n      <td>11</td>\n    </tr>\n    <tr>\n      <th>23501</th>\n      <td>0.0</td>\n      <td>0.0</td>\n      <td>0.0</td>\n      <td>0.0</td>\n      <td>0.0</td>\n      <td>1.0</td>\n      <td>0.0</td>\n      <td>0.0</td>\n      <td>0.0</td>\n      <td>0.0</td>\n      <td>...</td>\n      <td>0.108531</td>\n      <td>0.0</td>\n      <td>74.0</td>\n      <td>The Social Network Takes on a Dictator</td>\n      <td>#chicagoGirl</td>\n      <td>7.0</td>\n      <td>1.0</td>\n      <td>2013</td>\n      <td>4</td>\n      <td>11</td>\n    </tr>\n    <tr>\n      <th>28042</th>\n      <td>0.0</td>\n      <td>0.0</td>\n      <td>0.0</td>\n      <td>0.0</td>\n      <td>0.0</td>\n      <td>0.0</td>\n      <td>0.0</td>\n      <td>0.0</td>\n      <td>0.0</td>\n      <td>0.0</td>\n      <td>...</td>\n      <td>0.634857</td>\n      <td>0.0</td>\n      <td>104.0</td>\n      <td>0</td>\n      <td>$1,000 on the Black</td>\n      <td>6.0</td>\n      <td>2.0</td>\n      <td>1966</td>\n      <td>4</td>\n      <td>12</td>\n    </tr>\n  </tbody>\n</table>\n<p>5 rows × 35 columns</p>\n</div>"
     },
     "execution_count": 122,
     "metadata": {},
     "output_type": "execute_result"
    }
   ],
   "source": [
    "# Split the date into year / quarter / month components for easier analysis\n",
    "movies['release_year'] = pd.DatetimeIndex(movies['release_date']).year\n",
    "movies['release_quarter'] = pd.DatetimeIndex(movies['release_date']).quarter\n",
    "movies['release_month'] = pd.DatetimeIndex(movies['release_date']).month\n",
    "\n",
    "# Remove the core release date column\n",
    "movies = movies.drop('release_date', axis=1)\n",
    "\n",
    "movies.head()"
   ],
   "metadata": {
    "collapsed": false,
    "pycharm": {
     "name": "#%%\n"
    }
   }
  },
  {
   "cell_type": "code",
   "execution_count": 123,
   "outputs": [
    {
     "data": {
      "text/plain": "       Is Action  Is Adventure  Is Animation  Is Comedy  Is Crime  \\\n18757        0.0           0.0           0.0        0.0       0.0   \n30961        0.0           0.0           0.0        1.0       0.0   \n36153        0.0           0.0           0.0        0.0       0.0   \n23501        0.0           0.0           0.0        0.0       0.0   \n28042        0.0           0.0           0.0        0.0       0.0   \n\n       Is Documentary  Is Drama  Is Family  Is Fantasy  Is Foreign  ...  \\\n18757             1.0       0.0        0.0         0.0         0.0  ...   \n30961             0.0       1.0        0.0         0.0         0.0  ...   \n36153             0.0       1.0        0.0         0.0         0.0  ...   \n23501             1.0       0.0        0.0         0.0         0.0  ...   \n28042             0.0       0.0        0.0         0.0         0.0  ...   \n\n       popularity  revenue  runtime                                 tagline  \\\n18757    0.077485      0.0     83.0                 40 years in the making!   \n30961    1.190427      0.0     95.0                Grab your spirit sticks!   \n36153    2.451342      0.0     90.0                      Death is trending.   \n23501    0.108531      0.0     74.0  The Social Network Takes on a Dictator   \n28042    0.634857      0.0    104.0                                       0   \n\n                       title  vote_average  vote_count  release_year  \\\n18757  !Women Art Revolution           4.3         2.0          2010   \n30961    #1 Cheerleader Camp           3.4        23.0          2010   \n36153                #Horror           3.4        53.0          2015   \n23501           #chicagoGirl           7.0         1.0          2013   \n28042    $1,000 on the Black           6.0         2.0          1966   \n\n       release_quarter  release_month  \n18757                1              1  \n30961                3              7  \n36153                4             11  \n23501                4             11  \n28042                4             12  \n\n[5 rows x 35 columns]",
      "text/html": "<div>\n<style scoped>\n    .dataframe tbody tr th:only-of-type {\n        vertical-align: middle;\n    }\n\n    .dataframe tbody tr th {\n        vertical-align: top;\n    }\n\n    .dataframe thead th {\n        text-align: right;\n    }\n</style>\n<table border=\"1\" class=\"dataframe\">\n  <thead>\n    <tr style=\"text-align: right;\">\n      <th></th>\n      <th>Is Action</th>\n      <th>Is Adventure</th>\n      <th>Is Animation</th>\n      <th>Is Comedy</th>\n      <th>Is Crime</th>\n      <th>Is Documentary</th>\n      <th>Is Drama</th>\n      <th>Is Family</th>\n      <th>Is Fantasy</th>\n      <th>Is Foreign</th>\n      <th>...</th>\n      <th>popularity</th>\n      <th>revenue</th>\n      <th>runtime</th>\n      <th>tagline</th>\n      <th>title</th>\n      <th>vote_average</th>\n      <th>vote_count</th>\n      <th>release_year</th>\n      <th>release_quarter</th>\n      <th>release_month</th>\n    </tr>\n  </thead>\n  <tbody>\n    <tr>\n      <th>18757</th>\n      <td>0.0</td>\n      <td>0.0</td>\n      <td>0.0</td>\n      <td>0.0</td>\n      <td>0.0</td>\n      <td>1.0</td>\n      <td>0.0</td>\n      <td>0.0</td>\n      <td>0.0</td>\n      <td>0.0</td>\n      <td>...</td>\n      <td>0.077485</td>\n      <td>0.0</td>\n      <td>83.0</td>\n      <td>40 years in the making!</td>\n      <td>!Women Art Revolution</td>\n      <td>4.3</td>\n      <td>2.0</td>\n      <td>2010</td>\n      <td>1</td>\n      <td>1</td>\n    </tr>\n    <tr>\n      <th>30961</th>\n      <td>0.0</td>\n      <td>0.0</td>\n      <td>0.0</td>\n      <td>1.0</td>\n      <td>0.0</td>\n      <td>0.0</td>\n      <td>1.0</td>\n      <td>0.0</td>\n      <td>0.0</td>\n      <td>0.0</td>\n      <td>...</td>\n      <td>1.190427</td>\n      <td>0.0</td>\n      <td>95.0</td>\n      <td>Grab your spirit sticks!</td>\n      <td>#1 Cheerleader Camp</td>\n      <td>3.4</td>\n      <td>23.0</td>\n      <td>2010</td>\n      <td>3</td>\n      <td>7</td>\n    </tr>\n    <tr>\n      <th>36153</th>\n      <td>0.0</td>\n      <td>0.0</td>\n      <td>0.0</td>\n      <td>0.0</td>\n      <td>0.0</td>\n      <td>0.0</td>\n      <td>1.0</td>\n      <td>0.0</td>\n      <td>0.0</td>\n      <td>0.0</td>\n      <td>...</td>\n      <td>2.451342</td>\n      <td>0.0</td>\n      <td>90.0</td>\n      <td>Death is trending.</td>\n      <td>#Horror</td>\n      <td>3.4</td>\n      <td>53.0</td>\n      <td>2015</td>\n      <td>4</td>\n      <td>11</td>\n    </tr>\n    <tr>\n      <th>23501</th>\n      <td>0.0</td>\n      <td>0.0</td>\n      <td>0.0</td>\n      <td>0.0</td>\n      <td>0.0</td>\n      <td>1.0</td>\n      <td>0.0</td>\n      <td>0.0</td>\n      <td>0.0</td>\n      <td>0.0</td>\n      <td>...</td>\n      <td>0.108531</td>\n      <td>0.0</td>\n      <td>74.0</td>\n      <td>The Social Network Takes on a Dictator</td>\n      <td>#chicagoGirl</td>\n      <td>7.0</td>\n      <td>1.0</td>\n      <td>2013</td>\n      <td>4</td>\n      <td>11</td>\n    </tr>\n    <tr>\n      <th>28042</th>\n      <td>0.0</td>\n      <td>0.0</td>\n      <td>0.0</td>\n      <td>0.0</td>\n      <td>0.0</td>\n      <td>0.0</td>\n      <td>0.0</td>\n      <td>0.0</td>\n      <td>0.0</td>\n      <td>0.0</td>\n      <td>...</td>\n      <td>0.634857</td>\n      <td>0.0</td>\n      <td>104.0</td>\n      <td>0</td>\n      <td>$1,000 on the Black</td>\n      <td>6.0</td>\n      <td>2.0</td>\n      <td>1966</td>\n      <td>4</td>\n      <td>12</td>\n    </tr>\n  </tbody>\n</table>\n<p>5 rows × 35 columns</p>\n</div>"
     },
     "execution_count": 123,
     "metadata": {},
     "output_type": "execute_result"
    }
   ],
   "source": [
    "# Convert our adult column from true / false to 1 / 0.\n",
    "# Note we move from String -> Bool -> Int here\n",
    "movies['adult'] = movies['adult'].astype(bool).astype(int)\n",
    "\n",
    "movies.head()"
   ],
   "metadata": {
    "collapsed": false,
    "pycharm": {
     "name": "#%%\n"
    }
   }
  },
  {
   "cell_type": "code",
   "execution_count": 124,
   "outputs": [
    {
     "data": {
      "text/plain": "       Is Action  Is Adventure  Is Animation  Is Comedy  Is Crime  \\\n18757        0.0           0.0           0.0        0.0       0.0   \n30961        0.0           0.0           0.0        1.0       0.0   \n36153        0.0           0.0           0.0        0.0       0.0   \n23501        0.0           0.0           0.0        0.0       0.0   \n28042        0.0           0.0           0.0        0.0       0.0   \n\n       Is Documentary  Is Drama  Is Family  Is Fantasy  Is Foreign  ...  \\\n18757             1.0       0.0        0.0         0.0         0.0  ...   \n30961             0.0       1.0        0.0         0.0         0.0  ...   \n36153             0.0       1.0        0.0         0.0         0.0  ...   \n23501             1.0       0.0        0.0         0.0         0.0  ...   \n28042             0.0       0.0        0.0         0.0         0.0  ...   \n\n       revenue  runtime                                 tagline  \\\n18757      0.0     83.0                 40 years in the making!   \n30961      0.0     95.0                Grab your spirit sticks!   \n36153      0.0     90.0                      Death is trending.   \n23501      0.0     74.0  The Social Network Takes on a Dictator   \n28042      0.0    104.0                                       0   \n\n                       title  vote_average  vote_count  release_year  \\\n18757  !Women Art Revolution           4.3         2.0          2010   \n30961    #1 Cheerleader Camp           3.4        23.0          2010   \n36153                #Horror           3.4        53.0          2015   \n23501           #chicagoGirl           7.0         1.0          2013   \n28042    $1,000 on the Black           6.0         2.0          1966   \n\n       release_quarter  release_month  Is Christmas Movie  \n18757                1              1                   0  \n30961                3              7                   0  \n36153                4             11                   0  \n23501                4             11                   0  \n28042                4             12                   0  \n\n[5 rows x 36 columns]",
      "text/html": "<div>\n<style scoped>\n    .dataframe tbody tr th:only-of-type {\n        vertical-align: middle;\n    }\n\n    .dataframe tbody tr th {\n        vertical-align: top;\n    }\n\n    .dataframe thead th {\n        text-align: right;\n    }\n</style>\n<table border=\"1\" class=\"dataframe\">\n  <thead>\n    <tr style=\"text-align: right;\">\n      <th></th>\n      <th>Is Action</th>\n      <th>Is Adventure</th>\n      <th>Is Animation</th>\n      <th>Is Comedy</th>\n      <th>Is Crime</th>\n      <th>Is Documentary</th>\n      <th>Is Drama</th>\n      <th>Is Family</th>\n      <th>Is Fantasy</th>\n      <th>Is Foreign</th>\n      <th>...</th>\n      <th>revenue</th>\n      <th>runtime</th>\n      <th>tagline</th>\n      <th>title</th>\n      <th>vote_average</th>\n      <th>vote_count</th>\n      <th>release_year</th>\n      <th>release_quarter</th>\n      <th>release_month</th>\n      <th>Is Christmas Movie</th>\n    </tr>\n  </thead>\n  <tbody>\n    <tr>\n      <th>18757</th>\n      <td>0.0</td>\n      <td>0.0</td>\n      <td>0.0</td>\n      <td>0.0</td>\n      <td>0.0</td>\n      <td>1.0</td>\n      <td>0.0</td>\n      <td>0.0</td>\n      <td>0.0</td>\n      <td>0.0</td>\n      <td>...</td>\n      <td>0.0</td>\n      <td>83.0</td>\n      <td>40 years in the making!</td>\n      <td>!Women Art Revolution</td>\n      <td>4.3</td>\n      <td>2.0</td>\n      <td>2010</td>\n      <td>1</td>\n      <td>1</td>\n      <td>0</td>\n    </tr>\n    <tr>\n      <th>30961</th>\n      <td>0.0</td>\n      <td>0.0</td>\n      <td>0.0</td>\n      <td>1.0</td>\n      <td>0.0</td>\n      <td>0.0</td>\n      <td>1.0</td>\n      <td>0.0</td>\n      <td>0.0</td>\n      <td>0.0</td>\n      <td>...</td>\n      <td>0.0</td>\n      <td>95.0</td>\n      <td>Grab your spirit sticks!</td>\n      <td>#1 Cheerleader Camp</td>\n      <td>3.4</td>\n      <td>23.0</td>\n      <td>2010</td>\n      <td>3</td>\n      <td>7</td>\n      <td>0</td>\n    </tr>\n    <tr>\n      <th>36153</th>\n      <td>0.0</td>\n      <td>0.0</td>\n      <td>0.0</td>\n      <td>0.0</td>\n      <td>0.0</td>\n      <td>0.0</td>\n      <td>1.0</td>\n      <td>0.0</td>\n      <td>0.0</td>\n      <td>0.0</td>\n      <td>...</td>\n      <td>0.0</td>\n      <td>90.0</td>\n      <td>Death is trending.</td>\n      <td>#Horror</td>\n      <td>3.4</td>\n      <td>53.0</td>\n      <td>2015</td>\n      <td>4</td>\n      <td>11</td>\n      <td>0</td>\n    </tr>\n    <tr>\n      <th>23501</th>\n      <td>0.0</td>\n      <td>0.0</td>\n      <td>0.0</td>\n      <td>0.0</td>\n      <td>0.0</td>\n      <td>1.0</td>\n      <td>0.0</td>\n      <td>0.0</td>\n      <td>0.0</td>\n      <td>0.0</td>\n      <td>...</td>\n      <td>0.0</td>\n      <td>74.0</td>\n      <td>The Social Network Takes on a Dictator</td>\n      <td>#chicagoGirl</td>\n      <td>7.0</td>\n      <td>1.0</td>\n      <td>2013</td>\n      <td>4</td>\n      <td>11</td>\n      <td>0</td>\n    </tr>\n    <tr>\n      <th>28042</th>\n      <td>0.0</td>\n      <td>0.0</td>\n      <td>0.0</td>\n      <td>0.0</td>\n      <td>0.0</td>\n      <td>0.0</td>\n      <td>0.0</td>\n      <td>0.0</td>\n      <td>0.0</td>\n      <td>0.0</td>\n      <td>...</td>\n      <td>0.0</td>\n      <td>104.0</td>\n      <td>0</td>\n      <td>$1,000 on the Black</td>\n      <td>6.0</td>\n      <td>2.0</td>\n      <td>1966</td>\n      <td>4</td>\n      <td>12</td>\n      <td>0</td>\n    </tr>\n  </tbody>\n</table>\n<p>5 rows × 36 columns</p>\n</div>"
     },
     "execution_count": 124,
     "metadata": {},
     "output_type": "execute_result"
    }
   ],
   "source": [
    "# These are IMDB IDs of movies known to be Christmas movies or classic Christmas movies. See other experiments for details.\n",
    "labelled_movies = ['tt0993789','tt6433880','tt2402927','tt0081793','tt2709692','tt0064349','tt0041473','tt7736496','tt0032981','tt0043733','tt0338348','tt0117372','tt1430607','tt0099487','tt1401143','tt0086465','tt3530002','tt0044008','tt1067106','tt0037595','tt0096061','tt0116705','tt0457939','tt0034862','tt0087363','tt0039628','tt0110527','tt0033045','tt2083355','tt0039190','tt0319343','tt0085936','tt0047673','tt0104940','tt0095016','tt0058536','tt0097958','tt0107688','tt0114924','tt0111070','tt0085334','tt1268799','tt0037059','tt0314331','tt0071222','tt0060345','tt0099785','tt0373469','tt3850590','tt0059026','tt0038650','tt3824458','tt0307987']\n",
    "\n",
    "# We need to label all rows based on if they're a Christmas movie or not so we can train a model\n",
    "def set_label(row):\n",
    "    imdb = row['imdb_id']\n",
    "    if imdb in labelled_movies:\n",
    "        row['Is Christmas Movie'] = 1\n",
    "    else:\n",
    "        row['Is Christmas Movie'] = 0\n",
    "    return row\n",
    "\n",
    "movies = movies.apply(set_label, axis=1)\n",
    "\n",
    "movies.head()"
   ],
   "metadata": {
    "collapsed": false,
    "pycharm": {
     "name": "#%%\n"
    }
   }
  },
  {
   "cell_type": "code",
   "execution_count": 127,
   "outputs": [],
   "source": [
    "dieHard = movies[movies['title'] == 'Die Hard']\n",
    "dieHard.to_csv('DieHard.csv')\n",
    "\n",
    "train_test = movies[movies['title'] != 'Die Hard']\n",
    "train_test.to_csv('traintest.csv')"
   ],
   "metadata": {
    "collapsed": false,
    "pycharm": {
     "name": "#%%\n"
    }
   }
  }
 ],
 "metadata": {
  "kernelspec": {
   "display_name": "Python 3",
   "language": "python",
   "name": "python3"
  },
  "language_info": {
   "codemirror_mode": {
    "name": "ipython",
    "version": 2
   },
   "file_extension": ".py",
   "mimetype": "text/x-python",
   "name": "python",
   "nbconvert_exporter": "python",
   "pygments_lexer": "ipython2",
   "version": "2.7.6"
  }
 },
 "nbformat": 4,
 "nbformat_minor": 0
}